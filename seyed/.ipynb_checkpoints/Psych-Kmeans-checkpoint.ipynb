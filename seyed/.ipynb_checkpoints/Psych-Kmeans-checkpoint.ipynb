{
 "metadata": {
  "name": "",
  "signature": "sha256:87ea5b8eb00b5869cceb483a7f3ca70d81c0c42ff71054bfe1ce5d8345f6c0c2"
 },
 "nbformat": 3,
 "nbformat_minor": 0,
 "worksheets": [
  {
   "cells": [
    {
     "cell_type": "code",
     "collapsed": false,
     "input": [
      "import numpy as np\n",
      "%matplotlib inline\n",
      "import pandas as pd\n",
      "from sklearn.cluster import KMeans\n",
      "from scipy.spatial.distance import cdist\n",
      "import matplotlib.pyplot as plt\n",
      "psychdata = pd.read_csv('/home/mehrzadshabez/Desktop/Fri-py/psych-redacted.csv')\n",
      "\n",
      "#print psychdata.head()\n",
      "\n",
      "\n",
      "student = [[ 0 for _ in range(55)] for _ in range(11485)] #array Implementation\n",
      "\n",
      "\n",
      "for y in range(5,60):\n",
      "    names = psychdata.columns[y]\n",
      "    for i in range(0,11480):\n",
      "        student[i][y-5] = psychdata[names][i]\n",
      "\n",
      "#print student[1][2]   #this matches the table \n",
      "\n",
      "kmeans = KMeans(n_clusters=2)   #for instantiation purposes \n",
      "kmeans.fit(student)\n",
      "#print kmeans.cluster_centers_\n",
      "'''\n",
      "K = range(1, 30)\n",
      "meandistortions = []\n",
      "for k in K:\n",
      "    kmeans = KMeans(n_clusters=k)\n",
      "    kmeans.fit(student)\n",
      "    meandistortions.append(sum(np.min(cdist(student, kmeans.cluster_centers_, 'euclidean'), axis=1)) / len(student) )\n",
      "plt.plot(K, meandistortions, 'bx-')\n",
      "plt.xlabel('k')\n",
      "plt.ylabel('Average distortion')\n",
      "plt.title('Selecting k with the Elbow Method')\n",
      "plt.show() \n",
      "'''"
     ],
     "language": "python",
     "metadata": {},
     "outputs": [
      {
       "metadata": {},
       "output_type": "display_data",
       "png": "[encoded data removed]",
       "text": [
        "<matplotlib.figure.Figure at 0x54e6e90>"
       ]
      }
     ],
     "prompt_number": 15
    },
    {
     "cell_type": "code",
     "collapsed": false,
     "input": [
      "cluster0 = []\n",
      "cluster1 = []\n",
      "for count in range(0,11480):\n",
      "    if kmeans.labels_[count] == 0:\n",
      "        cluster0.append(count)\n",
      "    else:\n",
      "        cluster1.append(count)\n",
      "\n",
      "#print len(cluster0) just making sure they add up to 11485\n",
      "#print len(cluster1)\n",
      "\n",
      "grad0 = 0 ;\n",
      "grad1 = 0;\n",
      "for i in cluster0:\n",
      "        if psychdata['Graduated'][i] == 'Y':\n",
      "            grad0+=1\n",
      "for i in cluster1:\n",
      "        if psychdata['Graduated'][i] == 'Y':\n",
      "            grad1+=1\n",
      "\n",
      "print grad0  # yes ! \n",
      "print grad1   # Yes ! yes !! !!! ! that is 98% accuracy! interestingly higher than math-department"
     ],
     "language": "python",
     "metadata": {},
     "outputs": [
      {
       "output_type": "stream",
       "stream": "stdout",
       "text": [
        "81\n",
        "4826\n"
       ]
      }
     ],
     "prompt_number": 17
    },
    {
     "cell_type": "code",
     "collapsed": false,
     "input": [],
     "language": "python",
     "metadata": {},
     "outputs": []
    }
   ],
   "metadata": {}
  }
 ]
}