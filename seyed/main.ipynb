{
 "metadata": {
  "name": "",
  "signature": "sha256:b55931ae63645d36735b5cb2264fcc63aeedc3ad7c05cdbf18851b58f3606644"
 },
 "nbformat": 3,
 "nbformat_minor": 0,
 "worksheets": [
  {
   "cells": [
    {
     "cell_type": "code",
     "collapsed": false,
     "input": [
      "import sys\n",
      "sys.path.append(\"/Users/cem/Documents/csun/_code/academic_data/projects/csun/gina\")\n",
      "from sklearn import metrics\n",
      "import kmeansdistance as KD"
     ],
     "language": "python",
     "metadata": {},
     "outputs": [],
     "prompt_number": 3
    },
    {
     "cell_type": "code",
     "collapsed": false,
     "input": [
      "%matplotlib inline\n",
      "from sklearn.cluster import KMeans\n",
      "from scipy.spatial.distance import cdist\n",
      "import matplotlib.pyplot as plt\n",
      "\n",
      "from __future__ import division\n",
      "import numpy as np\n",
      "import pandas as pd\n",
      "#from sklearn.linear_model import LogisticRegression\n",
      "import sklearn\n",
      "from sklearn import metrics\n",
      "from sklearn.cross_validation import train_test_split, cross_val_score\n",
      "import matplotlib.pyplot as plt\n",
      "from sklearn.cluster import KMeans\n",
      "from sklearn.decomposition import PCA\n",
      "\n",
      "from utilities import printClusters,plotPCA,getDistancesDF,getPCADataFrame"
     ],
     "language": "python",
     "metadata": {},
     "outputs": [],
     "prompt_number": 9
    },
    {
     "cell_type": "code",
     "collapsed": false,
     "input": [
      "data = pd.read_csv('psych-redacted_ternary.csv')\n",
      "data.head()"
     ],
     "language": "python",
     "metadata": {},
     "outputs": [
      {
       "html": [
        "<div style=\"max-height:1000px;max-width:1500px;overflow:auto;\">\n",
        "<table border=\"1\" class=\"dataframe\">\n",
        "  <thead>\n",
        "    <tr style=\"text-align: right;\">\n",
        "      <th></th>\n",
        "      <th>Graduated</th>\n",
        "      <th>N_Terms</th>\n",
        "      <th>Transfer_Cr</th>\n",
        "      <th>Inst_Cr</th>\n",
        "      <th>Total_Cr</th>\n",
        "      <th>PSY150</th>\n",
        "      <th>MATH140</th>\n",
        "      <th>PSY250</th>\n",
        "      <th>PSY320</th>\n",
        "      <th>PSY320L</th>\n",
        "      <th>...</th>\n",
        "      <th>PSY455</th>\n",
        "      <th>PSY386</th>\n",
        "      <th>MATH103</th>\n",
        "      <th>PSY454</th>\n",
        "      <th>PSY473BNS</th>\n",
        "      <th>PSY473BN</th>\n",
        "      <th>PSY421J</th>\n",
        "      <th>PSY406</th>\n",
        "      <th>PSY421N</th>\n",
        "      <th>PSY421M</th>\n",
        "    </tr>\n",
        "  </thead>\n",
        "  <tbody>\n",
        "    <tr>\n",
        "      <th>0</th>\n",
        "      <td> N</td>\n",
        "      <td> 1</td>\n",
        "      <td> 56.0</td>\n",
        "      <td> 33</td>\n",
        "      <td>  89.0</td>\n",
        "      <td> 1</td>\n",
        "      <td> 1</td>\n",
        "      <td> 0</td>\n",
        "      <td> 0</td>\n",
        "      <td> 0</td>\n",
        "      <td>...</td>\n",
        "      <td> 0</td>\n",
        "      <td> 0</td>\n",
        "      <td> 0</td>\n",
        "      <td> 0</td>\n",
        "      <td> 0</td>\n",
        "      <td> 0</td>\n",
        "      <td> 0</td>\n",
        "      <td> 0</td>\n",
        "      <td> 0</td>\n",
        "      <td> 0</td>\n",
        "    </tr>\n",
        "    <tr>\n",
        "      <th>1</th>\n",
        "      <td> N</td>\n",
        "      <td> 1</td>\n",
        "      <td> 56.5</td>\n",
        "      <td> 28</td>\n",
        "      <td>  84.5</td>\n",
        "      <td> 1</td>\n",
        "      <td> 1</td>\n",
        "      <td>-1</td>\n",
        "      <td> 0</td>\n",
        "      <td> 0</td>\n",
        "      <td>...</td>\n",
        "      <td> 0</td>\n",
        "      <td> 0</td>\n",
        "      <td> 0</td>\n",
        "      <td> 0</td>\n",
        "      <td> 0</td>\n",
        "      <td> 0</td>\n",
        "      <td> 0</td>\n",
        "      <td> 0</td>\n",
        "      <td> 0</td>\n",
        "      <td> 0</td>\n",
        "    </tr>\n",
        "    <tr>\n",
        "      <th>2</th>\n",
        "      <td> N</td>\n",
        "      <td> 1</td>\n",
        "      <td> 67.0</td>\n",
        "      <td> 58</td>\n",
        "      <td> 125.0</td>\n",
        "      <td> 1</td>\n",
        "      <td> 1</td>\n",
        "      <td> 0</td>\n",
        "      <td> 0</td>\n",
        "      <td> 0</td>\n",
        "      <td>...</td>\n",
        "      <td> 0</td>\n",
        "      <td> 0</td>\n",
        "      <td> 1</td>\n",
        "      <td> 0</td>\n",
        "      <td> 0</td>\n",
        "      <td> 0</td>\n",
        "      <td> 0</td>\n",
        "      <td> 0</td>\n",
        "      <td> 0</td>\n",
        "      <td> 0</td>\n",
        "    </tr>\n",
        "    <tr>\n",
        "      <th>3</th>\n",
        "      <td> N</td>\n",
        "      <td> 1</td>\n",
        "      <td> 11.0</td>\n",
        "      <td> 26</td>\n",
        "      <td>  37.0</td>\n",
        "      <td> 1</td>\n",
        "      <td> 1</td>\n",
        "      <td> 0</td>\n",
        "      <td> 0</td>\n",
        "      <td> 0</td>\n",
        "      <td>...</td>\n",
        "      <td> 0</td>\n",
        "      <td> 0</td>\n",
        "      <td> 0</td>\n",
        "      <td> 0</td>\n",
        "      <td> 0</td>\n",
        "      <td> 0</td>\n",
        "      <td> 0</td>\n",
        "      <td> 0</td>\n",
        "      <td> 0</td>\n",
        "      <td> 0</td>\n",
        "    </tr>\n",
        "    <tr>\n",
        "      <th>4</th>\n",
        "      <td> N</td>\n",
        "      <td> 1</td>\n",
        "      <td>  0.0</td>\n",
        "      <td> 38</td>\n",
        "      <td>  38.0</td>\n",
        "      <td> 1</td>\n",
        "      <td> 1</td>\n",
        "      <td> 1</td>\n",
        "      <td>-1</td>\n",
        "      <td>-1</td>\n",
        "      <td>...</td>\n",
        "      <td> 0</td>\n",
        "      <td> 0</td>\n",
        "      <td> 0</td>\n",
        "      <td> 0</td>\n",
        "      <td> 0</td>\n",
        "      <td> 0</td>\n",
        "      <td> 0</td>\n",
        "      <td> 0</td>\n",
        "      <td> 0</td>\n",
        "      <td> 0</td>\n",
        "    </tr>\n",
        "  </tbody>\n",
        "</table>\n",
        "<p>5 rows \u00d7 61 columns</p>\n",
        "</div>"
       ],
       "metadata": {},
       "output_type": "pyout",
       "prompt_number": 10,
       "text": [
        "  Graduated  N_Terms  Transfer_Cr  Inst_Cr  Total_Cr  PSY150  MATH140  PSY250  \\\n",
        "0         N        1         56.0       33      89.0       1        1       0   \n",
        "1         N        1         56.5       28      84.5       1        1      -1   \n",
        "2         N        1         67.0       58     125.0       1        1       0   \n",
        "3         N        1         11.0       26      37.0       1        1       0   \n",
        "4         N        1          0.0       38      38.0       1        1       1   \n",
        "\n",
        "   PSY320  PSY320L   ...     PSY455  PSY386  MATH103  PSY454  PSY473BNS  \\\n",
        "0       0        0   ...          0       0        0       0          0   \n",
        "1       0        0   ...          0       0        0       0          0   \n",
        "2       0        0   ...          0       0        1       0          0   \n",
        "3       0        0   ...          0       0        0       0          0   \n",
        "4      -1       -1   ...          0       0        0       0          0   \n",
        "\n",
        "   PSY473BN  PSY421J  PSY406  PSY421N  PSY421M  \n",
        "0         0        0       0        0        0  \n",
        "1         0        0       0        0        0  \n",
        "2         0        0       0        0        0  \n",
        "3         0        0       0        0        0  \n",
        "4         0        0       0        0        0  \n",
        "\n",
        "[5 rows x 61 columns]"
       ]
      }
     ],
     "prompt_number": 10
    },
    {
     "cell_type": "code",
     "collapsed": false,
     "input": [
      "data['Graduated'].replace(to_replace=('N','Y'), value=(0,1), inplace=True)\n"
     ],
     "language": "python",
     "metadata": {},
     "outputs": [],
     "prompt_number": 11
    },
    {
     "cell_type": "code",
     "collapsed": false,
     "input": [
      "\n",
      "y = data['Graduated']\n",
      "X = data[data.columns[5:]]\n",
      "cl=5\n",
      "\n"
     ],
     "language": "python",
     "metadata": {},
     "outputs": [],
     "prompt_number": 12
    },
    {
     "cell_type": "heading",
     "level": 1,
     "metadata": {},
     "source": [
      "Ternary encoding"
     ]
    },
    {
     "cell_type": "code",
     "collapsed": false,
     "input": [
      "\n",
      "\n",
      "\n",
      "\n",
      "X = data[data.columns[cl:]]\n",
      "K = range(1, 10)\n",
      "meandistortions = []\n",
      "for k in K:\n",
      "    ####Chris: add sil. scores & CH-INDEX\n",
      "    kmeans = KMeans(n_clusters=k)\n",
      "    kmeans.fit(X)\n",
      "    meandistortions.append(sum(np.min(cdist(data[data.columns[5:]],\\\n",
      "                                            kmeans.cluster_centers_,\\\n",
      "                                            'euclidean'), axis=1)) / data[data.columns[5:]].shape[0])\n",
      "    if k>1 :\n",
      "        kmeans_model = KMeans(n_clusters=k).fit(X)\n",
      "        print \"K=\",k,\" silhouette score\", metrics.silhouette_score(data[data.columns[cl:]],\\\n",
      "                                                   kmeans_model.labels_,metric='euclidean')\n",
      "plt.plot(K, meandistortions, 'bx-')\n",
      "plt.xlabel('k')\n",
      "plt.ylabel('Average distortion')\n",
      "plt.title('Selecting k with the Elbow Method')\n",
      "plt.show()"
     ],
     "language": "python",
     "metadata": {},
     "outputs": [
      {
       "output_type": "stream",
       "stream": "stdout",
       "text": [
        "K= 2  silhouette score "
       ]
      },
      {
       "output_type": "stream",
       "stream": "stdout",
       "text": [
        "0.18989357305\n",
        "K="
       ]
      },
      {
       "output_type": "stream",
       "stream": "stdout",
       "text": [
        " 3  silhouette score "
       ]
      },
      {
       "output_type": "stream",
       "stream": "stdout",
       "text": [
        "0.184144060063\n",
        "K="
       ]
      },
      {
       "output_type": "stream",
       "stream": "stdout",
       "text": [
        " 4  silhouette score "
       ]
      },
      {
       "output_type": "stream",
       "stream": "stdout",
       "text": [
        "0.0931024899332\n",
        "K="
       ]
      },
      {
       "output_type": "stream",
       "stream": "stdout",
       "text": [
        " 5  silhouette score "
       ]
      },
      {
       "output_type": "stream",
       "stream": "stdout",
       "text": [
        "0.157876346105\n",
        "K="
       ]
      },
      {
       "output_type": "stream",
       "stream": "stdout",
       "text": [
        " 6  silhouette score "
       ]
      },
      {
       "output_type": "stream",
       "stream": "stdout",
       "text": [
        "0.0980428450051\n",
        "K="
       ]
      },
      {
       "output_type": "stream",
       "stream": "stdout",
       "text": [
        " 7  silhouette score "
       ]
      },
      {
       "output_type": "stream",
       "stream": "stdout",
       "text": [
        "0.0926845723671\n",
        "K="
       ]
      },
      {
       "output_type": "stream",
       "stream": "stdout",
       "text": [
        " 8  silhouette score "
       ]
      },
      {
       "output_type": "stream",
       "stream": "stdout",
       "text": [
        "0.093676852506\n",
        "K="
       ]
      },
      {
       "output_type": "stream",
       "stream": "stdout",
       "text": [
        " 9  silhouette score "
       ]
      },
      {
       "output_type": "stream",
       "stream": "stdout",
       "text": [
        "0.0921328772022\n"
       ]
      },
      {
       "metadata": {},
       "output_type": "display_data",
       "png": "[encoded data removed]",
       "text": [
        "<matplotlib.figure.Figure at 0x5f238d0>"
       ]
      }
     ],
     "prompt_number": 13
    },
    {
     "cell_type": "code",
     "collapsed": false,
     "input": [
      "# kmeans with L1 metric \n",
      "misdistman = []\n",
      "for i in range(1,10):\n",
      "    kmeans = KMeans(n_clusters=i)\n",
      "    kmeans.fit(X)\n",
      "    kfit = KD.kmeans(X,kmeans.cluster_centers_,metric = \"cityblock\")\n",
      "    misdistman.append(sum(np.min(cdist(data[data.columns[5:]],\\\n",
      "                                            kfit[0],\\\n",
      "                                            'cityblock'), axis=1)) / data[data.columns[5:]].shape[0])\n",
      "    if i>1 :\n",
      "        kmeans_model = KMeans(n_clusters=i).fit(X)\n",
      "        kfit = KD.kmeans(X,kmeans.cluster_centers_,metric = \"cityblock\")\n",
      "        print \"K=\",i,\" silhouette score\", metrics.silhouette_score(data[data.columns[cl:]],\\\n",
      "                                                   kfit[1],metric='euclidean')\n",
      "'''kmeans = KMeans(3)\n",
      "kmeans.fit(X)\n",
      "kfit = KD.kmeans(X,kmeans.cluster_centers_,metric = \"cityblock\")\n",
      "len(kfit)\n",
      "'''\n",
      "plt.plot(range(1,10), misdistman, 'bx-')\n",
      "plt.xlabel('k')\n",
      "plt.ylabel('Average distortion with L1')\n",
      "plt.title('Selecting k with the Elbow Method')\n",
      "plt.show()"
     ],
     "language": "python",
     "metadata": {},
     "outputs": [
      {
       "output_type": "stream",
       "stream": "stdout",
       "text": [
        "K= 2  silhouette score "
       ]
      },
      {
       "output_type": "stream",
       "stream": "stdout",
       "text": [
        "0.178452079158\n",
        "K="
       ]
      },
      {
       "output_type": "stream",
       "stream": "stdout",
       "text": [
        " 3  silhouette score "
       ]
      },
      {
       "output_type": "stream",
       "stream": "stdout",
       "text": [
        "0.18284488411\n",
        "K="
       ]
      },
      {
       "output_type": "stream",
       "stream": "stdout",
       "text": [
        " 4  silhouette score "
       ]
      },
      {
       "output_type": "stream",
       "stream": "stdout",
       "text": [
        "0.111076939764\n",
        "K="
       ]
      },
      {
       "output_type": "stream",
       "stream": "stdout",
       "text": [
        " 5  silhouette score "
       ]
      },
      {
       "output_type": "stream",
       "stream": "stdout",
       "text": [
        "0.159932412564\n",
        "K="
       ]
      },
      {
       "output_type": "stream",
       "stream": "stdout",
       "text": [
        " 6  silhouette score "
       ]
      },
      {
       "output_type": "stream",
       "stream": "stdout",
       "text": [
        "0.0977475108159\n",
        "K="
       ]
      },
      {
       "output_type": "stream",
       "stream": "stdout",
       "text": [
        " 7  silhouette score "
       ]
      },
      {
       "output_type": "stream",
       "stream": "stdout",
       "text": [
        "0.0929638649098\n",
        "K="
       ]
      },
      {
       "output_type": "stream",
       "stream": "stdout",
       "text": [
        " 8  silhouette score "
       ]
      },
      {
       "output_type": "stream",
       "stream": "stdout",
       "text": [
        "0.0883525759525\n",
        "K="
       ]
      },
      {
       "output_type": "stream",
       "stream": "stdout",
       "text": [
        " 9  silhouette score "
       ]
      },
      {
       "output_type": "stream",
       "stream": "stdout",
       "text": [
        "0.0924135236825\n"
       ]
      },
      {
       "metadata": {},
       "output_type": "display_data",
       "png": "[encoded data removed]",
       "text": [
        "<matplotlib.figure.Figure at 0x5f23ad0>"
       ]
      }
     ],
     "prompt_number": 14
    },
    {
     "cell_type": "code",
     "collapsed": false,
     "input": [
      "temp = 0\n",
      "for i in range(0,11480):\n",
      "    if kfit[1][i] == 2:\n",
      "        temp+= 1\n",
      "temp"
     ],
     "language": "python",
     "metadata": {},
     "outputs": [
      {
       "metadata": {},
       "output_type": "pyout",
       "prompt_number": 84,
       "text": [
        "0"
       ]
      },
      {
       "output_type": "stream",
       "stream": "stdout",
       "text": [
        "\n"
       ]
      }
     ],
     "prompt_number": 84
    },
    {
     "cell_type": "code",
     "collapsed": false,
     "input": [
      "k=2\n",
      "cl=5\n",
      "#add contingency table\n",
      "#precision and recall score, a contingency table of cluster assignments vs graduation labels\n",
      "#center=clusterCenters(data, k=k,n_tests=10,init='random')\n",
      "\n",
      "####Chris: implement K-means w/ L1 & J-S distance \n",
      "kmeans_model = KMeans(n_clusters=k, n_init=20, init='random').fit(data[data.columns[cl:]]) \n",
      "gradClustersDF=printClusters(data, kmeans_model.labels_,k=kmeans_model.n_clusters)\n",
      "\n",
      "####Chris: pull out pca vectors for use below\n",
      "pca = PCA(n_components=2)\n",
      "plotPCA(data[data.columns[cl:]],kmeans_model.labels_,pca=pca,k=kmeans_model.n_clusters,norm=False)\n",
      "dfPCA=getPCADataFrame(data.columns[cl:], pca, n_components=2)\n",
      "dfPCA.head()"
     ],
     "language": "python",
     "metadata": {},
     "outputs": [
      {
       "output_type": "stream",
       "stream": "stdout",
       "text": [
        "total non-graduates 6577\n",
        "0 cluster "
       ]
      },
      {
       "output_type": "stream",
       "stream": "stdout",
       "text": [
        "5149\n",
        "1 cluster 1428\n",
        "total graduates 4907\n",
        "0 cluster 98\n",
        "1 cluster 4809\n"
       ]
      },
      {
       "metadata": {},
       "output_type": "display_data",
       "png": "[encoded data removed]",
       "text": [
        "<matplotlib.figure.Figure at 0x5164050>"
       ]
      },
      {
       "html": [
        "<div style=\"max-height:1000px;max-width:1500px;overflow:auto;\">\n",
        "<table border=\"1\" class=\"dataframe\">\n",
        "  <thead>\n",
        "    <tr style=\"text-align: right;\">\n",
        "      <th></th>\n",
        "      <th>class</th>\n",
        "      <th>PC1</th>\n",
        "      <th>PC2</th>\n",
        "    </tr>\n",
        "  </thead>\n",
        "  <tbody>\n",
        "    <tr>\n",
        "      <th>0</th>\n",
        "      <td>  PSY150</td>\n",
        "      <td> 0.119508</td>\n",
        "      <td> 0.064319</td>\n",
        "    </tr>\n",
        "    <tr>\n",
        "      <th>1</th>\n",
        "      <td> MATH140</td>\n",
        "      <td> 0.185377</td>\n",
        "      <td> 0.221419</td>\n",
        "    </tr>\n",
        "    <tr>\n",
        "      <th>2</th>\n",
        "      <td>  PSY250</td>\n",
        "      <td> 0.243556</td>\n",
        "      <td> 0.148565</td>\n",
        "    </tr>\n",
        "    <tr>\n",
        "      <th>3</th>\n",
        "      <td>  PSY320</td>\n",
        "      <td> 0.365979</td>\n",
        "      <td> 0.122581</td>\n",
        "    </tr>\n",
        "    <tr>\n",
        "      <th>4</th>\n",
        "      <td> PSY320L</td>\n",
        "      <td> 0.331349</td>\n",
        "      <td> 0.027239</td>\n",
        "    </tr>\n",
        "  </tbody>\n",
        "</table>\n",
        "</div>"
       ],
       "metadata": {},
       "output_type": "pyout",
       "prompt_number": 13,
       "text": [
        "     class       PC1       PC2\n",
        "0   PSY150  0.119508  0.064319\n",
        "1  MATH140  0.185377  0.221419\n",
        "2   PSY250  0.243556  0.148565\n",
        "3   PSY320  0.365979  0.122581\n",
        "4  PSY320L  0.331349  0.027239"
       ]
      }
     ],
     "prompt_number": 13
    },
    {
     "cell_type": "code",
     "collapsed": false,
     "input": [
      "####Chris: sort distance vector by magnitude of class & compute correlation with pc1 for top 3 classes\n",
      "distancesDF.sort('Distance', ascending=False)[(distancesDF.sort('Distance', ascending=False)['Distance']>0.3)|(distancesDF.sort('Distance', ascending=False)['Distance']<-0.2)]"
     ],
     "language": "python",
     "metadata": {},
     "outputs": [
      {
       "html": [
        "<div style=\"max-height:1000px;max-width:1500px;overflow:auto;\">\n",
        "<table border=\"1\" class=\"dataframe\">\n",
        "  <thead>\n",
        "    <tr style=\"text-align: right;\">\n",
        "      <th></th>\n",
        "      <th>class</th>\n",
        "      <th>Cluster0</th>\n",
        "      <th>Cluster1</th>\n",
        "      <th>Distance</th>\n",
        "    </tr>\n",
        "  </thead>\n",
        "  <tbody>\n",
        "    <tr>\n",
        "      <th>19</th>\n",
        "      <td>  PSY356</td>\n",
        "      <td>-0.021159</td>\n",
        "      <td> 0.197018</td>\n",
        "      <td>-0.218177</td>\n",
        "    </tr>\n",
        "    <tr>\n",
        "      <th>22</th>\n",
        "      <td>  PSY402</td>\n",
        "      <td> 0.005337</td>\n",
        "      <td> 0.228920</td>\n",
        "      <td>-0.223582</td>\n",
        "    </tr>\n",
        "    <tr>\n",
        "      <th>23</th>\n",
        "      <td> PSY403L</td>\n",
        "      <td> 0.003812</td>\n",
        "      <td> 0.228278</td>\n",
        "      <td>-0.224466</td>\n",
        "    </tr>\n",
        "    <tr>\n",
        "      <th>21</th>\n",
        "      <td> PSY402L</td>\n",
        "      <td> 0.005147</td>\n",
        "      <td> 0.231164</td>\n",
        "      <td>-0.226017</td>\n",
        "    </tr>\n",
        "    <tr>\n",
        "      <th>13</th>\n",
        "      <td>  PSY365</td>\n",
        "      <td> 0.020206</td>\n",
        "      <td> 0.250561</td>\n",
        "      <td>-0.230355</td>\n",
        "    </tr>\n",
        "    <tr>\n",
        "      <th>24</th>\n",
        "      <td>  PSY403</td>\n",
        "      <td> 0.004003</td>\n",
        "      <td> 0.234530</td>\n",
        "      <td>-0.230527</td>\n",
        "    </tr>\n",
        "    <tr>\n",
        "      <th>11</th>\n",
        "      <td>  PSY301</td>\n",
        "      <td> 0.064621</td>\n",
        "      <td> 0.323661</td>\n",
        "      <td>-0.259041</td>\n",
        "    </tr>\n",
        "    <tr>\n",
        "      <th>17</th>\n",
        "      <td>  PSY460</td>\n",
        "      <td> 0.017918</td>\n",
        "      <td> 0.280539</td>\n",
        "      <td>-0.262620</td>\n",
        "    </tr>\n",
        "    <tr>\n",
        "      <th>16</th>\n",
        "      <td> PSY313L</td>\n",
        "      <td> 0.006481</td>\n",
        "      <td> 0.285188</td>\n",
        "      <td>-0.278706</td>\n",
        "    </tr>\n",
        "    <tr>\n",
        "      <th>0 </th>\n",
        "      <td>  PSY150</td>\n",
        "      <td> 0.669462</td>\n",
        "      <td> 0.957198</td>\n",
        "      <td>-0.287735</td>\n",
        "    </tr>\n",
        "    <tr>\n",
        "      <th>15</th>\n",
        "      <td>  PSY302</td>\n",
        "      <td> 0.020015</td>\n",
        "      <td> 0.328952</td>\n",
        "      <td>-0.308936</td>\n",
        "    </tr>\n",
        "    <tr>\n",
        "      <th>12</th>\n",
        "      <td>  PSY312</td>\n",
        "      <td> 0.020968</td>\n",
        "      <td> 0.411510</td>\n",
        "      <td>-0.390542</td>\n",
        "    </tr>\n",
        "    <tr>\n",
        "      <th>1 </th>\n",
        "      <td> MATH140</td>\n",
        "      <td> 0.292604</td>\n",
        "      <td> 0.712087</td>\n",
        "      <td>-0.419483</td>\n",
        "    </tr>\n",
        "    <tr>\n",
        "      <th>9 </th>\n",
        "      <td>  PSY345</td>\n",
        "      <td> 0.005719</td>\n",
        "      <td> 0.480923</td>\n",
        "      <td>-0.475205</td>\n",
        "    </tr>\n",
        "    <tr>\n",
        "      <th>10</th>\n",
        "      <td>  PSY313</td>\n",
        "      <td>-0.014106</td>\n",
        "      <td> 0.479481</td>\n",
        "      <td>-0.493587</td>\n",
        "    </tr>\n",
        "    <tr>\n",
        "      <th>8 </th>\n",
        "      <td>  PSY352</td>\n",
        "      <td> 0.024400</td>\n",
        "      <td> 0.596666</td>\n",
        "      <td>-0.572266</td>\n",
        "    </tr>\n",
        "    <tr>\n",
        "      <th>2 </th>\n",
        "      <td>  PSY250</td>\n",
        "      <td> 0.340640</td>\n",
        "      <td> 0.959923</td>\n",
        "      <td>-0.619283</td>\n",
        "    </tr>\n",
        "    <tr>\n",
        "      <th>5 </th>\n",
        "      <td>  PSY310</td>\n",
        "      <td> 0.013534</td>\n",
        "      <td> 0.814845</td>\n",
        "      <td>-0.801310</td>\n",
        "    </tr>\n",
        "    <tr>\n",
        "      <th>4 </th>\n",
        "      <td> PSY320L</td>\n",
        "      <td>-0.013534</td>\n",
        "      <td> 0.801860</td>\n",
        "      <td>-0.815394</td>\n",
        "    </tr>\n",
        "    <tr>\n",
        "      <th>3 </th>\n",
        "      <td>  PSY320</td>\n",
        "      <td>-0.010103</td>\n",
        "      <td> 0.962007</td>\n",
        "      <td>-0.972110</td>\n",
        "    </tr>\n",
        "    <tr>\n",
        "      <th>6 </th>\n",
        "      <td> PSY321L</td>\n",
        "      <td>-0.089592</td>\n",
        "      <td> 0.939885</td>\n",
        "      <td>-1.029477</td>\n",
        "    </tr>\n",
        "    <tr>\n",
        "      <th>7 </th>\n",
        "      <td>  PSY321</td>\n",
        "      <td>-0.086161</td>\n",
        "      <td> 0.964732</td>\n",
        "      <td>-1.050893</td>\n",
        "    </tr>\n",
        "  </tbody>\n",
        "</table>\n",
        "</div>"
       ],
       "metadata": {},
       "output_type": "pyout",
       "prompt_number": 99,
       "text": [
        "      class  Cluster0  Cluster1  Distance\n",
        "19   PSY356 -0.021159  0.197018 -0.218177\n",
        "22   PSY402  0.005337  0.228920 -0.223582\n",
        "23  PSY403L  0.003812  0.228278 -0.224466\n",
        "21  PSY402L  0.005147  0.231164 -0.226017\n",
        "13   PSY365  0.020206  0.250561 -0.230355\n",
        "24   PSY403  0.004003  0.234530 -0.230527\n",
        "11   PSY301  0.064621  0.323661 -0.259041\n",
        "17   PSY460  0.017918  0.280539 -0.262620\n",
        "16  PSY313L  0.006481  0.285188 -0.278706\n",
        "0    PSY150  0.669462  0.957198 -0.287735\n",
        "15   PSY302  0.020015  0.328952 -0.308936\n",
        "12   PSY312  0.020968  0.411510 -0.390542\n",
        "1   MATH140  0.292604  0.712087 -0.419483\n",
        "9    PSY345  0.005719  0.480923 -0.475205\n",
        "10   PSY313 -0.014106  0.479481 -0.493587\n",
        "8    PSY352  0.024400  0.596666 -0.572266\n",
        "2    PSY250  0.340640  0.959923 -0.619283\n",
        "5    PSY310  0.013534  0.814845 -0.801310\n",
        "4   PSY320L -0.013534  0.801860 -0.815394\n",
        "3    PSY320 -0.010103  0.962007 -0.972110\n",
        "6   PSY321L -0.089592  0.939885 -1.029477\n",
        "7    PSY321 -0.086161  0.964732 -1.050893"
       ]
      }
     ],
     "prompt_number": 99
    },
    {
     "cell_type": "code",
     "collapsed": false,
     "input": [
      "plt.plot(distancesDF.sort('Distance', ascending=True)['Distance'])\n",
      "print list(distancesDF.sort('Distance', ascending=True)['class'])"
     ],
     "language": "python",
     "metadata": {},
     "outputs": [
      {
       "output_type": "stream",
       "stream": "stdout",
       "text": [
        "['PSY321', 'PSY321L', 'PSY320', 'PSY320L', 'PSY310', 'PSY250', 'PSY352', 'PSY313', 'PSY345', 'MATH140', 'PSY312', 'PSY302', 'PSY150', 'PSY313L', 'PSY460', 'PSY301', 'PSY403', 'PSY365', 'PSY402L', 'PSY403L', 'PSY402', 'PSY356', 'PSY361', 'PSY370', 'PSY345L', 'PSY367', 'PSY370L', 'PSY369', 'PSY426', 'PSY350', 'PSY305', 'PSY351', 'PSY383', 'PSY320LOL', 'PSY230', 'PSY499C', 'PSY453', 'PSY498C', 'PSY200', 'PSY427', 'PSY386', 'PSY382', 'PSY455', 'PSY454', 'PSY473BN', 'MATH102', 'PSY473BNS', 'PSY406', 'PSY421J', 'PSY421N', 'PSY421M', 'MATH93', 'MATH105', 'MATH104', 'MATH103', 'MATH92']\n"
       ]
      },
      {
       "metadata": {},
       "output_type": "display_data",
       "png": "[encoded data removed]",
       "text": [
        "<matplotlib.figure.Figure at 0x110656590>"
       ]
      }
     ],
     "prompt_number": 98
    }
   ],
   "metadata": {}
  }
 ]
}