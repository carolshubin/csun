{
 "metadata": {
  "name": "",
  "signature": "sha256:fe7075c833859b58fe21c025fa29edc8ad333058b8d2ca85001ed00813464efa"
 },
 "nbformat": 3,
 "nbformat_minor": 0,
 "worksheets": [
  {
   "cells": [
    {
     "cell_type": "code",
     "collapsed": false,
     "input": [
      "#import sys\n",
      "#sys.path.append(\"/Users/cem/Documents/csun/_code/academic_data/projects/csun/gina/k-stuff\")\n",
      "\n",
      "%matplotlib inline\n",
      "from __future__ import division\n",
      "import numpy as np\n",
      "import pandas as pd\n",
      "import matplotlib.pyplot as plt\n",
      "import re\n",
      "import sklearn\n",
      "\n",
      "from sklearn import metrics\n",
      "from sklearn.cross_validation import train_test_split, cross_val_score\n",
      "from sklearn import metrics\n",
      "from sklearn.metrics import roc_curve, auc\n",
      "from sklearn.linear_model import LogisticRegression\n",
      "from sklearn.decomposition import PCA\n",
      "from sklearn.cluster import KMeans\n",
      "from scipy.spatial.distance import cdist\n",
      "\n",
      "def printContingencyTable(y_test, y_pred):\n",
      "    confusion_matrix = metrics.confusion_matrix(y_test, y_pred)\n",
      "    plt.matshow(confusion_matrix)\n",
      "    plt.title('Confusion matrix')\n",
      "    #plt.colorbar()\n",
      "    plt.ylabel('Graduated')\n",
      "    plt.xlabel('Predicted')\n",
      "    plt.show()\n",
      "    print(confusion_matrix)\n",
      "\n",
      "\n",
      "def plotROC(y_test,y_pred):\n",
      "    #y_pred can consist of Boolean labels or probabilities, w/ the obvious implications for curve character\n",
      "    false_positive_rate, true_positive_rate, thresholds = roc_curve(y_test,y_pred)\n",
      "    roc_auc = auc(false_positive_rate, true_positive_rate)\n",
      "    plt.title('Receiver Operating Characteristic')\n",
      "    plt.plot(false_positive_rate, true_positive_rate, 'b', label='AUC = %0.2f' %roc_auc)\n",
      "    plt.legend(loc='lower right')\n",
      "    plt.plot([0, 1], [0, 1], 'r--')\n",
      "    plt.xlim([0.0, 1.0])\n",
      "    plt.ylim([0.0, 1.0])\n",
      "    plt.ylabel('False Negative Rate')\n",
      "    plt.xlabel('True Positive Rate')\n",
      "    plt.show()"
     ],
     "language": "python",
     "metadata": {},
     "outputs": [],
     "prompt_number": 1
    },
    {
     "cell_type": "code",
     "collapsed": false,
     "input": [
      "#\n",
      "#Load/encode data\n",
      "#\n",
      "data = pd.read_csv('marketing_redacted.csv')\n",
      "data['Graduated'].replace(to_replace=('N','Y'), value=(0,1), inplace=True)\n",
      "data.head()\n",
      "\n",
      "def encode(x):\n",
      "    \n",
      "    out = 0.0\n",
      "    if x=='A+':\n",
      "        out=4.0\n",
      "    if x=='A':\n",
      "        out=4.0\n",
      "    if x=='A-':\n",
      "        out=3.7\n",
      "    if x=='B+':\n",
      "        out=3.3\n",
      "    if x=='B':\n",
      "        out=3.0\n",
      "    if x=='B-':\n",
      "        out=2.7\n",
      "    if x=='C+':\n",
      "        out=2.3\n",
      "    if x=='C':\n",
      "        out=2.0\n",
      "    if x=='C-':\n",
      "        out=1.7\n",
      "    if x=='D+':\n",
      "        out=1.3\n",
      "    if x=='D':\n",
      "        out=1.0\n",
      "    if x=='D-':\n",
      "        out=0.7\n",
      "    if x=='F':\n",
      "        out=0.0\n",
      "    if x=='NA':\n",
      "        out = 2.0\n",
      "    if x=='CR':\n",
      "        out=2.0\n",
      "    \n",
      "    return out  \n",
      "    \n",
      "\n",
      "gpaDF=data[data.columns[5:]].applymap(encode) #apply above encoding function \n",
      "gpaDF[data.columns[:5]]=data[data.columns[:5]]\n",
      "gpaDF=gpaDF[data.columns]"
     ],
     "language": "python",
     "metadata": {},
     "outputs": [],
     "prompt_number": 36
    },
    {
     "cell_type": "code",
     "collapsed": false,
     "input": [
      "data.head()"
     ],
     "language": "python",
     "metadata": {},
     "outputs": [
      {
       "html": [
        "<div style=\"max-height:1000px;max-width:1500px;overflow:auto;\">\n",
        "<table border=\"1\" class=\"dataframe\">\n",
        "  <thead>\n",
        "    <tr style=\"text-align: right;\">\n",
        "      <th></th>\n",
        "      <th>Major_Cd</th>\n",
        "      <th>N_Terms</th>\n",
        "      <th>Graduated</th>\n",
        "      <th>Transfer_Cr</th>\n",
        "      <th>Inst_Cr</th>\n",
        "      <th>ACCT220</th>\n",
        "      <th>ACCT230</th>\n",
        "      <th>BLAW280</th>\n",
        "      <th>COMP100</th>\n",
        "      <th>ECON160</th>\n",
        "      <th>...</th>\n",
        "      <th>MATH150A</th>\n",
        "      <th>MATH150B</th>\n",
        "      <th>MATH140</th>\n",
        "      <th>BUS302</th>\n",
        "      <th>FIN303</th>\n",
        "      <th>MGT360</th>\n",
        "      <th>MKT304</th>\n",
        "      <th>SOM306</th>\n",
        "      <th>MKT346</th>\n",
        "      <th>MKT348</th>\n",
        "    </tr>\n",
        "  </thead>\n",
        "  <tbody>\n",
        "    <tr>\n",
        "      <th>0</th>\n",
        "      <td> 230750B</td>\n",
        "      <td> 1</td>\n",
        "      <td> 0</td>\n",
        "      <td> 95</td>\n",
        "      <td>  31</td>\n",
        "      <td> 0:0NA</td>\n",
        "      <td> 0:0NA</td>\n",
        "      <td> 0:0NA</td>\n",
        "      <td>   1:0</td>\n",
        "      <td> 0:0NA</td>\n",
        "      <td>...</td>\n",
        "      <td> 0:0NA</td>\n",
        "      <td> 0:0NA</td>\n",
        "      <td> 1:1C-</td>\n",
        "      <td> 0:0NA</td>\n",
        "      <td> 0:0NA</td>\n",
        "      <td> 0:0NA</td>\n",
        "      <td> 0:0NA</td>\n",
        "      <td> 0:0NA</td>\n",
        "      <td> 0:0NA</td>\n",
        "      <td> 0:0NA</td>\n",
        "    </tr>\n",
        "    <tr>\n",
        "      <th>1</th>\n",
        "      <td> 230750B</td>\n",
        "      <td> 1</td>\n",
        "      <td> 0</td>\n",
        "      <td> 70</td>\n",
        "      <td>  34</td>\n",
        "      <td>  1:1A</td>\n",
        "      <td>  1:1A</td>\n",
        "      <td>  1:1A</td>\n",
        "      <td> 0:0NA</td>\n",
        "      <td>   1:0</td>\n",
        "      <td>...</td>\n",
        "      <td> 0:0NA</td>\n",
        "      <td> 0:0NA</td>\n",
        "      <td>  1:1A</td>\n",
        "      <td> 1:1B+</td>\n",
        "      <td>  1:1A</td>\n",
        "      <td> 1:1B+</td>\n",
        "      <td>  1:1A</td>\n",
        "      <td>  2:1A</td>\n",
        "      <td> 1:1A-</td>\n",
        "      <td> 1:1A-</td>\n",
        "    </tr>\n",
        "    <tr>\n",
        "      <th>2</th>\n",
        "      <td> 230750B</td>\n",
        "      <td> 1</td>\n",
        "      <td> 1</td>\n",
        "      <td> 23</td>\n",
        "      <td> 131</td>\n",
        "      <td>  1:1C</td>\n",
        "      <td>  1:1C</td>\n",
        "      <td>  1:1D</td>\n",
        "      <td>  1:1C</td>\n",
        "      <td> 1:1B-</td>\n",
        "      <td>...</td>\n",
        "      <td> 0:0NA</td>\n",
        "      <td> 0:0NA</td>\n",
        "      <td>  1:1D</td>\n",
        "      <td>  1:1B</td>\n",
        "      <td> 1:1B-</td>\n",
        "      <td> 1:1C+</td>\n",
        "      <td> 1:1C+</td>\n",
        "      <td>  1:1C</td>\n",
        "      <td> 1:1C+</td>\n",
        "      <td> 1:1B-</td>\n",
        "    </tr>\n",
        "    <tr>\n",
        "      <th>3</th>\n",
        "      <td> 230750B</td>\n",
        "      <td> 1</td>\n",
        "      <td> 1</td>\n",
        "      <td> 70</td>\n",
        "      <td>  52</td>\n",
        "      <td>  1:1A</td>\n",
        "      <td>  1:1A</td>\n",
        "      <td>  1:1A</td>\n",
        "      <td>  1:1A</td>\n",
        "      <td>  1:1A</td>\n",
        "      <td>...</td>\n",
        "      <td> 0:0NA</td>\n",
        "      <td> 0:0NA</td>\n",
        "      <td>  1:1A</td>\n",
        "      <td> 0:0NA</td>\n",
        "      <td>  1:1A</td>\n",
        "      <td>  1:1A</td>\n",
        "      <td> 0:0NA</td>\n",
        "      <td> 0:0NA</td>\n",
        "      <td>   2:0</td>\n",
        "      <td> 1:1A-</td>\n",
        "    </tr>\n",
        "    <tr>\n",
        "      <th>4</th>\n",
        "      <td> 230750B</td>\n",
        "      <td> 1</td>\n",
        "      <td> 1</td>\n",
        "      <td> 70</td>\n",
        "      <td>  52</td>\n",
        "      <td>  1:1C</td>\n",
        "      <td>  1:1C</td>\n",
        "      <td>  1:1B</td>\n",
        "      <td>  1:1C</td>\n",
        "      <td>  1:1C</td>\n",
        "      <td>...</td>\n",
        "      <td> 0:0NA</td>\n",
        "      <td> 0:0NA</td>\n",
        "      <td>  1:1B</td>\n",
        "      <td> 1:1B-</td>\n",
        "      <td>  1:1B</td>\n",
        "      <td>  1:1A</td>\n",
        "      <td> 1:1C+</td>\n",
        "      <td>  2:1C</td>\n",
        "      <td>  1:1B</td>\n",
        "      <td>  2:1B</td>\n",
        "    </tr>\n",
        "  </tbody>\n",
        "</table>\n",
        "<p>5 rows \u00d7 24 columns</p>\n",
        "</div>"
       ],
       "metadata": {},
       "output_type": "pyout",
       "prompt_number": 59,
       "text": [
        "  Major_Cd  N_Terms  Graduated  Transfer_Cr  Inst_Cr ACCT220 ACCT230 BLAW280  \\\n",
        "0  230750B        1          0           95       31   0:0NA   0:0NA   0:0NA   \n",
        "1  230750B        1          0           70       34    1:1A    1:1A    1:1A   \n",
        "2  230750B        1          1           23      131    1:1C    1:1C    1:1D   \n",
        "3  230750B        1          1           70       52    1:1A    1:1A    1:1A   \n",
        "4  230750B        1          1           70       52    1:1C    1:1C    1:1B   \n",
        "\n",
        "  COMP100 ECON160  ...   MATH150A MATH150B MATH140 BUS302 FIN303 MGT360  \\\n",
        "0     1:0   0:0NA  ...      0:0NA    0:0NA   1:1C-  0:0NA  0:0NA  0:0NA   \n",
        "1   0:0NA     1:0  ...      0:0NA    0:0NA    1:1A  1:1B+   1:1A  1:1B+   \n",
        "2    1:1C   1:1B-  ...      0:0NA    0:0NA    1:1D   1:1B  1:1B-  1:1C+   \n",
        "3    1:1A    1:1A  ...      0:0NA    0:0NA    1:1A  0:0NA   1:1A   1:1A   \n",
        "4    1:1C    1:1C  ...      0:0NA    0:0NA    1:1B  1:1B-   1:1B   1:1A   \n",
        "\n",
        "  MKT304 SOM306 MKT346 MKT348  \n",
        "0  0:0NA  0:0NA  0:0NA  0:0NA  \n",
        "1   1:1A   2:1A  1:1A-  1:1A-  \n",
        "2  1:1C+   1:1C  1:1C+  1:1B-  \n",
        "3  0:0NA  0:0NA    2:0  1:1A-  \n",
        "4  1:1C+   2:1C   1:1B   2:1B  \n",
        "\n",
        "[5 rows x 24 columns]"
       ]
      }
     ],
     "prompt_number": 59
    },
    {
     "cell_type": "code",
     "collapsed": false,
     "input": [
      "from sklearn.decomposition import PCA\n",
      "\n",
      "col = [i for i in range(5,24)] #all psych classes\n",
      "col = [7,8,10]\n",
      "pca = PCA(n_components=2)\n",
      "\n",
      "X_raw=gpaDF[gpaDF.columns[col]]\n",
      "normalizer=sklearn.preprocessing.Normalizer()\n",
      "\n",
      "X_raw_norm = X_raw\n",
      "#X_raw_norm= normalizer.fit_transform(X_raw.transpose().values.astype('float64')).transpose()#(X_raw - X_raw.mean()) / (X_raw.max() - X_raw.min())\n",
      "#X_raw_norm= normalizer.fit_transform(X_raw.values.astype('float64'))\n",
      "\n",
      "reduced_X = pca.fit_transform(X_raw_norm)\n",
      "y=data['Graduated']\n",
      "\n",
      "red_x, red_y = [], []\n",
      "blue_x, blue_y = [], []\n",
      "\n",
      "for i in range(len(reduced_X)):\n",
      "    if y[i] == 0:\n",
      "        red_x.append(reduced_X[i][0])\n",
      "        red_y.append(reduced_X[i][1])\n",
      "    elif y[i] == 1:\n",
      "        blue_x.append(reduced_X[i][0])\n",
      "        blue_y.append(reduced_X[i][1])\n",
      "\n",
      "plt.scatter(red_x, red_y, c='r', marker='x')\n",
      "plt.scatter(blue_x, blue_y, c='b', marker='x')\n",
      "\n",
      "plt.show()"
     ],
     "language": "python",
     "metadata": {},
     "outputs": [
      {
       "metadata": {},
       "output_type": "display_data",
       "png": "[encoded data removed]",
       "text": [
        "<matplotlib.figure.Figure at 0x5e0d1d0>"
       ]
      }
     ],
     "prompt_number": 15
    },
    {
     "cell_type": "code",
     "collapsed": false,
     "input": [
      "#\n",
      "#Correlation of pc1 with each course\n",
      "#\n",
      "\n",
      "dfPC1=pd.DataFrame({'class':gpaDF.columns[col], 'eig_comp':pca.components_[0]})\n",
      "print dfPC1.sort('eig_comp', ascending=False).head(10)\n",
      "pca.explained_variance_ratio_"
     ],
     "language": "python",
     "metadata": {},
     "outputs": [
      {
       "output_type": "stream",
       "stream": "stdout",
       "text": [
        "     class  eig_comp\n",
        "0  BLAW280  0.609345\n",
        "2  ECON161  0.592495\n",
        "1  COMP100  0.526924\n"
       ]
      },
      {
       "metadata": {},
       "output_type": "pyout",
       "prompt_number": 16,
       "text": [
        "array([ 0.60766744,  0.26562964])"
       ]
      }
     ],
     "prompt_number": 16
    },
    {
     "cell_type": "code",
     "collapsed": false,
     "input": [
      "student = [[ 0 for _ in range(24)] for _ in range(4261)] #array Implementation\n",
      "\n",
      "\n",
      "for y in range(5,24):\n",
      "    names = data.columns[y]\n",
      "    for i in range(0,4261):\n",
      "        student[i][y-5] = data[names][i]\n",
      "attemp = [[ 0 for _ in range(24)] for _ in range(4261)] #array Implementation\n",
      "for y in range(5,24):\n",
      "    for i in range(0,4261):\n",
      "        attemp[i][y-5] = (student[i][y-5])[0]\n",
      "#attemp\n",
      "credit = [[ 0 for _ in range(24)] for _ in range(4261)] #array Implementation\n",
      "for y in range(5,24):\n",
      "    for i in range(0,4261):\n",
      "        credit[i][y-5] = (student[i][y-5])[2]\n",
      "#credit\n",
      "letgrade = [[ 0 for _ in range(24)] for _ in range(4261)] #array Implementation\n",
      "\n",
      "count = 0\n",
      "for y in range(5,24):\n",
      "    for i in range(0,4261):\n",
      "        count = len(student[i][y-5])\n",
      "        temp = '' \n",
      "        for k in range(3,count):\n",
      "            temp+=(student[i][y-5])[k]\n",
      "        letgrade[i][y-5] = temp\n",
      "#letgrade\n",
      "numgrade = [[ 0.0 for _ in range(24)] for _ in range(4261)] #array Implementation\n",
      "\n",
      "for y in range(5,24):\n",
      "    for i in range(0,4261):\n",
      "        numgrade[i][y-5] = float(encode(letgrade[i][y-5]))\n",
      "for y in range(5,24):\n",
      "    for i in range(0,4261):\n",
      "        if credit[i][y-5] == '0' : \n",
      "            numgrade[i][y-5] *= 0\n",
      "        if credit[i][y-5] == '1' : \n",
      "            numgrade[i][y-5] *= 1\n",
      "#numgrade"
     ],
     "language": "python",
     "metadata": {},
     "outputs": [],
     "prompt_number": 38
    },
    {
     "cell_type": "code",
     "collapsed": false,
     "input": [
      "data = pd.DataFrame(numgrade)\n",
      "X = numgrade\n",
      "K = range(1, 10)\n",
      "meandistortions = []\n",
      "chindex = []\n",
      "for k in K:\n",
      "    kmeans = KMeans(n_clusters=k)\n",
      "    kmeans.fit(X)\n",
      "    meandistortions.append(sum(np.min(cdist(data[data.columns[0:]],\\\n",
      "                                            kmeans.cluster_centers_,\\\n",
      "                                            'euclidean'), axis=1)) / data[data.columns[0:]].shape[0])\n",
      "    \n",
      "    if k>1 :\n",
      "        \n",
      "        kmeans_model = KMeans(n_clusters=k).fit(X)\n",
      "        chindex.append(pseudo_F(numgrade, kmeans_model.labels_,kmeans.cluster_centers_))\n",
      "        print \"K=\",k,\" silhouette score\", metrics.silhouette_score(data[data.columns[0:]],\\\n",
      "                                                   kmeans_model.labels_,metric='euclidean')\n",
      " \n",
      "plt.plot(K, meandistortions, 'bx-')\n",
      "plt.xlabel('k')\n",
      "plt.ylabel('Average distortion')\n",
      "plt.title('Selecting k with the Elbow Method')\n",
      "plt.show()"
     ],
     "language": "python",
     "metadata": {},
     "outputs": [
      {
       "output_type": "stream",
       "stream": "stdout",
       "text": [
        " K= 2  silhouette score "
       ]
      },
      {
       "output_type": "stream",
       "stream": "stdout",
       "text": [
        "0.31142571861\n",
        "K="
       ]
      },
      {
       "output_type": "stream",
       "stream": "stdout",
       "text": [
        " 3  silhouette score "
       ]
      },
      {
       "output_type": "stream",
       "stream": "stdout",
       "text": [
        "0.234831097692\n",
        "K="
       ]
      },
      {
       "output_type": "stream",
       "stream": "stdout",
       "text": [
        " 4  silhouette score "
       ]
      },
      {
       "output_type": "stream",
       "stream": "stdout",
       "text": [
        "0.192590524857\n",
        "K="
       ]
      },
      {
       "output_type": "stream",
       "stream": "stdout",
       "text": [
        " 5  silhouette score "
       ]
      },
      {
       "output_type": "stream",
       "stream": "stdout",
       "text": [
        "0.186156013504\n",
        "K="
       ]
      },
      {
       "output_type": "stream",
       "stream": "stdout",
       "text": [
        " 6  silhouette score "
       ]
      },
      {
       "output_type": "stream",
       "stream": "stdout",
       "text": [
        "0.180436725281\n",
        "K="
       ]
      },
      {
       "output_type": "stream",
       "stream": "stdout",
       "text": [
        " 7  silhouette score "
       ]
      },
      {
       "output_type": "stream",
       "stream": "stdout",
       "text": [
        "0.142793341021\n",
        "K="
       ]
      },
      {
       "output_type": "stream",
       "stream": "stdout",
       "text": [
        " 8  silhouette score "
       ]
      },
      {
       "output_type": "stream",
       "stream": "stdout",
       "text": [
        "0.139362307549\n",
        "K="
       ]
      },
      {
       "output_type": "stream",
       "stream": "stdout",
       "text": [
        " 9  silhouette score "
       ]
      },
      {
       "output_type": "stream",
       "stream": "stdout",
       "text": [
        "0.134817518169\n"
       ]
      },
      {
       "metadata": {},
       "output_type": "display_data",
       "png": "[encoded data removed]",
       "text": [
        "<matplotlib.figure.Figure at 0x672c190>"
       ]
      }
     ],
     "prompt_number": 42
    },
    {
     "cell_type": "code",
     "collapsed": false,
     "input": [
      "plt.plot(range(2, 10), chindex, 'bx-')\n",
      "plt.xlabel('k')\n",
      "plt.ylabel('Calinski-Harabasz Index')\n",
      "plt.title('Selecting k with the CH index')\n",
      "plt.show()"
     ],
     "language": "python",
     "metadata": {},
     "outputs": [
      {
       "metadata": {},
       "output_type": "display_data",
       "png": "[encoded data removed]",
       "text": [
        "<matplotlib.figure.Figure at 0x676bc90>"
       ]
      }
     ],
     "prompt_number": 43
    },
    {
     "cell_type": "code",
     "collapsed": false,
     "input": [
      "def pseudo_F(X, labels, centroids):\n",
      "   \n",
      "    mean = np.mean(X,axis=0) \n",
      "    B = np.sum([ (c - mean)**2 for c in centroids])\n",
      "    W = np.sum([ (x-centroids[labels[i]])**2 \n",
      "                 for i, x in enumerate(X)])\n",
      "    c = len(centroids)\n",
      "    n = len(X)\n",
      "    return (B /(c-1))/(W/ (n-c))"
     ],
     "language": "python",
     "metadata": {},
     "outputs": [],
     "prompt_number": 47
    },
    {
     "cell_type": "code",
     "collapsed": false,
     "input": [
      "\n",
      "data = pd.read_csv('marketing_redacted.csv')\n",
      "data['Graduated'].replace(to_replace=('N','Y'), value=(0,1), inplace=True)\n",
      "col = [5,6,7,8,10]\n",
      "X_train, X_test, y_train, y_test = train_test_split(gpaDF[gpaDF.columns[col]], data['Graduated'])\n",
      "classifier = LogisticRegression()\n",
      "classifier.fit(X_train.reshape(len(X_train),len(col)), y_train)\n",
      "y_pred = classifier.predict(X_test.reshape(len(X_test),len(col)))\n",
      "print gpaDF.columns[col]\n",
      "print classifier.coef_"
     ],
     "language": "python",
     "metadata": {},
     "outputs": [
      {
       "output_type": "stream",
       "stream": "stdout",
       "text": [
        "Index([u'ACCT220', u'ACCT230', u'BLAW280', u'COMP100', u'ECON161'], dtype='object')\n",
        "[[ 0.  0.  0.  0.  0.]]\n"
       ]
      }
     ],
     "prompt_number": 53
    },
    {
     "cell_type": "code",
     "collapsed": false,
     "input": [
      "printContingencyTable(y_test,y_pred)\n",
      "scores = cross_val_score(classifier, X_train, y_train, cv=5)\n",
      "print 'Accuracy:  ', np.mean(scores)\n",
      "precisions = cross_val_score(classifier, X_train, y_train, cv=5, scoring='precision')\n",
      "print 'Precision: ', np.mean(precisions)\n",
      "recalls = cross_val_score(classifier, X_train, y_train, cv=5, scoring='recall')\n",
      "print 'Recall:    ', np.mean(recalls)\n",
      "f1s = cross_val_score(classifier, X_train, y_train, cv=5, scoring='f1')\n",
      "print 'F1:        ', np.mean(f1s)"
     ],
     "language": "python",
     "metadata": {},
     "outputs": [
      {
       "metadata": {},
       "output_type": "display_data",
       "png": "[encoded data removed]",
       "text": [
        "<matplotlib.figure.Figure at 0x64e02d0>"
       ]
      },
      {
       "output_type": "stream",
       "stream": "stdout",
       "text": [
        "[[679   0]\n",
        " [387   0]]\n",
        "Accuracy:   0.634429058678\n",
        "Precision:  0.0\n",
        "Recall:    "
       ]
      },
      {
       "output_type": "stream",
       "stream": "stdout",
       "text": [
        " 0.0\n",
        "F1:         0.0\n"
       ]
      },
      {
       "output_type": "stream",
       "stream": "stderr",
       "text": [
        "/home/mehrzadshabez/Enthought/Canopy_64bit/User/lib/python2.7/site-packages/sklearn/metrics/metrics.py:1771: UndefinedMetricWarning: Precision is ill-defined and being set to 0.0 due to no predicted samples.\n",
        "  'precision', 'predicted', average, warn_for)\n",
        "/home/mehrzadshabez/Enthought/Canopy_64bit/User/lib/python2.7/site-packages/sklearn/metrics/metrics.py:1771: UndefinedMetricWarning: F-score is ill-defined and being set to 0.0 due to no predicted samples.\n",
        "  'precision', 'predicted', average, warn_for)\n"
       ]
      }
     ],
     "prompt_number": 54
    },
    {
     "cell_type": "code",
     "collapsed": false,
     "input": [
      "#\n",
      "#Pull out Seyed's L1 k-means labels (w/ whatever the optimum # of clusters is) and use them to train a Random Forests classifier\n",
      "#\n",
      "\n",
      "from sklearn.ensemble import RandomForestClassifier\n",
      "col = [i for i in range(5,24)]\n",
      "col = [5,6,7,8,10]\n",
      "X_train, X_test, y_train, y_test = train_test_split(gpaDF[gpaDF.columns[col]], \"\"\"place Seyed's labels here\"\"\")\n",
      "\n",
      "classifier = RandomForestClassifier(n_estimators=10, random_state=0)\n",
      "printContingencyTable(y_test,y_pred)\n",
      "scores = cross_val_score(classifier, X_train, y_train, cv=5)\n",
      "print 'Accuracy:  ', np.mean(scores)\n",
      "precisions = cross_val_score(classifier, X_train, y_train, cv=5, scoring='precision')\n",
      "print 'Precision: ', np.mean(precisions)\n",
      "recalls = cross_val_score(classifier, X_train, y_train, cv=5, scoring='recall')\n",
      "print 'Recall:    ', np.mean(recalls)\n",
      "f1s = cross_val_score(classifier, X_train, y_train, cv=5, scoring='f1')\n",
      "print 'F1:        ', np.mean(f1s)"
     ],
     "language": "python",
     "metadata": {},
     "outputs": [
      {
       "ename": "ValueError",
       "evalue": "Found array with dim 25. Expected 4261",
       "output_type": "pyerr",
       "traceback": [
        "\u001b[1;31m---------------------------------------------------------------------------\u001b[0m\n\u001b[1;31mValueError\u001b[0m                                Traceback (most recent call last)",
        "\u001b[1;32m<ipython-input-56-0934aac4f4e5>\u001b[0m in \u001b[0;36m<module>\u001b[1;34m()\u001b[0m\n\u001b[0;32m      6\u001b[0m \u001b[0mcol\u001b[0m \u001b[1;33m=\u001b[0m \u001b[1;33m[\u001b[0m\u001b[0mi\u001b[0m \u001b[1;32mfor\u001b[0m \u001b[0mi\u001b[0m \u001b[1;32min\u001b[0m \u001b[0mrange\u001b[0m\u001b[1;33m(\u001b[0m\u001b[1;36m5\u001b[0m\u001b[1;33m,\u001b[0m\u001b[1;36m24\u001b[0m\u001b[1;33m)\u001b[0m\u001b[1;33m]\u001b[0m\u001b[1;33m\u001b[0m\u001b[0m\n\u001b[0;32m      7\u001b[0m \u001b[0mcol\u001b[0m \u001b[1;33m=\u001b[0m \u001b[1;33m[\u001b[0m\u001b[1;36m5\u001b[0m\u001b[1;33m,\u001b[0m\u001b[1;36m6\u001b[0m\u001b[1;33m,\u001b[0m\u001b[1;36m7\u001b[0m\u001b[1;33m,\u001b[0m\u001b[1;36m8\u001b[0m\u001b[1;33m,\u001b[0m\u001b[1;36m10\u001b[0m\u001b[1;33m]\u001b[0m\u001b[1;33m\u001b[0m\u001b[0m\n\u001b[1;32m----> 8\u001b[1;33m \u001b[0mX_train\u001b[0m\u001b[1;33m,\u001b[0m \u001b[0mX_test\u001b[0m\u001b[1;33m,\u001b[0m \u001b[0my_train\u001b[0m\u001b[1;33m,\u001b[0m \u001b[0my_test\u001b[0m \u001b[1;33m=\u001b[0m \u001b[0mtrain_test_split\u001b[0m\u001b[1;33m(\u001b[0m\u001b[0mgpaDF\u001b[0m\u001b[1;33m[\u001b[0m\u001b[0mgpaDF\u001b[0m\u001b[1;33m.\u001b[0m\u001b[0mcolumns\u001b[0m\u001b[1;33m[\u001b[0m\u001b[0mcol\u001b[0m\u001b[1;33m]\u001b[0m\u001b[1;33m]\u001b[0m\u001b[1;33m,\u001b[0m \u001b[1;34m\"\"\"place Seyed's labels here\"\"\"\u001b[0m\u001b[1;33m)\u001b[0m\u001b[1;33m\u001b[0m\u001b[0m\n\u001b[0m\u001b[0;32m      9\u001b[0m \u001b[1;33m\u001b[0m\u001b[0m\n\u001b[0;32m     10\u001b[0m \u001b[0mclassifier\u001b[0m \u001b[1;33m=\u001b[0m \u001b[0mRandomForestClassifier\u001b[0m\u001b[1;33m(\u001b[0m\u001b[0mn_estimators\u001b[0m\u001b[1;33m=\u001b[0m\u001b[1;36m10\u001b[0m\u001b[1;33m,\u001b[0m \u001b[0mrandom_state\u001b[0m\u001b[1;33m=\u001b[0m\u001b[1;36m0\u001b[0m\u001b[1;33m)\u001b[0m\u001b[1;33m\u001b[0m\u001b[0m\n",
        "\u001b[1;32m/home/mehrzadshabez/Enthought/Canopy_64bit/User/lib/python2.7/site-packages/sklearn/cross_validation.pyc\u001b[0m in \u001b[0;36mtrain_test_split\u001b[1;34m(*arrays, **options)\u001b[0m\n\u001b[0;32m   1554\u001b[0m         \u001b[0mtest_size\u001b[0m \u001b[1;33m=\u001b[0m \u001b[1;36m0.25\u001b[0m\u001b[1;33m\u001b[0m\u001b[0m\n\u001b[0;32m   1555\u001b[0m \u001b[1;33m\u001b[0m\u001b[0m\n\u001b[1;32m-> 1556\u001b[1;33m     \u001b[0marrays\u001b[0m \u001b[1;33m=\u001b[0m \u001b[0mcheck_arrays\u001b[0m\u001b[1;33m(\u001b[0m\u001b[1;33m*\u001b[0m\u001b[0marrays\u001b[0m\u001b[1;33m,\u001b[0m \u001b[1;33m**\u001b[0m\u001b[0moptions\u001b[0m\u001b[1;33m)\u001b[0m\u001b[1;33m\u001b[0m\u001b[0m\n\u001b[0m\u001b[0;32m   1557\u001b[0m     \u001b[0mn_samples\u001b[0m \u001b[1;33m=\u001b[0m \u001b[0m_num_samples\u001b[0m\u001b[1;33m(\u001b[0m\u001b[0marrays\u001b[0m\u001b[1;33m[\u001b[0m\u001b[1;36m0\u001b[0m\u001b[1;33m]\u001b[0m\u001b[1;33m)\u001b[0m\u001b[1;33m\u001b[0m\u001b[0m\n\u001b[0;32m   1558\u001b[0m     cv = ShuffleSplit(n_samples, test_size=test_size,\n",
        "\u001b[1;32m/home/mehrzadshabez/Enthought/Canopy_64bit/User/lib/python2.7/site-packages/sklearn/utils/validation.pyc\u001b[0m in \u001b[0;36mcheck_arrays\u001b[1;34m(*arrays, **options)\u001b[0m\n\u001b[0;32m    252\u001b[0m         \u001b[1;32mif\u001b[0m \u001b[0msize\u001b[0m \u001b[1;33m!=\u001b[0m \u001b[0mn_samples\u001b[0m\u001b[1;33m:\u001b[0m\u001b[1;33m\u001b[0m\u001b[0m\n\u001b[0;32m    253\u001b[0m             raise ValueError(\"Found array with dim %d. Expected %d\"\n\u001b[1;32m--> 254\u001b[1;33m                              % (size, n_samples))\n\u001b[0m\u001b[0;32m    255\u001b[0m \u001b[1;33m\u001b[0m\u001b[0m\n\u001b[0;32m    256\u001b[0m         \u001b[1;32mif\u001b[0m \u001b[1;32mnot\u001b[0m \u001b[0mallow_lists\u001b[0m \u001b[1;32mor\u001b[0m \u001b[0mhasattr\u001b[0m\u001b[1;33m(\u001b[0m\u001b[0marray\u001b[0m\u001b[1;33m,\u001b[0m \u001b[1;34m\"shape\"\u001b[0m\u001b[1;33m)\u001b[0m\u001b[1;33m:\u001b[0m\u001b[1;33m\u001b[0m\u001b[0m\n",
        "\u001b[1;31mValueError\u001b[0m: Found array with dim 25. Expected 4261"
       ]
      }
     ],
     "prompt_number": 56
    },
    {
     "cell_type": "code",
     "collapsed": false,
     "input": [
      "#\n",
      "#Show that labels are nearly as strong as the full feature set (i.e. analog of an enterotype for student performance)\n",
      "#\n",
      "\n",
      "col = [i for i in range(5,24)]\n",
      "col = [5,6,7,8,10]\n",
      "X_train, X_test, y_train, y_test = train_test_split(gpaDF[gpaDF.columns[col]], data['Graduated'])\n",
      "\n",
      "k=2\n",
      "classifier = KMeans(n_clusters=k, n_init=20)\n",
      "classifier.fit(X_train, y_train)\n",
      "y_pred = classifier.predict(X_test)\n",
      "#y_pred = [i*-1 +1 for i in y_pred]\n",
      "false_positive_rate, true_positive_rate, thresholds = roc_curve(y_test,y_pred)\n",
      "roc_auc = auc(false_positive_rate, true_positive_rate)\n",
      "plt.plot(false_positive_rate, true_positive_rate, 'b', label='AUC = %0.2f' %roc_auc)\n",
      "\n",
      "classifier = LogisticRegression()\n",
      "classifier.fit(X_train.reshape(len(X_train),len(col)), y_train)\n",
      "y_pred = classifier.predict_proba(X_test)[:,1]\n",
      "false_positive_rate, true_positive_rate, thresholds = roc_curve(y_test,y_pred)\n",
      "roc_auc = auc(false_positive_rate, true_positive_rate)\n",
      "plt.plot(false_positive_rate, true_positive_rate, 'b', label='AUC = %0.2f' %roc_auc)\n",
      "\n",
      "plt.title('Receiver Operating Characteristic')\n",
      "plt.legend(loc='lower right')\n",
      "plt.plot([0, 1], [0, 1], 'r--')\n",
      "plt.xlim([0.0, 1.0])\n",
      "plt.ylim([0.0, 1.0])\n",
      "plt.ylabel('False Negative Rate')\n",
      "plt.xlabel('True Positive Rate')\n",
      "plt.show()"
     ],
     "language": "python",
     "metadata": {},
     "outputs": [
      {
       "metadata": {},
       "output_type": "display_data",
       "png": "[encoded data removed]",
       "text": [
        "<matplotlib.figure.Figure at 0x5e42f10>"
       ]
      }
     ],
     "prompt_number": 58
    },
    {
     "cell_type": "code",
     "collapsed": false,
     "input": [
      "#\n",
      "#Do some basic inference on other metadata such as N_Terms or Inst_Cr\n",
      "#\n",
      "\n",
      "#plt.scatter(gpaDF['PSY321'],data['N_Terms'])\n",
      "gpa = [2.0,1.7,1.3,1.0,0.7,0.3,0.0,-0.3,-0.7,-1.0,-1.3,-1.7,-2.0]\n",
      "gpa = [[2.0,1.7,1.3,1.0,0.7,0.3,0.0],[-0.3,-0.7,-1.0,-1.3,-1.7,-2.0]]\n",
      "\n",
      "out = []\n",
      "for i in gpa:\n",
      "    out.append(gpaDF[gpaDF['PSY321'].isin(i)]['N_Terms'])\n",
      "\n",
      "fig = plt.figure(1, figsize=(9, 6))\n",
      "ax = fig.add_subplot(111) # Create an axes instance\n",
      "bp = ax.boxplot(out) # Create the boxplot\n",
      "fig.savefig('fig1.png', bbox_inches='tight') # Save the figure"
     ],
     "language": "python",
     "metadata": {},
     "outputs": [
      {
       "ename": "KeyError",
       "evalue": "'PSY321'",
       "output_type": "pyerr",
       "traceback": [
        "\u001b[1;31m---------------------------------------------------------------------------\u001b[0m\n\u001b[1;31mKeyError\u001b[0m                                  Traceback (most recent call last)",
        "\u001b[1;32m<ipython-input-52-abdbc7aa66fc>\u001b[0m in \u001b[0;36m<module>\u001b[1;34m()\u001b[0m\n\u001b[0;32m      9\u001b[0m \u001b[0mout\u001b[0m \u001b[1;33m=\u001b[0m \u001b[1;33m[\u001b[0m\u001b[1;33m]\u001b[0m\u001b[1;33m\u001b[0m\u001b[0m\n\u001b[0;32m     10\u001b[0m \u001b[1;32mfor\u001b[0m \u001b[0mi\u001b[0m \u001b[1;32min\u001b[0m \u001b[0mgpa\u001b[0m\u001b[1;33m:\u001b[0m\u001b[1;33m\u001b[0m\u001b[0m\n\u001b[1;32m---> 11\u001b[1;33m     \u001b[0mout\u001b[0m\u001b[1;33m.\u001b[0m\u001b[0mappend\u001b[0m\u001b[1;33m(\u001b[0m\u001b[0mgpaDF\u001b[0m\u001b[1;33m[\u001b[0m\u001b[0mgpaDF\u001b[0m\u001b[1;33m[\u001b[0m\u001b[1;34m'PSY321'\u001b[0m\u001b[1;33m]\u001b[0m\u001b[1;33m.\u001b[0m\u001b[0misin\u001b[0m\u001b[1;33m(\u001b[0m\u001b[0mi\u001b[0m\u001b[1;33m)\u001b[0m\u001b[1;33m]\u001b[0m\u001b[1;33m[\u001b[0m\u001b[1;34m'N_Terms'\u001b[0m\u001b[1;33m]\u001b[0m\u001b[1;33m)\u001b[0m\u001b[1;33m\u001b[0m\u001b[0m\n\u001b[0m\u001b[0;32m     12\u001b[0m \u001b[1;33m\u001b[0m\u001b[0m\n\u001b[0;32m     13\u001b[0m \u001b[0mfig\u001b[0m \u001b[1;33m=\u001b[0m \u001b[0mplt\u001b[0m\u001b[1;33m.\u001b[0m\u001b[0mfigure\u001b[0m\u001b[1;33m(\u001b[0m\u001b[1;36m1\u001b[0m\u001b[1;33m,\u001b[0m \u001b[0mfigsize\u001b[0m\u001b[1;33m=\u001b[0m\u001b[1;33m(\u001b[0m\u001b[1;36m9\u001b[0m\u001b[1;33m,\u001b[0m \u001b[1;36m6\u001b[0m\u001b[1;33m)\u001b[0m\u001b[1;33m)\u001b[0m\u001b[1;33m\u001b[0m\u001b[0m\n",
        "\u001b[1;32m/home/mehrzadshabez/Enthought/Canopy_64bit/User/lib/python2.7/site-packages/pandas/core/frame.pyc\u001b[0m in \u001b[0;36m__getitem__\u001b[1;34m(self, key)\u001b[0m\n\u001b[0;32m   1778\u001b[0m             \u001b[1;32mreturn\u001b[0m \u001b[0mself\u001b[0m\u001b[1;33m.\u001b[0m\u001b[0m_getitem_multilevel\u001b[0m\u001b[1;33m(\u001b[0m\u001b[0mkey\u001b[0m\u001b[1;33m)\u001b[0m\u001b[1;33m\u001b[0m\u001b[0m\n\u001b[0;32m   1779\u001b[0m         \u001b[1;32melse\u001b[0m\u001b[1;33m:\u001b[0m\u001b[1;33m\u001b[0m\u001b[0m\n\u001b[1;32m-> 1780\u001b[1;33m             \u001b[1;32mreturn\u001b[0m \u001b[0mself\u001b[0m\u001b[1;33m.\u001b[0m\u001b[0m_getitem_column\u001b[0m\u001b[1;33m(\u001b[0m\u001b[0mkey\u001b[0m\u001b[1;33m)\u001b[0m\u001b[1;33m\u001b[0m\u001b[0m\n\u001b[0m\u001b[0;32m   1781\u001b[0m \u001b[1;33m\u001b[0m\u001b[0m\n\u001b[0;32m   1782\u001b[0m     \u001b[1;32mdef\u001b[0m \u001b[0m_getitem_column\u001b[0m\u001b[1;33m(\u001b[0m\u001b[0mself\u001b[0m\u001b[1;33m,\u001b[0m \u001b[0mkey\u001b[0m\u001b[1;33m)\u001b[0m\u001b[1;33m:\u001b[0m\u001b[1;33m\u001b[0m\u001b[0m\n",
        "\u001b[1;32m/home/mehrzadshabez/Enthought/Canopy_64bit/User/lib/python2.7/site-packages/pandas/core/frame.pyc\u001b[0m in \u001b[0;36m_getitem_column\u001b[1;34m(self, key)\u001b[0m\n\u001b[0;32m   1785\u001b[0m         \u001b[1;31m# get column\u001b[0m\u001b[1;33m\u001b[0m\u001b[1;33m\u001b[0m\u001b[0m\n\u001b[0;32m   1786\u001b[0m         \u001b[1;32mif\u001b[0m \u001b[0mself\u001b[0m\u001b[1;33m.\u001b[0m\u001b[0mcolumns\u001b[0m\u001b[1;33m.\u001b[0m\u001b[0mis_unique\u001b[0m\u001b[1;33m:\u001b[0m\u001b[1;33m\u001b[0m\u001b[0m\n\u001b[1;32m-> 1787\u001b[1;33m             \u001b[1;32mreturn\u001b[0m \u001b[0mself\u001b[0m\u001b[1;33m.\u001b[0m\u001b[0m_get_item_cache\u001b[0m\u001b[1;33m(\u001b[0m\u001b[0mkey\u001b[0m\u001b[1;33m)\u001b[0m\u001b[1;33m\u001b[0m\u001b[0m\n\u001b[0m\u001b[0;32m   1788\u001b[0m \u001b[1;33m\u001b[0m\u001b[0m\n\u001b[0;32m   1789\u001b[0m         \u001b[1;31m# duplicate columns & possible reduce dimensionaility\u001b[0m\u001b[1;33m\u001b[0m\u001b[1;33m\u001b[0m\u001b[0m\n",
        "\u001b[1;32m/home/mehrzadshabez/Enthought/Canopy_64bit/User/lib/python2.7/site-packages/pandas/core/generic.pyc\u001b[0m in \u001b[0;36m_get_item_cache\u001b[1;34m(self, item)\u001b[0m\n\u001b[0;32m   1066\u001b[0m         \u001b[0mres\u001b[0m \u001b[1;33m=\u001b[0m \u001b[0mcache\u001b[0m\u001b[1;33m.\u001b[0m\u001b[0mget\u001b[0m\u001b[1;33m(\u001b[0m\u001b[0mitem\u001b[0m\u001b[1;33m)\u001b[0m\u001b[1;33m\u001b[0m\u001b[0m\n\u001b[0;32m   1067\u001b[0m         \u001b[1;32mif\u001b[0m \u001b[0mres\u001b[0m \u001b[1;32mis\u001b[0m \u001b[0mNone\u001b[0m\u001b[1;33m:\u001b[0m\u001b[1;33m\u001b[0m\u001b[0m\n\u001b[1;32m-> 1068\u001b[1;33m             \u001b[0mvalues\u001b[0m \u001b[1;33m=\u001b[0m \u001b[0mself\u001b[0m\u001b[1;33m.\u001b[0m\u001b[0m_data\u001b[0m\u001b[1;33m.\u001b[0m\u001b[0mget\u001b[0m\u001b[1;33m(\u001b[0m\u001b[0mitem\u001b[0m\u001b[1;33m)\u001b[0m\u001b[1;33m\u001b[0m\u001b[0m\n\u001b[0m\u001b[0;32m   1069\u001b[0m             \u001b[0mres\u001b[0m \u001b[1;33m=\u001b[0m \u001b[0mself\u001b[0m\u001b[1;33m.\u001b[0m\u001b[0m_box_item_values\u001b[0m\u001b[1;33m(\u001b[0m\u001b[0mitem\u001b[0m\u001b[1;33m,\u001b[0m \u001b[0mvalues\u001b[0m\u001b[1;33m)\u001b[0m\u001b[1;33m\u001b[0m\u001b[0m\n\u001b[0;32m   1070\u001b[0m             \u001b[0mcache\u001b[0m\u001b[1;33m[\u001b[0m\u001b[0mitem\u001b[0m\u001b[1;33m]\u001b[0m \u001b[1;33m=\u001b[0m \u001b[0mres\u001b[0m\u001b[1;33m\u001b[0m\u001b[0m\n",
        "\u001b[1;32m/home/mehrzadshabez/Enthought/Canopy_64bit/User/lib/python2.7/site-packages/pandas/core/internals.pyc\u001b[0m in \u001b[0;36mget\u001b[1;34m(self, item, fastpath)\u001b[0m\n\u001b[0;32m   2847\u001b[0m \u001b[1;33m\u001b[0m\u001b[0m\n\u001b[0;32m   2848\u001b[0m             \u001b[1;32mif\u001b[0m \u001b[1;32mnot\u001b[0m \u001b[0misnull\u001b[0m\u001b[1;33m(\u001b[0m\u001b[0mitem\u001b[0m\u001b[1;33m)\u001b[0m\u001b[1;33m:\u001b[0m\u001b[1;33m\u001b[0m\u001b[0m\n\u001b[1;32m-> 2849\u001b[1;33m                 \u001b[0mloc\u001b[0m \u001b[1;33m=\u001b[0m \u001b[0mself\u001b[0m\u001b[1;33m.\u001b[0m\u001b[0mitems\u001b[0m\u001b[1;33m.\u001b[0m\u001b[0mget_loc\u001b[0m\u001b[1;33m(\u001b[0m\u001b[0mitem\u001b[0m\u001b[1;33m)\u001b[0m\u001b[1;33m\u001b[0m\u001b[0m\n\u001b[0m\u001b[0;32m   2850\u001b[0m             \u001b[1;32melse\u001b[0m\u001b[1;33m:\u001b[0m\u001b[1;33m\u001b[0m\u001b[0m\n\u001b[0;32m   2851\u001b[0m                 \u001b[0mindexer\u001b[0m \u001b[1;33m=\u001b[0m \u001b[0mnp\u001b[0m\u001b[1;33m.\u001b[0m\u001b[0marange\u001b[0m\u001b[1;33m(\u001b[0m\u001b[0mlen\u001b[0m\u001b[1;33m(\u001b[0m\u001b[0mself\u001b[0m\u001b[1;33m.\u001b[0m\u001b[0mitems\u001b[0m\u001b[1;33m)\u001b[0m\u001b[1;33m)\u001b[0m\u001b[1;33m[\u001b[0m\u001b[0misnull\u001b[0m\u001b[1;33m(\u001b[0m\u001b[0mself\u001b[0m\u001b[1;33m.\u001b[0m\u001b[0mitems\u001b[0m\u001b[1;33m)\u001b[0m\u001b[1;33m]\u001b[0m\u001b[1;33m\u001b[0m\u001b[0m\n",
        "\u001b[1;32m/home/mehrzadshabez/Enthought/Canopy_64bit/User/lib/python2.7/site-packages/pandas/core/index.pyc\u001b[0m in \u001b[0;36mget_loc\u001b[1;34m(self, key)\u001b[0m\n\u001b[0;32m   1400\u001b[0m         \u001b[0mloc\u001b[0m \u001b[1;33m:\u001b[0m \u001b[0mint\u001b[0m \u001b[1;32mif\u001b[0m \u001b[0munique\u001b[0m \u001b[0mindex\u001b[0m\u001b[1;33m,\u001b[0m \u001b[0mpossibly\u001b[0m \u001b[0mslice\u001b[0m \u001b[1;32mor\u001b[0m \u001b[0mmask\u001b[0m \u001b[1;32mif\u001b[0m \u001b[1;32mnot\u001b[0m\u001b[1;33m\u001b[0m\u001b[0m\n\u001b[0;32m   1401\u001b[0m         \"\"\"\n\u001b[1;32m-> 1402\u001b[1;33m         \u001b[1;32mreturn\u001b[0m \u001b[0mself\u001b[0m\u001b[1;33m.\u001b[0m\u001b[0m_engine\u001b[0m\u001b[1;33m.\u001b[0m\u001b[0mget_loc\u001b[0m\u001b[1;33m(\u001b[0m\u001b[0m_values_from_object\u001b[0m\u001b[1;33m(\u001b[0m\u001b[0mkey\u001b[0m\u001b[1;33m)\u001b[0m\u001b[1;33m)\u001b[0m\u001b[1;33m\u001b[0m\u001b[0m\n\u001b[0m\u001b[0;32m   1403\u001b[0m \u001b[1;33m\u001b[0m\u001b[0m\n\u001b[0;32m   1404\u001b[0m     \u001b[1;32mdef\u001b[0m \u001b[0mget_value\u001b[0m\u001b[1;33m(\u001b[0m\u001b[0mself\u001b[0m\u001b[1;33m,\u001b[0m \u001b[0mseries\u001b[0m\u001b[1;33m,\u001b[0m \u001b[0mkey\u001b[0m\u001b[1;33m)\u001b[0m\u001b[1;33m:\u001b[0m\u001b[1;33m\u001b[0m\u001b[0m\n",
        "\u001b[1;32m/home/mehrzadshabez/Enthought/Canopy_64bit/User/lib/python2.7/site-packages/pandas/index.so\u001b[0m in \u001b[0;36mpandas.index.IndexEngine.get_loc (pandas/index.c:3812)\u001b[1;34m()\u001b[0m\n",
        "\u001b[1;32m/home/mehrzadshabez/Enthought/Canopy_64bit/User/lib/python2.7/site-packages/pandas/index.so\u001b[0m in \u001b[0;36mpandas.index.IndexEngine.get_loc (pandas/index.c:3692)\u001b[1;34m()\u001b[0m\n",
        "\u001b[1;32m/home/mehrzadshabez/Enthought/Canopy_64bit/User/lib/python2.7/site-packages/pandas/hashtable.so\u001b[0m in \u001b[0;36mpandas.hashtable.PyObjectHashTable.get_item (pandas/hashtable.c:12299)\u001b[1;34m()\u001b[0m\n",
        "\u001b[1;32m/home/mehrzadshabez/Enthought/Canopy_64bit/User/lib/python2.7/site-packages/pandas/hashtable.so\u001b[0m in \u001b[0;36mpandas.hashtable.PyObjectHashTable.get_item (pandas/hashtable.c:12250)\u001b[1;34m()\u001b[0m\n",
        "\u001b[1;31mKeyError\u001b[0m: 'PSY321'"
       ]
      }
     ],
     "prompt_number": 52
    },
    {
     "cell_type": "code",
     "collapsed": false,
     "input": [],
     "language": "python",
     "metadata": {},
     "outputs": []
    }
   ],
   "metadata": {}
  }
 ]
}