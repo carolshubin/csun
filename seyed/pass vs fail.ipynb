{
 "metadata": {
  "name": "",
  "signature": "sha256:bc8299f6f23e0d05a3dd8d9ff0193d19d4bd1d58466d740085e94b966367dc1f"
 },
 "nbformat": 3,
 "nbformat_minor": 0,
 "worksheets": [
  {
   "cells": [
    {
     "cell_type": "code",
     "collapsed": false,
     "input": [
      "import numpy as np\n",
      "%matplotlib inline\n",
      "import pandas as pd\n",
      "mathdata = pd.read_csv('math-redacted.csv')"
     ],
     "language": "python",
     "metadata": {},
     "outputs": [],
     "prompt_number": 1
    },
    {
     "cell_type": "code",
     "collapsed": false,
     "input": [
      "graduated = mathdata[mathdata['Graduated']==\"Y\"]\n",
      "notgraduated = mathdata[mathdata['Graduated']==\"N\"]"
     ],
     "language": "python",
     "metadata": {},
     "outputs": [],
     "prompt_number": 2
    },
    {
     "cell_type": "code",
     "collapsed": false,
     "input": [
      "graduated[0:33]\n",
      "names = graduated.columns[6] #this works; name of the columns\n",
      "#mathdata[names][248] #this works ; specific field \n",
      "count = [];\n",
      "record = {};\n",
      "\n",
      "total = 0 ;\n",
      "mathdata['Graduated'][0]\n",
      "for x in range(0, 799):\n",
      "         if mathdata['Graduated'][x] == 'Y' :\n",
      "            count.append(x)\n",
      "\n",
      "for y in range(6,120):\n",
      "    names = mathdata.columns[y]\n",
      "    total = 0;\n",
      "    for i in count:\n",
      "        total += mathdata[names][i]\n",
      "    record[y-6,1] = total\n",
      "    record[y-6,0] = names\n",
      "    #     print mathdata['Graduated'][2]\n",
      "print record[0,1]  # this works for disturbution graph\n"
     ],
     "language": "python",
     "metadata": {},
     "outputs": [
      {
       "output_type": "stream",
       "stream": "stdout",
       "text": [
        "7\n"
       ]
      }
     ],
     "prompt_number": 3
    },
    {
     "cell_type": "code",
     "collapsed": false,
     "input": [
      "import matplotlib.pyplot as plt\n",
      "units = []; \n",
      "xaxis = [];\n",
      "for i in range(0,114):\n",
      "        units.append(record[i,1])\n",
      "for j in range(0,114):\n",
      "        xaxis.append(j)\n",
      "#print record[1,0] just to make sure \n",
      "plt.scatter(xaxis,units)\n",
      "plt.show()"
     ],
     "language": "python",
     "metadata": {},
     "outputs": [
      {
       "metadata": {},
       "output_type": "display_data",
       "png": "[encoded data removed]",
       "text": [
        "<matplotlib.figure.Figure at 0x458bd50>"
       ]
      }
     ],
     "prompt_number": 5
    },
    {
     "cell_type": "code",
     "collapsed": false,
     "input": [],
     "language": "python",
     "metadata": {},
     "outputs": []
    }
   ],
   "metadata": {}
  }
 ]
}