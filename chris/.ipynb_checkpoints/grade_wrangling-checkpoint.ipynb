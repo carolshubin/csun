{
 "metadata": {
  "name": "",
  "signature": "sha256:2d0315d1730f3e5914a814ad513a885789c52911e1f4b1fb6767e588b56fa5e8"
 },
 "nbformat": 3,
 "nbformat_minor": 0,
 "worksheets": [
  {
   "cells": [
    {
     "cell_type": "heading",
     "level": 1,
     "metadata": {},
     "source": [
      "make a list of the major courses without labs"
     ]
    },
    {
     "cell_type": "code",
     "collapsed": false,
     "input": [
      "import string\n",
      "import pandas as pd\n",
      "import numpy as np\n",
      "import re\n",
      "import csv\n",
      "import pprint\n",
      "maj_list={'marketing':['ACCT220','ACCT230','BLAW280','COMP100', 'ECON160','ECON161','ENGL205' ,'MATH103','SOM120','MATH103','MATH150A','MATH150B',\n",
      "             'MATH140', 'BUS302','BUS302L','FIN303','MGT360','MKT304','SOM306','BUS497','MKT346','MKT348','MKT449',\n",
      "             'BUS480','BUS491','MKT498'],'criminology':['MATH140', 'SOC150', 'SOC202','SOC250', 'SOC364L', 'SOC368S', 'SOC408', 'SOC497L'],'sociology':['MATH140', 'SOC150', 'SOC202', 'SOC364L', 'SOC368S', 'SOC468S', 'SOC497L'],'finance':['ACCT220','ACCT230','ECON160','ECON161','COMP100','SOM120','ENGL205','BLAW280','MATH103','BUS302','BUS302L','FIN303','MGT360','MKT304','SOM306','BUS497','BLAW308','FIN352','FIN355']}\n",
      "maj_course = {i:[z for z in maj_list[i] if not z[-1]=='L'] for i in maj_list.keys()}\n"
     ],
     "language": "python",
     "metadata": {},
     "outputs": [],
     "prompt_number": 13
    },
    {
     "cell_type": "code",
     "collapsed": false,
     "input": [
      "maj_course"
     ],
     "language": "python",
     "metadata": {},
     "outputs": [
      {
       "metadata": {},
       "output_type": "pyout",
       "prompt_number": 12,
       "text": [
        "{'criminology': ['MATH140', 'SOC150', 'SOC202', 'SOC250', 'SOC368S', 'SOC408'],\n",
        " 'finance': ['ACCT220',\n",
        "  'ACCT230',\n",
        "  'ECON160',\n",
        "  'ECON161',\n",
        "  'COMP100',\n",
        "  'SOM120',\n",
        "  'ENGL205',\n",
        "  'BLAW280',\n",
        "  'MATH103',\n",
        "  'BUS302',\n",
        "  'FIN303',\n",
        "  'MGT360',\n",
        "  'MKT304',\n",
        "  'SOM306',\n",
        "  'BUS497',\n",
        "  'BLAW308',\n",
        "  'FIN352',\n",
        "  'FIN355'],\n",
        " 'marketing': ['ACCT220',\n",
        "  'ACCT230',\n",
        "  'BLAW280',\n",
        "  'COMP100',\n",
        "  'ECON160',\n",
        "  'ECON161',\n",
        "  'ENGL205',\n",
        "  'MATH103',\n",
        "  'SOM120',\n",
        "  'MATH103',\n",
        "  'MATH150A',\n",
        "  'MATH150B',\n",
        "  'MATH140',\n",
        "  'BUS302',\n",
        "  'FIN303',\n",
        "  'MGT360',\n",
        "  'MKT304',\n",
        "  'SOM306',\n",
        "  'BUS497',\n",
        "  'MKT346',\n",
        "  'MKT348',\n",
        "  'MKT449',\n",
        "  'BUS480',\n",
        "  'BUS491',\n",
        "  'MKT498'],\n",
        " 'sociology': ['MATH140', 'SOC150', 'SOC202', 'SOC368S', 'SOC468S']}"
       ]
      }
     ],
     "prompt_number": 12
    },
    {
     "cell_type": "code",
     "collapsed": false,
     "input": [
      "yowser = pd.read_csv('sociology_features.csv')\n",
      "yowser.head()"
     ],
     "language": "python",
     "metadata": {},
     "outputs": [
      {
       "html": [
        "<div style=\"max-height:1000px;max-width:1500px;overflow:auto;\">\n",
        "<table border=\"1\" class=\"dataframe\">\n",
        "  <thead>\n",
        "    <tr style=\"text-align: right;\">\n",
        "      <th></th>\n",
        "      <th>Student_Id</th>\n",
        "      <th>Course_Cd</th>\n",
        "      <th>Final_Grade</th>\n",
        "      <th>Pass</th>\n",
        "    </tr>\n",
        "  </thead>\n",
        "  <tbody>\n",
        "    <tr>\n",
        "      <th>0</th>\n",
        "      <td> 104980042</td>\n",
        "      <td>  SOC340</td>\n",
        "      <td>  F</td>\n",
        "      <td> 0</td>\n",
        "    </tr>\n",
        "    <tr>\n",
        "      <th>1</th>\n",
        "      <td> 104980042</td>\n",
        "      <td> MATH140</td>\n",
        "      <td>  F</td>\n",
        "      <td> 0</td>\n",
        "    </tr>\n",
        "    <tr>\n",
        "      <th>2</th>\n",
        "      <td> 104980042</td>\n",
        "      <td>  SOC150</td>\n",
        "      <td> C+</td>\n",
        "      <td> 1</td>\n",
        "    </tr>\n",
        "    <tr>\n",
        "      <th>3</th>\n",
        "      <td> 104980042</td>\n",
        "      <td> SOC368S</td>\n",
        "      <td> C-</td>\n",
        "      <td> 1</td>\n",
        "    </tr>\n",
        "    <tr>\n",
        "      <th>4</th>\n",
        "      <td> 104980042</td>\n",
        "      <td>  SOC368</td>\n",
        "      <td> C-</td>\n",
        "      <td> 1</td>\n",
        "    </tr>\n",
        "  </tbody>\n",
        "</table>\n",
        "</div>"
       ],
       "metadata": {},
       "output_type": "pyout",
       "prompt_number": 11,
       "text": [
        "   Student_Id Course_Cd Final_Grade  Pass\n",
        "0   104980042    SOC340           F     0\n",
        "1   104980042   MATH140           F     0\n",
        "2   104980042    SOC150          C+     1\n",
        "3   104980042   SOC368S          C-     1\n",
        "4   104980042    SOC368          C-     1"
       ]
      }
     ],
     "prompt_number": 11
    },
    {
     "cell_type": "code",
     "collapsed": false,
     "input": [
      "def pabble(a):    \n",
      "    df =  pd.read_csv(a+'_features.csv')\n",
      "    dfg = df.groupby('Student_Id')\n",
      "\n",
      "    y = maj_course[a]\n",
      "    yesi = y\n",
      "\n",
      "    d = dict(list(dfg))\n",
      "    students = dict.fromkeys(d)\n",
      "    for k in d.keys():\n",
      "      data = ['0:0NA' for i in range(len(y))]\n",
      "      for index, row in d[k].iterrows():\n",
      "        try: \n",
      "          x = re.split(r':',data[y.index(row['Course_Cd'])])\n",
      "          x[0] = str(int(x[0])+1)\n",
      "          x[1] = str(int(row['Pass']))+str(row['Final_Grade'] )\n",
      "          data[y.index(row['Course_Cd'])] = ':'.join(x)\n",
      "        except ValueError: continue  \n",
      "      students[k] = data\n",
      "\n",
      "    full_features = a+\"full.csv\"\n",
      "    with open(full_features, 'wb') as g:\n",
      "        w = csv.writer(g)\n",
      "        w.writerows(students.items())\n",
      "    ','.join(y)\n",
      "\n",
      "    f = open(full_features,'r')\n",
      "    g = open(a+\"_majors.csv\",'r')\n",
      "\n",
      "    m = f.readlines()\n",
      "    m = [i.strip() for i in m[1:]]\n",
      "    m = [re.split(r',',i) for i in m]\n",
      "\n",
      "    n = g.readlines()\n",
      "    n = [i.strip() for i in n[1:]]\n",
      "    n = [re.split(r',',i) for i in n]\n",
      "    f.close()\n",
      "    g.close()\n",
      "    \n",
      " \n",
      "\n",
      "    out = []\n",
      "\n",
      "    lookup = [int(j[0]) for j in m]\n",
      "    errors = []\n",
      "    for i in range(len(n)):\n",
      "        tmp = []\n",
      "        [tmp.append(j) for j in [n[i][3],n[i][1],n[i][4],n[i][5],n[i][6]]]\n",
      "        try: \n",
      "            id = lookup.index(int(n[i][0]))\n",
      "            [tmp.append(j) for j in m[id][1:]]\n",
      "            out.append(tmp)\n",
      "        except ValueError:\n",
      "            errors.append(int(n[i][0]))\n",
      "\n",
      "    f = open(a+'_redacted.csv', 'wb')\n",
      "    w = csv.writer(f)\n",
      "    w.writerows(out)\n",
      "    f.close()"
     ],
     "language": "python",
     "metadata": {},
     "outputs": [],
     "prompt_number": 38
    },
    {
     "cell_type": "code",
     "collapsed": false,
     "input": [
      "for a in maj_list.keys():\n",
      "    pabble(a)"
     ],
     "language": "python",
     "metadata": {},
     "outputs": [],
     "prompt_number": 39
    },
    {
     "cell_type": "heading",
     "level": 1,
     "metadata": {},
     "source": [
      "Row headings"
     ]
    },
    {
     "cell_type": "code",
     "collapsed": false,
     "input": [
      "for a in maj_list.keys():\n",
      "    print a\n",
      "    print [\"Major_Cd\",\"Graduated\",\"Transfer_Cr\",\"Inst_Cr\",\"Total_Cr\"]+maj_course[a]"
     ],
     "language": "python",
     "metadata": {},
     "outputs": [
      {
       "output_type": "stream",
       "stream": "stdout",
       "text": [
        "marketing\n",
        "['Major_Cd', 'Graduated', 'Transfer_Cr', 'Inst_Cr', 'Total_Cr', 'ACCT220', 'ACCT230', 'BLAW280', 'COMP100', 'ECON160', 'ECON161', 'ENGL205', 'MATH103', 'SOM120', 'MATH103', 'MATH150A', 'MATH150B', 'MATH140', 'BUS302', 'FIN303', 'MGT360', 'MKT304', 'SOM306', 'BUS497', 'MKT346', 'MKT348', 'MKT449', 'BUS480', 'BUS491', 'MKT498']\n",
        "sociology\n",
        "['Major_Cd', 'Graduated', 'Transfer_Cr', 'Inst_Cr', 'Total_Cr', 'MATH140', 'SOC150', 'SOC202', 'SOC368S', 'SOC468S']\n",
        "finance\n",
        "['Major_Cd', 'Graduated', 'Transfer_Cr', 'Inst_Cr', 'Total_Cr', 'ACCT220', 'ACCT230', 'ECON160', 'ECON161', 'COMP100', 'SOM120', 'ENGL205', 'BLAW280', 'MATH103', 'BUS302', 'FIN303', 'MGT360', 'MKT304', 'SOM306', 'BUS497', 'BLAW308', 'FIN352', 'FIN355']\n",
        "criminology\n",
        "['Major_Cd', 'Graduated', 'Transfer_Cr', 'Inst_Cr', 'Total_Cr', 'MATH140', 'SOC150', 'SOC202', 'SOC250', 'SOC368S', 'SOC408']\n"
       ]
      }
     ],
     "prompt_number": 41
    },
    {
     "cell_type": "code",
     "collapsed": false,
     "input": [],
     "language": "python",
     "metadata": {},
     "outputs": []
    }
   ],
   "metadata": {}
  }
 ]
}