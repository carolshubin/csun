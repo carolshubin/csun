{
 "metadata": {
  "name": "",
  "signature": "sha256:153a0bb68c733b488b47aa8e52065024452adf483f324f95c4f7f4b8c25863f1"
 },
 "nbformat": 3,
 "nbformat_minor": 0,
 "worksheets": [
  {
   "cells": [
    {
     "cell_type": "code",
     "collapsed": false,
     "input": [],
     "language": "python",
     "metadata": {},
     "outputs": []
    }
   ],
   "metadata": {}
  }
 ]
}