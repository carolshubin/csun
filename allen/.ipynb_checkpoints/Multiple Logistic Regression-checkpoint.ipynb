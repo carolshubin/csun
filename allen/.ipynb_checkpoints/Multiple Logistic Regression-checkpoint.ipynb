{
 "metadata": {
  "name": "",
  "signature": "sha256:3089bc395f385683f5b7d5e3fd8740aae60d380a6e415a1a45374fc6aaeb9cab"
 },
 "nbformat": 3,
 "nbformat_minor": 0,
 "worksheets": [
  {
   "cells": [
    {
     "cell_type": "code",
     "collapsed": false,
     "input": [
      "%matplotlib inline\n",
      "from __future__ import division\n",
      "import numpy as np\n",
      "import pandas as pd\n",
      "from sklearn.linear_model import LogisticRegression\n",
      "import sklearn\n",
      "from sklearn import metrics\n",
      "from sklearn.cross_validation import train_test_split, cross_val_score\n",
      "import matplotlib.pyplot as plt\n",
      "#from sklearn_pandas import DataFrameMapper, cross_val_score"
     ],
     "language": "python",
     "metadata": {},
     "outputs": [],
     "prompt_number": 64
    },
    {
     "cell_type": "code",
     "collapsed": false,
     "input": [
      "data = pd.read_csv('math-redacted.csv')\n",
      "data.head()"
     ],
     "language": "python",
     "metadata": {},
     "outputs": [
      {
       "html": [
        "<div style=\"max-height:1000px;max-width:1500px;overflow:auto;\">\n",
        "<table border=\"1\" class=\"dataframe\">\n",
        "  <thead>\n",
        "    <tr style=\"text-align: right;\">\n",
        "      <th></th>\n",
        "      <th>Major_Cd</th>\n",
        "      <th>N_Terms</th>\n",
        "      <th>Graduated</th>\n",
        "      <th>Transfer_Cr</th>\n",
        "      <th>Inst_Cr</th>\n",
        "      <th>Total_Cr</th>\n",
        "      <th>MATH102</th>\n",
        "      <th>MATH102L</th>\n",
        "      <th>MATH103</th>\n",
        "      <th>MATH103A1</th>\n",
        "      <th>...</th>\n",
        "      <th>MATH92</th>\n",
        "      <th>MATH93</th>\n",
        "      <th>MATH93OL</th>\n",
        "      <th>MATH94</th>\n",
        "      <th>MATH94A</th>\n",
        "      <th>MATH94B</th>\n",
        "      <th>MATH95</th>\n",
        "      <th>MATH96S</th>\n",
        "      <th>MATH998A1</th>\n",
        "      <th>MATH999A1</th>\n",
        "    </tr>\n",
        "  </thead>\n",
        "  <tbody>\n",
        "    <tr>\n",
        "      <th>0</th>\n",
        "      <td> 785845B</td>\n",
        "      <td>  4</td>\n",
        "      <td> N</td>\n",
        "      <td> 96.3</td>\n",
        "      <td> 31</td>\n",
        "      <td> 127.3</td>\n",
        "      <td> 0</td>\n",
        "      <td> 0</td>\n",
        "      <td> 1</td>\n",
        "      <td> 0</td>\n",
        "      <td>...</td>\n",
        "      <td> 0</td>\n",
        "      <td> 0</td>\n",
        "      <td> 0</td>\n",
        "      <td> 0</td>\n",
        "      <td> 0</td>\n",
        "      <td> 0</td>\n",
        "      <td> 0</td>\n",
        "      <td> 0</td>\n",
        "      <td> 0</td>\n",
        "      <td> 0</td>\n",
        "    </tr>\n",
        "    <tr>\n",
        "      <th>1</th>\n",
        "      <td> 785834B</td>\n",
        "      <td> 15</td>\n",
        "      <td> N</td>\n",
        "      <td> 70.0</td>\n",
        "      <td> 51</td>\n",
        "      <td> 121.0</td>\n",
        "      <td> 0</td>\n",
        "      <td> 0</td>\n",
        "      <td> 0</td>\n",
        "      <td> 0</td>\n",
        "      <td>...</td>\n",
        "      <td> 0</td>\n",
        "      <td> 0</td>\n",
        "      <td> 0</td>\n",
        "      <td> 0</td>\n",
        "      <td> 0</td>\n",
        "      <td> 0</td>\n",
        "      <td> 0</td>\n",
        "      <td> 0</td>\n",
        "      <td> 0</td>\n",
        "      <td> 0</td>\n",
        "    </tr>\n",
        "    <tr>\n",
        "      <th>2</th>\n",
        "      <td> 785834B</td>\n",
        "      <td>  1</td>\n",
        "      <td> N</td>\n",
        "      <td> 13.0</td>\n",
        "      <td> 24</td>\n",
        "      <td>  37.0</td>\n",
        "      <td> 0</td>\n",
        "      <td> 0</td>\n",
        "      <td> 0</td>\n",
        "      <td> 0</td>\n",
        "      <td>...</td>\n",
        "      <td> 0</td>\n",
        "      <td> 0</td>\n",
        "      <td> 0</td>\n",
        "      <td> 0</td>\n",
        "      <td> 0</td>\n",
        "      <td> 0</td>\n",
        "      <td> 0</td>\n",
        "      <td> 0</td>\n",
        "      <td> 0</td>\n",
        "      <td> 0</td>\n",
        "    </tr>\n",
        "    <tr>\n",
        "      <th>3</th>\n",
        "      <td> 785834B</td>\n",
        "      <td>  3</td>\n",
        "      <td> N</td>\n",
        "      <td>  0.0</td>\n",
        "      <td> 38</td>\n",
        "      <td>  38.0</td>\n",
        "      <td> 0</td>\n",
        "      <td> 0</td>\n",
        "      <td> 0</td>\n",
        "      <td> 0</td>\n",
        "      <td>...</td>\n",
        "      <td> 0</td>\n",
        "      <td> 0</td>\n",
        "      <td> 0</td>\n",
        "      <td> 0</td>\n",
        "      <td> 0</td>\n",
        "      <td> 0</td>\n",
        "      <td> 0</td>\n",
        "      <td> 0</td>\n",
        "      <td> 0</td>\n",
        "      <td> 0</td>\n",
        "    </tr>\n",
        "    <tr>\n",
        "      <th>4</th>\n",
        "      <td> 785845B</td>\n",
        "      <td>  4</td>\n",
        "      <td> N</td>\n",
        "      <td>  6.0</td>\n",
        "      <td> 46</td>\n",
        "      <td>  52.0</td>\n",
        "      <td> 0</td>\n",
        "      <td> 0</td>\n",
        "      <td> 0</td>\n",
        "      <td> 0</td>\n",
        "      <td>...</td>\n",
        "      <td> 0</td>\n",
        "      <td> 0</td>\n",
        "      <td> 0</td>\n",
        "      <td> 0</td>\n",
        "      <td> 0</td>\n",
        "      <td> 0</td>\n",
        "      <td> 1</td>\n",
        "      <td> 0</td>\n",
        "      <td> 0</td>\n",
        "      <td> 0</td>\n",
        "    </tr>\n",
        "  </tbody>\n",
        "</table>\n",
        "<p>5 rows \u00d7 121 columns</p>\n",
        "</div>"
       ],
       "metadata": {},
       "output_type": "pyout",
       "prompt_number": 65,
       "text": [
        "  Major_Cd  N_Terms Graduated  Transfer_Cr  Inst_Cr  Total_Cr  MATH102  \\\n",
        "0  785845B        4         N         96.3       31     127.3        0   \n",
        "1  785834B       15         N         70.0       51     121.0        0   \n",
        "2  785834B        1         N         13.0       24      37.0        0   \n",
        "3  785834B        3         N          0.0       38      38.0        0   \n",
        "4  785845B        4         N          6.0       46      52.0        0   \n",
        "\n",
        "   MATH102L  MATH103  MATH103A1    ...      MATH92  MATH93  MATH93OL  MATH94  \\\n",
        "0         0        1          0    ...           0       0         0       0   \n",
        "1         0        0          0    ...           0       0         0       0   \n",
        "2         0        0          0    ...           0       0         0       0   \n",
        "3         0        0          0    ...           0       0         0       0   \n",
        "4         0        0          0    ...           0       0         0       0   \n",
        "\n",
        "   MATH94A  MATH94B  MATH95  MATH96S  MATH998A1  MATH999A1  \n",
        "0        0        0       0        0          0          0  \n",
        "1        0        0       0        0          0          0  \n",
        "2        0        0       0        0          0          0  \n",
        "3        0        0       0        0          0          0  \n",
        "4        0        0       1        0          0          0  \n",
        "\n",
        "[5 rows x 121 columns]"
       ]
      }
     ],
     "prompt_number": 65
    },
    {
     "cell_type": "code",
     "collapsed": false,
     "input": [
      "data['Graduated'].replace(to_replace=('N','Y'), value=(0,1), inplace=True)"
     ],
     "language": "python",
     "metadata": {},
     "outputs": [],
     "prompt_number": 66
    },
    {
     "cell_type": "code",
     "collapsed": false,
     "input": [
      "data[data['Graduated']==1].head()"
     ],
     "language": "python",
     "metadata": {},
     "outputs": [
      {
       "html": [
        "<div style=\"max-height:1000px;max-width:1500px;overflow:auto;\">\n",
        "<table border=\"1\" class=\"dataframe\">\n",
        "  <thead>\n",
        "    <tr style=\"text-align: right;\">\n",
        "      <th></th>\n",
        "      <th>Major_Cd</th>\n",
        "      <th>N_Terms</th>\n",
        "      <th>Graduated</th>\n",
        "      <th>Transfer_Cr</th>\n",
        "      <th>Inst_Cr</th>\n",
        "      <th>Total_Cr</th>\n",
        "      <th>MATH102</th>\n",
        "      <th>MATH102L</th>\n",
        "      <th>MATH103</th>\n",
        "      <th>MATH103A1</th>\n",
        "      <th>...</th>\n",
        "      <th>MATH92</th>\n",
        "      <th>MATH93</th>\n",
        "      <th>MATH93OL</th>\n",
        "      <th>MATH94</th>\n",
        "      <th>MATH94A</th>\n",
        "      <th>MATH94B</th>\n",
        "      <th>MATH95</th>\n",
        "      <th>MATH96S</th>\n",
        "      <th>MATH998A1</th>\n",
        "      <th>MATH999A1</th>\n",
        "    </tr>\n",
        "  </thead>\n",
        "  <tbody>\n",
        "    <tr>\n",
        "      <th>74 </th>\n",
        "      <td> 785834B</td>\n",
        "      <td> 16</td>\n",
        "      <td> 1</td>\n",
        "      <td> 62</td>\n",
        "      <td>  83</td>\n",
        "      <td> 145</td>\n",
        "      <td> 1</td>\n",
        "      <td> 0</td>\n",
        "      <td> 0</td>\n",
        "      <td> 0</td>\n",
        "      <td>...</td>\n",
        "      <td> 0</td>\n",
        "      <td> 0</td>\n",
        "      <td> 0</td>\n",
        "      <td> 0</td>\n",
        "      <td> 0</td>\n",
        "      <td> 0</td>\n",
        "      <td> 0</td>\n",
        "      <td> 0</td>\n",
        "      <td> 0</td>\n",
        "      <td> 0</td>\n",
        "    </tr>\n",
        "    <tr>\n",
        "      <th>107</th>\n",
        "      <td> 785834B</td>\n",
        "      <td> 16</td>\n",
        "      <td> 1</td>\n",
        "      <td> 70</td>\n",
        "      <td>  51</td>\n",
        "      <td> 121</td>\n",
        "      <td> 1</td>\n",
        "      <td> 0</td>\n",
        "      <td> 0</td>\n",
        "      <td> 0</td>\n",
        "      <td>...</td>\n",
        "      <td> 0</td>\n",
        "      <td> 0</td>\n",
        "      <td> 0</td>\n",
        "      <td> 0</td>\n",
        "      <td> 0</td>\n",
        "      <td> 0</td>\n",
        "      <td> 0</td>\n",
        "      <td> 0</td>\n",
        "      <td> 0</td>\n",
        "      <td> 0</td>\n",
        "    </tr>\n",
        "    <tr>\n",
        "      <th>214</th>\n",
        "      <td> 785834B</td>\n",
        "      <td>  6</td>\n",
        "      <td> 1</td>\n",
        "      <td> 86</td>\n",
        "      <td>  72</td>\n",
        "      <td> 158</td>\n",
        "      <td> 0</td>\n",
        "      <td> 0</td>\n",
        "      <td> 1</td>\n",
        "      <td> 0</td>\n",
        "      <td>...</td>\n",
        "      <td> 0</td>\n",
        "      <td> 0</td>\n",
        "      <td> 0</td>\n",
        "      <td> 0</td>\n",
        "      <td> 0</td>\n",
        "      <td> 0</td>\n",
        "      <td> 0</td>\n",
        "      <td> 0</td>\n",
        "      <td> 0</td>\n",
        "      <td> 0</td>\n",
        "    </tr>\n",
        "    <tr>\n",
        "      <th>248</th>\n",
        "      <td> 785834B</td>\n",
        "      <td> 13</td>\n",
        "      <td> 1</td>\n",
        "      <td>  0</td>\n",
        "      <td> 160</td>\n",
        "      <td> 160</td>\n",
        "      <td> 1</td>\n",
        "      <td> 0</td>\n",
        "      <td> 0</td>\n",
        "      <td> 0</td>\n",
        "      <td>...</td>\n",
        "      <td> 0</td>\n",
        "      <td> 0</td>\n",
        "      <td> 0</td>\n",
        "      <td> 0</td>\n",
        "      <td> 0</td>\n",
        "      <td> 0</td>\n",
        "      <td> 0</td>\n",
        "      <td> 0</td>\n",
        "      <td> 0</td>\n",
        "      <td> 0</td>\n",
        "    </tr>\n",
        "    <tr>\n",
        "      <th>256</th>\n",
        "      <td> 785834B</td>\n",
        "      <td>  9</td>\n",
        "      <td> 1</td>\n",
        "      <td> 73</td>\n",
        "      <td>  51</td>\n",
        "      <td> 124</td>\n",
        "      <td> 0</td>\n",
        "      <td> 0</td>\n",
        "      <td> 0</td>\n",
        "      <td> 0</td>\n",
        "      <td>...</td>\n",
        "      <td> 0</td>\n",
        "      <td> 0</td>\n",
        "      <td> 0</td>\n",
        "      <td> 0</td>\n",
        "      <td> 0</td>\n",
        "      <td> 0</td>\n",
        "      <td> 0</td>\n",
        "      <td> 0</td>\n",
        "      <td> 0</td>\n",
        "      <td> 0</td>\n",
        "    </tr>\n",
        "  </tbody>\n",
        "</table>\n",
        "<p>5 rows \u00d7 121 columns</p>\n",
        "</div>"
       ],
       "metadata": {},
       "output_type": "pyout",
       "prompt_number": 5,
       "text": [
        "    Major_Cd  N_Terms  Graduated  Transfer_Cr  Inst_Cr  Total_Cr  MATH102  \\\n",
        "74   785834B       16          1           62       83       145        1   \n",
        "107  785834B       16          1           70       51       121        1   \n",
        "214  785834B        6          1           86       72       158        0   \n",
        "248  785834B       13          1            0      160       160        1   \n",
        "256  785834B        9          1           73       51       124        0   \n",
        "\n",
        "     MATH102L  MATH103  MATH103A1    ...      MATH92  MATH93  MATH93OL  \\\n",
        "74          0        0          0    ...           0       0         0   \n",
        "107         0        0          0    ...           0       0         0   \n",
        "214         0        1          0    ...           0       0         0   \n",
        "248         0        0          0    ...           0       0         0   \n",
        "256         0        0          0    ...           0       0         0   \n",
        "\n",
        "     MATH94  MATH94A  MATH94B  MATH95  MATH96S  MATH998A1  MATH999A1  \n",
        "74        0        0        0       0        0          0          0  \n",
        "107       0        0        0       0        0          0          0  \n",
        "214       0        0        0       0        0          0          0  \n",
        "248       0        0        0       0        0          0          0  \n",
        "256       0        0        0       0        0          0          0  \n",
        "\n",
        "[5 rows x 121 columns]"
       ]
      }
     ],
     "prompt_number": 5
    },
    {
     "cell_type": "code",
     "collapsed": false,
     "input": [
      "#applying regression to Graduated vs Total_Cr\n",
      "X_train, X_test, y_train, y_test = train_test_split(data['Total_Cr'], data['Graduated'])\n",
      "\n",
      "'''\n",
      "X_train=data['Total_Cr'].values\n",
      "X_test=data['Total_Cr'].values\n",
      "y_train=data['Graduated'].values\n",
      "y_test=data['Graduated'].values\n",
      "'''\n",
      "\n",
      "classifier = LogisticRegression()\n",
      "classifier.fit(X_train.reshape(len(X_train),1), y_train)\n",
      "y_pred = classifier.predict(X_test.reshape(len(X_test),1))\n",
      "\n",
      "confusion_matrix = metrics.confusion_matrix(y_test, y_pred)\n",
      "print \"confustion matrix numbers\"\n",
      "print(confusion_matrix)\n",
      "plt.matshow(confusion_matrix)\n",
      "plt.title('Confusion matrix')\n",
      "plt.colorbar()\n",
      "plt.ylabel('True label')\n",
      "plt.xlabel('Predicted label')\n"
     ],
     "language": "python",
     "metadata": {},
     "outputs": [
      {
       "output_type": "stream",
       "stream": "stdout",
       "text": [
        "confustion matrix numbers\n",
        "[[195   0]\n",
        " [  5   0]]\n"
       ]
      },
      {
       "metadata": {},
       "output_type": "pyout",
       "prompt_number": 67,
       "text": [
        "<matplotlib.text.Text at 0x10ce9d990>"
       ]
      },
      {
       "metadata": {},
       "output_type": "display_data",
       "png": "[encoded data removed]",
       "text": [
        "<matplotlib.figure.Figure at 0x10c79bed0>"
       ]
      }
     ],
     "prompt_number": 67
    },
    {
     "cell_type": "code",
     "collapsed": false,
     "input": [
      "#accuracy\n",
      "#fraction of the classifier's predictions that are correct\n",
      "# (Yy+Nn)/n or (TP + TN + FP + FN)\n",
      "\n",
      "metrics.accuracy_score(y_test, y_pred)"
     ],
     "language": "python",
     "metadata": {},
     "outputs": [
      {
       "metadata": {},
       "output_type": "pyout",
       "prompt_number": 68,
       "text": [
        "0.97499999999999998"
       ]
      }
     ],
     "prompt_number": 68
    },
    {
     "cell_type": "markdown",
     "metadata": {},
     "source": [
      "for some reason cross_val_score for other than accuracy gives me either zero error or just zeros"
     ]
    },
    {
     "cell_type": "code",
     "collapsed": false,
     "input": [
      "#cross validation accuracy scores\n",
      "scores_accuracy = cross_val_score(LogisticRegression(),data[list(['Total_Cr'])], data['Graduated'], cv=5)\n",
      "print scores_accuracy, scores_accuracy.mean()\n",
      "\n"
     ],
     "language": "python",
     "metadata": {},
     "outputs": [
      {
       "output_type": "stream",
       "stream": "stdout",
       "text": [
        "[ 0.92546584  0.95652174  0.95625     0.96226415  0.96226415] 0.952553175905\n"
       ]
      }
     ],
     "prompt_number": 69
    },
    {
     "cell_type": "code",
     "collapsed": false,
     "input": [
      "# Precision = TP/( TP+FP) in this case all ...\n",
      "#scores_precision = cross_val_score(LogisticRegression(),data[list(['Total_Cr'])], data['Graduated'].replace(to_replace=('N','Y'), value=(0,1)), cv=5, scoring='precision')\n",
      "scores_precision = cross_val_score(LogisticRegression(),data[list(['Total_Cr'])], data['Graduated'],cv=5,  scoring='precision')\n",
      "print scores_precision, scores_precision.mean()"
     ],
     "language": "python",
     "metadata": {},
     "outputs": [
      {
       "output_type": "stream",
       "stream": "stdout",
       "text": [
        "[ 0.  0.  0.  0.  0.] 0.0\n"
       ]
      }
     ],
     "prompt_number": 74
    },
    {
     "cell_type": "code",
     "collapsed": false,
     "input": [
      "# Recall = TP/ TP+FN\n",
      "scores_recall = cross_val_score(LogisticRegression(),data[list(['Total_Cr'])], data['Graduated'], cv=5, scoring='recall')\n",
      "print scores_recall, scores_recall.mean()"
     ],
     "language": "python",
     "metadata": {},
     "outputs": [
      {
       "output_type": "stream",
       "stream": "stdout",
       "text": [
        "[ 0.  0.  0.  0.  0.] 0.0\n"
       ]
      }
     ],
     "prompt_number": 10
    },
    {
     "cell_type": "code",
     "collapsed": false,
     "input": [
      "# accuracy, precision, recall, F1 measure, and ROC AUC score"
     ],
     "language": "python",
     "metadata": {},
     "outputs": [],
     "prompt_number": 195
    },
    {
     "cell_type": "markdown",
     "metadata": {},
     "source": [
      "The F1 measure is the harmonic mean, or weighted average, of the precision and recall scores. Also called the f-measure or the f-score, the F1 score is calculated using the following formula:\n",
      "F1=2 P*R / P+R"
     ]
    },
    {
     "cell_type": "code",
     "collapsed": false,
     "input": [
      "fs1 = cross_val_score(LogisticRegression(),data[list(['Total_Cr'])], data['Graduated'], cv=5,scoring='f1')\n",
      "print fs1, fs1.mean()"
     ],
     "language": "python",
     "metadata": {},
     "outputs": [
      {
       "ename": "TypeError",
       "evalue": "cross_val_score() got an unexpected keyword argument 'pos_label'",
       "output_type": "pyerr",
       "traceback": [
        "\u001b[0;31m---------------------------------------------------------------------------\u001b[0m\n\u001b[0;31mTypeError\u001b[0m                                 Traceback (most recent call last)",
        "\u001b[0;32m<ipython-input-75-a88667d9f647>\u001b[0m in \u001b[0;36m<module>\u001b[0;34m()\u001b[0m\n\u001b[0;32m----> 1\u001b[0;31m \u001b[0mfs1\u001b[0m \u001b[0;34m=\u001b[0m \u001b[0mcross_val_score\u001b[0m\u001b[0;34m(\u001b[0m\u001b[0mLogisticRegression\u001b[0m\u001b[0;34m(\u001b[0m\u001b[0;34m)\u001b[0m\u001b[0;34m,\u001b[0m\u001b[0mdata\u001b[0m\u001b[0;34m[\u001b[0m\u001b[0mlist\u001b[0m\u001b[0;34m(\u001b[0m\u001b[0;34m[\u001b[0m\u001b[0;34m'Total_Cr'\u001b[0m\u001b[0;34m]\u001b[0m\u001b[0;34m)\u001b[0m\u001b[0;34m]\u001b[0m\u001b[0;34m,\u001b[0m \u001b[0mdata\u001b[0m\u001b[0;34m[\u001b[0m\u001b[0;34m'Graduated'\u001b[0m\u001b[0;34m]\u001b[0m\u001b[0;34m,\u001b[0m \u001b[0mcv\u001b[0m\u001b[0;34m=\u001b[0m\u001b[0;36m5\u001b[0m\u001b[0;34m,\u001b[0m \u001b[0mpos_label\u001b[0m\u001b[0;34m=\u001b[0m\u001b[0;36m0\u001b[0m\u001b[0;34m,\u001b[0m\u001b[0mscoring\u001b[0m\u001b[0;34m=\u001b[0m\u001b[0;34m'f1'\u001b[0m\u001b[0;34m)\u001b[0m\u001b[0;34m\u001b[0m\u001b[0m\n\u001b[0m\u001b[1;32m      2\u001b[0m \u001b[0;32mprint\u001b[0m \u001b[0mfs1\u001b[0m\u001b[0;34m,\u001b[0m \u001b[0mfs1\u001b[0m\u001b[0;34m.\u001b[0m\u001b[0mmean\u001b[0m\u001b[0;34m(\u001b[0m\u001b[0;34m)\u001b[0m\u001b[0;34m\u001b[0m\u001b[0m\n",
        "\u001b[0;31mTypeError\u001b[0m: cross_val_score() got an unexpected keyword argument 'pos_label'"
       ]
      }
     ],
     "prompt_number": 75
    },
    {
     "cell_type": "markdown",
     "metadata": {},
     "source": [
      "F= FP / TN + FP"
     ]
    },
    {
     "cell_type": "code",
     "collapsed": false,
     "input": [
      "#several metrics together\n",
      "print (metrics.classification_report(y_test, y_pred))"
     ],
     "language": "python",
     "metadata": {},
     "outputs": [
      {
       "output_type": "stream",
       "stream": "stdout",
       "text": [
        "             precision    recall  f1-score   support\n",
        "\n",
        "          0       0.98      0.99      0.99       197\n",
        "          1       0.00      0.00      0.00         3\n",
        "\n",
        "avg / total       0.97      0.98      0.98       200\n",
        "\n"
       ]
      }
     ],
     "prompt_number": 12
    },
    {
     "cell_type": "code",
     "collapsed": false,
     "input": [
      "#plotting ROC curve\n",
      "false_positive_rate, recall, thresholds = metrics.roc_curve(y_test,y_pred)\n",
      "roc_auc = metrics.auc(false_positive_rate, recall)\n",
      "plt.title('Receiver Operating Characteristic')\n",
      "plt.plot(false_positive_rate, recall, 'b', label='AUC = %0.2f' %roc_auc)\n",
      "plt.legend(loc='lower right')\n",
      "plt.plot([0, 1], [0, 1], 'r--')\n",
      "plt.xlim([0.0, 1.0])\n",
      "plt.ylim([0.0, 1.0])\n",
      "plt.ylabel('Recall')\n",
      "plt.xlabel('Fall-out')\n",
      "plt.show()"
     ],
     "language": "python",
     "metadata": {},
     "outputs": [
      {
       "metadata": {},
       "output_type": "display_data",
       "png": "[encoded data removed]",
       "text": [
        "<matplotlib.figure.Figure at 0x10bf6ff10>"
       ]
      }
     ],
     "prompt_number": 13
    },
    {
     "cell_type": "code",
     "collapsed": false,
     "input": [
      "data[['N_Terms','Transfer_Cr','Total_Cr']].head()"
     ],
     "language": "python",
     "metadata": {},
     "outputs": [
      {
       "html": [
        "<div style=\"max-height:1000px;max-width:1500px;overflow:auto;\">\n",
        "<table border=\"1\" class=\"dataframe\">\n",
        "  <thead>\n",
        "    <tr style=\"text-align: right;\">\n",
        "      <th></th>\n",
        "      <th>N_Terms</th>\n",
        "      <th>Transfer_Cr</th>\n",
        "      <th>Total_Cr</th>\n",
        "    </tr>\n",
        "  </thead>\n",
        "  <tbody>\n",
        "    <tr>\n",
        "      <th>0</th>\n",
        "      <td>  4</td>\n",
        "      <td> 96.3</td>\n",
        "      <td> 127.3</td>\n",
        "    </tr>\n",
        "    <tr>\n",
        "      <th>1</th>\n",
        "      <td> 15</td>\n",
        "      <td> 70.0</td>\n",
        "      <td> 121.0</td>\n",
        "    </tr>\n",
        "    <tr>\n",
        "      <th>2</th>\n",
        "      <td>  1</td>\n",
        "      <td> 13.0</td>\n",
        "      <td>  37.0</td>\n",
        "    </tr>\n",
        "    <tr>\n",
        "      <th>3</th>\n",
        "      <td>  3</td>\n",
        "      <td>  0.0</td>\n",
        "      <td>  38.0</td>\n",
        "    </tr>\n",
        "    <tr>\n",
        "      <th>4</th>\n",
        "      <td>  4</td>\n",
        "      <td>  6.0</td>\n",
        "      <td>  52.0</td>\n",
        "    </tr>\n",
        "  </tbody>\n",
        "</table>\n",
        "</div>"
       ],
       "metadata": {},
       "output_type": "pyout",
       "prompt_number": 14,
       "text": [
        "   N_Terms  Transfer_Cr  Total_Cr\n",
        "0        4         96.3     127.3\n",
        "1       15         70.0     121.0\n",
        "2        1         13.0      37.0\n",
        "3        3          0.0      38.0\n",
        "4        4          6.0      52.0"
       ]
      }
     ],
     "prompt_number": 14
    },
    {
     "cell_type": "code",
     "collapsed": false,
     "input": [
      "#multiple regression on Graduated vs. 'N_Terms','Transfer_Cr','Total_Cr'\n",
      "#performs slightly better than random guessing\n",
      "\n",
      "X_train_ml, X_test_ml, y_train_ml, y_test_ml = train_test_split(data[['N_Terms','Transfer_Cr','Total_Cr']], data['Graduated'])\n",
      "\n",
      "'''\n",
      "X_train=data['Total_Cr'].values\n",
      "X_test=data['Total_Cr'].values\n",
      "y_train=data['Graduated'].values\n",
      "y_test=data['Graduated'].values\n",
      "'''\n",
      "\n",
      "classifier = LogisticRegression()\n",
      "classifier.fit(X_train_ml, y_train_ml)\n",
      "y_pred_ml = classifier.predict(X_test_ml)\n",
      "\n",
      "confusion_matrix = metrics.confusion_matrix(y_test_ml, y_pred_ml)\n",
      "print(confusion_matrix)\n",
      "plt.matshow(confusion_matrix)\n",
      "plt.title('Confusion matrix')\n",
      "plt.colorbar()\n",
      "plt.ylabel('True label')\n",
      "plt.xlabel('Predicted label')\n",
      "#_________Pred_n=P Pred_y=N\n",
      "#  Ntrue_P\n",
      "#  Ytrue_N\n",
      "X_train_ml"
     ],
     "language": "python",
     "metadata": {},
     "outputs": [
      {
       "output_type": "stream",
       "stream": "stdout",
       "text": [
        "[[190   2]\n",
        " [  6   2]]\n"
       ]
      },
      {
       "metadata": {},
       "output_type": "pyout",
       "prompt_number": 15,
       "text": [
        "array([[   2.,   70.,   76.],\n",
        "       [   1.,    9.,   19.],\n",
        "       [   2.,   70.,   83.],\n",
        "       ..., \n",
        "       [   2.,   61.,   61.],\n",
        "       [   6.,    6.,   46.],\n",
        "       [   9.,   56.,  103.]])"
       ]
      },
      {
       "metadata": {},
       "output_type": "display_data",
       "png": "[encoded data removed]",
       "text": [
        "<matplotlib.figure.Figure at 0x10bf6cb90>"
       ]
      }
     ],
     "prompt_number": 15
    },
    {
     "cell_type": "code",
     "collapsed": false,
     "input": [
      "scores_accuracy_ml = cross_val_score(LogisticRegression(),data[['N_Terms','Transfer_Cr','Total_Cr']], data['Graduated'], cv=5)\n",
      "print scores_accuracy, scores_accuracy.mean()"
     ],
     "language": "python",
     "metadata": {},
     "outputs": [
      {
       "output_type": "stream",
       "stream": "stdout",
       "text": [
        "[ 0.92546584  0.95652174  0.95625     0.96226415  0.96226415] 0.952553175905\n"
       ]
      }
     ],
     "prompt_number": 16
    },
    {
     "cell_type": "code",
     "collapsed": false,
     "input": [
      "scores_precision_ml = cross_val_score(LogisticRegression(),data[['N_Terms','Transfer_Cr','Total_Cr']], data['Graduated'], cv=5, scoring='precision')\n",
      "print scores_precision, scores_precision.mean()\n",
      "#since the previous one always gives me zeros, i tried to go one by one: metrics.precision_score\n",
      "metrics.precision_score(y_test_ml, y_pred_ml, labels=None, pos_label=1)"
     ],
     "language": "python",
     "metadata": {},
     "outputs": [
      {
       "output_type": "stream",
       "stream": "stdout",
       "text": [
        "[ 0.  0.  0.  0.  0.] 0.0\n"
       ]
      },
      {
       "metadata": {},
       "output_type": "pyout",
       "prompt_number": 17,
       "text": [
        "0.5"
       ]
      }
     ],
     "prompt_number": 17
    },
    {
     "cell_type": "code",
     "collapsed": false,
     "input": [
      "scores_recall_ml = cross_val_score(LogisticRegression(),data[['N_Terms','Transfer_Cr','Total_Cr']], data['Graduated'], cv=5, scoring='recall')\n",
      "print scores_recall, scores_recall.mean()\n",
      "metrics.recall_score(y_test_ml, y_pred_ml, labels=None, pos_label=1)"
     ],
     "language": "python",
     "metadata": {},
     "outputs": [
      {
       "output_type": "stream",
       "stream": "stdout",
       "text": [
        "[ 0.  0.  0.  0.  0.] 0.0\n"
       ]
      },
      {
       "metadata": {},
       "output_type": "pyout",
       "prompt_number": 18,
       "text": [
        "0.25"
       ]
      }
     ],
     "prompt_number": 18
    },
    {
     "cell_type": "code",
     "collapsed": false,
     "input": [
      "fs1_ml = cross_val_score(LogisticRegression(),data[['N_Terms','Transfer_Cr','Total_Cr']], data['Graduated'], cv=5, scoring='f1')\n",
      "print fs1, fs1.mean()\n",
      "metrics.f1_score(y_test_ml, y_pred_ml, labels=None, pos_label=1)"
     ],
     "language": "python",
     "metadata": {},
     "outputs": [
      {
       "output_type": "stream",
       "stream": "stdout",
       "text": [
        "[ 0.  0.  0.  0.  0.] 0.0\n"
       ]
      },
      {
       "metadata": {},
       "output_type": "pyout",
       "prompt_number": 19,
       "text": [
        "0.33333333333333331"
       ]
      }
     ],
     "prompt_number": 19
    },
    {
     "cell_type": "code",
     "collapsed": false,
     "input": [
      "print(metrics.classification_report(y_test_ml, y_pred_ml))"
     ],
     "language": "python",
     "metadata": {},
     "outputs": [
      {
       "output_type": "stream",
       "stream": "stdout",
       "text": [
        "             precision    recall  f1-score   support\n",
        "\n",
        "          0       0.97      0.99      0.98       192\n",
        "          1       0.50      0.25      0.33         8\n",
        "\n",
        "avg / total       0.95      0.96      0.95       200\n",
        "\n"
       ]
      }
     ],
     "prompt_number": 20
    },
    {
     "cell_type": "code",
     "collapsed": false,
     "input": [
      "false_positive_rate_ml, recall_ml, thresholds_ml = metrics.roc_curve(y_test_ml,y_pred_ml)\n",
      "roc_auc_ml = metrics.auc(false_positive_rate_ml, recall_ml)\n",
      "plt.title('Receiver Operating Characteristic')\n",
      "plt.plot(false_positive_rate_ml, recall_ml, 'b', label='AUC = %0.2f' %roc_auc_ml)\n",
      "plt.legend(loc='lower right')\n",
      "plt.plot([0, 1], [0, 1], 'r--')\n",
      "plt.xlim([0.0, 1.0])\n",
      "plt.ylim([0.0, 1.0])\n",
      "plt.ylabel('Recall')\n",
      "plt.xlabel('Fall-out')\n",
      "plt.show()"
     ],
     "language": "python",
     "metadata": {},
     "outputs": [
      {
       "metadata": {},
       "output_type": "display_data",
       "png": "[encoded data removed]",
       "text": [
        "<matplotlib.figure.Figure at 0x10c7bcf50>"
       ]
      }
     ],
     "prompt_number": 21
    },
    {
     "cell_type": "code",
     "collapsed": false,
     "input": [
      "#will try multiple regression on the class columns\n",
      "\n",
      "data.columns[6:]"
     ],
     "language": "python",
     "metadata": {},
     "outputs": [
      {
       "metadata": {},
       "output_type": "pyout",
       "prompt_number": 22,
       "text": [
        "Index([u'MATH102', u'MATH102L', u'MATH103', u'MATH103A1', u'MATH103L', u'MATH104', u'MATH104L', u'MATH105', u'MATH105L', u'MATH106', u'MATH131', u'MATH140', u'MATH140A1', u'MATH140OL', u'MATH150A', u'MATH150AA1', u'MATH150AL', u'MATH150B', u'MATH150BA1', u'MATH150BL', u'MATH196HL', u'MATH196LOL', u'MATH196NL', u'MATH210', u'MATH250', u'MATH255A', u'MATH255B', u'MATH262', u'MATH280', u'MATH310', u'MATH310L', u'MATH311', u'MATH312', u'MATH320', u'MATH326', u'MATH331', u'MATH331OL', u'MATH340', u'MATH341', u'MATH350', u'MATH351', u'MATH360', u'MATH364', u'MATH366', u'MATH370', u'MATH373', u'MATH380', u'MATH382', u'MATH382L', u'MATH391', u'MATH392I1', u'MATH396CL', u'MATH396-1', u'MATH396-1L', u'MATH396MA', u'MATH411', u'MATH412', u'MATH440A', u'MATH440B', u'MATH441', u'MATH450', u'MATH455', u'MATH460', u'MATH462', u'MATH463', u'MATH464', u'MATH470', u'MATH480', u'MATH481A', u'MATH482', u'MATH483', u'MATH490', u'MATH493', u'MATH494', u'MATH496-1', u'MATH496-1L', u'MATH499A', u'MATH499B', u'MATH499C', u'MATH501', u'MATH512A', u'MATH514A', u'MATH540', u'MATH542A', u'MATH542B', u'MATH542C', u'MATH542D', u'MATH550', u'MATH552', u'MATH560', u'MATH570', u'MATH571', u'MATH581', u'MATH582A', u'MATH582B', u'MATH582D', u'MATH592A', u'MATH592D', u'MATH599C', u'MATH625', ...], dtype='object')"
       ]
      }
     ],
     "prompt_number": 22
    },
    {
     "cell_type": "code",
     "collapsed": false,
     "input": [
      "X_raw=data[data.columns[6:]]\n",
      "X_train_ml, X_test_ml, y_train_ml, y_test_ml = train_test_split(X_raw, data['Graduated'],test_size=0.5)\n",
      "\n",
      "'''\n",
      "X_train=data['Total_Cr'].values\n",
      "X_test=data['Total_Cr'].values\n",
      "y_train=data['Graduated'].values\n",
      "y_test=data['Graduated'].values\n",
      "'''\n",
      "\n",
      "classifier = LogisticRegression()\n",
      "classifier.fit(X_train_ml, y_train_ml)\n",
      "y_pred_ml = classifier.predict(X_test_ml)\n",
      "\n",
      "confusion_matrix = metrics.confusion_matrix(y_test_ml, y_pred_ml)\n",
      "print(confusion_matrix)\n",
      "plt.matshow(confusion_matrix)\n",
      "plt.title('Confusion matrix')\n",
      "plt.colorbar()\n",
      "plt.ylabel('True label')\n",
      "plt.xlabel('Predicted label')"
     ],
     "language": "python",
     "metadata": {},
     "outputs": [
      {
       "output_type": "stream",
       "stream": "stdout",
       "text": [
        "[[376   6]\n",
        " [ 10   8]]\n"
       ]
      },
      {
       "metadata": {},
       "output_type": "pyout",
       "prompt_number": 23,
       "text": [
        "<matplotlib.text.Text at 0x10c5b4590>"
       ]
      },
      {
       "metadata": {},
       "output_type": "display_data",
       "png": "[encoded data removed]",
       "text": [
        "<matplotlib.figure.Figure at 0x10c569c90>"
       ]
      }
     ],
     "prompt_number": 23
    },
    {
     "cell_type": "code",
     "collapsed": false,
     "input": [
      "print(metrics.classification_report(y_test_ml, y_pred_ml))"
     ],
     "language": "python",
     "metadata": {},
     "outputs": [
      {
       "output_type": "stream",
       "stream": "stdout",
       "text": [
        "             precision    recall  f1-score   support\n",
        "\n",
        "          0       0.97      0.98      0.98       382\n",
        "          1       0.57      0.44      0.50        18\n",
        "\n",
        "avg / total       0.96      0.96      0.96       400\n",
        "\n"
       ]
      }
     ],
     "prompt_number": 24
    },
    {
     "cell_type": "code",
     "collapsed": false,
     "input": [
      "classifier.score(X_test_ml, y_test_ml) #accuracy"
     ],
     "language": "python",
     "metadata": {},
     "outputs": [
      {
       "metadata": {},
       "output_type": "pyout",
       "prompt_number": 25,
       "text": [
        "0.95999999999999996"
       ]
      }
     ],
     "prompt_number": 25
    },
    {
     "cell_type": "code",
     "collapsed": false,
     "input": [
      "#ROC curve looks better, but far from being perfect\n",
      "false_positive_rate_ml, recall_ml, thresholds_ml = metrics.roc_curve(y_test_ml,y_pred_ml)\n",
      "roc_auc_ml = metrics.auc(false_positive_rate_ml, recall_ml)\n",
      "plt.title('Receiver Operating Characteristic')\n",
      "plt.plot(false_positive_rate_ml, recall_ml, 'b', label='AUC = %0.2f' %roc_auc_ml)\n",
      "plt.legend(loc='lower right')\n",
      "plt.plot([0, 1], [0, 1], 'r--')\n",
      "plt.xlim([0.0, 1.0])\n",
      "plt.ylim([0.0, 1.0])\n",
      "plt.ylabel('Recall')\n",
      "plt.xlabel('Fall-out')\n",
      "plt.show()"
     ],
     "language": "python",
     "metadata": {},
     "outputs": [
      {
       "metadata": {},
       "output_type": "display_data",
       "png": "[encoded data removed]",
       "text": [
        "<matplotlib.figure.Figure at 0x10cc08b50>"
       ]
      }
     ],
     "prompt_number": 26
    },
    {
     "cell_type": "code",
     "collapsed": false,
     "input": [
      "#using PCA to reduce dimention of vertor space and plot it in 2D\n",
      "from sklearn.decomposition import PCA\n",
      "pca = PCA(n_components=2)\n",
      "reduced_X = pca.fit_transform(X_raw)\n",
      "y=data['Graduated']\n",
      "\n",
      "red_x, red_y = [], []\n",
      "blue_x, blue_y = [], []\n",
      "green_x, green_y = [], []\n",
      "for i in range(len(reduced_X)):\n",
      "    if y[i] == 0:\n",
      "        red_x.append(reduced_X[i][0])\n",
      "        red_y.append(reduced_X[i][1])\n",
      "    elif y[i] == 1:\n",
      "        blue_x.append(reduced_X[i][0])\n",
      "        blue_y.append(reduced_X[i][1])\n",
      "    else:\n",
      "        green_x.append(reduced_X[i][0])\n",
      "        green_y.append(reduced_X[i][1])\n",
      "plt.scatter(red_x, red_y, c='r', marker='x')\n",
      "plt.scatter(blue_x, blue_y, c='b', marker='D')\n",
      "plt.scatter(green_x, green_y, c='g', marker='.')\n",
      "plt.show()"
     ],
     "language": "python",
     "metadata": {},
     "outputs": [
      {
       "metadata": {},
       "output_type": "display_data",
       "png": "[encoded data removed]",
       "text": [
        "<matplotlib.figure.Figure at 0x10cc04850>"
       ]
      }
     ],
     "prompt_number": 27
    },
    {
     "cell_type": "code",
     "collapsed": false,
     "input": [
      "#trying log regression with only certain types of classes\n",
      "\n",
      "X_raw_r=data[['MATH150A','MATH150B','MATH250', 'MATH262','MATH320']]\n",
      "X_train_ml, X_test_ml, y_train_ml, y_test_ml = train_test_split(X_raw_r, data['Graduated'],test_size=0.5)\n",
      "\n",
      "'''\n",
      "X_train=data['Total_Cr'].values\n",
      "X_test=data['Total_Cr'].values\n",
      "y_train=data['Graduated'].values\n",
      "y_test=data['Graduated'].values\n",
      "'''\n",
      "\n",
      "classifier = LogisticRegression()\n",
      "classifier.fit_transform(X_train_ml, y_train_ml)\n",
      "y_pred_ml = classifier.predict(X_test_ml)\n",
      "\n",
      "confusion_matrix = metrics.confusion_matrix(y_test_ml, y_pred_ml)\n",
      "print(confusion_matrix)\n",
      "plt.matshow(confusion_matrix)\n",
      "plt.title('Confusion matrix')\n",
      "plt.colorbar()\n",
      "plt.ylabel('True label')\n",
      "plt.xlabel('Predicted label')\n"
     ],
     "language": "python",
     "metadata": {},
     "outputs": [
      {
       "output_type": "stream",
       "stream": "stdout",
       "text": [
        "[[387   0]\n",
        " [ 13   0]]\n"
       ]
      },
      {
       "metadata": {},
       "output_type": "pyout",
       "prompt_number": 28,
       "text": [
        "<matplotlib.text.Text at 0x10cc4c510>"
       ]
      },
      {
       "metadata": {},
       "output_type": "display_data",
       "png": "[encoded data removed]",
       "text": [
        "<matplotlib.figure.Figure at 0x10c540690>"
       ]
      }
     ],
     "prompt_number": 28
    },
    {
     "cell_type": "code",
     "collapsed": false,
     "input": [
      "#trying to extract the most influential features \n",
      "#so, of 115 classes we selected only 8 most influential\n",
      "\n",
      "#gives an error if run twice - before running for the second time must rerun the code where X_raw and classifier are first defined\n",
      "X_transformed=classifier.transform(X_raw, threshold=0.7)\n",
      "#X_transformed=X_raw_r\n",
      "print len(X_transformed[0])\n",
      "print len(X_raw.values[0])\n",
      "\n",
      "classifier.get_params()"
     ],
     "language": "python",
     "metadata": {},
     "outputs": [
      {
       "ename": "ValueError",
       "evalue": "X has different number of features than during model fitting.",
       "output_type": "pyerr",
       "traceback": [
        "\u001b[0;31m---------------------------------------------------------------------------\u001b[0m\n\u001b[0;31mValueError\u001b[0m                                Traceback (most recent call last)",
        "\u001b[0;32m<ipython-input-29-a3d2158a45bb>\u001b[0m in \u001b[0;36m<module>\u001b[0;34m()\u001b[0m\n\u001b[1;32m      3\u001b[0m \u001b[0;34m\u001b[0m\u001b[0m\n\u001b[1;32m      4\u001b[0m \u001b[0;31m#gives an error if run twice - before running for the second time must rerun the code where X_raw and classifier are first defined\u001b[0m\u001b[0;34m\u001b[0m\u001b[0;34m\u001b[0m\u001b[0m\n\u001b[0;32m----> 5\u001b[0;31m \u001b[0mX_transformed\u001b[0m\u001b[0;34m=\u001b[0m\u001b[0mclassifier\u001b[0m\u001b[0;34m.\u001b[0m\u001b[0mtransform\u001b[0m\u001b[0;34m(\u001b[0m\u001b[0mX_raw\u001b[0m\u001b[0;34m,\u001b[0m \u001b[0mthreshold\u001b[0m\u001b[0;34m=\u001b[0m\u001b[0;36m0.7\u001b[0m\u001b[0;34m)\u001b[0m\u001b[0;34m\u001b[0m\u001b[0m\n\u001b[0m\u001b[1;32m      6\u001b[0m \u001b[0;31m#X_transformed=X_raw_r\u001b[0m\u001b[0;34m\u001b[0m\u001b[0;34m\u001b[0m\u001b[0m\n\u001b[1;32m      7\u001b[0m \u001b[0;32mprint\u001b[0m \u001b[0mlen\u001b[0m\u001b[0;34m(\u001b[0m\u001b[0mX_transformed\u001b[0m\u001b[0;34m[\u001b[0m\u001b[0;36m0\u001b[0m\u001b[0;34m]\u001b[0m\u001b[0;34m)\u001b[0m\u001b[0;34m\u001b[0m\u001b[0m\n",
        "\u001b[0;32m/Library/Frameworks/Python.framework/Versions/2.7/lib/python2.7/site-packages/sklearn/feature_selection/from_model.pyc\u001b[0m in \u001b[0;36mtransform\u001b[0;34m(self, X, threshold)\u001b[0m\n\u001b[1;32m     61\u001b[0m                              \"estimator's parameter to compute it?\")\n\u001b[1;32m     62\u001b[0m         \u001b[0;32mif\u001b[0m \u001b[0mlen\u001b[0m\u001b[0;34m(\u001b[0m\u001b[0mimportances\u001b[0m\u001b[0;34m)\u001b[0m \u001b[0;34m!=\u001b[0m \u001b[0mX\u001b[0m\u001b[0;34m.\u001b[0m\u001b[0mshape\u001b[0m\u001b[0;34m[\u001b[0m\u001b[0;36m1\u001b[0m\u001b[0;34m]\u001b[0m\u001b[0;34m:\u001b[0m\u001b[0;34m\u001b[0m\u001b[0m\n\u001b[0;32m---> 63\u001b[0;31m             raise ValueError(\"X has different number of features than\"\n\u001b[0m\u001b[1;32m     64\u001b[0m                              \" during model fitting.\")\n\u001b[1;32m     65\u001b[0m \u001b[0;34m\u001b[0m\u001b[0m\n",
        "\u001b[0;31mValueError\u001b[0m: X has different number of features than during model fitting."
       ]
      }
     ],
     "prompt_number": 29
    },
    {
     "cell_type": "code",
     "collapsed": false,
     "input": [
      "\n",
      "X_train_tr, X_test_tr, y_train_tr, y_test_tr = train_test_split(X_transformed, data['Graduated'],test_size=0.2)\n",
      "\n",
      "'''\n",
      "X_train=data['Total_Cr'].values\n",
      "X_test=data['Total_Cr'].values\n",
      "y_train=data['Graduated'].values\n",
      "y_test=data['Graduated'].values\n",
      "'''\n",
      "\n",
      "classifier = LogisticRegression()\n",
      "classifier.fit_transform(X_train_tr, y_train_tr)\n",
      "y_pred_tr = classifier.predict(X_test_tr)\n",
      "\n",
      "confusion_matrix = metrics.confusion_matrix(y_test_tr, y_pred_tr)\n",
      "print(confusion_matrix)\n",
      "plt.matshow(confusion_matrix)\n",
      "plt.title('Confusion matrix')\n",
      "plt.colorbar()\n",
      "plt.ylabel('True label')\n",
      "plt.xlabel('Predicted label')\n",
      "\n"
     ],
     "language": "python",
     "metadata": {},
     "outputs": [
      {
       "ename": "NameError",
       "evalue": "name 'X_transformed' is not defined",
       "output_type": "pyerr",
       "traceback": [
        "\u001b[0;31m---------------------------------------------------------------------------\u001b[0m\n\u001b[0;31mNameError\u001b[0m                                 Traceback (most recent call last)",
        "\u001b[0;32m<ipython-input-30-06f6ca1ec214>\u001b[0m in \u001b[0;36m<module>\u001b[0;34m()\u001b[0m\n\u001b[1;32m      1\u001b[0m \u001b[0;34m\u001b[0m\u001b[0m\n\u001b[0;32m----> 2\u001b[0;31m \u001b[0mX_train_tr\u001b[0m\u001b[0;34m,\u001b[0m \u001b[0mX_test_tr\u001b[0m\u001b[0;34m,\u001b[0m \u001b[0my_train_tr\u001b[0m\u001b[0;34m,\u001b[0m \u001b[0my_test_tr\u001b[0m \u001b[0;34m=\u001b[0m \u001b[0mtrain_test_split\u001b[0m\u001b[0;34m(\u001b[0m\u001b[0mX_transformed\u001b[0m\u001b[0;34m,\u001b[0m \u001b[0mdata\u001b[0m\u001b[0;34m[\u001b[0m\u001b[0;34m'Graduated'\u001b[0m\u001b[0;34m]\u001b[0m\u001b[0;34m,\u001b[0m\u001b[0mtest_size\u001b[0m\u001b[0;34m=\u001b[0m\u001b[0;36m0.2\u001b[0m\u001b[0;34m)\u001b[0m\u001b[0;34m\u001b[0m\u001b[0m\n\u001b[0m\u001b[1;32m      3\u001b[0m \u001b[0;34m\u001b[0m\u001b[0m\n\u001b[1;32m      4\u001b[0m '''\n\u001b[1;32m      5\u001b[0m \u001b[0mX_train\u001b[0m\u001b[0;34m=\u001b[0m\u001b[0mdata\u001b[0m\u001b[0;34m[\u001b[0m\u001b[0;34m'Total_Cr'\u001b[0m\u001b[0;34m]\u001b[0m\u001b[0;34m.\u001b[0m\u001b[0mvalues\u001b[0m\u001b[0;34m\u001b[0m\u001b[0m\n",
        "\u001b[0;31mNameError\u001b[0m: name 'X_transformed' is not defined"
       ]
      }
     ],
     "prompt_number": 30
    },
    {
     "cell_type": "code",
     "collapsed": false,
     "input": [
      "false_positive_rate_tr, recall_tr, thresholds_tr = metrics.roc_curve(y_test_tr,y_pred_tr)\n",
      "roc_auc_tr = metrics.auc(false_positive_rate_tr, recall_tr)\n",
      "plt.title('Receiver Operating Characteristic')\n",
      "plt.plot(false_positive_rate_tr, recall_tr, 'b', label='AUC = %0.2f' %roc_auc_tr)\n",
      "plt.legend(loc='lower right')\n",
      "plt.plot([0, 1], [0, 1], 'r--')\n",
      "plt.xlim([0.0, 1.0])\n",
      "plt.ylim([0.0, 1.0])\n",
      "plt.ylabel('Recall')\n",
      "plt.xlabel('Fall-out')\n",
      "plt.show()"
     ],
     "language": "python",
     "metadata": {},
     "outputs": [
      {
       "ename": "NameError",
       "evalue": "name 'y_test_tr' is not defined",
       "output_type": "pyerr",
       "traceback": [
        "\u001b[0;31m---------------------------------------------------------------------------\u001b[0m\n\u001b[0;31mNameError\u001b[0m                                 Traceback (most recent call last)",
        "\u001b[0;32m<ipython-input-31-dad9da8e9ea5>\u001b[0m in \u001b[0;36m<module>\u001b[0;34m()\u001b[0m\n\u001b[0;32m----> 1\u001b[0;31m \u001b[0mfalse_positive_rate_tr\u001b[0m\u001b[0;34m,\u001b[0m \u001b[0mrecall_tr\u001b[0m\u001b[0;34m,\u001b[0m \u001b[0mthresholds_tr\u001b[0m \u001b[0;34m=\u001b[0m \u001b[0mmetrics\u001b[0m\u001b[0;34m.\u001b[0m\u001b[0mroc_curve\u001b[0m\u001b[0;34m(\u001b[0m\u001b[0my_test_tr\u001b[0m\u001b[0;34m,\u001b[0m\u001b[0my_pred_tr\u001b[0m\u001b[0;34m)\u001b[0m\u001b[0;34m\u001b[0m\u001b[0m\n\u001b[0m\u001b[1;32m      2\u001b[0m \u001b[0mroc_auc_tr\u001b[0m \u001b[0;34m=\u001b[0m \u001b[0mmetrics\u001b[0m\u001b[0;34m.\u001b[0m\u001b[0mauc\u001b[0m\u001b[0;34m(\u001b[0m\u001b[0mfalse_positive_rate_tr\u001b[0m\u001b[0;34m,\u001b[0m \u001b[0mrecall_tr\u001b[0m\u001b[0;34m)\u001b[0m\u001b[0;34m\u001b[0m\u001b[0m\n\u001b[1;32m      3\u001b[0m \u001b[0mplt\u001b[0m\u001b[0;34m.\u001b[0m\u001b[0mtitle\u001b[0m\u001b[0;34m(\u001b[0m\u001b[0;34m'Receiver Operating Characteristic'\u001b[0m\u001b[0;34m)\u001b[0m\u001b[0;34m\u001b[0m\u001b[0m\n\u001b[1;32m      4\u001b[0m \u001b[0mplt\u001b[0m\u001b[0;34m.\u001b[0m\u001b[0mplot\u001b[0m\u001b[0;34m(\u001b[0m\u001b[0mfalse_positive_rate_tr\u001b[0m\u001b[0;34m,\u001b[0m \u001b[0mrecall_tr\u001b[0m\u001b[0;34m,\u001b[0m \u001b[0;34m'b'\u001b[0m\u001b[0;34m,\u001b[0m \u001b[0mlabel\u001b[0m\u001b[0;34m=\u001b[0m\u001b[0;34m'AUC = %0.2f'\u001b[0m \u001b[0;34m%\u001b[0m\u001b[0mroc_auc_tr\u001b[0m\u001b[0;34m)\u001b[0m\u001b[0;34m\u001b[0m\u001b[0m\n\u001b[1;32m      5\u001b[0m \u001b[0mplt\u001b[0m\u001b[0;34m.\u001b[0m\u001b[0mlegend\u001b[0m\u001b[0;34m(\u001b[0m\u001b[0mloc\u001b[0m\u001b[0;34m=\u001b[0m\u001b[0;34m'lower right'\u001b[0m\u001b[0;34m)\u001b[0m\u001b[0;34m\u001b[0m\u001b[0m\n",
        "\u001b[0;31mNameError\u001b[0m: name 'y_test_tr' is not defined"
       ]
      }
     ],
     "prompt_number": 31
    },
    {
     "cell_type": "code",
     "collapsed": false,
     "input": [
      "#running PCA on the limited numebr of classes\n",
      "from sklearn.decomposition import PCA\n",
      "pca = PCA(n_components=2)\n",
      "reduced_X = pca.fit_transform(X_transformed)\n",
      "y=data['Graduated']\n",
      "\n",
      "red_x, red_y = [], []\n",
      "blue_x, blue_y = [], []\n",
      "green_x, green_y = [], []\n",
      "for i in range(len(reduced_X)):\n",
      "    if y[i] == 0:\n",
      "        red_x.append(reduced_X[i][0])\n",
      "        red_y.append(reduced_X[i][1])\n",
      "    elif y[i] == 1:\n",
      "        blue_x.append(reduced_X[i][0])\n",
      "        blue_y.append(reduced_X[i][1])\n",
      "    else:\n",
      "        green_x.append(reduced_X[i][0])\n",
      "        green_y.append(reduced_X[i][1])\n",
      "plt.scatter(red_x, red_y, c='r', marker='x')\n",
      "plt.scatter(blue_x, blue_y, c='b', marker='D')\n",
      "plt.scatter(green_x, green_y, c='g', marker='.')\n",
      "plt.show()"
     ],
     "language": "python",
     "metadata": {},
     "outputs": [
      {
       "ename": "NameError",
       "evalue": "name 'X_transformed' is not defined",
       "output_type": "pyerr",
       "traceback": [
        "\u001b[0;31m---------------------------------------------------------------------------\u001b[0m\n\u001b[0;31mNameError\u001b[0m                                 Traceback (most recent call last)",
        "\u001b[0;32m<ipython-input-32-6f8dc2eeb6e6>\u001b[0m in \u001b[0;36m<module>\u001b[0;34m()\u001b[0m\n\u001b[1;32m      2\u001b[0m \u001b[0;32mfrom\u001b[0m \u001b[0msklearn\u001b[0m\u001b[0;34m.\u001b[0m\u001b[0mdecomposition\u001b[0m \u001b[0;32mimport\u001b[0m \u001b[0mPCA\u001b[0m\u001b[0;34m\u001b[0m\u001b[0m\n\u001b[1;32m      3\u001b[0m \u001b[0mpca\u001b[0m \u001b[0;34m=\u001b[0m \u001b[0mPCA\u001b[0m\u001b[0;34m(\u001b[0m\u001b[0mn_components\u001b[0m\u001b[0;34m=\u001b[0m\u001b[0;36m2\u001b[0m\u001b[0;34m)\u001b[0m\u001b[0;34m\u001b[0m\u001b[0m\n\u001b[0;32m----> 4\u001b[0;31m \u001b[0mreduced_X\u001b[0m \u001b[0;34m=\u001b[0m \u001b[0mpca\u001b[0m\u001b[0;34m.\u001b[0m\u001b[0mfit_transform\u001b[0m\u001b[0;34m(\u001b[0m\u001b[0mX_transformed\u001b[0m\u001b[0;34m)\u001b[0m\u001b[0;34m\u001b[0m\u001b[0m\n\u001b[0m\u001b[1;32m      5\u001b[0m \u001b[0my\u001b[0m\u001b[0;34m=\u001b[0m\u001b[0mdata\u001b[0m\u001b[0;34m[\u001b[0m\u001b[0;34m'Graduated'\u001b[0m\u001b[0;34m]\u001b[0m\u001b[0;34m\u001b[0m\u001b[0m\n\u001b[1;32m      6\u001b[0m \u001b[0;34m\u001b[0m\u001b[0m\n",
        "\u001b[0;31mNameError\u001b[0m: name 'X_transformed' is not defined"
       ]
      }
     ],
     "prompt_number": 32
    },
    {
     "cell_type": "code",
     "collapsed": false,
     "input": [],
     "language": "python",
     "metadata": {},
     "outputs": []
    }
   ],
   "metadata": {}
  }
 ]
}