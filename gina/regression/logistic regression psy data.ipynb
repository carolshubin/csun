{
 "metadata": {
  "name": "",
  "signature": "sha256:57923e35857eb0db323663979b6ae643ec27541c00ef3b0bf5142880bf6c5d51"
 },
 "nbformat": 3,
 "nbformat_minor": 0,
 "worksheets": [
  {
   "cells": [
    {
     "cell_type": "code",
     "collapsed": false,
     "input": [
      "%matplotlib inline\n",
      "from __future__ import division\n",
      "import numpy as np\n",
      "import pandas as pd\n",
      "from sklearn.linear_model import LogisticRegression\n",
      "import sklearn\n",
      "from sklearn import metrics\n",
      "from sklearn.cross_validation import train_test_split, cross_val_score\n",
      "import matplotlib.pyplot as plt\n",
      "#from sklearn_pandas import DataFrameMapper, cross_val_score"
     ],
     "language": "python",
     "metadata": {},
     "outputs": [],
     "prompt_number": 1
    },
    {
     "cell_type": "code",
     "collapsed": false,
     "input": [
      "data = pd.read_csv('psych-redacted.csv')\n",
      "data.head()\n",
      "\n"
     ],
     "language": "python",
     "metadata": {},
     "outputs": [
      {
       "html": [
        "<div style=\"max-height:1000px;max-width:1500px;overflow:auto;\">\n",
        "<table border=\"1\" class=\"dataframe\">\n",
        "  <thead>\n",
        "    <tr style=\"text-align: right;\">\n",
        "      <th></th>\n",
        "      <th>Graduated</th>\n",
        "      <th>N_Terms</th>\n",
        "      <th>Transfer_Cr</th>\n",
        "      <th>Inst_Cr</th>\n",
        "      <th>Total_Cr</th>\n",
        "      <th>PSY150</th>\n",
        "      <th>MATH140</th>\n",
        "      <th>PSY250</th>\n",
        "      <th>PSY320</th>\n",
        "      <th>PSY320L</th>\n",
        "      <th>...</th>\n",
        "      <th>PSY455</th>\n",
        "      <th>PSY386</th>\n",
        "      <th>MATH103</th>\n",
        "      <th>PSY454</th>\n",
        "      <th>PSY473BNS</th>\n",
        "      <th>PSY473BN</th>\n",
        "      <th>PSY421J</th>\n",
        "      <th>PSY406</th>\n",
        "      <th>PSY421N</th>\n",
        "      <th>PSY421M</th>\n",
        "    </tr>\n",
        "  </thead>\n",
        "  <tbody>\n",
        "    <tr>\n",
        "      <th>0</th>\n",
        "      <td> N</td>\n",
        "      <td> 1</td>\n",
        "      <td> 56.0</td>\n",
        "      <td> 33</td>\n",
        "      <td>  89.0</td>\n",
        "      <td> 1</td>\n",
        "      <td> 1</td>\n",
        "      <td> 0</td>\n",
        "      <td> 0</td>\n",
        "      <td> 0</td>\n",
        "      <td>...</td>\n",
        "      <td> 0</td>\n",
        "      <td> 0</td>\n",
        "      <td> 0</td>\n",
        "      <td> 0</td>\n",
        "      <td> 0</td>\n",
        "      <td> 0</td>\n",
        "      <td> 0</td>\n",
        "      <td> 0</td>\n",
        "      <td> 0</td>\n",
        "      <td> 0</td>\n",
        "    </tr>\n",
        "    <tr>\n",
        "      <th>1</th>\n",
        "      <td> N</td>\n",
        "      <td> 1</td>\n",
        "      <td> 56.5</td>\n",
        "      <td> 28</td>\n",
        "      <td>  84.5</td>\n",
        "      <td> 1</td>\n",
        "      <td> 1</td>\n",
        "      <td>-1</td>\n",
        "      <td> 0</td>\n",
        "      <td> 0</td>\n",
        "      <td>...</td>\n",
        "      <td> 0</td>\n",
        "      <td> 0</td>\n",
        "      <td> 0</td>\n",
        "      <td> 0</td>\n",
        "      <td> 0</td>\n",
        "      <td> 0</td>\n",
        "      <td> 0</td>\n",
        "      <td> 0</td>\n",
        "      <td> 0</td>\n",
        "      <td> 0</td>\n",
        "    </tr>\n",
        "    <tr>\n",
        "      <th>2</th>\n",
        "      <td> N</td>\n",
        "      <td> 1</td>\n",
        "      <td> 67.0</td>\n",
        "      <td> 58</td>\n",
        "      <td> 125.0</td>\n",
        "      <td> 1</td>\n",
        "      <td> 1</td>\n",
        "      <td> 0</td>\n",
        "      <td> 0</td>\n",
        "      <td> 0</td>\n",
        "      <td>...</td>\n",
        "      <td> 0</td>\n",
        "      <td> 0</td>\n",
        "      <td> 1</td>\n",
        "      <td> 0</td>\n",
        "      <td> 0</td>\n",
        "      <td> 0</td>\n",
        "      <td> 0</td>\n",
        "      <td> 0</td>\n",
        "      <td> 0</td>\n",
        "      <td> 0</td>\n",
        "    </tr>\n",
        "    <tr>\n",
        "      <th>3</th>\n",
        "      <td> N</td>\n",
        "      <td> 1</td>\n",
        "      <td> 11.0</td>\n",
        "      <td> 26</td>\n",
        "      <td>  37.0</td>\n",
        "      <td> 1</td>\n",
        "      <td> 1</td>\n",
        "      <td> 0</td>\n",
        "      <td> 0</td>\n",
        "      <td> 0</td>\n",
        "      <td>...</td>\n",
        "      <td> 0</td>\n",
        "      <td> 0</td>\n",
        "      <td> 0</td>\n",
        "      <td> 0</td>\n",
        "      <td> 0</td>\n",
        "      <td> 0</td>\n",
        "      <td> 0</td>\n",
        "      <td> 0</td>\n",
        "      <td> 0</td>\n",
        "      <td> 0</td>\n",
        "    </tr>\n",
        "    <tr>\n",
        "      <th>4</th>\n",
        "      <td> N</td>\n",
        "      <td> 1</td>\n",
        "      <td>  0.0</td>\n",
        "      <td> 38</td>\n",
        "      <td>  38.0</td>\n",
        "      <td> 1</td>\n",
        "      <td> 1</td>\n",
        "      <td> 1</td>\n",
        "      <td>-1</td>\n",
        "      <td>-1</td>\n",
        "      <td>...</td>\n",
        "      <td> 0</td>\n",
        "      <td> 0</td>\n",
        "      <td> 0</td>\n",
        "      <td> 0</td>\n",
        "      <td> 0</td>\n",
        "      <td> 0</td>\n",
        "      <td> 0</td>\n",
        "      <td> 0</td>\n",
        "      <td> 0</td>\n",
        "      <td> 0</td>\n",
        "    </tr>\n",
        "  </tbody>\n",
        "</table>\n",
        "<p>5 rows \u00d7 61 columns</p>\n",
        "</div>"
       ],
       "metadata": {},
       "output_type": "pyout",
       "prompt_number": 2,
       "text": [
        "  Graduated  N_Terms  Transfer_Cr  Inst_Cr  Total_Cr  PSY150  MATH140  PSY250  \\\n",
        "0         N        1         56.0       33      89.0       1        1       0   \n",
        "1         N        1         56.5       28      84.5       1        1      -1   \n",
        "2         N        1         67.0       58     125.0       1        1       0   \n",
        "3         N        1         11.0       26      37.0       1        1       0   \n",
        "4         N        1          0.0       38      38.0       1        1       1   \n",
        "\n",
        "   PSY320  PSY320L   ...     PSY455  PSY386  MATH103  PSY454  PSY473BNS  \\\n",
        "0       0        0   ...          0       0        0       0          0   \n",
        "1       0        0   ...          0       0        0       0          0   \n",
        "2       0        0   ...          0       0        1       0          0   \n",
        "3       0        0   ...          0       0        0       0          0   \n",
        "4      -1       -1   ...          0       0        0       0          0   \n",
        "\n",
        "   PSY473BN  PSY421J  PSY406  PSY421N  PSY421M  \n",
        "0         0        0       0        0        0  \n",
        "1         0        0       0        0        0  \n",
        "2         0        0       0        0        0  \n",
        "3         0        0       0        0        0  \n",
        "4         0        0       0        0        0  \n",
        "\n",
        "[5 rows x 61 columns]"
       ]
      }
     ],
     "prompt_number": 2
    },
    {
     "cell_type": "code",
     "collapsed": false,
     "input": [
      "data['Graduated'].replace(to_replace=('N','Y'), value=(0,1), inplace=True)"
     ],
     "language": "python",
     "metadata": {},
     "outputs": [],
     "prompt_number": 3
    },
    {
     "cell_type": "code",
     "collapsed": false,
     "input": [
      "data[data['Graduated']==1].head()"
     ],
     "language": "python",
     "metadata": {},
     "outputs": [
      {
       "html": [
        "<div style=\"max-height:1000px;max-width:1500px;overflow:auto;\">\n",
        "<table border=\"1\" class=\"dataframe\">\n",
        "  <thead>\n",
        "    <tr style=\"text-align: right;\">\n",
        "      <th></th>\n",
        "      <th>Graduated</th>\n",
        "      <th>N_Terms</th>\n",
        "      <th>Transfer_Cr</th>\n",
        "      <th>Inst_Cr</th>\n",
        "      <th>Total_Cr</th>\n",
        "      <th>PSY150</th>\n",
        "      <th>MATH140</th>\n",
        "      <th>PSY250</th>\n",
        "      <th>PSY320</th>\n",
        "      <th>PSY320L</th>\n",
        "      <th>...</th>\n",
        "      <th>PSY455</th>\n",
        "      <th>PSY386</th>\n",
        "      <th>MATH103</th>\n",
        "      <th>PSY454</th>\n",
        "      <th>PSY473BNS</th>\n",
        "      <th>PSY473BN</th>\n",
        "      <th>PSY421J</th>\n",
        "      <th>PSY406</th>\n",
        "      <th>PSY421N</th>\n",
        "      <th>PSY421M</th>\n",
        "    </tr>\n",
        "  </thead>\n",
        "  <tbody>\n",
        "    <tr>\n",
        "      <th>247</th>\n",
        "      <td> 1</td>\n",
        "      <td> 7</td>\n",
        "      <td>  57.0</td>\n",
        "      <td>  63</td>\n",
        "      <td> 120.0</td>\n",
        "      <td> 1</td>\n",
        "      <td> 0</td>\n",
        "      <td> 1</td>\n",
        "      <td> 1</td>\n",
        "      <td> 1</td>\n",
        "      <td>...</td>\n",
        "      <td> 0</td>\n",
        "      <td> 1</td>\n",
        "      <td> 0</td>\n",
        "      <td> 0</td>\n",
        "      <td> 0</td>\n",
        "      <td> 0</td>\n",
        "      <td> 0</td>\n",
        "      <td> 0</td>\n",
        "      <td> 0</td>\n",
        "      <td> 0</td>\n",
        "    </tr>\n",
        "    <tr>\n",
        "      <th>248</th>\n",
        "      <td> 1</td>\n",
        "      <td> 7</td>\n",
        "      <td>  16.0</td>\n",
        "      <td> 121</td>\n",
        "      <td> 137.0</td>\n",
        "      <td> 1</td>\n",
        "      <td> 1</td>\n",
        "      <td> 1</td>\n",
        "      <td> 1</td>\n",
        "      <td> 1</td>\n",
        "      <td>...</td>\n",
        "      <td> 0</td>\n",
        "      <td> 0</td>\n",
        "      <td> 0</td>\n",
        "      <td> 0</td>\n",
        "      <td> 0</td>\n",
        "      <td> 0</td>\n",
        "      <td> 0</td>\n",
        "      <td> 0</td>\n",
        "      <td> 0</td>\n",
        "      <td> 0</td>\n",
        "    </tr>\n",
        "    <tr>\n",
        "      <th>249</th>\n",
        "      <td> 1</td>\n",
        "      <td> 3</td>\n",
        "      <td> 121.2</td>\n",
        "      <td>  42</td>\n",
        "      <td> 163.2</td>\n",
        "      <td> 1</td>\n",
        "      <td> 0</td>\n",
        "      <td> 1</td>\n",
        "      <td> 1</td>\n",
        "      <td> 1</td>\n",
        "      <td>...</td>\n",
        "      <td> 0</td>\n",
        "      <td> 0</td>\n",
        "      <td> 0</td>\n",
        "      <td> 0</td>\n",
        "      <td> 0</td>\n",
        "      <td> 0</td>\n",
        "      <td> 0</td>\n",
        "      <td> 0</td>\n",
        "      <td> 0</td>\n",
        "      <td> 0</td>\n",
        "    </tr>\n",
        "    <tr>\n",
        "      <th>251</th>\n",
        "      <td> 1</td>\n",
        "      <td> 5</td>\n",
        "      <td>  56.0</td>\n",
        "      <td>  64</td>\n",
        "      <td> 120.0</td>\n",
        "      <td> 1</td>\n",
        "      <td> 0</td>\n",
        "      <td> 1</td>\n",
        "      <td> 1</td>\n",
        "      <td> 1</td>\n",
        "      <td>...</td>\n",
        "      <td> 0</td>\n",
        "      <td> 0</td>\n",
        "      <td> 0</td>\n",
        "      <td> 0</td>\n",
        "      <td> 0</td>\n",
        "      <td> 0</td>\n",
        "      <td> 0</td>\n",
        "      <td> 0</td>\n",
        "      <td> 0</td>\n",
        "      <td> 0</td>\n",
        "    </tr>\n",
        "    <tr>\n",
        "      <th>255</th>\n",
        "      <td> 1</td>\n",
        "      <td> 6</td>\n",
        "      <td>  70.0</td>\n",
        "      <td>  59</td>\n",
        "      <td> 129.0</td>\n",
        "      <td> 1</td>\n",
        "      <td> 1</td>\n",
        "      <td> 1</td>\n",
        "      <td> 1</td>\n",
        "      <td> 1</td>\n",
        "      <td>...</td>\n",
        "      <td> 0</td>\n",
        "      <td> 0</td>\n",
        "      <td> 0</td>\n",
        "      <td> 0</td>\n",
        "      <td> 0</td>\n",
        "      <td> 0</td>\n",
        "      <td> 0</td>\n",
        "      <td> 0</td>\n",
        "      <td> 0</td>\n",
        "      <td> 0</td>\n",
        "    </tr>\n",
        "  </tbody>\n",
        "</table>\n",
        "<p>5 rows \u00d7 61 columns</p>\n",
        "</div>"
       ],
       "metadata": {},
       "output_type": "pyout",
       "prompt_number": 4,
       "text": [
        "     Graduated  N_Terms  Transfer_Cr  Inst_Cr  Total_Cr  PSY150  MATH140  \\\n",
        "247          1        7         57.0       63     120.0       1        0   \n",
        "248          1        7         16.0      121     137.0       1        1   \n",
        "249          1        3        121.2       42     163.2       1        0   \n",
        "251          1        5         56.0       64     120.0       1        0   \n",
        "255          1        6         70.0       59     129.0       1        1   \n",
        "\n",
        "     PSY250  PSY320  PSY320L   ...     PSY455  PSY386  MATH103  PSY454  \\\n",
        "247       1       1        1   ...          0       1        0       0   \n",
        "248       1       1        1   ...          0       0        0       0   \n",
        "249       1       1        1   ...          0       0        0       0   \n",
        "251       1       1        1   ...          0       0        0       0   \n",
        "255       1       1        1   ...          0       0        0       0   \n",
        "\n",
        "     PSY473BNS  PSY473BN  PSY421J  PSY406  PSY421N  PSY421M  \n",
        "247          0         0        0       0        0        0  \n",
        "248          0         0        0       0        0        0  \n",
        "249          0         0        0       0        0        0  \n",
        "251          0         0        0       0        0        0  \n",
        "255          0         0        0       0        0        0  \n",
        "\n",
        "[5 rows x 61 columns]"
       ]
      }
     ],
     "prompt_number": 4
    },
    {
     "cell_type": "code",
     "collapsed": false,
     "input": [
      "#applying regression to Graduated vs Total_Cr\n",
      "X_train, X_test, y_train, y_test = train_test_split(data['Total_Cr'], data['Graduated'])\n",
      "\n",
      "'''\n",
      "X_train=data['Total_Cr'].values\n",
      "X_test=data['Total_Cr'].values\n",
      "y_train=data['Graduated'].values\n",
      "y_test=data['Graduated'].values\n",
      "'''\n",
      "\n",
      "classifier = LogisticRegression()\n",
      "classifier.fit(X_train.reshape(len(X_train),1), y_train)\n",
      "y_pred = classifier.predict(X_test.reshape(len(X_test),1))\n",
      "\n",
      "confusion_matrix = metrics.confusion_matrix(y_test, y_pred)\n",
      "print \"confustion matrix numbers\"\n",
      "print(confusion_matrix)\n",
      "plt.matshow(confusion_matrix)\n",
      "plt.title('Confusion matrix')\n",
      "plt.colorbar()\n",
      "plt.ylabel('True label')\n",
      "plt.xlabel('Predicted label')\n",
      "\n"
     ],
     "language": "python",
     "metadata": {},
     "outputs": [
      {
       "output_type": "stream",
       "stream": "stdout",
       "text": [
        "confustion matrix numbers\n",
        "[[1457  232]\n",
        " [   0 1182]]\n"
       ]
      },
      {
       "metadata": {},
       "output_type": "pyout",
       "prompt_number": 8,
       "text": [
        "<matplotlib.text.Text at 0x103736850>"
       ]
      },
      {
       "metadata": {},
       "output_type": "display_data",
       "png": "[encoded data removed]",
       "text": [
        "<matplotlib.figure.Figure at 0x110322cd0>"
       ]
      }
     ],
     "prompt_number": 8
    },
    {
     "cell_type": "code",
     "collapsed": false,
     "input": [
      "#multiple regression on Graduated vs. 'N_Terms','Transfer_Cr','Total_Cr'\n",
      "#performs slightly better than random guessing\n",
      "\n",
      "X_train_ml, X_test_ml, y_train_ml, y_test_ml = train_test_split(data[['N_Terms','Transfer_Cr','Total_Cr']], data['Graduated'])\n",
      "\n",
      "'''\n",
      "X_train=data['Total_Cr'].values\n",
      "X_test=data['Total_Cr'].values\n",
      "y_train=data['Graduated'].values\n",
      "y_test=data['Graduated'].values\n",
      "'''\n",
      "\n",
      "classifier = LogisticRegression()\n",
      "classifier.fit(X_train_ml, y_train_ml)\n",
      "y_pred_ml = classifier.predict(X_test_ml)\n",
      "\n",
      "confusion_matrix = metrics.confusion_matrix(y_test_ml, y_pred_ml)\n",
      "print(confusion_matrix)\n",
      "plt.matshow(confusion_matrix)\n",
      "plt.title('Confusion matrix')\n",
      "plt.colorbar()\n",
      "plt.ylabel('True label')\n",
      "plt.xlabel('Predicted label')\n",
      "#_________Pred_n=P Pred_y=N\n",
      "#  Ntrue_P\n",
      "#  Ytrue_N\n",
      "X_train_ml"
     ],
     "language": "python",
     "metadata": {},
     "outputs": [
      {
       "output_type": "stream",
       "stream": "stdout",
       "text": [
        "[[1464  192]\n",
        " [  11 1204]]\n"
       ]
      },
      {
       "metadata": {},
       "output_type": "pyout",
       "prompt_number": 11,
       "text": [
        "array([[   5.,   67.,  120.],\n",
        "       [   5.,   60.,  120.],\n",
        "       [   7.,    6.,  134.],\n",
        "       ..., \n",
        "       [   4.,   64.,  120.],\n",
        "       [   6.,   70.,  129.],\n",
        "       [  10.,   70.,  131.]])"
       ]
      },
      {
       "metadata": {},
       "output_type": "display_data",
       "png": "[encoded data removed]",
       "text": [
        "<matplotlib.figure.Figure at 0x1103a6510>"
       ]
      }
     ],
     "prompt_number": 11
    },
    {
     "cell_type": "code",
     "collapsed": false,
     "input": [
      "X_raw=data[data.columns[5:]]\n",
      "X_train_ml, X_test_ml, y_train_ml, y_test_ml = train_test_split(X_raw, data['Graduated'],test_size=0.2)\n",
      "\n",
      "'''\n",
      "X_train=data['Total_Cr'].values\n",
      "X_test=data['Total_Cr'].values\n",
      "y_train=data['Graduated'].values\n",
      "y_test=data['Graduated'].values\n",
      "'''\n",
      "\n",
      "classifier = LogisticRegression()\n",
      "classifier.fit(X_train_ml, y_train_ml)\n",
      "y_pred_ml = classifier.predict(X_test_ml)\n",
      "\n",
      "confusion_matrix = metrics.confusion_matrix(y_test_ml, y_pred_ml)\n",
      "print(confusion_matrix)\n",
      "plt.matshow(confusion_matrix)\n",
      "plt.title('Confusion matrix')\n",
      "plt.colorbar()\n",
      "plt.ylabel('True label')\n",
      "plt.xlabel('Predicted label')\n",
      "\n",
      "coef_list=classifier.coef_"
     ],
     "language": "python",
     "metadata": {},
     "outputs": [
      {
       "output_type": "stream",
       "stream": "stdout",
       "text": [
        "[[1174  138]\n",
        " [  52  933]]\n"
       ]
      },
      {
       "metadata": {},
       "output_type": "display_data",
       "png": "[encoded data removed]",
       "text": [
        "<matplotlib.figure.Figure at 0x115c23a90>"
       ]
      }
     ],
     "prompt_number": 37
    },
    {
     "cell_type": "code",
     "collapsed": false,
     "input": [
      "print(metrics.classification_report(y_test_ml, y_pred_ml))"
     ],
     "language": "python",
     "metadata": {},
     "outputs": [
      {
       "output_type": "stream",
       "stream": "stdout",
       "text": [
        "             precision    recall  f1-score   support\n",
        "\n",
        "          0       0.96      0.89      0.93      1312\n",
        "          1       0.87      0.95      0.91       985\n",
        "\n",
        "avg / total       0.92      0.92      0.92      2297\n",
        "\n"
       ]
      }
     ],
     "prompt_number": 70
    },
    {
     "cell_type": "code",
     "collapsed": false,
     "input": [
      "#using PCA to reduce dimention of vertor space and plot it in 2D\n",
      "from sklearn.decomposition import PCA\n",
      "pca = PCA(n_components=2)\n",
      "reduced_X = pca.fit_transform(X_raw)\n",
      "y=data['Graduated']\n",
      "\n",
      "red_x, red_y = [], []\n",
      "blue_x, blue_y = [], []\n",
      "green_x, green_y = [], []\n",
      "for i in range(len(reduced_X)):\n",
      "    if y[i] == 0:\n",
      "        red_x.append(reduced_X[i][0])\n",
      "        red_y.append(reduced_X[i][1])\n",
      "    elif y[i] == 1:\n",
      "        blue_x.append(reduced_X[i][0])\n",
      "        blue_y.append(reduced_X[i][1])\n",
      "    else:\n",
      "        green_x.append(reduced_X[i][0])\n",
      "        green_y.append(reduced_X[i][1])\n",
      "plt.scatter(red_x, red_y, c='r', marker='x')\n",
      "plt.scatter(blue_x, blue_y, c='b', marker='D')\n",
      "plt.scatter(green_x, green_y, c='g', marker='.')\n",
      "plt.show()"
     ],
     "language": "python",
     "metadata": {},
     "outputs": [
      {
       "metadata": {},
       "output_type": "display_data",
       "png": "[encoded data removed]",
       "text": [
        "<matplotlib.figure.Figure at 0x1174d04d0>"
       ]
      }
     ],
     "prompt_number": 25
    },
    {
     "cell_type": "code",
     "collapsed": false,
     "input": [
      "#trying to extract the most influential features \n",
      "#so, of 115 classes we selected only 8 most influential\n",
      "X_raw=data[data.columns[5:]]\n",
      "X_train_ml, X_test_ml, y_train_ml, y_test_ml = train_test_split(X_raw, data['Graduated'],test_size=0.2)\n",
      "\n",
      "classifier = LogisticRegression()\n",
      "classifier.fit(X_train_ml, y_train_ml)\n",
      "y_pred_ml = classifier.predict(X_test_ml)\n",
      "\n",
      "\n",
      "#gives an error if run twice - before running for the second time must rerun the code where X_raw and classifier are first defined\n",
      "X_transformed=classifier.transform(X_raw, threshold=0.7)\n",
      "#X_transformed=X_raw_r\n",
      "print len(X_transformed[0])\n",
      "print len(X_raw.values[0])\n",
      "\n",
      "classifier.get_params()"
     ],
     "language": "python",
     "metadata": {},
     "outputs": [
      {
       "output_type": "stream",
       "stream": "stdout",
       "text": [
        "4\n",
        "56\n"
       ]
      },
      {
       "metadata": {},
       "output_type": "pyout",
       "prompt_number": 26,
       "text": [
        "{'C': 1.0,\n",
        " 'class_weight': None,\n",
        " 'dual': False,\n",
        " 'fit_intercept': True,\n",
        " 'intercept_scaling': 1,\n",
        " 'penalty': 'l2',\n",
        " 'random_state': None,\n",
        " 'tol': 0.0001}"
       ]
      }
     ],
     "prompt_number": 26
    },
    {
     "cell_type": "code",
     "collapsed": false,
     "input": [
      "\n",
      "X_train_tr, X_test_tr, y_train_tr, y_test_tr = train_test_split(X_transformed, data['Graduated'],test_size=0.4)\n",
      "\n",
      "'''\n",
      "X_train=data['Total_Cr'].values\n",
      "X_test=data['Total_Cr'].values\n",
      "y_train=data['Graduated'].values\n",
      "y_test=data['Graduated'].values\n",
      "'''\n",
      "\n",
      "classifier = LogisticRegression()\n",
      "classifier.fit_transform(X_train_tr, y_train_tr)\n",
      "y_pred_tr = classifier.predict(X_test_tr)\n",
      "\n",
      "confusion_matrix = metrics.confusion_matrix(y_test_tr, y_pred_tr)\n",
      "print(confusion_matrix)\n",
      "plt.matshow(confusion_matrix)\n",
      "plt.title('Confusion matrix')\n",
      "plt.colorbar()\n",
      "plt.ylabel('True label')\n",
      "plt.xlabel('Predicted label')\n",
      "\n",
      "\n",
      "print(metrics.classification_report(y_test_tr, y_pred_tr))"
     ],
     "language": "python",
     "metadata": {},
     "outputs": [
      {
       "output_type": "stream",
       "stream": "stdout",
       "text": [
        "[[2086  518]\n",
        " [  98 1892]]\n",
        "             precision    recall  f1-score   support\n",
        "\n",
        "          0       0.96      0.80      0.87      2604\n",
        "          1       0.79      0.95      0.86      1990\n",
        "\n",
        "avg / total       0.88      0.87      0.87      4594\n"
       ]
      },
      {
       "output_type": "stream",
       "stream": "stdout",
       "text": [
        "\n"
       ]
      },
      {
       "metadata": {},
       "output_type": "display_data",
       "png": "[encoded data removed]",
       "text": [
        "<matplotlib.figure.Figure at 0x117e3f7d0>"
       ]
      }
     ],
     "prompt_number": 69
    },
    {
     "cell_type": "code",
     "collapsed": false,
     "input": [],
     "language": "python",
     "metadata": {},
     "outputs": []
    },
    {
     "cell_type": "code",
     "collapsed": false,
     "input": [
      "y_pred_prob_tr = classifier.predict_proba(X_test_tr)\n",
      "false_positive_rate_tr, recall_tr, thresholds_tr = metrics.roc_curve(y_test_tr,y_pred_prob_tr[:, 1])\n",
      "\n",
      "roc_auc_tr = metrics.auc(false_positive_rate_tr, recall_tr)\n",
      "plt.title('Receiver Operating Characteristic')\n",
      "plt.plot(false_positive_rate_tr, recall_tr, 'b', label='AUC = %0.2f' %roc_auc_tr)\n",
      "plt.legend(loc='lower right')\n",
      "plt.plot([0, 1], [0, 1], 'r--')\n",
      "plt.xlim([0.0, 1.0])\n",
      "plt.ylim([0.0, 1.0])\n",
      "plt.ylabel('Recall')\n",
      "plt.xlabel('Fall-out')\n",
      "plt.show()"
     ],
     "language": "python",
     "metadata": {},
     "outputs": [
      {
       "metadata": {},
       "output_type": "display_data",
       "png": "[encoded data removed]",
       "text": [
        "<matplotlib.figure.Figure at 0x11752b450>"
       ]
      }
     ],
     "prompt_number": 33
    },
    {
     "cell_type": "code",
     "collapsed": false,
     "input": [],
     "language": "python",
     "metadata": {},
     "outputs": [],
     "prompt_number": 34
    },
    {
     "cell_type": "code",
     "collapsed": false,
     "input": [
      "#running PCA on the limited numebr of classes\n",
      "from sklearn.decomposition import PCA\n",
      "pca = PCA(n_components=2)\n",
      "reduced_X = pca.fit_transform(X_transformed)\n",
      "y=data['Graduated']\n",
      "\n",
      "red_x, red_y = [], []\n",
      "blue_x, blue_y = [], []\n",
      "green_x, green_y = [], []\n",
      "for i in range(len(reduced_X)):\n",
      "    if y[i] == 0:\n",
      "        red_x.append(reduced_X[i][0])\n",
      "        red_y.append(reduced_X[i][1])\n",
      "    elif y[i] == 1:\n",
      "        blue_x.append(reduced_X[i][0])\n",
      "        blue_y.append(reduced_X[i][1])\n",
      "    else:\n",
      "        green_x.append(reduced_X[i][0])\n",
      "        green_y.append(reduced_X[i][1])\n",
      "plt.scatter(red_x, red_y, c='r', marker='x')\n",
      "plt.scatter(blue_x, blue_y, c='b', marker='D')\n",
      "plt.scatter(green_x, green_y, c='g', marker='.')\n",
      "plt.show()"
     ],
     "language": "python",
     "metadata": {},
     "outputs": [
      {
       "metadata": {},
       "output_type": "display_data",
       "png": "[encoded data removed]",
       "text": [
        "<matplotlib.figure.Figure at 0x1174e4a10>"
       ]
      }
     ],
     "prompt_number": 22
    },
    {
     "cell_type": "code",
     "collapsed": false,
     "input": [
      "len(coef_list[0])"
     ],
     "language": "python",
     "metadata": {},
     "outputs": [
      {
       "metadata": {},
       "output_type": "pyout",
       "prompt_number": 42,
       "text": [
        "56"
       ]
      }
     ],
     "prompt_number": 42
    },
    {
     "cell_type": "code",
     "collapsed": false,
     "input": [
      "print len(coef_list[coef_list<0])\n",
      "data.columns[5:].values[coef_list[0]<0]"
     ],
     "language": "python",
     "metadata": {},
     "outputs": [
      {
       "output_type": "stream",
       "stream": "stdout",
       "text": [
        "6\n"
       ]
      },
      {
       "metadata": {},
       "output_type": "pyout",
       "prompt_number": 67,
       "text": [
        "array(['PSY320L', 'PSY301', 'MATH93', 'PSY230', 'MATH92', 'MATH104'], dtype=object)"
       ]
      }
     ],
     "prompt_number": 67
    },
    {
     "cell_type": "code",
     "collapsed": false,
     "input": [
      "print len(coef_list[coef_list>0.7])\n",
      "data.columns[5:].values[coef_list[0]>0.7]"
     ],
     "language": "python",
     "metadata": {},
     "outputs": [
      {
       "output_type": "stream",
       "stream": "stdout",
       "text": [
        "9\n"
       ]
      },
      {
       "metadata": {},
       "output_type": "pyout",
       "prompt_number": 64,
       "text": [
        "array(['PSY320', 'PSY321', 'PSY460', 'PSY402L', 'PSY370', 'PSY367',\n",
        "       'PSY498C', 'PSY473BNS', 'PSY473BN'], dtype=object)"
       ]
      }
     ],
     "prompt_number": 64
    },
    {
     "cell_type": "code",
     "collapsed": false,
     "input": [
      "print len(coef_list[coef_list>0.8])\n",
      "data.columns[5:].values[coef_list[0]>0.8]"
     ],
     "language": "python",
     "metadata": {},
     "outputs": [
      {
       "output_type": "stream",
       "stream": "stdout",
       "text": [
        "2\n"
       ]
      },
      {
       "metadata": {},
       "output_type": "pyout",
       "prompt_number": 65,
       "text": [
        "array(['PSY321', 'PSY498C'], dtype=object)"
       ]
      }
     ],
     "prompt_number": 65
    },
    {
     "cell_type": "code",
     "collapsed": false,
     "input": [
      "data.columns[5:]"
     ],
     "language": "python",
     "metadata": {},
     "outputs": [
      {
       "metadata": {},
       "output_type": "pyout",
       "prompt_number": 51,
       "text": [
        "Index([u'PSY150', u'MATH140', u'PSY250', u'PSY320', u'PSY320L', u'PSY310', u'PSY321L', u'PSY321', u'PSY352', u'PSY345', u'PSY313', u'PSY301', u'PSY312', u'PSY365', u'MATH93', u'PSY302', u'PSY313L', u'PSY460', u'MATH102', u'PSY356', u'PSY361', u'PSY402L', u'PSY402', u'PSY403L', u'PSY403', u'PSY370', u'PSY367', u'PSY230', u'PSY200', u'MATH92', u'PSY345L', u'PSY369', u'PSY370L', u'PSY351', u'PSY305', u'PSY350', u'PSY383', u'PSY320LOL', u'PSY426', u'PSY453', u'PSY499C', u'PSY427', u'MATH104', u'PSY382', u'MATH105', u'PSY498C', u'PSY455', u'PSY386', u'MATH103', u'PSY454', u'PSY473BNS', u'PSY473BN', u'PSY421J', u'PSY406', u'PSY421N', u'PSY421M'], dtype='object')"
       ]
      }
     ],
     "prompt_number": 51
    },
    {
     "cell_type": "code",
     "collapsed": false,
     "input": [],
     "language": "python",
     "metadata": {},
     "outputs": []
    }
   ],
   "metadata": {}
  }
 ]
}