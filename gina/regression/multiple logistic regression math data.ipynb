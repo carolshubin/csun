{
 "metadata": {
  "name": "",
  "signature": "sha256:4aafe8b919d321785dd55c681f205ba22894dd1297ce5e297d54a6961194c6a2"
 },
 "nbformat": 3,
 "nbformat_minor": 0,
 "worksheets": [
  {
   "cells": [
    {
     "cell_type": "code",
     "collapsed": false,
     "input": [
      "%matplotlib inline\n",
      "from __future__ import division\n",
      "import numpy as np\n",
      "import pandas as pd\n",
      "from sklearn.linear_model import LogisticRegression\n",
      "import sklearn\n",
      "from sklearn import metrics\n",
      "from sklearn.cross_validation import train_test_split, cross_val_score\n",
      "import matplotlib.pyplot as plt\n",
      "#from sklearn_pandas import DataFrameMapper, cross_val_score"
     ],
     "language": "python",
     "metadata": {},
     "outputs": [],
     "prompt_number": 2
    },
    {
     "cell_type": "code",
     "collapsed": false,
     "input": [
      "data = pd.read_csv('math-redacted.csv')\n",
      "data.head()\n"
     ],
     "language": "python",
     "metadata": {},
     "outputs": [
      {
       "html": [
        "<div style=\"max-height:1000px;max-width:1500px;overflow:auto;\">\n",
        "<table border=\"1\" class=\"dataframe\">\n",
        "  <thead>\n",
        "    <tr style=\"text-align: right;\">\n",
        "      <th></th>\n",
        "      <th>Major_Cd</th>\n",
        "      <th>N_Terms</th>\n",
        "      <th>Graduated</th>\n",
        "      <th>Transfer_Cr</th>\n",
        "      <th>Inst_Cr</th>\n",
        "      <th>Total_Cr</th>\n",
        "      <th>MATH102</th>\n",
        "      <th>MATH102L</th>\n",
        "      <th>MATH103</th>\n",
        "      <th>MATH103A1</th>\n",
        "      <th>...</th>\n",
        "      <th>MATH92</th>\n",
        "      <th>MATH93</th>\n",
        "      <th>MATH93OL</th>\n",
        "      <th>MATH94</th>\n",
        "      <th>MATH94A</th>\n",
        "      <th>MATH94B</th>\n",
        "      <th>MATH95</th>\n",
        "      <th>MATH96S</th>\n",
        "      <th>MATH998A1</th>\n",
        "      <th>MATH999A1</th>\n",
        "    </tr>\n",
        "  </thead>\n",
        "  <tbody>\n",
        "    <tr>\n",
        "      <th>0</th>\n",
        "      <td> 785845B</td>\n",
        "      <td>  4</td>\n",
        "      <td> N</td>\n",
        "      <td> 96.3</td>\n",
        "      <td> 31</td>\n",
        "      <td> 127.3</td>\n",
        "      <td> 0</td>\n",
        "      <td> 0</td>\n",
        "      <td> 1</td>\n",
        "      <td> 0</td>\n",
        "      <td>...</td>\n",
        "      <td> 0</td>\n",
        "      <td> 0</td>\n",
        "      <td> 0</td>\n",
        "      <td> 0</td>\n",
        "      <td> 0</td>\n",
        "      <td> 0</td>\n",
        "      <td> 0</td>\n",
        "      <td> 0</td>\n",
        "      <td> 0</td>\n",
        "      <td> 0</td>\n",
        "    </tr>\n",
        "    <tr>\n",
        "      <th>1</th>\n",
        "      <td> 785834B</td>\n",
        "      <td> 15</td>\n",
        "      <td> N</td>\n",
        "      <td> 70.0</td>\n",
        "      <td> 51</td>\n",
        "      <td> 121.0</td>\n",
        "      <td> 0</td>\n",
        "      <td> 0</td>\n",
        "      <td> 0</td>\n",
        "      <td> 0</td>\n",
        "      <td>...</td>\n",
        "      <td> 0</td>\n",
        "      <td> 0</td>\n",
        "      <td> 0</td>\n",
        "      <td> 0</td>\n",
        "      <td> 0</td>\n",
        "      <td> 0</td>\n",
        "      <td> 0</td>\n",
        "      <td> 0</td>\n",
        "      <td> 0</td>\n",
        "      <td> 0</td>\n",
        "    </tr>\n",
        "    <tr>\n",
        "      <th>2</th>\n",
        "      <td> 785834B</td>\n",
        "      <td>  1</td>\n",
        "      <td> N</td>\n",
        "      <td> 13.0</td>\n",
        "      <td> 24</td>\n",
        "      <td>  37.0</td>\n",
        "      <td> 0</td>\n",
        "      <td> 0</td>\n",
        "      <td> 0</td>\n",
        "      <td> 0</td>\n",
        "      <td>...</td>\n",
        "      <td> 0</td>\n",
        "      <td> 0</td>\n",
        "      <td> 0</td>\n",
        "      <td> 0</td>\n",
        "      <td> 0</td>\n",
        "      <td> 0</td>\n",
        "      <td> 0</td>\n",
        "      <td> 0</td>\n",
        "      <td> 0</td>\n",
        "      <td> 0</td>\n",
        "    </tr>\n",
        "    <tr>\n",
        "      <th>3</th>\n",
        "      <td> 785834B</td>\n",
        "      <td>  3</td>\n",
        "      <td> N</td>\n",
        "      <td>  0.0</td>\n",
        "      <td> 38</td>\n",
        "      <td>  38.0</td>\n",
        "      <td> 0</td>\n",
        "      <td> 0</td>\n",
        "      <td> 0</td>\n",
        "      <td> 0</td>\n",
        "      <td>...</td>\n",
        "      <td> 0</td>\n",
        "      <td> 0</td>\n",
        "      <td> 0</td>\n",
        "      <td> 0</td>\n",
        "      <td> 0</td>\n",
        "      <td> 0</td>\n",
        "      <td> 0</td>\n",
        "      <td> 0</td>\n",
        "      <td> 0</td>\n",
        "      <td> 0</td>\n",
        "    </tr>\n",
        "    <tr>\n",
        "      <th>4</th>\n",
        "      <td> 785845B</td>\n",
        "      <td>  4</td>\n",
        "      <td> N</td>\n",
        "      <td>  6.0</td>\n",
        "      <td> 46</td>\n",
        "      <td>  52.0</td>\n",
        "      <td> 0</td>\n",
        "      <td> 0</td>\n",
        "      <td> 0</td>\n",
        "      <td> 0</td>\n",
        "      <td>...</td>\n",
        "      <td> 0</td>\n",
        "      <td> 0</td>\n",
        "      <td> 0</td>\n",
        "      <td> 0</td>\n",
        "      <td> 0</td>\n",
        "      <td> 0</td>\n",
        "      <td> 1</td>\n",
        "      <td> 0</td>\n",
        "      <td> 0</td>\n",
        "      <td> 0</td>\n",
        "    </tr>\n",
        "  </tbody>\n",
        "</table>\n",
        "<p>5 rows \u00d7 121 columns</p>\n",
        "</div>"
       ],
       "metadata": {},
       "output_type": "pyout",
       "prompt_number": 3,
       "text": [
        "  Major_Cd  N_Terms Graduated  Transfer_Cr  Inst_Cr  Total_Cr  MATH102  \\\n",
        "0  785845B        4         N         96.3       31     127.3        0   \n",
        "1  785834B       15         N         70.0       51     121.0        0   \n",
        "2  785834B        1         N         13.0       24      37.0        0   \n",
        "3  785834B        3         N          0.0       38      38.0        0   \n",
        "4  785845B        4         N          6.0       46      52.0        0   \n",
        "\n",
        "   MATH102L  MATH103  MATH103A1    ...      MATH92  MATH93  MATH93OL  MATH94  \\\n",
        "0         0        1          0    ...           0       0         0       0   \n",
        "1         0        0          0    ...           0       0         0       0   \n",
        "2         0        0          0    ...           0       0         0       0   \n",
        "3         0        0          0    ...           0       0         0       0   \n",
        "4         0        0          0    ...           0       0         0       0   \n",
        "\n",
        "   MATH94A  MATH94B  MATH95  MATH96S  MATH998A1  MATH999A1  \n",
        "0        0        0       0        0          0          0  \n",
        "1        0        0       0        0          0          0  \n",
        "2        0        0       0        0          0          0  \n",
        "3        0        0       0        0          0          0  \n",
        "4        0        0       1        0          0          0  \n",
        "\n",
        "[5 rows x 121 columns]"
       ]
      }
     ],
     "prompt_number": 3
    },
    {
     "cell_type": "code",
     "collapsed": false,
     "input": [
      "data['Graduated'].replace(to_replace=('N','Y'), value=(0,1), inplace=True)"
     ],
     "language": "python",
     "metadata": {},
     "outputs": [],
     "prompt_number": 4
    },
    {
     "cell_type": "code",
     "collapsed": false,
     "input": [
      "data[data['Graduated']==1].head()"
     ],
     "language": "python",
     "metadata": {},
     "outputs": [
      {
       "html": [
        "<div style=\"max-height:1000px;max-width:1500px;overflow:auto;\">\n",
        "<table border=\"1\" class=\"dataframe\">\n",
        "  <thead>\n",
        "    <tr style=\"text-align: right;\">\n",
        "      <th></th>\n",
        "      <th>Major_Cd</th>\n",
        "      <th>N_Terms</th>\n",
        "      <th>Graduated</th>\n",
        "      <th>Transfer_Cr</th>\n",
        "      <th>Inst_Cr</th>\n",
        "      <th>Total_Cr</th>\n",
        "      <th>MATH102</th>\n",
        "      <th>MATH102L</th>\n",
        "      <th>MATH103</th>\n",
        "      <th>MATH103A1</th>\n",
        "      <th>...</th>\n",
        "      <th>MATH92</th>\n",
        "      <th>MATH93</th>\n",
        "      <th>MATH93OL</th>\n",
        "      <th>MATH94</th>\n",
        "      <th>MATH94A</th>\n",
        "      <th>MATH94B</th>\n",
        "      <th>MATH95</th>\n",
        "      <th>MATH96S</th>\n",
        "      <th>MATH998A1</th>\n",
        "      <th>MATH999A1</th>\n",
        "    </tr>\n",
        "  </thead>\n",
        "  <tbody>\n",
        "    <tr>\n",
        "      <th>74 </th>\n",
        "      <td> 785834B</td>\n",
        "      <td> 16</td>\n",
        "      <td> 1</td>\n",
        "      <td> 62</td>\n",
        "      <td>  83</td>\n",
        "      <td> 145</td>\n",
        "      <td> 1</td>\n",
        "      <td> 0</td>\n",
        "      <td> 0</td>\n",
        "      <td> 0</td>\n",
        "      <td>...</td>\n",
        "      <td> 0</td>\n",
        "      <td> 0</td>\n",
        "      <td> 0</td>\n",
        "      <td> 0</td>\n",
        "      <td> 0</td>\n",
        "      <td> 0</td>\n",
        "      <td> 0</td>\n",
        "      <td> 0</td>\n",
        "      <td> 0</td>\n",
        "      <td> 0</td>\n",
        "    </tr>\n",
        "    <tr>\n",
        "      <th>107</th>\n",
        "      <td> 785834B</td>\n",
        "      <td> 16</td>\n",
        "      <td> 1</td>\n",
        "      <td> 70</td>\n",
        "      <td>  51</td>\n",
        "      <td> 121</td>\n",
        "      <td> 1</td>\n",
        "      <td> 0</td>\n",
        "      <td> 0</td>\n",
        "      <td> 0</td>\n",
        "      <td>...</td>\n",
        "      <td> 0</td>\n",
        "      <td> 0</td>\n",
        "      <td> 0</td>\n",
        "      <td> 0</td>\n",
        "      <td> 0</td>\n",
        "      <td> 0</td>\n",
        "      <td> 0</td>\n",
        "      <td> 0</td>\n",
        "      <td> 0</td>\n",
        "      <td> 0</td>\n",
        "    </tr>\n",
        "    <tr>\n",
        "      <th>214</th>\n",
        "      <td> 785834B</td>\n",
        "      <td>  6</td>\n",
        "      <td> 1</td>\n",
        "      <td> 86</td>\n",
        "      <td>  72</td>\n",
        "      <td> 158</td>\n",
        "      <td> 0</td>\n",
        "      <td> 0</td>\n",
        "      <td> 1</td>\n",
        "      <td> 0</td>\n",
        "      <td>...</td>\n",
        "      <td> 0</td>\n",
        "      <td> 0</td>\n",
        "      <td> 0</td>\n",
        "      <td> 0</td>\n",
        "      <td> 0</td>\n",
        "      <td> 0</td>\n",
        "      <td> 0</td>\n",
        "      <td> 0</td>\n",
        "      <td> 0</td>\n",
        "      <td> 0</td>\n",
        "    </tr>\n",
        "    <tr>\n",
        "      <th>248</th>\n",
        "      <td> 785834B</td>\n",
        "      <td> 13</td>\n",
        "      <td> 1</td>\n",
        "      <td>  0</td>\n",
        "      <td> 160</td>\n",
        "      <td> 160</td>\n",
        "      <td> 1</td>\n",
        "      <td> 0</td>\n",
        "      <td> 0</td>\n",
        "      <td> 0</td>\n",
        "      <td>...</td>\n",
        "      <td> 0</td>\n",
        "      <td> 0</td>\n",
        "      <td> 0</td>\n",
        "      <td> 0</td>\n",
        "      <td> 0</td>\n",
        "      <td> 0</td>\n",
        "      <td> 0</td>\n",
        "      <td> 0</td>\n",
        "      <td> 0</td>\n",
        "      <td> 0</td>\n",
        "    </tr>\n",
        "    <tr>\n",
        "      <th>256</th>\n",
        "      <td> 785834B</td>\n",
        "      <td>  9</td>\n",
        "      <td> 1</td>\n",
        "      <td> 73</td>\n",
        "      <td>  51</td>\n",
        "      <td> 124</td>\n",
        "      <td> 0</td>\n",
        "      <td> 0</td>\n",
        "      <td> 0</td>\n",
        "      <td> 0</td>\n",
        "      <td>...</td>\n",
        "      <td> 0</td>\n",
        "      <td> 0</td>\n",
        "      <td> 0</td>\n",
        "      <td> 0</td>\n",
        "      <td> 0</td>\n",
        "      <td> 0</td>\n",
        "      <td> 0</td>\n",
        "      <td> 0</td>\n",
        "      <td> 0</td>\n",
        "      <td> 0</td>\n",
        "    </tr>\n",
        "  </tbody>\n",
        "</table>\n",
        "<p>5 rows \u00d7 121 columns</p>\n",
        "</div>"
       ],
       "metadata": {},
       "output_type": "pyout",
       "prompt_number": 5,
       "text": [
        "    Major_Cd  N_Terms  Graduated  Transfer_Cr  Inst_Cr  Total_Cr  MATH102  \\\n",
        "74   785834B       16          1           62       83       145        1   \n",
        "107  785834B       16          1           70       51       121        1   \n",
        "214  785834B        6          1           86       72       158        0   \n",
        "248  785834B       13          1            0      160       160        1   \n",
        "256  785834B        9          1           73       51       124        0   \n",
        "\n",
        "     MATH102L  MATH103  MATH103A1    ...      MATH92  MATH93  MATH93OL  \\\n",
        "74          0        0          0    ...           0       0         0   \n",
        "107         0        0          0    ...           0       0         0   \n",
        "214         0        1          0    ...           0       0         0   \n",
        "248         0        0          0    ...           0       0         0   \n",
        "256         0        0          0    ...           0       0         0   \n",
        "\n",
        "     MATH94  MATH94A  MATH94B  MATH95  MATH96S  MATH998A1  MATH999A1  \n",
        "74        0        0        0       0        0          0          0  \n",
        "107       0        0        0       0        0          0          0  \n",
        "214       0        0        0       0        0          0          0  \n",
        "248       0        0        0       0        0          0          0  \n",
        "256       0        0        0       0        0          0          0  \n",
        "\n",
        "[5 rows x 121 columns]"
       ]
      }
     ],
     "prompt_number": 5
    },
    {
     "cell_type": "code",
     "collapsed": false,
     "input": [
      "#applying regression to Graduated vs Total_Cr\n",
      "X_train, X_test, y_train, y_test = train_test_split(data['Total_Cr'], data['Graduated'])\n",
      "\n",
      "'''\n",
      "X_train=data['Total_Cr'].values\n",
      "X_test=data['Total_Cr'].values\n",
      "y_train=data['Graduated'].values\n",
      "y_test=data['Graduated'].values\n",
      "'''\n",
      "\n",
      "classifier = LogisticRegression()\n",
      "classifier.fit(X_train.reshape(len(X_train),1), y_train)\n",
      "y_pred = classifier.predict(X_test.reshape(len(X_test),1))\n",
      "\n",
      "confusion_matrix = metrics.confusion_matrix(y_test, y_pred)\n",
      "print \"confustion matrix numbers\"\n",
      "print(confusion_matrix)\n",
      "plt.matshow(confusion_matrix)\n",
      "plt.title('Confusion matrix')\n",
      "plt.colorbar()\n",
      "plt.ylabel('True label')\n",
      "plt.xlabel('Predicted label')\n"
     ],
     "language": "python",
     "metadata": {},
     "outputs": [
      {
       "output_type": "stream",
       "stream": "stdout",
       "text": [
        "confustion matrix numbers\n",
        "[[191   0]\n",
        " [  9   0]]\n"
       ]
      },
      {
       "metadata": {},
       "output_type": "pyout",
       "prompt_number": 6,
       "text": [
        "<matplotlib.text.Text at 0x11039f650>"
       ]
      },
      {
       "metadata": {},
       "output_type": "display_data",
       "png": "[encoded data removed]",
       "text": [
        "<matplotlib.figure.Figure at 0x104829d90>"
       ]
      }
     ],
     "prompt_number": 6
    },
    {
     "cell_type": "code",
     "collapsed": false,
     "input": [
      "#accuracy\n",
      "#fraction of the classifier's predictions that are correct\n",
      "# (Yy+Nn)/n or (TP + TN + FP + FN)\n",
      "\n",
      "metrics.accuracy_score(y_test, y_pred)"
     ],
     "language": "python",
     "metadata": {},
     "outputs": [
      {
       "metadata": {},
       "output_type": "pyout",
       "prompt_number": 7,
       "text": [
        "0.95499999999999996"
       ]
      }
     ],
     "prompt_number": 7
    },
    {
     "cell_type": "markdown",
     "metadata": {},
     "source": [
      "for some reason cross_val_score for other than accuracy gives me either zero error or just zeros"
     ]
    },
    {
     "cell_type": "code",
     "collapsed": false,
     "input": [
      "#cross validation accuracy scores\n",
      "scores_accuracy = cross_val_score(LogisticRegression(),data[list(['Total_Cr'])], data['Graduated'], cv=5)\n",
      "print scores_accuracy, scores_accuracy.mean()\n",
      "\n"
     ],
     "language": "python",
     "metadata": {},
     "outputs": [
      {
       "output_type": "stream",
       "stream": "stdout",
       "text": [
        "[ 0.92546584  0.95652174  0.95625     0.96226415  0.96226415] 0.952553175905\n"
       ]
      }
     ],
     "prompt_number": 8
    },
    {
     "cell_type": "code",
     "collapsed": false,
     "input": [
      "# Precision = TP/( TP+FP) in this case all ...\n",
      "#scores_precision = cross_val_score(LogisticRegression(),data[list(['Total_Cr'])], data['Graduated'].replace(to_replace=('N','Y'), value=(0,1)), cv=5, scoring='precision')\n",
      "scores_precision = cross_val_score(LogisticRegression(),data[list(['Total_Cr'])], data['Graduated'], cv=5, scoring='precision' )\n",
      "print scores_precision, scores_precision.mean()"
     ],
     "language": "python",
     "metadata": {},
     "outputs": [
      {
       "output_type": "stream",
       "stream": "stdout",
       "text": [
        "[ 0.  0.  0.  0.  0.] 0.0\n"
       ]
      },
      {
       "output_type": "stream",
       "stream": "stderr",
       "text": [
        "/Users/lagoda/Library/Enthought/Canopy_64bit/User/lib/python2.7/site-packages/sklearn/metrics/metrics.py:1771: UndefinedMetricWarning: Precision is ill-defined and being set to 0.0 due to no predicted samples.\n",
        "  'precision', 'predicted', average, warn_for)\n"
       ]
      }
     ],
     "prompt_number": 9
    },
    {
     "cell_type": "code",
     "collapsed": false,
     "input": [
      "# Recall = TP/ TP+FN\n",
      "scores_recall = cross_val_score(LogisticRegression(),data[list(['Total_Cr'])], data['Graduated'], cv=5, scoring='recall')\n",
      "print scores_recall, scores_recall.mean()"
     ],
     "language": "python",
     "metadata": {},
     "outputs": [
      {
       "output_type": "stream",
       "stream": "stdout",
       "text": [
        "[ 0.  0.  0.  0.  0.] 0.0\n"
       ]
      }
     ],
     "prompt_number": 10
    },
    {
     "cell_type": "code",
     "collapsed": false,
     "input": [
      "# accuracy, precision, recall, F1 measure, and ROC AUC score"
     ],
     "language": "python",
     "metadata": {},
     "outputs": [],
     "prompt_number": 11
    },
    {
     "cell_type": "markdown",
     "metadata": {},
     "source": [
      "The F1 measure is the harmonic mean, or weighted average, of the precision and recall scores. Also called the f-measure or the f-score, the F1 score is calculated using the following formula:\n",
      "F1=2 P*R / P+R"
     ]
    },
    {
     "cell_type": "code",
     "collapsed": false,
     "input": [
      "model=LogisticRegression()\n",
      "fs1 = cross_val_score(model,data[list(['Total_Cr'])], data['Graduated'], cv=5, scoring='f1')\n",
      "print fs1, fs1.mean()"
     ],
     "language": "python",
     "metadata": {},
     "outputs": [
      {
       "output_type": "stream",
       "stream": "stdout",
       "text": [
        "[ 0.  0.  0.  0.  0.] 0.0\n"
       ]
      },
      {
       "output_type": "stream",
       "stream": "stderr",
       "text": [
        "/Users/lagoda/Library/Enthought/Canopy_64bit/User/lib/python2.7/site-packages/sklearn/metrics/metrics.py:1771: UndefinedMetricWarning: F-score is ill-defined and being set to 0.0 due to no predicted samples.\n",
        "  'precision', 'predicted', average, warn_for)\n"
       ]
      }
     ],
     "prompt_number": 12
    },
    {
     "cell_type": "markdown",
     "metadata": {},
     "source": [
      "F= FP / TN + FP"
     ]
    },
    {
     "cell_type": "code",
     "collapsed": false,
     "input": [
      "#several metrics together\n",
      "print (metrics.classification_report(y_test, y_pred))"
     ],
     "language": "python",
     "metadata": {},
     "outputs": [
      {
       "output_type": "stream",
       "stream": "stdout",
       "text": [
        "             precision    recall  f1-score   support\n",
        "\n",
        "          0       0.95      1.00      0.98       191\n",
        "          1       0.00      0.00      0.00         9\n",
        "\n",
        "avg / total       0.91      0.95      0.93       200\n",
        "\n"
       ]
      },
      {
       "output_type": "stream",
       "stream": "stderr",
       "text": [
        "/Users/lagoda/Library/Enthought/Canopy_64bit/User/lib/python2.7/site-packages/sklearn/metrics/metrics.py:1771: UndefinedMetricWarning: Precision and F-score are ill-defined and being set to 0.0 in labels with no predicted samples.\n",
        "  'precision', 'predicted', average, warn_for)\n"
       ]
      }
     ],
     "prompt_number": 13
    },
    {
     "cell_type": "code",
     "collapsed": false,
     "input": [
      "X_test"
     ],
     "language": "python",
     "metadata": {},
     "outputs": [
      {
       "metadata": {},
       "output_type": "pyout",
       "prompt_number": 14,
       "text": [
        "array([  50. ,   96. ,   14. ,   14. ,  109. ,   84.7,   28. ,   82. ,\n",
        "         67. ,   97. ,   45. ,  108. ,   75. ,   73. ,   91. ,   85. ,\n",
        "         41. ,   55. ,  133. ,  105.9,   81. ,  103. ,   77. ,  102. ,\n",
        "        100. ,   83. ,   23. ,   53. ,   47. ,   73. ,   15. ,   81. ,\n",
        "         64. ,   31. ,   42. ,  104. ,   83. ,   72. ,   47. ,   25. ,\n",
        "        101. ,  119. ,   59. ,   54. ,  171. ,   62. ,   27. ,   58.2,\n",
        "         52. ,  122. ,   24. ,  161. ,   94. ,  135. ,   82. ,  162.6,\n",
        "         64. ,  126. ,    0. ,   15. ,   94. ,   95. ,   70. ,   78. ,\n",
        "         76. ,   92. ,  111. ,  140.9,  101. ,   67. ,   26. ,   97. ,\n",
        "          0. ,  104. ,  149. ,   81. ,   77. ,   70. ,   82. ,  119.5,\n",
        "        103. ,   14. ,   46. ,   40. ,   22. ,   24. ,   35. ,   73. ,\n",
        "         93. ,  115. ,   73. ,   96.7,    6. ,   82. ,   84. ,   70.1,\n",
        "        124. ,  137. ,   87. ,   99. ,   22. ,   54. ,   27. ,  167. ,\n",
        "         41. ,   54. ,   83. ,   73. ,   33. ,   89. ,   65. ,  120. ,\n",
        "          0. ,  148. ,  136.6,   83. ,   70. ,   19. ,   82. ,   20. ,\n",
        "         70. ,   97. ,   66. ,  114. ,   83. ,   21. ,   79. ,   62. ,\n",
        "         75. ,   54. ,   16. ,   73.6,   65. ,   82. ,   36. ,  132. ,\n",
        "         60. ,  152. ,   46.5,   85. ,   70. ,   66. ,  109.5,   70. ,\n",
        "        102. ,   29. ,   47. ,   71. ,  106. ,  122. ,  109. ,   84. ,\n",
        "          6. ,  113. ,   94. ,   93.3,  148. ,   75. ,   81. ,   75.5,\n",
        "         49. ,  128. ,   15. ,  114. ,   66. ,   99. ,   88. ,   62. ,\n",
        "         69. ,  101. ,   76. ,   39. ,   52. ,   84.3,   69. ,   65.5,\n",
        "         82. ,   71. ,   84. ,  123. ,  113. ,   73. ,  139. ,   88. ,\n",
        "        128. ,   91. ,   82. ,   69. ,   44. ,   24. ,   34. ,   19. ,\n",
        "         76. ,   85. ,  145.3,   97.9,   13. ,  120. ,  112. ,  133. ])"
       ]
      }
     ],
     "prompt_number": 14
    },
    {
     "cell_type": "code",
     "collapsed": false,
     "input": [
      "#plotting ROC curve\n",
      "y_pred_prob = classifier.predict_proba(X_test.reshape(len(X_test),1))\n",
      "false_positive_rate, recall, thresholds = metrics.roc_curve(y_test,y_pred_prob[:, 1])\n",
      "roc_auc = metrics.auc(false_positive_rate, recall)\n",
      "plt.title('Receiver Operating Characteristic')\n",
      "plt.plot(false_positive_rate, recall, 'b', label='AUC = %0.2f' %roc_auc)\n",
      "plt.legend(loc='lower right')\n",
      "plt.plot([0, 1], [0, 1], 'r--')\n",
      "plt.xlim([0.0, 1.0])\n",
      "plt.ylim([0.0, 1.0])\n",
      "plt.ylabel('Recall')\n",
      "plt.xlabel('Fall-out')\n",
      "plt.show()"
     ],
     "language": "python",
     "metadata": {},
     "outputs": [
      {
       "metadata": {},
       "output_type": "display_data",
       "png": "[encoded data removed]",
       "text": [
        "<matplotlib.figure.Figure at 0x1103cb150>"
       ]
      }
     ],
     "prompt_number": 15
    },
    {
     "cell_type": "code",
     "collapsed": false,
     "input": [
      "data[['N_Terms','Transfer_Cr','Total_Cr']].head()"
     ],
     "language": "python",
     "metadata": {},
     "outputs": [
      {
       "html": [
        "<div style=\"max-height:1000px;max-width:1500px;overflow:auto;\">\n",
        "<table border=\"1\" class=\"dataframe\">\n",
        "  <thead>\n",
        "    <tr style=\"text-align: right;\">\n",
        "      <th></th>\n",
        "      <th>N_Terms</th>\n",
        "      <th>Transfer_Cr</th>\n",
        "      <th>Total_Cr</th>\n",
        "    </tr>\n",
        "  </thead>\n",
        "  <tbody>\n",
        "    <tr>\n",
        "      <th>0</th>\n",
        "      <td>  4</td>\n",
        "      <td> 96.3</td>\n",
        "      <td> 127.3</td>\n",
        "    </tr>\n",
        "    <tr>\n",
        "      <th>1</th>\n",
        "      <td> 15</td>\n",
        "      <td> 70.0</td>\n",
        "      <td> 121.0</td>\n",
        "    </tr>\n",
        "    <tr>\n",
        "      <th>2</th>\n",
        "      <td>  1</td>\n",
        "      <td> 13.0</td>\n",
        "      <td>  37.0</td>\n",
        "    </tr>\n",
        "    <tr>\n",
        "      <th>3</th>\n",
        "      <td>  3</td>\n",
        "      <td>  0.0</td>\n",
        "      <td>  38.0</td>\n",
        "    </tr>\n",
        "    <tr>\n",
        "      <th>4</th>\n",
        "      <td>  4</td>\n",
        "      <td>  6.0</td>\n",
        "      <td>  52.0</td>\n",
        "    </tr>\n",
        "  </tbody>\n",
        "</table>\n",
        "</div>"
       ],
       "metadata": {},
       "output_type": "pyout",
       "prompt_number": 16,
       "text": [
        "   N_Terms  Transfer_Cr  Total_Cr\n",
        "0        4         96.3     127.3\n",
        "1       15         70.0     121.0\n",
        "2        1         13.0      37.0\n",
        "3        3          0.0      38.0\n",
        "4        4          6.0      52.0"
       ]
      }
     ],
     "prompt_number": 16
    },
    {
     "cell_type": "code",
     "collapsed": false,
     "input": [
      "#multiple regression on Graduated vs. 'N_Terms','Transfer_Cr','Total_Cr'\n",
      "#performs slightly better than random guessing\n",
      "\n",
      "X_train_ml, X_test_ml, y_train_ml, y_test_ml = train_test_split(data[['N_Terms','Transfer_Cr','Total_Cr']], data['Graduated'])\n",
      "\n",
      "'''\n",
      "X_train=data['Total_Cr'].values\n",
      "X_test=data['Total_Cr'].values\n",
      "y_train=data['Graduated'].values\n",
      "y_test=data['Graduated'].values\n",
      "'''\n",
      "\n",
      "classifier = LogisticRegression()\n",
      "classifier.fit(X_train_ml, y_train_ml)\n",
      "y_pred_ml = classifier.predict(X_test_ml)\n",
      "\n",
      "confusion_matrix = metrics.confusion_matrix(y_test_ml, y_pred_ml)\n",
      "print(confusion_matrix)\n",
      "plt.matshow(confusion_matrix)\n",
      "plt.title('Confusion matrix')\n",
      "plt.colorbar()\n",
      "plt.ylabel('True label')\n",
      "plt.xlabel('Predicted label')\n",
      "#_________Pred_n=P Pred_y=N\n",
      "#  Ntrue_P\n",
      "#  Ytrue_N\n",
      "X_train_ml"
     ],
     "language": "python",
     "metadata": {},
     "outputs": [
      {
       "output_type": "stream",
       "stream": "stdout",
       "text": [
        "[[194   2]\n",
        " [  4   0]]\n"
       ]
      },
      {
       "metadata": {},
       "output_type": "pyout",
       "prompt_number": 17,
       "text": [
        "array([[  6.,  60.,  72.],\n",
        "       [  2.,  70.,  75.],\n",
        "       [  2.,  45.,  57.],\n",
        "       ..., \n",
        "       [  3.,   0.,  12.],\n",
        "       [  5.,   0.,  39.],\n",
        "       [  1.,  12.,  21.]])"
       ]
      },
      {
       "metadata": {},
       "output_type": "display_data",
       "png": "[encoded data removed]",
       "text": [
        "<matplotlib.figure.Figure at 0x1037ede50>"
       ]
      }
     ],
     "prompt_number": 17
    },
    {
     "cell_type": "code",
     "collapsed": false,
     "input": [
      "scores_accuracy_ml = cross_val_score(LogisticRegression(),data[['N_Terms','Transfer_Cr','Total_Cr']], data['Graduated'], cv=5)\n",
      "print scores_accuracy, scores_accuracy.mean()"
     ],
     "language": "python",
     "metadata": {},
     "outputs": [
      {
       "output_type": "stream",
       "stream": "stdout",
       "text": [
        "[ 0.92546584  0.95652174  0.95625     0.96226415  0.96226415] 0.952553175905\n"
       ]
      }
     ],
     "prompt_number": 18
    },
    {
     "cell_type": "code",
     "collapsed": false,
     "input": [
      "scores_precision_ml = cross_val_score(LogisticRegression(),data[['N_Terms','Transfer_Cr','Total_Cr']], data['Graduated'], cv=5, scoring='precision')\n",
      "print scores_precision, scores_precision.mean()\n",
      "#since the previous one always gives me zeros, i tried to go one by one: metrics.precision_score\n",
      "metrics.precision_score(y_test_ml, y_pred_ml, labels=None)"
     ],
     "language": "python",
     "metadata": {},
     "outputs": [
      {
       "output_type": "stream",
       "stream": "stdout",
       "text": [
        "[ 0.  0.  0.  0.  0.] 0.0\n"
       ]
      },
      {
       "metadata": {},
       "output_type": "pyout",
       "prompt_number": 19,
       "text": [
        "0.0"
       ]
      }
     ],
     "prompt_number": 19
    },
    {
     "cell_type": "code",
     "collapsed": false,
     "input": [
      "scores_recall_ml = cross_val_score(LogisticRegression(),data[['N_Terms','Transfer_Cr','Total_Cr']], data['Graduated'], cv=5, scoring='recall')\n",
      "print scores_recall, scores_recall.mean()\n",
      "metrics.recall_score(y_test_ml, y_pred_ml, labels=None, pos_label=1)"
     ],
     "language": "python",
     "metadata": {},
     "outputs": [
      {
       "output_type": "stream",
       "stream": "stdout",
       "text": [
        "[ 0.  0.  0.  0.  0.] 0.0\n"
       ]
      },
      {
       "metadata": {},
       "output_type": "pyout",
       "prompt_number": 20,
       "text": [
        "0.0"
       ]
      }
     ],
     "prompt_number": 20
    },
    {
     "cell_type": "code",
     "collapsed": false,
     "input": [
      "fs1_ml = cross_val_score(LogisticRegression(),data[['N_Terms','Transfer_Cr','Total_Cr']], data['Graduated'], cv=5, scoring='f1')\n",
      "print fs1, fs1.mean()\n",
      "metrics.f1_score(y_test_ml, y_pred_ml, labels=None, pos_label=1)"
     ],
     "language": "python",
     "metadata": {},
     "outputs": [
      {
       "output_type": "stream",
       "stream": "stdout",
       "text": [
        "[ 0.  0.  0.  0.  0.] 0.0\n"
       ]
      },
      {
       "metadata": {},
       "output_type": "pyout",
       "prompt_number": 21,
       "text": [
        "0.0"
       ]
      }
     ],
     "prompt_number": 21
    },
    {
     "cell_type": "code",
     "collapsed": false,
     "input": [
      "print(metrics.classification_report(y_test_ml, y_pred_ml))"
     ],
     "language": "python",
     "metadata": {},
     "outputs": [
      {
       "output_type": "stream",
       "stream": "stdout",
       "text": [
        "             precision    recall  f1-score   support\n",
        "\n",
        "          0       0.98      0.99      0.98       196\n",
        "          1       0.00      0.00      0.00         4\n",
        "\n",
        "avg / total       0.96      0.97      0.97       200\n",
        "\n"
       ]
      }
     ],
     "prompt_number": 22
    },
    {
     "cell_type": "code",
     "collapsed": false,
     "input": [
      "false_positive_rate_ml, recall_ml, thresholds_ml = metrics.roc_curve(y_test_ml,y_pred_ml)\n",
      "roc_auc_ml = metrics.auc(false_positive_rate_ml, recall_ml)\n",
      "plt.title('Receiver Operating Characteristic')\n",
      "plt.plot(false_positive_rate_ml, recall_ml, 'b', label='AUC = %0.2f' %roc_auc_ml)\n",
      "plt.legend(loc='lower right')\n",
      "plt.plot([0, 1], [0, 1], 'r--')\n",
      "plt.xlim([0.0, 1.0])\n",
      "plt.ylim([0.0, 1.0])\n",
      "plt.ylabel('Recall')\n",
      "plt.xlabel('Fall-out')\n",
      "plt.show()"
     ],
     "language": "python",
     "metadata": {},
     "outputs": [
      {
       "metadata": {},
       "output_type": "display_data",
       "png": "[encoded data removed]",
       "text": [
        "<matplotlib.figure.Figure at 0x1103aa7d0>"
       ]
      }
     ],
     "prompt_number": 23
    },
    {
     "cell_type": "code",
     "collapsed": false,
     "input": [
      "#will try multiple regression on the class columns\n",
      "\n",
      "data.columns[6:]"
     ],
     "language": "python",
     "metadata": {},
     "outputs": [
      {
       "metadata": {},
       "output_type": "pyout",
       "prompt_number": 24,
       "text": [
        "Index([u'MATH102', u'MATH102L', u'MATH103', u'MATH103A1', u'MATH103L', u'MATH104', u'MATH104L', u'MATH105', u'MATH105L', u'MATH106', u'MATH131', u'MATH140', u'MATH140A1', u'MATH140OL', u'MATH150A', u'MATH150AA1', u'MATH150AL', u'MATH150B', u'MATH150BA1', u'MATH150BL', u'MATH196HL', u'MATH196LOL', u'MATH196NL', u'MATH210', u'MATH250', u'MATH255A', u'MATH255B', u'MATH262', u'MATH280', u'MATH310', u'MATH310L', u'MATH311', u'MATH312', u'MATH320', u'MATH326', u'MATH331', u'MATH331OL', u'MATH340', u'MATH341', u'MATH350', u'MATH351', u'MATH360', u'MATH364', u'MATH366', u'MATH370', u'MATH373', u'MATH380', u'MATH382', u'MATH382L', u'MATH391', u'MATH392I1', u'MATH396CL', u'MATH396-1', u'MATH396-1L', u'MATH396MA', u'MATH411', u'MATH412', u'MATH440A', u'MATH440B', u'MATH441', u'MATH450', u'MATH455', u'MATH460', u'MATH462', u'MATH463', u'MATH464', u'MATH470', u'MATH480', u'MATH481A', u'MATH482', u'MATH483', u'MATH490', u'MATH493', u'MATH494', u'MATH496-1', u'MATH496-1L', u'MATH499A', u'MATH499B', u'MATH499C', u'MATH501', u'MATH512A', u'MATH514A', u'MATH540', u'MATH542A', u'MATH542B', u'MATH542C', u'MATH542D', u'MATH550', u'MATH552', u'MATH560', u'MATH570', u'MATH571', u'MATH581', u'MATH582A', u'MATH582B', u'MATH582D', u'MATH592A', u'MATH592D', u'MATH599C', u'MATH625', ...], dtype='object')"
       ]
      }
     ],
     "prompt_number": 24
    },
    {
     "cell_type": "code",
     "collapsed": false,
     "input": [
      "X_raw=data[data.columns[6:]]\n",
      "X_train_ml, X_test_ml, y_train_ml, y_test_ml = train_test_split(X_raw, data['Graduated'],test_size=0.2)\n",
      "\n",
      "'''\n",
      "X_train=data['Total_Cr'].values\n",
      "X_test=data['Total_Cr'].values\n",
      "y_train=data['Graduated'].values\n",
      "y_test=data['Graduated'].values\n",
      "'''\n",
      "\n",
      "classifier = LogisticRegression()\n",
      "classifier.fit(X_train_ml, y_train_ml)\n",
      "y_pred_ml = classifier.predict(X_test_ml)\n",
      "\n",
      "confusion_matrix = metrics.confusion_matrix(y_test_ml, y_pred_ml)\n",
      "print(confusion_matrix)\n",
      "plt.matshow(confusion_matrix)\n",
      "plt.title('Confusion matrix')\n",
      "plt.colorbar()\n",
      "plt.ylabel('True label')\n",
      "plt.xlabel('Predicted label')\n",
      "\n",
      "\n",
      "coef_list=classifier.coef_"
     ],
     "language": "python",
     "metadata": {},
     "outputs": [
      {
       "output_type": "stream",
       "stream": "stdout",
       "text": [
        "[[152   3]\n",
        " [  4   1]]\n"
       ]
      },
      {
       "metadata": {},
       "output_type": "display_data",
       "png": "[encoded data removed]",
       "text": [
        "<matplotlib.figure.Figure at 0x1103a3410>"
       ]
      }
     ],
     "prompt_number": 25
    },
    {
     "cell_type": "code",
     "collapsed": false,
     "input": [
      "print(metrics.classification_report(y_test_ml, y_pred_ml))"
     ],
     "language": "python",
     "metadata": {},
     "outputs": [
      {
       "output_type": "stream",
       "stream": "stdout",
       "text": [
        "             precision    recall  f1-score   support\n",
        "\n",
        "          0       0.97      0.98      0.98       155\n",
        "          1       0.25      0.20      0.22         5\n",
        "\n",
        "avg / total       0.95      0.96      0.95       160\n",
        "\n"
       ]
      }
     ],
     "prompt_number": 26
    },
    {
     "cell_type": "code",
     "collapsed": false,
     "input": [
      "classifier.score(X_test_ml, y_test_ml) #accuracy"
     ],
     "language": "python",
     "metadata": {},
     "outputs": [
      {
       "metadata": {},
       "output_type": "pyout",
       "prompt_number": 27,
       "text": [
        "0.95625000000000004"
       ]
      }
     ],
     "prompt_number": 27
    },
    {
     "cell_type": "code",
     "collapsed": false,
     "input": [
      "#ROC curve looks better, but far from being perfect\n",
      "\n",
      "y_pred_prob_ml = classifier.predict_proba(X_test_ml)\n",
      "false_positive_rate_ml, recall_ml, thresholds_ml = metrics.roc_curve(y_test_ml,y_pred_prob_ml[:, 1])\n",
      "roc_auc_ml = metrics.auc(false_positive_rate_ml, recall_ml)\n",
      "plt.title('Receiver Operating Characteristic')\n",
      "plt.plot(false_positive_rate_ml, recall_ml, 'b', label='AUC = %0.2f' %roc_auc_ml)\n",
      "plt.legend(loc='lower right')\n",
      "plt.plot([0, 1], [0, 1], 'r--')\n",
      "plt.xlim([0.0, 1.0])\n",
      "plt.ylim([0.0, 1.0])\n",
      "plt.ylabel('Recall')\n",
      "plt.xlabel('Fall-out')\n",
      "plt.show()\n",
      "\n"
     ],
     "language": "python",
     "metadata": {},
     "outputs": [
      {
       "metadata": {},
       "output_type": "display_data",
       "png": "[encoded data removed]",
       "text": [
        "<matplotlib.figure.Figure at 0x110f1e1d0>"
       ]
      }
     ],
     "prompt_number": 28
    },
    {
     "cell_type": "code",
     "collapsed": false,
     "input": [
      "thresholds_ml"
     ],
     "language": "python",
     "metadata": {},
     "outputs": [
      {
       "metadata": {},
       "output_type": "pyout",
       "prompt_number": 29,
       "text": [
        "array([  9.27133210e-01,   6.75217947e-01,   5.19398649e-01,\n",
        "         5.09028523e-01,   4.29052366e-01,   3.97832059e-01,\n",
        "         3.72703563e-01,   2.82643619e-01,   2.47271500e-01,\n",
        "         2.37206598e-01,   2.11955993e-01,   1.22361129e-01,\n",
        "         1.18233715e-01,   1.04142168e-01,   1.02128896e-01,\n",
        "         9.89703929e-02,   9.79188018e-02,   8.89369340e-02,\n",
        "         7.36498423e-02,   6.14725923e-02,   5.36600903e-02,\n",
        "         5.11927336e-02,   4.45899887e-02,   4.38231997e-02,\n",
        "         4.32164426e-02,   3.73180863e-02,   3.45624969e-02,\n",
        "         3.45069729e-02,   3.34997251e-02,   3.17291652e-02,\n",
        "         2.96663920e-02,   2.69178429e-02,   2.60424962e-02,\n",
        "         2.57827490e-02,   2.49909965e-02,   2.46975874e-02,\n",
        "         2.33663653e-02,   2.33595304e-02,   2.20025363e-02,\n",
        "         2.11113307e-02,   2.08000239e-02,   2.00761130e-02,\n",
        "         1.96972061e-02,   1.91836476e-02,   1.91605019e-02,\n",
        "         1.91564939e-02,   1.87680868e-02,   1.85646442e-02,\n",
        "         1.78349238e-02,   1.75650769e-02,   1.73637995e-02,\n",
        "         1.72544517e-02,   1.72468470e-02,   1.59566882e-02,\n",
        "         1.57098229e-02,   1.56828507e-02,   1.55218416e-02,\n",
        "         1.55031342e-02,   1.54055120e-02,   1.49462229e-02,\n",
        "         1.49226544e-02,   1.48991225e-02,   1.45506511e-02,\n",
        "         1.44783219e-02,   1.44638621e-02,   1.40833014e-02,\n",
        "         1.31338338e-02,   1.28471667e-02,   1.26195479e-02,\n",
        "         1.25238619e-02,   1.23693303e-02,   1.20330134e-02,\n",
        "         1.18671414e-02,   1.13051972e-02,   1.07909853e-02,\n",
        "         1.07798654e-02,   1.04400332e-02,   1.03311153e-02,\n",
        "         1.02893939e-02,   1.01596412e-02,   1.01219606e-02,\n",
        "         1.00886554e-02,   9.34248056e-03,   9.23089835e-03,\n",
        "         8.92234629e-03,   8.90819085e-03,   8.80538072e-03,\n",
        "         8.65983395e-03,   8.59506970e-03,   8.45044539e-03,\n",
        "         8.40375661e-03,   8.38078109e-03,   8.34531637e-03,\n",
        "         8.24896591e-03,   8.17411083e-03,   8.13508266e-03,\n",
        "         7.78796951e-03,   7.78103872e-03,   7.72024164e-03,\n",
        "         7.61393671e-03,   7.33640013e-03,   7.15921494e-03,\n",
        "         6.95438777e-03,   6.90076958e-03,   6.57591655e-03,\n",
        "         6.54219241e-03,   6.24672131e-03,   6.21283816e-03,\n",
        "         6.20658129e-03,   6.18684936e-03,   6.04476081e-03,\n",
        "         6.00455640e-03,   5.92464121e-03,   5.92102972e-03,\n",
        "         5.79520056e-03,   5.76986788e-03,   5.32864103e-03,\n",
        "         5.32855907e-03,   5.05493171e-03,   4.97524620e-03,\n",
        "         4.91610727e-03,   4.73251927e-03,   4.69638246e-03,\n",
        "         4.65184128e-03,   4.60331239e-03,   4.57171590e-03,\n",
        "         4.53248459e-03,   4.42489855e-03,   4.26617012e-03,\n",
        "         4.21985199e-03,   4.19482841e-03,   3.96174909e-03,\n",
        "         3.62165769e-03,   3.51117284e-03,   3.48691609e-03,\n",
        "         3.37187145e-03,   3.30432679e-03,   3.20990075e-03,\n",
        "         2.43177325e-03,   2.41886367e-03,   2.35302094e-03,\n",
        "         2.33700444e-03,   2.32474767e-03,   2.18503817e-03,\n",
        "         2.14151369e-03,   2.10150986e-03,   1.84086929e-03,\n",
        "         1.54252522e-03,   1.46868278e-03,   1.35080175e-03,\n",
        "         1.17093878e-03,   1.03196963e-03,   9.43178767e-04,\n",
        "         9.08047838e-04,   1.85293757e-04])"
       ]
      }
     ],
     "prompt_number": 29
    },
    {
     "cell_type": "code",
     "collapsed": false,
     "input": [
      "#using PCA to reduce dimention of vertor space and plot it in 2D\n",
      "from sklearn.decomposition import PCA\n",
      "pca = PCA(n_components=2)\n",
      "reduced_X = pca.fit_transform(X_raw)\n",
      "y=data['Graduated']\n",
      "\n",
      "red_x, red_y = [], []\n",
      "blue_x, blue_y = [], []\n",
      "green_x, green_y = [], []\n",
      "for i in range(len(reduced_X)):\n",
      "    if y[i] == 0:\n",
      "        red_x.append(reduced_X[i][0])\n",
      "        red_y.append(reduced_X[i][1])\n",
      "    elif y[i] == 1:\n",
      "        blue_x.append(reduced_X[i][0])\n",
      "        blue_y.append(reduced_X[i][1])\n",
      "    else:\n",
      "        green_x.append(reduced_X[i][0])\n",
      "        green_y.append(reduced_X[i][1])\n",
      "plt.scatter(red_x, red_y, c='r', marker='x')\n",
      "plt.scatter(blue_x, blue_y, c='b', marker='D')\n",
      "plt.scatter(green_x, green_y, c='g', marker='.')\n",
      "plt.show()"
     ],
     "language": "python",
     "metadata": {},
     "outputs": [
      {
       "metadata": {},
       "output_type": "display_data",
       "png": "[encoded data removed]",
       "text": [
        "<matplotlib.figure.Figure at 0x1103cc750>"
       ]
      }
     ],
     "prompt_number": 30
    },
    {
     "cell_type": "code",
     "collapsed": false,
     "input": [
      "#trying log regression with only certain types of classes\n",
      "\n",
      "X_raw_r=data[['MATH150A','MATH150B','MATH250', 'MATH262','MATH320']]\n",
      "X_train_ml, X_test_ml, y_train_ml, y_test_ml = train_test_split(X_raw_r, data['Graduated'],test_size=0.5)\n",
      "\n",
      "'''\n",
      "X_train=data['Total_Cr'].values\n",
      "X_test=data['Total_Cr'].values\n",
      "y_train=data['Graduated'].values\n",
      "y_test=data['Graduated'].values\n",
      "'''\n",
      "\n",
      "classifier = LogisticRegression()\n",
      "classifier.fit_transform(X_train_ml, y_train_ml)\n",
      "y_pred_ml = classifier.predict(X_test_ml)\n",
      "\n",
      "confusion_matrix = metrics.confusion_matrix(y_test_ml, y_pred_ml)\n",
      "print(confusion_matrix)\n",
      "plt.matshow(confusion_matrix)\n",
      "plt.title('Confusion matrix')\n",
      "plt.colorbar()\n",
      "plt.ylabel('True label')\n",
      "plt.xlabel('Predicted label')\n",
      "\n"
     ],
     "language": "python",
     "metadata": {},
     "outputs": [
      {
       "output_type": "stream",
       "stream": "stdout",
       "text": [
        "[[381   0]\n",
        " [ 19   0]]\n"
       ]
      },
      {
       "metadata": {},
       "output_type": "pyout",
       "prompt_number": 31,
       "text": [
        "<matplotlib.text.Text at 0x110f1e290>"
       ]
      },
      {
       "metadata": {},
       "output_type": "display_data",
       "png": "[encoded data removed]",
       "text": [
        "<matplotlib.figure.Figure at 0x110a49bd0>"
       ]
      }
     ],
     "prompt_number": 31
    },
    {
     "cell_type": "code",
     "collapsed": false,
     "input": [
      "#trying to extract the most influential features \n",
      "#so, of 115 classes we selected only 8 most influential\n",
      "X_raw=data[data.columns[6:]]\n",
      "X_train_ml, X_test_ml, y_train_ml, y_test_ml = train_test_split(X_raw, data['Graduated'],test_size=0.2)\n",
      "\n",
      "classifier = LogisticRegression()\n",
      "classifier.fit(X_train_ml, y_train_ml)\n",
      "y_pred_ml = classifier.predict(X_test_ml)\n",
      "\n",
      "\n",
      "#gives an error if run twice - before running for the second time must rerun the code where X_raw and classifier are first defined\n",
      "X_transformed=classifier.transform(X_raw, threshold=0.7)\n",
      "#X_transformed=X_raw_r\n",
      "print len(X_transformed[0])\n",
      "print len(X_raw.values[0])\n",
      "\n",
      "classifier.get_params()"
     ],
     "language": "python",
     "metadata": {},
     "outputs": [
      {
       "output_type": "stream",
       "stream": "stdout",
       "text": [
        "7\n",
        "115\n"
       ]
      },
      {
       "metadata": {},
       "output_type": "pyout",
       "prompt_number": 32,
       "text": [
        "{'C': 1.0,\n",
        " 'class_weight': None,\n",
        " 'dual': False,\n",
        " 'fit_intercept': True,\n",
        " 'intercept_scaling': 1,\n",
        " 'penalty': 'l2',\n",
        " 'random_state': None,\n",
        " 'tol': 0.0001}"
       ]
      }
     ],
     "prompt_number": 32
    },
    {
     "cell_type": "code",
     "collapsed": false,
     "input": [
      "\n",
      "X_train_tr, X_test_tr, y_train_tr, y_test_tr = train_test_split(X_transformed, data['Graduated'],test_size=0.2)\n",
      "\n",
      "'''\n",
      "X_train=data['Total_Cr'].values\n",
      "X_test=data['Total_Cr'].values\n",
      "y_train=data['Graduated'].values\n",
      "y_test=data['Graduated'].values\n",
      "'''\n",
      "\n",
      "classifier = LogisticRegression()\n",
      "classifier.fit_transform(X_train_tr, y_train_tr)\n",
      "y_pred_tr = classifier.predict(X_test_tr)\n",
      "\n",
      "confusion_matrix = metrics.confusion_matrix(y_test_tr, y_pred_tr)\n",
      "print(confusion_matrix)\n",
      "plt.matshow(confusion_matrix)\n",
      "plt.title('Confusion matrix')\n",
      "plt.colorbar()\n",
      "plt.ylabel('True label')\n",
      "plt.xlabel('Predicted label')\n",
      "\n"
     ],
     "language": "python",
     "metadata": {},
     "outputs": [
      {
       "output_type": "stream",
       "stream": "stdout",
       "text": [
        "[[152   0]\n",
        " [  5   3]]\n"
       ]
      },
      {
       "metadata": {},
       "output_type": "pyout",
       "prompt_number": 33,
       "text": [
        "<matplotlib.text.Text at 0x110a3ad90>"
       ]
      },
      {
       "metadata": {},
       "output_type": "display_data",
       "png": "[encoded data removed]",
       "text": [
        "<matplotlib.figure.Figure at 0x1103d09d0>"
       ]
      }
     ],
     "prompt_number": 33
    },
    {
     "cell_type": "code",
     "collapsed": false,
     "input": [
      "y_pred_prob_tr = classifier.predict_proba(X_test_tr)\n",
      "false_positive_rate_tr, recall_tr, thresholds_tr = metrics.roc_curve(y_test_tr,y_pred_prob_tr[:, 1])\n",
      "\n",
      "roc_auc_tr = metrics.auc(false_positive_rate_tr, recall_tr)\n",
      "plt.title('Receiver Operating Characteristic')\n",
      "plt.plot(false_positive_rate_tr, recall_tr, 'b', label='AUC = %0.2f' %roc_auc_tr)\n",
      "plt.legend(loc='lower right')\n",
      "plt.plot([0, 1], [0, 1], 'r--')\n",
      "plt.xlim([0.0, 1.0])\n",
      "plt.ylim([0.0, 1.0])\n",
      "plt.ylabel('Recall')\n",
      "plt.xlabel('Fall-out')\n",
      "plt.show()"
     ],
     "language": "python",
     "metadata": {},
     "outputs": [
      {
       "metadata": {},
       "output_type": "display_data",
       "png": "[encoded data removed]",
       "text": [
        "<matplotlib.figure.Figure at 0x112522ed0>"
       ]
      }
     ],
     "prompt_number": 34
    },
    {
     "cell_type": "code",
     "collapsed": false,
     "input": [
      "#running PCA on the limited numebr of classes\n",
      "from sklearn.decomposition import PCA\n",
      "pca = PCA(n_components=2)\n",
      "reduced_X = pca.fit_transform(X_transformed)\n",
      "y=data['Graduated']\n",
      "\n",
      "red_x, red_y = [], []\n",
      "blue_x, blue_y = [], []\n",
      "green_x, green_y = [], []\n",
      "for i in range(len(reduced_X)):\n",
      "    if y[i] == 0:\n",
      "        red_x.append(reduced_X[i][0])\n",
      "        red_y.append(reduced_X[i][1])\n",
      "    elif y[i] == 1:\n",
      "        blue_x.append(reduced_X[i][0])\n",
      "        blue_y.append(reduced_X[i][1])\n",
      "    else:\n",
      "        green_x.append(reduced_X[i][0])\n",
      "        green_y.append(reduced_X[i][1])\n",
      "plt.scatter(red_x, red_y, c='r', marker='x')\n",
      "plt.scatter(blue_x, blue_y, c='b', marker='D')\n",
      "plt.scatter(green_x, green_y, c='g', marker='.')\n",
      "plt.show()"
     ],
     "language": "python",
     "metadata": {},
     "outputs": [
      {
       "metadata": {},
       "output_type": "display_data",
       "png": "[encoded data removed]",
       "text": [
        "<matplotlib.figure.Figure at 0x110f7a8d0>"
       ]
      }
     ],
     "prompt_number": 35
    },
    {
     "cell_type": "code",
     "collapsed": false,
     "input": [
      "print len(coef_list[coef_list<0])\n",
      "data.columns[6:].values[coef_list[0]<0]"
     ],
     "language": "python",
     "metadata": {},
     "outputs": [
      {
       "output_type": "stream",
       "stream": "stdout",
       "text": [
        "59\n"
       ]
      },
      {
       "metadata": {},
       "output_type": "pyout",
       "prompt_number": 36,
       "text": [
        "array(['MATH102L', 'MATH103A1', 'MATH105', 'MATH131', 'MATH140',\n",
        "       'MATH150A', 'MATH150AA1', 'MATH150AL', 'MATH150B', 'MATH150BA1',\n",
        "       'MATH196NL', 'MATH210', 'MATH250', 'MATH255B', 'MATH280', 'MATH310',\n",
        "       'MATH310L', 'MATH311', 'MATH320', 'MATH331', 'MATH364', 'MATH366',\n",
        "       'MATH380', 'MATH391', 'MATH396CL', 'MATH396MA', 'MATH412',\n",
        "       'MATH441', 'MATH450', 'MATH455', 'MATH464', 'MATH470', 'MATH480',\n",
        "       'MATH481A', 'MATH490', 'MATH494', 'MATH496-1', 'MATH496-1L',\n",
        "       'MATH499B', 'MATH499C', 'MATH542A', 'MATH542D', 'MATH570',\n",
        "       'MATH571', 'MATH582B', 'MATH582D', 'MATH592D', 'MATH625',\n",
        "       'MATH651B', 'MATH655', 'MATH661A', 'MATH92', 'MATH93', 'MATH93OL',\n",
        "       'MATH94A', 'MATH94B', 'MATH95', 'MATH96S', 'MATH999A1'], dtype=object)"
       ]
      }
     ],
     "prompt_number": 36
    },
    {
     "cell_type": "code",
     "collapsed": false,
     "input": [
      "print len(coef_list[coef_list>0.5])\n",
      "data.columns[6:].values[coef_list[0]>0.5]"
     ],
     "language": "python",
     "metadata": {},
     "outputs": [
      {
       "output_type": "stream",
       "stream": "stdout",
       "text": [
        "16\n"
       ]
      },
      {
       "metadata": {},
       "output_type": "pyout",
       "prompt_number": 37,
       "text": [
        "array(['MATH103', 'MATH255A', 'MATH351', 'MATH382', 'MATH382L',\n",
        "       'MATH392I1', 'MATH396-1', 'MATH396-1L', 'MATH440A', 'MATH460',\n",
        "       'MATH462', 'MATH493', 'MATH499A', 'MATH501', 'MATH542B', 'MATH550'], dtype=object)"
       ]
      }
     ],
     "prompt_number": 37
    },
    {
     "cell_type": "code",
     "collapsed": false,
     "input": [
      "print len(coef_list[coef_list>0.7])\n",
      "data.columns[6:].values[coef_list[0]>0.7]"
     ],
     "language": "python",
     "metadata": {},
     "outputs": [
      {
       "output_type": "stream",
       "stream": "stdout",
       "text": [
        "5\n"
       ]
      },
      {
       "metadata": {},
       "output_type": "pyout",
       "prompt_number": 38,
       "text": [
        "array(['MATH351', 'MATH460', 'MATH462', 'MATH493', 'MATH501'], dtype=object)"
       ]
      }
     ],
     "prompt_number": 38
    },
    {
     "cell_type": "code",
     "collapsed": false,
     "input": [
      "coef_list"
     ],
     "language": "python",
     "metadata": {},
     "outputs": [
      {
       "metadata": {},
       "output_type": "pyout",
       "prompt_number": 39,
       "text": [
        "array([[  1.60205709e-03,  -2.26061878e-01,   5.34906761e-01,\n",
        "         -4.35404359e-02,   2.38259426e-01,   1.01389134e-03,\n",
        "          8.83242715e-02,  -3.16928550e-02,   6.40012742e-04,\n",
        "          0.00000000e+00,  -1.52875798e-01,  -8.87681515e-01,\n",
        "          7.17666990e-02,   1.21911304e-01,  -4.88701415e-01,\n",
        "         -7.90168286e-01,  -3.45912244e-02,  -1.13459115e-01,\n",
        "         -3.54146707e-01,   1.43642083e-01,   1.64097948e-02,\n",
        "          2.11606622e-02,  -4.37445016e-02,  -1.89078717e-01,\n",
        "         -2.05439649e-01,   6.03782098e-01,  -3.58042925e-01,\n",
        "          3.68389619e-01,  -1.02507223e-01,  -2.61691814e-01,\n",
        "         -1.02367929e-01,  -3.95622980e-02,   1.22146876e-01,\n",
        "         -4.02221545e-01,   3.95061595e-03,  -2.03186047e-03,\n",
        "          4.39787596e-02,   3.94212013e-01,   1.18855843e-01,\n",
        "          4.10997687e-01,   7.47698402e-01,   4.69565139e-01,\n",
        "         -2.71423667e-01,  -1.04429694e+00,   5.49210209e-03,\n",
        "          2.52233066e-02,  -1.71901223e-01,   6.16343377e-01,\n",
        "          6.16343377e-01,  -2.53526268e-01,   6.55843857e-01,\n",
        "         -1.90673835e-01,   6.88045212e-01,   6.88045212e-01,\n",
        "         -1.03908658e-02,   2.66511261e-02,  -1.82134177e-01,\n",
        "          5.04902658e-01,   3.04900023e-02,  -4.29778702e-01,\n",
        "         -5.20362389e-01,  -7.97847158e-01,   1.26490930e+00,\n",
        "          8.10955480e-01,   1.85145132e-01,  -7.46870943e-04,\n",
        "         -5.43462668e-01,  -3.27387840e-01,  -2.42773301e-01,\n",
        "          3.60753055e-02,   1.43363585e-01,  -2.73400985e-02,\n",
        "          1.29343704e+00,  -6.13194398e-01,  -4.32256337e-03,\n",
        "         -4.32256337e-03,   5.57036138e-01,  -7.41302053e-02,\n",
        "         -4.72495594e-01,   9.58162513e-01,   4.27207889e-03,\n",
        "          3.39919626e-03,   3.31095464e-01,  -2.41411434e-02,\n",
        "          6.55843857e-01,   3.45560022e-02,  -2.75577328e-02,\n",
        "          5.33685093e-01,   3.25769133e-01,   4.19891634e-01,\n",
        "         -2.85116070e-01,  -1.03908658e-02,   3.93663727e-01,\n",
        "          0.00000000e+00,  -2.62620972e-02,  -7.22985278e-04,\n",
        "          9.41214053e-04,  -4.27818874e-01,   7.79665449e-02,\n",
        "         -2.62620972e-02,  -9.53247574e-02,  -1.16419694e-01,\n",
        "         -1.74987343e-01,   2.78436732e-01,   1.28064747e-01,\n",
        "         -3.75166989e-02,  -2.37248848e-01,  -3.10388331e-02,\n",
        "          0.00000000e+00,  -2.91920673e-02,  -2.91920673e-02,\n",
        "         -1.01774162e-01,  -4.91951079e-03,   0.00000000e+00,\n",
        "         -1.56550777e-01]])"
       ]
      }
     ],
     "prompt_number": 39
    },
    {
     "cell_type": "code",
     "collapsed": false,
     "input": [
      "data.columns[6:].values[coef_list[0]<0.5]"
     ],
     "language": "python",
     "metadata": {},
     "outputs": [
      {
       "metadata": {},
       "output_type": "pyout",
       "prompt_number": 40,
       "text": [
        "array(['MATH102', 'MATH102L', 'MATH103A1', 'MATH103L', 'MATH104',\n",
        "       'MATH104L', 'MATH105', 'MATH105L', 'MATH106', 'MATH131', 'MATH140',\n",
        "       'MATH140A1', 'MATH140OL', 'MATH150A', 'MATH150AA1', 'MATH150AL',\n",
        "       'MATH150B', 'MATH150BA1', 'MATH150BL', 'MATH196HL', 'MATH196LOL',\n",
        "       'MATH196NL', 'MATH210', 'MATH250', 'MATH255B', 'MATH262', 'MATH280',\n",
        "       'MATH310', 'MATH310L', 'MATH311', 'MATH312', 'MATH320', 'MATH326',\n",
        "       'MATH331', 'MATH331OL', 'MATH340', 'MATH341', 'MATH350', 'MATH360',\n",
        "       'MATH364', 'MATH366', 'MATH370', 'MATH373', 'MATH380', 'MATH391',\n",
        "       'MATH396CL', 'MATH396MA', 'MATH411', 'MATH412', 'MATH440B',\n",
        "       'MATH441', 'MATH450', 'MATH455', 'MATH463', 'MATH464', 'MATH470',\n",
        "       'MATH480', 'MATH481A', 'MATH482', 'MATH483', 'MATH490', 'MATH494',\n",
        "       'MATH496-1', 'MATH496-1L', 'MATH499B', 'MATH499C', 'MATH512A',\n",
        "       'MATH514A', 'MATH540', 'MATH542A', 'MATH542C', 'MATH542D',\n",
        "       'MATH552', 'MATH560', 'MATH570', 'MATH571', 'MATH581', 'MATH582A',\n",
        "       'MATH582B', 'MATH582D', 'MATH592A', 'MATH592D', 'MATH599C',\n",
        "       'MATH625', 'MATH651B', 'MATH655', 'MATH661A', 'MATH661B',\n",
        "       'MATH699A', 'MATH92', 'MATH93', 'MATH93OL', 'MATH94', 'MATH94A',\n",
        "       'MATH94B', 'MATH95', 'MATH96S', 'MATH998A1', 'MATH999A1'], dtype=object)"
       ]
      }
     ],
     "prompt_number": 40
    },
    {
     "cell_type": "code",
     "collapsed": false,
     "input": [
      "col=data.columns[6:].values[coef_list[0]<0.5]\n",
      "\n",
      "X_train_tr, X_test_tr, y_train_tr, y_test_tr = train_test_split(data[col], data['Graduated'],test_size=0.2)\n",
      "\n",
      "\n",
      "classifier = LogisticRegression()\n",
      "classifier.fit_transform(X_train_tr, y_train_tr)\n",
      "y_pred_tr = classifier.predict(X_test_tr)\n",
      "\n",
      "confusion_matrix = metrics.confusion_matrix(y_test_tr, y_pred_tr)\n",
      "print(confusion_matrix)\n",
      "plt.matshow(confusion_matrix)\n",
      "plt.title('Confusion matrix')\n",
      "plt.colorbar()\n",
      "plt.ylabel('True label')\n",
      "plt.xlabel('Predicted label')\n",
      "\n"
     ],
     "language": "python",
     "metadata": {},
     "outputs": [
      {
       "output_type": "stream",
       "stream": "stdout",
       "text": [
        "[[147   4]\n",
        " [  6   3]]\n"
       ]
      },
      {
       "metadata": {},
       "output_type": "pyout",
       "prompt_number": 41,
       "text": [
        "<matplotlib.text.Text at 0x11258ded0>"
       ]
      },
      {
       "metadata": {},
       "output_type": "display_data",
       "png": "[encoded data removed]",
       "text": [
        "<matplotlib.figure.Figure at 0x1109a61d0>"
       ]
      }
     ],
     "prompt_number": 41
    },
    {
     "cell_type": "code",
     "collapsed": false,
     "input": [
      "data.columns[6:].values[classifier.coef_[0]<0] "
     ],
     "language": "python",
     "metadata": {},
     "outputs": [
      {
       "metadata": {},
       "output_type": "pyout",
       "prompt_number": 42,
       "text": [
        "array(['MATH102', 'MATH102L', 'MATH103', 'MATH104', 'MATH104L', 'MATH105',\n",
        "       'MATH105L', 'MATH106', 'MATH131', 'MATH140A1', 'MATH140OL',\n",
        "       'MATH150A', 'MATH150AA1', 'MATH150B', 'MATH150BA1', 'MATH150BL',\n",
        "       'MATH196LOL', 'MATH196NL', 'MATH250', 'MATH262', 'MATH280',\n",
        "       'MATH310', 'MATH311', 'MATH312', 'MATH320', 'MATH326', 'MATH331OL',\n",
        "       'MATH350', 'MATH351', 'MATH364', 'MATH366', 'MATH370', 'MATH373',\n",
        "       'MATH380', 'MATH382', 'MATH382L', 'MATH392I1', 'MATH396CL',\n",
        "       'MATH396-1', 'MATH396MA', 'MATH411', 'MATH450', 'MATH455',\n",
        "       'MATH460', 'MATH462', 'MATH463', 'MATH464', 'MATH482', 'MATH483',\n",
        "       'MATH490', 'MATH496-1', 'MATH496-1L', 'MATH499B', 'MATH499C',\n",
        "       'MATH501', 'MATH512A', 'MATH514A', 'MATH542A', 'MATH542B',\n",
        "       'MATH542C', 'MATH542D', 'MATH560', 'MATH570', 'MATH582A',\n",
        "       'MATH582B', 'MATH582D', 'MATH592A', 'MATH592D', 'MATH599C'], dtype=object)"
       ]
      }
     ],
     "prompt_number": 42
    },
    {
     "cell_type": "code",
     "collapsed": false,
     "input": [],
     "language": "python",
     "metadata": {},
     "outputs": [],
     "prompt_number": 42
    }
   ],
   "metadata": {}
  }
 ]
}