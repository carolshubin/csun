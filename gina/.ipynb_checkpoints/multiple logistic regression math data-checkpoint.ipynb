{
 "metadata": {
  "name": "",
  "signature": "sha256:7ee14b9042bbbe3ded7b3b9fdc038c127bf898d43266005c76f945c0d684233e"
 },
 "nbformat": 3,
 "nbformat_minor": 0,
 "worksheets": [
  {
   "cells": [
    {
     "cell_type": "code",
     "collapsed": false,
     "input": [
      "%matplotlib inline\n",
      "from __future__ import division\n",
      "import numpy as np\n",
      "import pandas as pd\n",
      "from sklearn.linear_model import LogisticRegression\n",
      "import sklearn\n",
      "from sklearn import metrics\n",
      "from sklearn.cross_validation import train_test_split, cross_val_score\n",
      "import matplotlib.pyplot as plt\n",
      "#from sklearn_pandas import DataFrameMapper, cross_val_score"
     ],
     "language": "python",
     "metadata": {},
     "outputs": [],
     "prompt_number": 251
    },
    {
     "cell_type": "code",
     "collapsed": false,
     "input": [
      "data = pd.read_csv('math-redacted.csv')\n",
      "data.head()\n"
     ],
     "language": "python",
     "metadata": {},
     "outputs": [
      {
       "html": [
        "<div style=\"max-height:1000px;max-width:1500px;overflow:auto;\">\n",
        "<table border=\"1\" class=\"dataframe\">\n",
        "  <thead>\n",
        "    <tr style=\"text-align: right;\">\n",
        "      <th></th>\n",
        "      <th>Major_Cd</th>\n",
        "      <th>N_Terms</th>\n",
        "      <th>Graduated</th>\n",
        "      <th>Transfer_Cr</th>\n",
        "      <th>Inst_Cr</th>\n",
        "      <th>Total_Cr</th>\n",
        "      <th>MATH102</th>\n",
        "      <th>MATH102L</th>\n",
        "      <th>MATH103</th>\n",
        "      <th>MATH103A1</th>\n",
        "      <th>...</th>\n",
        "      <th>MATH92</th>\n",
        "      <th>MATH93</th>\n",
        "      <th>MATH93OL</th>\n",
        "      <th>MATH94</th>\n",
        "      <th>MATH94A</th>\n",
        "      <th>MATH94B</th>\n",
        "      <th>MATH95</th>\n",
        "      <th>MATH96S</th>\n",
        "      <th>MATH998A1</th>\n",
        "      <th>MATH999A1</th>\n",
        "    </tr>\n",
        "  </thead>\n",
        "  <tbody>\n",
        "    <tr>\n",
        "      <th>0</th>\n",
        "      <td> 785845B</td>\n",
        "      <td>  4</td>\n",
        "      <td> N</td>\n",
        "      <td> 96.3</td>\n",
        "      <td> 31</td>\n",
        "      <td> 127.3</td>\n",
        "      <td> 0</td>\n",
        "      <td> 0</td>\n",
        "      <td> 1</td>\n",
        "      <td> 0</td>\n",
        "      <td>...</td>\n",
        "      <td> 0</td>\n",
        "      <td> 0</td>\n",
        "      <td> 0</td>\n",
        "      <td> 0</td>\n",
        "      <td> 0</td>\n",
        "      <td> 0</td>\n",
        "      <td> 0</td>\n",
        "      <td> 0</td>\n",
        "      <td> 0</td>\n",
        "      <td> 0</td>\n",
        "    </tr>\n",
        "    <tr>\n",
        "      <th>1</th>\n",
        "      <td> 785834B</td>\n",
        "      <td> 15</td>\n",
        "      <td> N</td>\n",
        "      <td> 70.0</td>\n",
        "      <td> 51</td>\n",
        "      <td> 121.0</td>\n",
        "      <td> 0</td>\n",
        "      <td> 0</td>\n",
        "      <td> 0</td>\n",
        "      <td> 0</td>\n",
        "      <td>...</td>\n",
        "      <td> 0</td>\n",
        "      <td> 0</td>\n",
        "      <td> 0</td>\n",
        "      <td> 0</td>\n",
        "      <td> 0</td>\n",
        "      <td> 0</td>\n",
        "      <td> 0</td>\n",
        "      <td> 0</td>\n",
        "      <td> 0</td>\n",
        "      <td> 0</td>\n",
        "    </tr>\n",
        "    <tr>\n",
        "      <th>2</th>\n",
        "      <td> 785834B</td>\n",
        "      <td>  1</td>\n",
        "      <td> N</td>\n",
        "      <td> 13.0</td>\n",
        "      <td> 24</td>\n",
        "      <td>  37.0</td>\n",
        "      <td> 0</td>\n",
        "      <td> 0</td>\n",
        "      <td> 0</td>\n",
        "      <td> 0</td>\n",
        "      <td>...</td>\n",
        "      <td> 0</td>\n",
        "      <td> 0</td>\n",
        "      <td> 0</td>\n",
        "      <td> 0</td>\n",
        "      <td> 0</td>\n",
        "      <td> 0</td>\n",
        "      <td> 0</td>\n",
        "      <td> 0</td>\n",
        "      <td> 0</td>\n",
        "      <td> 0</td>\n",
        "    </tr>\n",
        "    <tr>\n",
        "      <th>3</th>\n",
        "      <td> 785834B</td>\n",
        "      <td>  3</td>\n",
        "      <td> N</td>\n",
        "      <td>  0.0</td>\n",
        "      <td> 38</td>\n",
        "      <td>  38.0</td>\n",
        "      <td> 0</td>\n",
        "      <td> 0</td>\n",
        "      <td> 0</td>\n",
        "      <td> 0</td>\n",
        "      <td>...</td>\n",
        "      <td> 0</td>\n",
        "      <td> 0</td>\n",
        "      <td> 0</td>\n",
        "      <td> 0</td>\n",
        "      <td> 0</td>\n",
        "      <td> 0</td>\n",
        "      <td> 0</td>\n",
        "      <td> 0</td>\n",
        "      <td> 0</td>\n",
        "      <td> 0</td>\n",
        "    </tr>\n",
        "    <tr>\n",
        "      <th>4</th>\n",
        "      <td> 785845B</td>\n",
        "      <td>  4</td>\n",
        "      <td> N</td>\n",
        "      <td>  6.0</td>\n",
        "      <td> 46</td>\n",
        "      <td>  52.0</td>\n",
        "      <td> 0</td>\n",
        "      <td> 0</td>\n",
        "      <td> 0</td>\n",
        "      <td> 0</td>\n",
        "      <td>...</td>\n",
        "      <td> 0</td>\n",
        "      <td> 0</td>\n",
        "      <td> 0</td>\n",
        "      <td> 0</td>\n",
        "      <td> 0</td>\n",
        "      <td> 0</td>\n",
        "      <td> 1</td>\n",
        "      <td> 0</td>\n",
        "      <td> 0</td>\n",
        "      <td> 0</td>\n",
        "    </tr>\n",
        "  </tbody>\n",
        "</table>\n",
        "<p>5 rows \u00d7 121 columns</p>\n",
        "</div>"
       ],
       "metadata": {},
       "output_type": "pyout",
       "prompt_number": 252,
       "text": [
        "  Major_Cd  N_Terms Graduated  Transfer_Cr  Inst_Cr  Total_Cr  MATH102  \\\n",
        "0  785845B        4         N         96.3       31     127.3        0   \n",
        "1  785834B       15         N         70.0       51     121.0        0   \n",
        "2  785834B        1         N         13.0       24      37.0        0   \n",
        "3  785834B        3         N          0.0       38      38.0        0   \n",
        "4  785845B        4         N          6.0       46      52.0        0   \n",
        "\n",
        "   MATH102L  MATH103  MATH103A1    ...      MATH92  MATH93  MATH93OL  MATH94  \\\n",
        "0         0        1          0    ...           0       0         0       0   \n",
        "1         0        0          0    ...           0       0         0       0   \n",
        "2         0        0          0    ...           0       0         0       0   \n",
        "3         0        0          0    ...           0       0         0       0   \n",
        "4         0        0          0    ...           0       0         0       0   \n",
        "\n",
        "   MATH94A  MATH94B  MATH95  MATH96S  MATH998A1  MATH999A1  \n",
        "0        0        0       0        0          0          0  \n",
        "1        0        0       0        0          0          0  \n",
        "2        0        0       0        0          0          0  \n",
        "3        0        0       0        0          0          0  \n",
        "4        0        0       1        0          0          0  \n",
        "\n",
        "[5 rows x 121 columns]"
       ]
      }
     ],
     "prompt_number": 252
    },
    {
     "cell_type": "code",
     "collapsed": false,
     "input": [
      "data['Graduated'].replace(to_replace=('N','Y'), value=(0,1), inplace=True)"
     ],
     "language": "python",
     "metadata": {},
     "outputs": [],
     "prompt_number": 253
    },
    {
     "cell_type": "code",
     "collapsed": false,
     "input": [
      "data[data['Graduated']==1].head()"
     ],
     "language": "python",
     "metadata": {},
     "outputs": [
      {
       "html": [
        "<div style=\"max-height:1000px;max-width:1500px;overflow:auto;\">\n",
        "<table border=\"1\" class=\"dataframe\">\n",
        "  <thead>\n",
        "    <tr style=\"text-align: right;\">\n",
        "      <th></th>\n",
        "      <th>Major_Cd</th>\n",
        "      <th>N_Terms</th>\n",
        "      <th>Graduated</th>\n",
        "      <th>Transfer_Cr</th>\n",
        "      <th>Inst_Cr</th>\n",
        "      <th>Total_Cr</th>\n",
        "      <th>MATH102</th>\n",
        "      <th>MATH102L</th>\n",
        "      <th>MATH103</th>\n",
        "      <th>MATH103A1</th>\n",
        "      <th>...</th>\n",
        "      <th>MATH92</th>\n",
        "      <th>MATH93</th>\n",
        "      <th>MATH93OL</th>\n",
        "      <th>MATH94</th>\n",
        "      <th>MATH94A</th>\n",
        "      <th>MATH94B</th>\n",
        "      <th>MATH95</th>\n",
        "      <th>MATH96S</th>\n",
        "      <th>MATH998A1</th>\n",
        "      <th>MATH999A1</th>\n",
        "    </tr>\n",
        "  </thead>\n",
        "  <tbody>\n",
        "    <tr>\n",
        "      <th>74 </th>\n",
        "      <td> 785834B</td>\n",
        "      <td> 16</td>\n",
        "      <td> 1</td>\n",
        "      <td> 62</td>\n",
        "      <td>  83</td>\n",
        "      <td> 145</td>\n",
        "      <td> 1</td>\n",
        "      <td> 0</td>\n",
        "      <td> 0</td>\n",
        "      <td> 0</td>\n",
        "      <td>...</td>\n",
        "      <td> 0</td>\n",
        "      <td> 0</td>\n",
        "      <td> 0</td>\n",
        "      <td> 0</td>\n",
        "      <td> 0</td>\n",
        "      <td> 0</td>\n",
        "      <td> 0</td>\n",
        "      <td> 0</td>\n",
        "      <td> 0</td>\n",
        "      <td> 0</td>\n",
        "    </tr>\n",
        "    <tr>\n",
        "      <th>107</th>\n",
        "      <td> 785834B</td>\n",
        "      <td> 16</td>\n",
        "      <td> 1</td>\n",
        "      <td> 70</td>\n",
        "      <td>  51</td>\n",
        "      <td> 121</td>\n",
        "      <td> 1</td>\n",
        "      <td> 0</td>\n",
        "      <td> 0</td>\n",
        "      <td> 0</td>\n",
        "      <td>...</td>\n",
        "      <td> 0</td>\n",
        "      <td> 0</td>\n",
        "      <td> 0</td>\n",
        "      <td> 0</td>\n",
        "      <td> 0</td>\n",
        "      <td> 0</td>\n",
        "      <td> 0</td>\n",
        "      <td> 0</td>\n",
        "      <td> 0</td>\n",
        "      <td> 0</td>\n",
        "    </tr>\n",
        "    <tr>\n",
        "      <th>214</th>\n",
        "      <td> 785834B</td>\n",
        "      <td>  6</td>\n",
        "      <td> 1</td>\n",
        "      <td> 86</td>\n",
        "      <td>  72</td>\n",
        "      <td> 158</td>\n",
        "      <td> 0</td>\n",
        "      <td> 0</td>\n",
        "      <td> 1</td>\n",
        "      <td> 0</td>\n",
        "      <td>...</td>\n",
        "      <td> 0</td>\n",
        "      <td> 0</td>\n",
        "      <td> 0</td>\n",
        "      <td> 0</td>\n",
        "      <td> 0</td>\n",
        "      <td> 0</td>\n",
        "      <td> 0</td>\n",
        "      <td> 0</td>\n",
        "      <td> 0</td>\n",
        "      <td> 0</td>\n",
        "    </tr>\n",
        "    <tr>\n",
        "      <th>248</th>\n",
        "      <td> 785834B</td>\n",
        "      <td> 13</td>\n",
        "      <td> 1</td>\n",
        "      <td>  0</td>\n",
        "      <td> 160</td>\n",
        "      <td> 160</td>\n",
        "      <td> 1</td>\n",
        "      <td> 0</td>\n",
        "      <td> 0</td>\n",
        "      <td> 0</td>\n",
        "      <td>...</td>\n",
        "      <td> 0</td>\n",
        "      <td> 0</td>\n",
        "      <td> 0</td>\n",
        "      <td> 0</td>\n",
        "      <td> 0</td>\n",
        "      <td> 0</td>\n",
        "      <td> 0</td>\n",
        "      <td> 0</td>\n",
        "      <td> 0</td>\n",
        "      <td> 0</td>\n",
        "    </tr>\n",
        "    <tr>\n",
        "      <th>256</th>\n",
        "      <td> 785834B</td>\n",
        "      <td>  9</td>\n",
        "      <td> 1</td>\n",
        "      <td> 73</td>\n",
        "      <td>  51</td>\n",
        "      <td> 124</td>\n",
        "      <td> 0</td>\n",
        "      <td> 0</td>\n",
        "      <td> 0</td>\n",
        "      <td> 0</td>\n",
        "      <td>...</td>\n",
        "      <td> 0</td>\n",
        "      <td> 0</td>\n",
        "      <td> 0</td>\n",
        "      <td> 0</td>\n",
        "      <td> 0</td>\n",
        "      <td> 0</td>\n",
        "      <td> 0</td>\n",
        "      <td> 0</td>\n",
        "      <td> 0</td>\n",
        "      <td> 0</td>\n",
        "    </tr>\n",
        "  </tbody>\n",
        "</table>\n",
        "<p>5 rows \u00d7 121 columns</p>\n",
        "</div>"
       ],
       "metadata": {},
       "output_type": "pyout",
       "prompt_number": 254,
       "text": [
        "    Major_Cd  N_Terms  Graduated  Transfer_Cr  Inst_Cr  Total_Cr  MATH102  \\\n",
        "74   785834B       16          1           62       83       145        1   \n",
        "107  785834B       16          1           70       51       121        1   \n",
        "214  785834B        6          1           86       72       158        0   \n",
        "248  785834B       13          1            0      160       160        1   \n",
        "256  785834B        9          1           73       51       124        0   \n",
        "\n",
        "     MATH102L  MATH103  MATH103A1    ...      MATH92  MATH93  MATH93OL  \\\n",
        "74          0        0          0    ...           0       0         0   \n",
        "107         0        0          0    ...           0       0         0   \n",
        "214         0        1          0    ...           0       0         0   \n",
        "248         0        0          0    ...           0       0         0   \n",
        "256         0        0          0    ...           0       0         0   \n",
        "\n",
        "     MATH94  MATH94A  MATH94B  MATH95  MATH96S  MATH998A1  MATH999A1  \n",
        "74        0        0        0       0        0          0          0  \n",
        "107       0        0        0       0        0          0          0  \n",
        "214       0        0        0       0        0          0          0  \n",
        "248       0        0        0       0        0          0          0  \n",
        "256       0        0        0       0        0          0          0  \n",
        "\n",
        "[5 rows x 121 columns]"
       ]
      }
     ],
     "prompt_number": 254
    },
    {
     "cell_type": "code",
     "collapsed": false,
     "input": [
      "#applying regression to Graduated vs Total_Cr\n",
      "X_train, X_test, y_train, y_test = train_test_split(data['Total_Cr'], data['Graduated'])\n",
      "\n",
      "'''\n",
      "X_train=data['Total_Cr'].values\n",
      "X_test=data['Total_Cr'].values\n",
      "y_train=data['Graduated'].values\n",
      "y_test=data['Graduated'].values\n",
      "'''\n",
      "\n",
      "classifier = LogisticRegression()\n",
      "classifier.fit(X_train.reshape(len(X_train),1), y_train)\n",
      "y_pred = classifier.predict(X_test.reshape(len(X_test),1))\n",
      "\n",
      "confusion_matrix = metrics.confusion_matrix(y_test, y_pred)\n",
      "print \"confustion matrix numbers\"\n",
      "print(confusion_matrix)\n",
      "plt.matshow(confusion_matrix)\n",
      "plt.title('Confusion matrix')\n",
      "plt.colorbar()\n",
      "plt.ylabel('True label')\n",
      "plt.xlabel('Predicted label')\n"
     ],
     "language": "python",
     "metadata": {},
     "outputs": [
      {
       "output_type": "stream",
       "stream": "stdout",
       "text": [
        "confustion matrix numbers\n",
        "[[193   1]\n",
        " [  6   0]]\n"
       ]
      },
      {
       "metadata": {},
       "output_type": "pyout",
       "prompt_number": 255,
       "text": [
        "<matplotlib.text.Text at 0x117ce5d10>"
       ]
      },
      {
       "metadata": {},
       "output_type": "display_data",
       "png": "[encoded data removed]",
       "text": [
        "<matplotlib.figure.Figure at 0x117cafad0>"
       ]
      }
     ],
     "prompt_number": 255
    },
    {
     "cell_type": "code",
     "collapsed": false,
     "input": [
      "#accuracy\n",
      "#fraction of the classifier's predictions that are correct\n",
      "# (Yy+Nn)/n or (TP + TN + FP + FN)\n",
      "\n",
      "metrics.accuracy_score(y_test, y_pred)"
     ],
     "language": "python",
     "metadata": {},
     "outputs": [
      {
       "metadata": {},
       "output_type": "pyout",
       "prompt_number": 216,
       "text": [
        "0.96499999999999997"
       ]
      }
     ],
     "prompt_number": 216
    },
    {
     "cell_type": "markdown",
     "metadata": {},
     "source": [
      "for some reason cross_val_score for other than accuracy gives me either zero error or just zeros"
     ]
    },
    {
     "cell_type": "code",
     "collapsed": false,
     "input": [
      "#cross validation accuracy scores\n",
      "scores_accuracy = cross_val_score(LogisticRegression(),data[list(['Total_Cr'])], data['Graduated'], cv=5)\n",
      "print scores_accuracy, scores_accuracy.mean()\n",
      "\n"
     ],
     "language": "python",
     "metadata": {},
     "outputs": [
      {
       "output_type": "stream",
       "stream": "stdout",
       "text": [
        "[ 0.92546584  0.95652174  0.95625     0.96226415  0.96226415] 0.952553175905\n"
       ]
      }
     ],
     "prompt_number": 217
    },
    {
     "cell_type": "code",
     "collapsed": false,
     "input": [
      "# Precision = TP/( TP+FP) in this case all ...\n",
      "#scores_precision = cross_val_score(LogisticRegression(),data[list(['Total_Cr'])], data['Graduated'].replace(to_replace=('N','Y'), value=(0,1)), cv=5, scoring='precision')\n",
      "scores_precision = cross_val_score(LogisticRegression(),data[list(['Total_Cr'])], data['Graduated'], cv=5, scoring='precision' )\n",
      "print scores_precision, scores_precision.mean()"
     ],
     "language": "python",
     "metadata": {},
     "outputs": [
      {
       "output_type": "stream",
       "stream": "stdout",
       "text": [
        "[ 0.  0.  0.  0.  0.] 0.0\n"
       ]
      }
     ],
     "prompt_number": 218
    },
    {
     "cell_type": "code",
     "collapsed": false,
     "input": [
      "# Recall = TP/ TP+FN\n",
      "scores_recall = cross_val_score(LogisticRegression(),data[list(['Total_Cr'])], data['Graduated'], cv=5, scoring='recall')\n",
      "print scores_recall, scores_recall.mean()"
     ],
     "language": "python",
     "metadata": {},
     "outputs": [
      {
       "output_type": "stream",
       "stream": "stdout",
       "text": [
        "[ 0.  0.  0.  0.  0.] 0.0\n"
       ]
      }
     ],
     "prompt_number": 219
    },
    {
     "cell_type": "code",
     "collapsed": false,
     "input": [
      "# accuracy, precision, recall, F1 measure, and ROC AUC score"
     ],
     "language": "python",
     "metadata": {},
     "outputs": [],
     "prompt_number": 220
    },
    {
     "cell_type": "markdown",
     "metadata": {},
     "source": [
      "The F1 measure is the harmonic mean, or weighted average, of the precision and recall scores. Also called the f-measure or the f-score, the F1 score is calculated using the following formula:\n",
      "F1=2 P*R / P+R"
     ]
    },
    {
     "cell_type": "code",
     "collapsed": false,
     "input": [
      "model=LogisticRegression()\n",
      "fs1 = cross_val_score(model,data[list(['Total_Cr'])], data['Graduated'], cv=5, scoring='f1')\n",
      "print fs1, fs1.mean()"
     ],
     "language": "python",
     "metadata": {},
     "outputs": [
      {
       "output_type": "stream",
       "stream": "stdout",
       "text": [
        "[ 0.  0.  0.  0.  0.] 0.0\n"
       ]
      }
     ],
     "prompt_number": 221
    },
    {
     "cell_type": "markdown",
     "metadata": {},
     "source": [
      "F= FP / TN + FP"
     ]
    },
    {
     "cell_type": "code",
     "collapsed": false,
     "input": [
      "#several metrics together\n",
      "print (metrics.classification_report(y_test, y_pred))"
     ],
     "language": "python",
     "metadata": {},
     "outputs": [
      {
       "output_type": "stream",
       "stream": "stdout",
       "text": [
        "             precision    recall  f1-score   support\n",
        "\n",
        "          0       0.96      1.00      0.98       193\n",
        "          1       0.00      0.00      0.00         7\n",
        "\n",
        "avg / total       0.93      0.96      0.95       200\n",
        "\n"
       ]
      }
     ],
     "prompt_number": 222
    },
    {
     "cell_type": "code",
     "collapsed": false,
     "input": [
      "X_test"
     ],
     "language": "python",
     "metadata": {},
     "outputs": [
      {
       "metadata": {},
       "output_type": "pyout",
       "prompt_number": 259,
       "text": [
        "array([  30. ,   59. ,  117. ,   83. ,  136. ,   52. ,   84.7,   97. ,\n",
        "         52. ,   70. ,   18. ,   39. ,   70. ,  134. ,  120. ,   72. ,\n",
        "        119. ,   49. ,  110. ,  126. ,   40. ,   64. ,   74. ,   21. ,\n",
        "         81. ,   23. ,  116. ,   79. ,   29. ,    4. ,  101. ,  109.7,\n",
        "        106. ,   81. ,   97. ,   34. ,  135. ,   10. ,   40. ,  100. ,\n",
        "         37. ,   84. ,   67. ,  107. ,   97. ,   36. ,   10. ,  115. ,\n",
        "         29. ,   88. ,  138. ,  122. ,   16. ,   51. ,   76. ,  136.6,\n",
        "         75. ,   62. ,  127. ,    0. ,  120. ,   82. ,   20. ,   64. ,\n",
        "        117. ,   42. ,   72. ,   41. ,   45. ,   85. ,   40. ,   19. ,\n",
        "        132. ,    6. ,   51. ,   12. ,   70. ,   48. ,   70. ,   73. ,\n",
        "        133. ,   67. ,   51. ,   47. ,   89. ,   59. ,   95. ,  145. ,\n",
        "         78. ,   53. ,   86. ,   82. ,    9. ,   80. ,  119.5,   46. ,\n",
        "         94. ,   42. ,  144. ,   63. ,   73.6,   86. ,   61. ,   13. ,\n",
        "         65. ,  109. ,   50. ,   10. ,   43. ,   12. ,  129. ,   78. ,\n",
        "         81. ,   81. ,  123.5,  154. ,   69. ,  158. ,  188. ,   82. ,\n",
        "        103. ,  113. ,   96.7,   79. ,   76. ,   71. ,   28. ,   70. ,\n",
        "         89. ,  121. ,   21. ,   23. ,   62. ,   76. ,   35. ,   45. ,\n",
        "         70. ,   79. ,   92. ,  104. ,   13. ,   65. ,   94. ,   73. ,\n",
        "        142. ,  101. ,   35. ,   14. ,   34. ,   37. ,   28. ,   72. ,\n",
        "         80. ,  139. ,   79. ,   12. ,   93.5,   76. ,   12. ,  109. ,\n",
        "         79. ,   43. ,   54. ,  102. ,   90.3,  107. ,   65. ,  114. ,\n",
        "        133. ,   70. ,   24. ,   41. ,   73. ,   24. ,   70. ,   28. ,\n",
        "         83. ,  120.3,  120. ,   87. ,   60. ,   47. ,  101.1,   66. ,\n",
        "        111. ,  186.9,   83. ,   67. ,   86. ,    0. ,   84. ,   53. ,\n",
        "        102.2,  102. ,   67. ,   14. ,  106. ,   37. ,   44. ,  122. ])"
       ]
      }
     ],
     "prompt_number": 259
    },
    {
     "cell_type": "code",
     "collapsed": false,
     "input": [
      "#plotting ROC curve\n",
      "y_pred_prob = classifier.predict_proba(X_test.reshape(len(X_test),1))\n",
      "false_positive_rate, recall, thresholds = metrics.roc_curve(y_test,y_pred_prob[:, 1])\n",
      "roc_auc = metrics.auc(false_positive_rate, recall)\n",
      "plt.title('Receiver Operating Characteristic')\n",
      "plt.plot(false_positive_rate, recall, 'b', label='AUC = %0.2f' %roc_auc)\n",
      "plt.legend(loc='lower right')\n",
      "plt.plot([0, 1], [0, 1], 'r--')\n",
      "plt.xlim([0.0, 1.0])\n",
      "plt.ylim([0.0, 1.0])\n",
      "plt.ylabel('Recall')\n",
      "plt.xlabel('Fall-out')\n",
      "plt.show()"
     ],
     "language": "python",
     "metadata": {},
     "outputs": [
      {
       "metadata": {},
       "output_type": "display_data",
       "png": "[encoded data removed]",
       "text": [
        "<matplotlib.figure.Figure at 0x117c93250>"
       ]
      }
     ],
     "prompt_number": 261
    },
    {
     "cell_type": "code",
     "collapsed": false,
     "input": [
      "data[['N_Terms','Transfer_Cr','Total_Cr']].head()"
     ],
     "language": "python",
     "metadata": {},
     "outputs": [
      {
       "html": [
        "<div style=\"max-height:1000px;max-width:1500px;overflow:auto;\">\n",
        "<table border=\"1\" class=\"dataframe\">\n",
        "  <thead>\n",
        "    <tr style=\"text-align: right;\">\n",
        "      <th></th>\n",
        "      <th>N_Terms</th>\n",
        "      <th>Transfer_Cr</th>\n",
        "      <th>Total_Cr</th>\n",
        "    </tr>\n",
        "  </thead>\n",
        "  <tbody>\n",
        "    <tr>\n",
        "      <th>0</th>\n",
        "      <td>  4</td>\n",
        "      <td> 96.3</td>\n",
        "      <td> 127.3</td>\n",
        "    </tr>\n",
        "    <tr>\n",
        "      <th>1</th>\n",
        "      <td> 15</td>\n",
        "      <td> 70.0</td>\n",
        "      <td> 121.0</td>\n",
        "    </tr>\n",
        "    <tr>\n",
        "      <th>2</th>\n",
        "      <td>  1</td>\n",
        "      <td> 13.0</td>\n",
        "      <td>  37.0</td>\n",
        "    </tr>\n",
        "    <tr>\n",
        "      <th>3</th>\n",
        "      <td>  3</td>\n",
        "      <td>  0.0</td>\n",
        "      <td>  38.0</td>\n",
        "    </tr>\n",
        "    <tr>\n",
        "      <th>4</th>\n",
        "      <td>  4</td>\n",
        "      <td>  6.0</td>\n",
        "      <td>  52.0</td>\n",
        "    </tr>\n",
        "  </tbody>\n",
        "</table>\n",
        "</div>"
       ],
       "metadata": {},
       "output_type": "pyout",
       "prompt_number": 224,
       "text": [
        "   N_Terms  Transfer_Cr  Total_Cr\n",
        "0        4         96.3     127.3\n",
        "1       15         70.0     121.0\n",
        "2        1         13.0      37.0\n",
        "3        3          0.0      38.0\n",
        "4        4          6.0      52.0"
       ]
      }
     ],
     "prompt_number": 224
    },
    {
     "cell_type": "code",
     "collapsed": false,
     "input": [
      "#multiple regression on Graduated vs. 'N_Terms','Transfer_Cr','Total_Cr'\n",
      "#performs slightly better than random guessing\n",
      "\n",
      "X_train_ml, X_test_ml, y_train_ml, y_test_ml = train_test_split(data[['N_Terms','Transfer_Cr','Total_Cr']], data['Graduated'])\n",
      "\n",
      "'''\n",
      "X_train=data['Total_Cr'].values\n",
      "X_test=data['Total_Cr'].values\n",
      "y_train=data['Graduated'].values\n",
      "y_test=data['Graduated'].values\n",
      "'''\n",
      "\n",
      "classifier = LogisticRegression()\n",
      "classifier.fit(X_train_ml, y_train_ml)\n",
      "y_pred_ml = classifier.predict(X_test_ml)\n",
      "\n",
      "confusion_matrix = metrics.confusion_matrix(y_test_ml, y_pred_ml)\n",
      "print(confusion_matrix)\n",
      "plt.matshow(confusion_matrix)\n",
      "plt.title('Confusion matrix')\n",
      "plt.colorbar()\n",
      "plt.ylabel('True label')\n",
      "plt.xlabel('Predicted label')\n",
      "#_________Pred_n=P Pred_y=N\n",
      "#  Ntrue_P\n",
      "#  Ytrue_N\n",
      "X_train_ml"
     ],
     "language": "python",
     "metadata": {},
     "outputs": [
      {
       "output_type": "stream",
       "stream": "stdout",
       "text": [
        "[[193   0]\n",
        " [  7   0]]\n"
       ]
      },
      {
       "metadata": {},
       "output_type": "pyout",
       "prompt_number": 225,
       "text": [
        "array([[   3. ,   65. ,   71. ],\n",
        "       [  12. ,   12. ,  122. ],\n",
        "       [   7. ,    0. ,   98. ],\n",
        "       ..., \n",
        "       [   5. ,    0. ,   85. ],\n",
        "       [   4. ,   96.3,  127.3],\n",
        "       [   4. ,   70. ,   90. ]])"
       ]
      },
      {
       "metadata": {},
       "output_type": "display_data",
       "png": "[encoded data removed]",
       "text": [
        "<matplotlib.figure.Figure at 0x1158b5510>"
       ]
      }
     ],
     "prompt_number": 225
    },
    {
     "cell_type": "code",
     "collapsed": false,
     "input": [
      "scores_accuracy_ml = cross_val_score(LogisticRegression(),data[['N_Terms','Transfer_Cr','Total_Cr']], data['Graduated'], cv=5)\n",
      "print scores_accuracy, scores_accuracy.mean()"
     ],
     "language": "python",
     "metadata": {},
     "outputs": [
      {
       "output_type": "stream",
       "stream": "stdout",
       "text": [
        "[ 0.92546584  0.95652174  0.95625     0.96226415  0.96226415] 0.952553175905\n"
       ]
      }
     ],
     "prompt_number": 226
    },
    {
     "cell_type": "code",
     "collapsed": false,
     "input": [
      "scores_precision_ml = cross_val_score(LogisticRegression(),data[['N_Terms','Transfer_Cr','Total_Cr']], data['Graduated'], cv=5, scoring='precision')\n",
      "print scores_precision, scores_precision.mean()\n",
      "#since the previous one always gives me zeros, i tried to go one by one: metrics.precision_score\n",
      "metrics.precision_score(y_test_ml, y_pred_ml, labels=None)"
     ],
     "language": "python",
     "metadata": {},
     "outputs": [
      {
       "output_type": "stream",
       "stream": "stdout",
       "text": [
        "[ 0.  0.  0.  0.  0.] 0.0\n"
       ]
      },
      {
       "metadata": {},
       "output_type": "pyout",
       "prompt_number": 227,
       "text": [
        "0.0"
       ]
      }
     ],
     "prompt_number": 227
    },
    {
     "cell_type": "code",
     "collapsed": false,
     "input": [
      "scores_recall_ml = cross_val_score(LogisticRegression(),data[['N_Terms','Transfer_Cr','Total_Cr']], data['Graduated'], cv=5, scoring='recall')\n",
      "print scores_recall, scores_recall.mean()\n",
      "metrics.recall_score(y_test_ml, y_pred_ml, labels=None, pos_label=1)"
     ],
     "language": "python",
     "metadata": {},
     "outputs": [
      {
       "output_type": "stream",
       "stream": "stdout",
       "text": [
        "[ 0.  0.  0.  0.  0.] 0.0\n"
       ]
      },
      {
       "metadata": {},
       "output_type": "pyout",
       "prompt_number": 228,
       "text": [
        "0.0"
       ]
      }
     ],
     "prompt_number": 228
    },
    {
     "cell_type": "code",
     "collapsed": false,
     "input": [
      "fs1_ml = cross_val_score(LogisticRegression(),data[['N_Terms','Transfer_Cr','Total_Cr']], data['Graduated'], cv=5, scoring='f1')\n",
      "print fs1, fs1.mean()\n",
      "metrics.f1_score(y_test_ml, y_pred_ml, labels=None, pos_label=1)"
     ],
     "language": "python",
     "metadata": {},
     "outputs": [
      {
       "output_type": "stream",
       "stream": "stdout",
       "text": [
        "[ 0.  0.  0.  0.  0.] 0.0\n"
       ]
      },
      {
       "metadata": {},
       "output_type": "pyout",
       "prompt_number": 229,
       "text": [
        "0.0"
       ]
      }
     ],
     "prompt_number": 229
    },
    {
     "cell_type": "code",
     "collapsed": false,
     "input": [
      "print(metrics.classification_report(y_test_ml, y_pred_ml))"
     ],
     "language": "python",
     "metadata": {},
     "outputs": [
      {
       "output_type": "stream",
       "stream": "stdout",
       "text": [
        "             precision    recall  f1-score   support\n",
        "\n",
        "          0       0.96      1.00      0.98       193\n",
        "          1       0.00      0.00      0.00         7\n",
        "\n",
        "avg / total       0.93      0.96      0.95       200\n",
        "\n"
       ]
      }
     ],
     "prompt_number": 230
    },
    {
     "cell_type": "code",
     "collapsed": false,
     "input": [
      "false_positive_rate_ml, recall_ml, thresholds_ml = metrics.roc_curve(y_test_ml,y_pred_ml)\n",
      "roc_auc_ml = metrics.auc(false_positive_rate_ml, recall_ml)\n",
      "plt.title('Receiver Operating Characteristic')\n",
      "plt.plot(false_positive_rate_ml, recall_ml, 'b', label='AUC = %0.2f' %roc_auc_ml)\n",
      "plt.legend(loc='lower right')\n",
      "plt.plot([0, 1], [0, 1], 'r--')\n",
      "plt.xlim([0.0, 1.0])\n",
      "plt.ylim([0.0, 1.0])\n",
      "plt.ylabel('Recall')\n",
      "plt.xlabel('Fall-out')\n",
      "plt.show()"
     ],
     "language": "python",
     "metadata": {},
     "outputs": [
      {
       "metadata": {},
       "output_type": "display_data",
       "png": "[encoded data removed]",
       "text": [
        "<matplotlib.figure.Figure at 0x1172a9c90>"
       ]
      }
     ],
     "prompt_number": 231
    },
    {
     "cell_type": "code",
     "collapsed": false,
     "input": [
      "#will try multiple regression on the class columns\n",
      "\n",
      "data.columns[6:]"
     ],
     "language": "python",
     "metadata": {},
     "outputs": [
      {
       "metadata": {},
       "output_type": "pyout",
       "prompt_number": 232,
       "text": [
        "Index([u'MATH102', u'MATH102L', u'MATH103', u'MATH103A1', u'MATH103L', u'MATH104', u'MATH104L', u'MATH105', u'MATH105L', u'MATH106', u'MATH131', u'MATH140', u'MATH140A1', u'MATH140OL', u'MATH150A', u'MATH150AA1', u'MATH150AL', u'MATH150B', u'MATH150BA1', u'MATH150BL', u'MATH196HL', u'MATH196LOL', u'MATH196NL', u'MATH210', u'MATH250', u'MATH255A', u'MATH255B', u'MATH262', u'MATH280', u'MATH310', u'MATH310L', u'MATH311', u'MATH312', u'MATH320', u'MATH326', u'MATH331', u'MATH331OL', u'MATH340', u'MATH341', u'MATH350', u'MATH351', u'MATH360', u'MATH364', u'MATH366', u'MATH370', u'MATH373', u'MATH380', u'MATH382', u'MATH382L', u'MATH391', u'MATH392I1', u'MATH396CL', u'MATH396-1', u'MATH396-1L', u'MATH396MA', u'MATH411', u'MATH412', u'MATH440A', u'MATH440B', u'MATH441', u'MATH450', u'MATH455', u'MATH460', u'MATH462', u'MATH463', u'MATH464', u'MATH470', u'MATH480', u'MATH481A', u'MATH482', u'MATH483', u'MATH490', u'MATH493', u'MATH494', u'MATH496-1', u'MATH496-1L', u'MATH499A', u'MATH499B', u'MATH499C', u'MATH501', u'MATH512A', u'MATH514A', u'MATH540', u'MATH542A', u'MATH542B', u'MATH542C', u'MATH542D', u'MATH550', u'MATH552', u'MATH560', u'MATH570', u'MATH571', u'MATH581', u'MATH582A', u'MATH582B', u'MATH582D', u'MATH592A', u'MATH592D', u'MATH599C', u'MATH625', ...], dtype='object')"
       ]
      }
     ],
     "prompt_number": 232
    },
    {
     "cell_type": "code",
     "collapsed": false,
     "input": [
      "X_raw=data[data.columns[6:]]\n",
      "X_train_ml, X_test_ml, y_train_ml, y_test_ml = train_test_split(X_raw, data['Graduated'],test_size=0.2)\n",
      "\n",
      "'''\n",
      "X_train=data['Total_Cr'].values\n",
      "X_test=data['Total_Cr'].values\n",
      "y_train=data['Graduated'].values\n",
      "y_test=data['Graduated'].values\n",
      "'''\n",
      "\n",
      "classifier = LogisticRegression()\n",
      "classifier.fit(X_train_ml, y_train_ml)\n",
      "y_pred_ml = classifier.predict(X_test_ml)\n",
      "\n",
      "confusion_matrix = metrics.confusion_matrix(y_test_ml, y_pred_ml)\n",
      "print(confusion_matrix)\n",
      "plt.matshow(confusion_matrix)\n",
      "plt.title('Confusion matrix')\n",
      "plt.colorbar()\n",
      "plt.ylabel('True label')\n",
      "plt.xlabel('Predicted label')\n",
      "\n",
      "\n",
      "coef_list=classifier.coef_"
     ],
     "language": "python",
     "metadata": {},
     "outputs": [
      {
       "output_type": "stream",
       "stream": "stdout",
       "text": [
        "[[149   4]\n",
        " [  3   4]]\n"
       ]
      },
      {
       "metadata": {},
       "output_type": "display_data",
       "png": "[encoded data removed]",
       "text": [
        "<matplotlib.figure.Figure at 0x1171c4510>"
       ]
      }
     ],
     "prompt_number": 285
    },
    {
     "cell_type": "code",
     "collapsed": false,
     "input": [
      "print(metrics.classification_report(y_test_ml, y_pred_ml))"
     ],
     "language": "python",
     "metadata": {},
     "outputs": [
      {
       "output_type": "stream",
       "stream": "stdout",
       "text": [
        "             precision    recall  f1-score   support\n",
        "\n",
        "          0       0.97      0.97      0.97       151\n",
        "          1       0.56      0.56      0.56         9\n",
        "\n",
        "avg / total       0.95      0.95      0.95       160\n",
        "\n"
       ]
      }
     ],
     "prompt_number": 234
    },
    {
     "cell_type": "code",
     "collapsed": false,
     "input": [
      "classifier.score(X_test_ml, y_test_ml) #accuracy"
     ],
     "language": "python",
     "metadata": {},
     "outputs": [
      {
       "metadata": {},
       "output_type": "pyout",
       "prompt_number": 235,
       "text": [
        "0.94999999999999996"
       ]
      }
     ],
     "prompt_number": 235
    },
    {
     "cell_type": "code",
     "collapsed": false,
     "input": [
      "#ROC curve looks better, but far from being perfect\n",
      "\n",
      "y_pred_prob_ml = classifier.predict_proba(X_test_ml)\n",
      "false_positive_rate_ml, recall_ml, thresholds_ml = metrics.roc_curve(y_test_ml,y_pred_prob_ml[:, 1])\n",
      "roc_auc_ml = metrics.auc(false_positive_rate_ml, recall_ml)\n",
      "plt.title('Receiver Operating Characteristic')\n",
      "plt.plot(false_positive_rate_ml, recall_ml, 'b', label='AUC = %0.2f' %roc_auc_ml)\n",
      "plt.legend(loc='lower right')\n",
      "plt.plot([0, 1], [0, 1], 'r--')\n",
      "plt.xlim([0.0, 1.0])\n",
      "plt.ylim([0.0, 1.0])\n",
      "plt.ylabel('Recall')\n",
      "plt.xlabel('Fall-out')\n",
      "plt.show()\n",
      "\n"
     ],
     "language": "python",
     "metadata": {},
     "outputs": [
      {
       "metadata": {},
       "output_type": "display_data",
       "png": "[encoded data removed]",
       "text": [
        "<matplotlib.figure.Figure at 0x117c4e890>"
       ]
      }
     ],
     "prompt_number": 286
    },
    {
     "cell_type": "code",
     "collapsed": false,
     "input": [
      "thresholds_ml"
     ],
     "language": "python",
     "metadata": {},
     "outputs": [
      {
       "metadata": {},
       "output_type": "pyout",
       "prompt_number": 237,
       "text": [
        "array([2, 1, 0])"
       ]
      }
     ],
     "prompt_number": 237
    },
    {
     "cell_type": "code",
     "collapsed": false,
     "input": [
      "#using PCA to reduce dimention of vertor space and plot it in 2D\n",
      "from sklearn.decomposition import PCA\n",
      "pca = PCA(n_components=2)\n",
      "reduced_X = pca.fit_transform(X_raw)\n",
      "y=data['Graduated']\n",
      "\n",
      "red_x, red_y = [], []\n",
      "blue_x, blue_y = [], []\n",
      "green_x, green_y = [], []\n",
      "for i in range(len(reduced_X)):\n",
      "    if y[i] == 0:\n",
      "        red_x.append(reduced_X[i][0])\n",
      "        red_y.append(reduced_X[i][1])\n",
      "    elif y[i] == 1:\n",
      "        blue_x.append(reduced_X[i][0])\n",
      "        blue_y.append(reduced_X[i][1])\n",
      "    else:\n",
      "        green_x.append(reduced_X[i][0])\n",
      "        green_y.append(reduced_X[i][1])\n",
      "plt.scatter(red_x, red_y, c='r', marker='x')\n",
      "plt.scatter(blue_x, blue_y, c='b', marker='D')\n",
      "plt.scatter(green_x, green_y, c='g', marker='.')\n",
      "plt.show()"
     ],
     "language": "python",
     "metadata": {},
     "outputs": [
      {
       "metadata": {},
       "output_type": "display_data",
       "png": "[encoded data removed]",
       "text": [
        "<matplotlib.figure.Figure at 0x11315a050>"
       ]
      }
     ],
     "prompt_number": 238
    },
    {
     "cell_type": "code",
     "collapsed": false,
     "input": [
      "#trying log regression with only certain types of classes\n",
      "\n",
      "X_raw_r=data[['MATH150A','MATH150B','MATH250', 'MATH262','MATH320']]\n",
      "X_train_ml, X_test_ml, y_train_ml, y_test_ml = train_test_split(X_raw_r, data['Graduated'],test_size=0.5)\n",
      "\n",
      "'''\n",
      "X_train=data['Total_Cr'].values\n",
      "X_test=data['Total_Cr'].values\n",
      "y_train=data['Graduated'].values\n",
      "y_test=data['Graduated'].values\n",
      "'''\n",
      "\n",
      "classifier = LogisticRegression()\n",
      "classifier.fit_transform(X_train_ml, y_train_ml)\n",
      "y_pred_ml = classifier.predict(X_test_ml)\n",
      "\n",
      "confusion_matrix = metrics.confusion_matrix(y_test_ml, y_pred_ml)\n",
      "print(confusion_matrix)\n",
      "plt.matshow(confusion_matrix)\n",
      "plt.title('Confusion matrix')\n",
      "plt.colorbar()\n",
      "plt.ylabel('True label')\n",
      "plt.xlabel('Predicted label')\n",
      "\n"
     ],
     "language": "python",
     "metadata": {},
     "outputs": [
      {
       "output_type": "stream",
       "stream": "stdout",
       "text": [
        "[[380   0]\n",
        " [ 20   0]]\n"
       ]
      },
      {
       "metadata": {},
       "output_type": "display_data",
       "png": "[encoded data removed]",
       "text": [
        "<matplotlib.figure.Figure at 0x1167d83d0>"
       ]
      }
     ],
     "prompt_number": 276
    },
    {
     "cell_type": "code",
     "collapsed": false,
     "input": [
      "#trying to extract the most influential features \n",
      "#so, of 115 classes we selected only 8 most influential\n",
      "X_raw=data[data.columns[6:]]\n",
      "X_train_ml, X_test_ml, y_train_ml, y_test_ml = train_test_split(X_raw, data['Graduated'],test_size=0.2)\n",
      "\n",
      "classifier = LogisticRegression()\n",
      "classifier.fit(X_train_ml, y_train_ml)\n",
      "y_pred_ml = classifier.predict(X_test_ml)\n",
      "\n",
      "\n",
      "#gives an error if run twice - before running for the second time must rerun the code where X_raw and classifier are first defined\n",
      "X_transformed=classifier.transform(X_raw, threshold=0.7)\n",
      "#X_transformed=X_raw_r\n",
      "print len(X_transformed[0])\n",
      "print len(X_raw.values[0])\n",
      "\n",
      "classifier.get_params()"
     ],
     "language": "python",
     "metadata": {},
     "outputs": [
      {
       "output_type": "stream",
       "stream": "stdout",
       "text": [
        "8\n",
        "115\n"
       ]
      },
      {
       "metadata": {},
       "output_type": "pyout",
       "prompt_number": 242,
       "text": [
        "{'C': 1.0,\n",
        " 'class_weight': None,\n",
        " 'dual': False,\n",
        " 'fit_intercept': True,\n",
        " 'intercept_scaling': 1,\n",
        " 'penalty': 'l2',\n",
        " 'random_state': None,\n",
        " 'tol': 0.0001}"
       ]
      }
     ],
     "prompt_number": 242
    },
    {
     "cell_type": "code",
     "collapsed": false,
     "input": [
      "\n",
      "X_train_tr, X_test_tr, y_train_tr, y_test_tr = train_test_split(X_transformed, data['Graduated'],test_size=0.2)\n",
      "\n",
      "'''\n",
      "X_train=data['Total_Cr'].values\n",
      "X_test=data['Total_Cr'].values\n",
      "y_train=data['Graduated'].values\n",
      "y_test=data['Graduated'].values\n",
      "'''\n",
      "\n",
      "classifier = LogisticRegression()\n",
      "classifier.fit_transform(X_train_tr, y_train_tr)\n",
      "y_pred_tr = classifier.predict(X_test_tr)\n",
      "\n",
      "confusion_matrix = metrics.confusion_matrix(y_test_tr, y_pred_tr)\n",
      "print(confusion_matrix)\n",
      "plt.matshow(confusion_matrix)\n",
      "plt.title('Confusion matrix')\n",
      "plt.colorbar()\n",
      "plt.ylabel('True label')\n",
      "plt.xlabel('Predicted label')\n",
      "\n"
     ],
     "language": "python",
     "metadata": {},
     "outputs": [
      {
       "output_type": "stream",
       "stream": "stdout",
       "text": [
        "[[155   1]\n",
        " [  2   2]]\n"
       ]
      },
      {
       "metadata": {},
       "output_type": "pyout",
       "prompt_number": 270,
       "text": [
        "<matplotlib.text.Text at 0x1167ced50>"
       ]
      },
      {
       "metadata": {},
       "output_type": "display_data",
       "png": "[encoded data removed]",
       "text": [
        "<matplotlib.figure.Figure at 0x1167d8e90>"
       ]
      }
     ],
     "prompt_number": 270
    },
    {
     "cell_type": "code",
     "collapsed": false,
     "input": [
      "y_pred_prob_tr = classifier.predict_proba(X_test_tr)\n",
      "false_positive_rate_tr, recall_tr, thresholds_tr = metrics.roc_curve(y_test_tr,y_pred_prob_tr[:, 1])\n",
      "\n",
      "roc_auc_tr = metrics.auc(false_positive_rate_tr, recall_tr)\n",
      "plt.title('Receiver Operating Characteristic')\n",
      "plt.plot(false_positive_rate_tr, recall_tr, 'b', label='AUC = %0.2f' %roc_auc_tr)\n",
      "plt.legend(loc='lower right')\n",
      "plt.plot([0, 1], [0, 1], 'r--')\n",
      "plt.xlim([0.0, 1.0])\n",
      "plt.ylim([0.0, 1.0])\n",
      "plt.ylabel('Recall')\n",
      "plt.xlabel('Fall-out')\n",
      "plt.show()"
     ],
     "language": "python",
     "metadata": {},
     "outputs": [
      {
       "metadata": {},
       "output_type": "display_data",
       "png": "[encoded data removed]",
       "text": [
        "<matplotlib.figure.Figure at 0x117c53a10>"
       ]
      }
     ],
     "prompt_number": 273
    },
    {
     "cell_type": "code",
     "collapsed": false,
     "input": [
      "#running PCA on the limited numebr of classes\n",
      "from sklearn.decomposition import PCA\n",
      "pca = PCA(n_components=2)\n",
      "reduced_X = pca.fit_transform(X_transformed)\n",
      "y=data['Graduated']\n",
      "\n",
      "red_x, red_y = [], []\n",
      "blue_x, blue_y = [], []\n",
      "green_x, green_y = [], []\n",
      "for i in range(len(reduced_X)):\n",
      "    if y[i] == 0:\n",
      "        red_x.append(reduced_X[i][0])\n",
      "        red_y.append(reduced_X[i][1])\n",
      "    elif y[i] == 1:\n",
      "        blue_x.append(reduced_X[i][0])\n",
      "        blue_y.append(reduced_X[i][1])\n",
      "    else:\n",
      "        green_x.append(reduced_X[i][0])\n",
      "        green_y.append(reduced_X[i][1])\n",
      "plt.scatter(red_x, red_y, c='r', marker='x')\n",
      "plt.scatter(blue_x, blue_y, c='b', marker='D')\n",
      "plt.scatter(green_x, green_y, c='g', marker='.')\n",
      "plt.show()"
     ],
     "language": "python",
     "metadata": {},
     "outputs": [
      {
       "metadata": {},
       "output_type": "display_data",
       "png": "[encoded data removed]",
       "text": [
        "<matplotlib.figure.Figure at 0x117c38750>"
       ]
      }
     ],
     "prompt_number": 245
    },
    {
     "cell_type": "code",
     "collapsed": false,
     "input": [
      "print len(coef_list[coef_list<0])\n",
      "data.columns[6:].values[coef_list[0]<0]"
     ],
     "language": "python",
     "metadata": {},
     "outputs": [
      {
       "output_type": "stream",
       "stream": "stdout",
       "text": [
        "66\n"
       ]
      },
      {
       "metadata": {},
       "output_type": "pyout",
       "prompt_number": 287,
       "text": [
        "array(['MATH102', 'MATH102L', 'MATH103A1', 'MATH104', 'MATH105', 'MATH106',\n",
        "       'MATH131', 'MATH140', 'MATH150A', 'MATH150AA1', 'MATH150AL',\n",
        "       'MATH150B', 'MATH150BA1', 'MATH196NL', 'MATH210', 'MATH250',\n",
        "       'MATH255B', 'MATH280', 'MATH310', 'MATH310L', 'MATH311', 'MATH331',\n",
        "       'MATH331OL', 'MATH341', 'MATH364', 'MATH366', 'MATH373', 'MATH380',\n",
        "       'MATH391', 'MATH396CL', 'MATH396MA', 'MATH412', 'MATH440B',\n",
        "       'MATH441', 'MATH450', 'MATH455', 'MATH470', 'MATH480', 'MATH494',\n",
        "       'MATH499B', 'MATH499C', 'MATH542A', 'MATH542B', 'MATH542D',\n",
        "       'MATH552', 'MATH570', 'MATH571', 'MATH582A', 'MATH582B', 'MATH582D',\n",
        "       'MATH592A', 'MATH592D', 'MATH625', 'MATH651B', 'MATH655',\n",
        "       'MATH661A', 'MATH92', 'MATH93', 'MATH93OL', 'MATH94', 'MATH94A',\n",
        "       'MATH94B', 'MATH95', 'MATH96S', 'MATH998A1', 'MATH999A1'], dtype=object)"
       ]
      }
     ],
     "prompt_number": 287
    },
    {
     "cell_type": "code",
     "collapsed": false,
     "input": [
      "print len(coef_list[coef_list>0.5])\n",
      "data.columns[6:].values[coef_list[0]>0.5]"
     ],
     "language": "python",
     "metadata": {},
     "outputs": [
      {
       "output_type": "stream",
       "stream": "stdout",
       "text": [
        "10\n"
       ]
      },
      {
       "metadata": {},
       "output_type": "pyout",
       "prompt_number": 288,
       "text": [
        "array(['MATH350', 'MATH351', 'MATH360', 'MATH382', 'MATH382L', 'MATH460',\n",
        "       'MATH462', 'MATH493', 'MATH499A', 'MATH501'], dtype=object)"
       ]
      }
     ],
     "prompt_number": 288
    },
    {
     "cell_type": "code",
     "collapsed": false,
     "input": [
      "print len(coef_list[coef_list>0.7])\n",
      "data.columns[6:].values[coef_list[0]>0.7]"
     ],
     "language": "python",
     "metadata": {},
     "outputs": [
      {
       "output_type": "stream",
       "stream": "stdout",
       "text": [
        "6\n"
       ]
      },
      {
       "metadata": {},
       "output_type": "pyout",
       "prompt_number": 289,
       "text": [
        "array(['MATH350', 'MATH360', 'MATH460', 'MATH462', 'MATH493', 'MATH501'], dtype=object)"
       ]
      }
     ],
     "prompt_number": 289
    },
    {
     "cell_type": "code",
     "collapsed": false,
     "input": [
      "coef_list"
     ],
     "language": "python",
     "metadata": {},
     "outputs": [
      {
       "metadata": {},
       "output_type": "pyout",
       "prompt_number": 284,
       "text": [
        "array([[-0.42559256,  0.29178036,  0.23584242,  0.4996004 ,  0.96834038]])"
       ]
      }
     ],
     "prompt_number": 284
    },
    {
     "cell_type": "code",
     "collapsed": false,
     "input": [
      "data.columns[6:].values[coef_list[0]<0.5]"
     ],
     "language": "python",
     "metadata": {},
     "outputs": [
      {
       "metadata": {},
       "output_type": "pyout",
       "prompt_number": 290,
       "text": [
        "array(['MATH102', 'MATH102L', 'MATH103', 'MATH103A1', 'MATH103L',\n",
        "       'MATH104', 'MATH104L', 'MATH105', 'MATH105L', 'MATH106', 'MATH131',\n",
        "       'MATH140', 'MATH140A1', 'MATH140OL', 'MATH150A', 'MATH150AA1',\n",
        "       'MATH150AL', 'MATH150B', 'MATH150BA1', 'MATH150BL', 'MATH196HL',\n",
        "       'MATH196LOL', 'MATH196NL', 'MATH210', 'MATH250', 'MATH255A',\n",
        "       'MATH255B', 'MATH262', 'MATH280', 'MATH310', 'MATH310L', 'MATH311',\n",
        "       'MATH312', 'MATH320', 'MATH326', 'MATH331', 'MATH331OL', 'MATH340',\n",
        "       'MATH341', 'MATH364', 'MATH366', 'MATH370', 'MATH373', 'MATH380',\n",
        "       'MATH391', 'MATH392I1', 'MATH396CL', 'MATH396-1', 'MATH396-1L',\n",
        "       'MATH396MA', 'MATH411', 'MATH412', 'MATH440A', 'MATH440B',\n",
        "       'MATH441', 'MATH450', 'MATH455', 'MATH463', 'MATH464', 'MATH470',\n",
        "       'MATH480', 'MATH481A', 'MATH482', 'MATH483', 'MATH490', 'MATH494',\n",
        "       'MATH496-1', 'MATH496-1L', 'MATH499B', 'MATH499C', 'MATH512A',\n",
        "       'MATH514A', 'MATH540', 'MATH542A', 'MATH542B', 'MATH542C',\n",
        "       'MATH542D', 'MATH550', 'MATH552', 'MATH560', 'MATH570', 'MATH571',\n",
        "       'MATH581', 'MATH582A', 'MATH582B', 'MATH582D', 'MATH592A',\n",
        "       'MATH592D', 'MATH599C', 'MATH625', 'MATH651B', 'MATH655',\n",
        "       'MATH661A', 'MATH661B', 'MATH699A', 'MATH92', 'MATH93', 'MATH93OL',\n",
        "       'MATH94', 'MATH94A', 'MATH94B', 'MATH95', 'MATH96S', 'MATH998A1',\n",
        "       'MATH999A1'], dtype=object)"
       ]
      }
     ],
     "prompt_number": 290
    },
    {
     "cell_type": "code",
     "collapsed": false,
     "input": [
      "col=data.columns[6:].values[coef_list[0]<0.5]\n",
      "\n",
      "X_train_tr, X_test_tr, y_train_tr, y_test_tr = train_test_split(data[col], data['Graduated'],test_size=0.2)\n",
      "\n",
      "\n",
      "classifier = LogisticRegression()\n",
      "classifier.fit_transform(X_train_tr, y_train_tr)\n",
      "y_pred_tr = classifier.predict(X_test_tr)\n",
      "\n",
      "confusion_matrix = metrics.confusion_matrix(y_test_tr, y_pred_tr)\n",
      "print(confusion_matrix)\n",
      "plt.matshow(confusion_matrix)\n",
      "plt.title('Confusion matrix')\n",
      "plt.colorbar()\n",
      "plt.ylabel('True label')\n",
      "plt.xlabel('Predicted label')\n",
      "\n"
     ],
     "language": "python",
     "metadata": {},
     "outputs": [
      {
       "output_type": "stream",
       "stream": "stdout",
       "text": [
        "[[152   0]\n",
        " [  8   0]]\n"
       ]
      },
      {
       "metadata": {},
       "output_type": "pyout",
       "prompt_number": 291,
       "text": [
        "<matplotlib.text.Text at 0x1167f9f90>"
       ]
      },
      {
       "metadata": {},
       "output_type": "display_data",
       "png": "[encoded data removed]",
       "text": [
        "<matplotlib.figure.Figure at 0x1171bded0>"
       ]
      }
     ],
     "prompt_number": 291
    },
    {
     "cell_type": "code",
     "collapsed": false,
     "input": [
      "data.columns[6:].values[classifier.coef_[0]>0.2] "
     ],
     "language": "python",
     "metadata": {},
     "outputs": [
      {
       "metadata": {},
       "output_type": "pyout",
       "prompt_number": 298,
       "text": [
        "array(['MATH103', 'MATH103L', 'MATH140A1', 'MATH250', 'MATH262', 'MATH340',\n",
        "       'MATH360', 'MATH373', 'MATH382', 'MATH382L', 'MATH396-1',\n",
        "       'MATH440A', 'MATH462', 'MATH464', 'MATH496-1', 'MATH499C',\n",
        "       'MATH501', 'MATH540', 'MATH582A'], dtype=object)"
       ]
      }
     ],
     "prompt_number": 298
    },
    {
     "cell_type": "code",
     "collapsed": false,
     "input": [],
     "language": "python",
     "metadata": {},
     "outputs": []
    }
   ],
   "metadata": {}
  }
 ]
}