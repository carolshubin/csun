{
 "metadata": {
  "name": "",
  "signature": "sha256:73c3ec3d5e64dbbad7f30c7e0082df86db7365b1c44393b7620e7fbc4ee61692"
 },
 "nbformat": 3,
 "nbformat_minor": 0,
 "worksheets": [
  {
   "cells": [
    {
     "cell_type": "code",
     "collapsed": false,
     "input": [
      "import sys\n",
      "sys.path.append(\"../csun/chris/\")\n",
      "\n",
      "%matplotlib inline\n",
      "from __future__ import division\n",
      "import numpy as np\n",
      "import pandas as pd\n",
      "import matplotlib.pyplot as plt\n",
      "import re\n",
      "import sklearn\n",
      "\n",
      "from sklearn import metrics\n",
      "from sklearn.cross_validation import train_test_split, cross_val_score\n",
      "from sklearn import metrics\n",
      "from sklearn.metrics import roc_curve, auc\n",
      "from sklearn.linear_model import LogisticRegression\n",
      "from sklearn.decomposition import PCA\n",
      "from sklearn.cluster import KMeans\n",
      "from scipy.spatial.distance import cdist\n",
      "\n",
      "def printContingencyTable(y_test, y_pred):\n",
      "    confusion_matrix = metrics.confusion_matrix(y_test, y_pred)\n",
      "    plt.matshow(confusion_matrix)\n",
      "    plt.title('Confusion matrix')\n",
      "    #plt.colorbar()\n",
      "    plt.ylabel('Graduated')\n",
      "    plt.xlabel('Predicted')\n",
      "    plt.show()\n",
      "    print(confusion_matrix)\n",
      "\n",
      "\n",
      "def plotROC(y_test,y_pred):\n",
      "    #y_pred can consist of Boolean labels or probabilities, w/ the obvious implications for curve character\n",
      "    false_positive_rate, true_positive_rate, thresholds = roc_curve(y_test,y_pred)\n",
      "    roc_auc = auc(false_positive_rate, true_positive_rate)\n",
      "    plt.title('Receiver Operating Characteristic')\n",
      "    plt.plot(false_positive_rate, true_positive_rate, 'b', label='AUC = %0.2f' %roc_auc)\n",
      "    plt.legend(loc='lower right')\n",
      "    plt.plot([0, 1], [0, 1], 'r--')\n",
      "    plt.xlim([0.0, 1.0])\n",
      "    plt.ylim([0.0, 1.0])\n",
      "    plt.ylabel('False Negative Rate')\n",
      "    plt.xlabel('True Positive Rate')\n",
      "    plt.show()\n",
      "    \n",
      "    \n",
      "def CH_index(X, labels, centroids):\n",
      "    '''\n",
      "    https://github.com/scampion/scikit-learn/blob/master/scikits/learn/cluster/__init__.py\n",
      "    '''\n",
      "    mean = np.mean(X,axis=0) \n",
      "    \n",
      "    B = np.sum([ np.sum(labels==i)*(c - mean)**2 for i,c in enumerate(centroids)])\n",
      "    W = np.sum([ (x-centroids[labels[i]])**2 \n",
      "                        for i, x in enumerate(X)])\n",
      "    c = len(centroids)\n",
      "    n = len(X)\n",
      "    return ((n-c)*B )/((c-1)*W)\n",
      "\n",
      "def metaDF(gpaDF,labels): #return dataframe with metadata (such as probability of graduation)\n",
      "    df=gpaDF\n",
      "    df['label']=labels\n",
      "    df['Total_Cr']=df['Transfer_Cr']+df['Inst_Cr']\n",
      "    \n",
      "    def func(x,data):\n",
      "        prob=data.groupby(['label']).mean()['Graduated']\n",
      "        return prob[x['label']]\n",
      "    \n",
      "    df['Proba_Grad']=df.apply(func,axis=1, args=[df])\n",
      "    df=df[['N_Terms', 'Graduated','label','Proba_Grad', \\\n",
      "                   'Transfer_Cr', 'Inst_Cr', 'Total_Cr']]\n",
      "    return df\n",
      "\n",
      "from scipy.spatial.distance import cdist\n",
      "\n",
      "def predictL1(X, kfit=None): #predict cluster for L1\n",
      "    dist=cdist(kfit[0],X, 'cityblock') #returns array [k-clusters,n-samples]\n",
      "    labels=np.argmin(dist, axis=0) #memo: axis=0 is the columns\n",
      "    return labels\n",
      "\n",
      "def getGradLabel(y_train, labels): #only for k=2 clusters; returns the cluster label with the highest number of graduates \n",
      "    clusterDF=pd.DataFrame({'Graduated':y_train, 'ClusterLbl':labels })\n",
      "    cr=pd.crosstab(index=clusterDF['ClusterLbl'], columns = clusterDF['Graduated'])\n",
      "    return cr[1].argmax()"
     ],
     "language": "python",
     "metadata": {},
     "outputs": [],
     "prompt_number": 193
    },
    {
     "cell_type": "code",
     "collapsed": false,
     "input": [
      "#\n",
      "#Load/encode data\n",
      "#\n",
      "data = pd.read_csv('biology_redacted.csv')\n",
      "data['Graduated'].replace(to_replace=('N','Y'), value=(0,1), inplace=True)\n",
      "data.head()\n",
      "\n",
      "def encode(s):\n",
      "    v = re.split(r':',s)\n",
      "    x = v[1][1:]\n",
      "    out = 0.0\n",
      "    if x=='A+':\n",
      "        out=4.0\n",
      "    if x=='A':\n",
      "        out=4.0\n",
      "    if x=='A-':\n",
      "        out=3.7\n",
      "    if x=='B+':\n",
      "        out=3.3\n",
      "    if x=='B':\n",
      "        out=3.0\n",
      "    if x=='B-':\n",
      "        out=2.7\n",
      "    if x=='C+':\n",
      "        out=2.3\n",
      "    if x=='C':\n",
      "        out=2.0\n",
      "    if x=='C-':\n",
      "        out=1.7\n",
      "    if x=='D+':\n",
      "        out=1.3\n",
      "    if x=='D':\n",
      "        out=1.0\n",
      "    if x=='D-':\n",
      "        out=0.7\n",
      "    if x=='F':\n",
      "        out=0.0\n",
      "    if x=='NA':\n",
      "        out = 0.0\n",
      "    if x=='CR':\n",
      "        out=2.0\n",
      "    return out-2.0\n",
      "\n",
      "gpaDF=data[data.columns[5:]].applymap(encode) #apply above encoding function \n",
      "gpaDF[data.columns[:5]]=data[data.columns[:5]]\n",
      "gpaDF=gpaDF[data.columns]"
     ],
     "language": "python",
     "metadata": {},
     "outputs": [],
     "prompt_number": 194
    },
    {
     "cell_type": "code",
     "collapsed": false,
     "input": [
      "data.head()"
     ],
     "language": "python",
     "metadata": {},
     "outputs": [
      {
       "html": [
        "<div style=\"max-height:1000px;max-width:1500px;overflow:auto;\">\n",
        "<table border=\"1\" class=\"dataframe\">\n",
        "  <thead>\n",
        "    <tr style=\"text-align: right;\">\n",
        "      <th></th>\n",
        "      <th>Major_Cd</th>\n",
        "      <th>N_Terms</th>\n",
        "      <th>Graduated</th>\n",
        "      <th>Transfer_Cr</th>\n",
        "      <th>Inst_Cr</th>\n",
        "      <th>MATH105</th>\n",
        "      <th>MATH102</th>\n",
        "      <th>MATH104</th>\n",
        "      <th>MATH255A</th>\n",
        "      <th>BIOL106</th>\n",
        "      <th>BIOL107</th>\n",
        "      <th>CHEM101</th>\n",
        "      <th>CHEM102</th>\n",
        "      <th>PHYS100A</th>\n",
        "      <th>PHYS100B</th>\n",
        "      <th>BIOL322</th>\n",
        "      <th>BIOL360</th>\n",
        "      <th>BIOL380</th>\n",
        "      <th>CHEM333</th>\n",
        "      <th>CHEM334</th>\n",
        "    </tr>\n",
        "  </thead>\n",
        "  <tbody>\n",
        "    <tr>\n",
        "      <th>0</th>\n",
        "      <td> 780602B</td>\n",
        "      <td> 1</td>\n",
        "      <td> 0</td>\n",
        "      <td> 64</td>\n",
        "      <td> 10</td>\n",
        "      <td> 0:0NA</td>\n",
        "      <td> 0:0NA</td>\n",
        "      <td> 0:0NA</td>\n",
        "      <td> 0:0NA</td>\n",
        "      <td> 1:1C-</td>\n",
        "      <td> 0:0NA</td>\n",
        "      <td> 0:0NA</td>\n",
        "      <td> 0:0NA</td>\n",
        "      <td> 0:0NA</td>\n",
        "      <td> 0:0NA</td>\n",
        "      <td> 0:0NA</td>\n",
        "      <td> 0:0NA</td>\n",
        "      <td> 0:0NA</td>\n",
        "      <td> 0:0NA</td>\n",
        "      <td> 0:0NA</td>\n",
        "    </tr>\n",
        "    <tr>\n",
        "      <th>1</th>\n",
        "      <td> 780602B</td>\n",
        "      <td> 1</td>\n",
        "      <td> 0</td>\n",
        "      <td> 41</td>\n",
        "      <td> 65</td>\n",
        "      <td> 0:0NA</td>\n",
        "      <td> 0:0NA</td>\n",
        "      <td> 0:0NA</td>\n",
        "      <td> 0:0NA</td>\n",
        "      <td> 1:1C-</td>\n",
        "      <td>  2:1C</td>\n",
        "      <td>  1:1A</td>\n",
        "      <td>  1:1A</td>\n",
        "      <td> 0:0NA</td>\n",
        "      <td> 0:0NA</td>\n",
        "      <td>   5:0</td>\n",
        "      <td> 1:1B+</td>\n",
        "      <td> 0:0NA</td>\n",
        "      <td> 0:0NA</td>\n",
        "      <td> 0:0NA</td>\n",
        "    </tr>\n",
        "    <tr>\n",
        "      <th>2</th>\n",
        "      <td> 780602B</td>\n",
        "      <td> 1</td>\n",
        "      <td> 0</td>\n",
        "      <td> 70</td>\n",
        "      <td> 20</td>\n",
        "      <td>  1:1B</td>\n",
        "      <td> 0:0NA</td>\n",
        "      <td>  1:1B</td>\n",
        "      <td>  1:0A</td>\n",
        "      <td>  1:1B</td>\n",
        "      <td>  1:1B</td>\n",
        "      <td>  1:1C</td>\n",
        "      <td>  1:1B</td>\n",
        "      <td>  1:1A</td>\n",
        "      <td>   2:0</td>\n",
        "      <td>  1:1B</td>\n",
        "      <td> 1:1C+</td>\n",
        "      <td> 1:1B-</td>\n",
        "      <td> 2:1C+</td>\n",
        "      <td>  1:1C</td>\n",
        "    </tr>\n",
        "    <tr>\n",
        "      <th>3</th>\n",
        "      <td> 780602B</td>\n",
        "      <td> 2</td>\n",
        "      <td> 0</td>\n",
        "      <td>  9</td>\n",
        "      <td> 37</td>\n",
        "      <td>  1:1B</td>\n",
        "      <td> 0:0NA</td>\n",
        "      <td> 0:0NA</td>\n",
        "      <td> 1:1D+</td>\n",
        "      <td>  1:1C</td>\n",
        "      <td> 0:0NA</td>\n",
        "      <td>  1:0F</td>\n",
        "      <td> 0:0NA</td>\n",
        "      <td>  1:1B</td>\n",
        "      <td>  1:0U</td>\n",
        "      <td> 0:0NA</td>\n",
        "      <td> 0:0NA</td>\n",
        "      <td> 0:0NA</td>\n",
        "      <td> 0:0NA</td>\n",
        "      <td> 0:0NA</td>\n",
        "    </tr>\n",
        "    <tr>\n",
        "      <th>4</th>\n",
        "      <td> 780602B</td>\n",
        "      <td> 2</td>\n",
        "      <td> 0</td>\n",
        "      <td>  6</td>\n",
        "      <td> 56</td>\n",
        "      <td>  1:0W</td>\n",
        "      <td> 0:0NA</td>\n",
        "      <td> 0:0NA</td>\n",
        "      <td> 0:0NA</td>\n",
        "      <td> 1:1C-</td>\n",
        "      <td> 0:0NA</td>\n",
        "      <td> 0:0NA</td>\n",
        "      <td> 0:0NA</td>\n",
        "      <td> 0:0NA</td>\n",
        "      <td> 0:0NA</td>\n",
        "      <td> 0:0NA</td>\n",
        "      <td> 0:0NA</td>\n",
        "      <td> 0:0NA</td>\n",
        "      <td> 0:0NA</td>\n",
        "      <td> 0:0NA</td>\n",
        "    </tr>\n",
        "  </tbody>\n",
        "</table>\n",
        "</div>"
       ],
       "metadata": {},
       "output_type": "pyout",
       "prompt_number": 195,
       "text": [
        "  Major_Cd  N_Terms  Graduated  Transfer_Cr  Inst_Cr MATH105 MATH102 MATH104  \\\n",
        "0  780602B        1          0           64       10   0:0NA   0:0NA   0:0NA   \n",
        "1  780602B        1          0           41       65   0:0NA   0:0NA   0:0NA   \n",
        "2  780602B        1          0           70       20    1:1B   0:0NA    1:1B   \n",
        "3  780602B        2          0            9       37    1:1B   0:0NA   0:0NA   \n",
        "4  780602B        2          0            6       56    1:0W   0:0NA   0:0NA   \n",
        "\n",
        "  MATH255A BIOL106 BIOL107 CHEM101 CHEM102 PHYS100A PHYS100B BIOL322 BIOL360  \\\n",
        "0    0:0NA   1:1C-   0:0NA   0:0NA   0:0NA    0:0NA    0:0NA   0:0NA   0:0NA   \n",
        "1    0:0NA   1:1C-    2:1C    1:1A    1:1A    0:0NA    0:0NA     5:0   1:1B+   \n",
        "2     1:0A    1:1B    1:1B    1:1C    1:1B     1:1A      2:0    1:1B   1:1C+   \n",
        "3    1:1D+    1:1C   0:0NA    1:0F   0:0NA     1:1B     1:0U   0:0NA   0:0NA   \n",
        "4    0:0NA   1:1C-   0:0NA   0:0NA   0:0NA    0:0NA    0:0NA   0:0NA   0:0NA   \n",
        "\n",
        "  BIOL380 CHEM333 CHEM334  \n",
        "0   0:0NA   0:0NA   0:0NA  \n",
        "1   0:0NA   0:0NA   0:0NA  \n",
        "2   1:1B-   2:1C+    1:1C  \n",
        "3   0:0NA   0:0NA   0:0NA  \n",
        "4   0:0NA   0:0NA   0:0NA  "
       ]
      }
     ],
     "prompt_number": 195
    },
    {
     "cell_type": "code",
     "collapsed": false,
     "input": [
      "gpaDF.head()"
     ],
     "language": "python",
     "metadata": {},
     "outputs": [
      {
       "html": [
        "<div style=\"max-height:1000px;max-width:1500px;overflow:auto;\">\n",
        "<table border=\"1\" class=\"dataframe\">\n",
        "  <thead>\n",
        "    <tr style=\"text-align: right;\">\n",
        "      <th></th>\n",
        "      <th>Major_Cd</th>\n",
        "      <th>N_Terms</th>\n",
        "      <th>Graduated</th>\n",
        "      <th>Transfer_Cr</th>\n",
        "      <th>Inst_Cr</th>\n",
        "      <th>MATH105</th>\n",
        "      <th>MATH102</th>\n",
        "      <th>MATH104</th>\n",
        "      <th>MATH255A</th>\n",
        "      <th>BIOL106</th>\n",
        "      <th>BIOL107</th>\n",
        "      <th>CHEM101</th>\n",
        "      <th>CHEM102</th>\n",
        "      <th>PHYS100A</th>\n",
        "      <th>PHYS100B</th>\n",
        "      <th>BIOL322</th>\n",
        "      <th>BIOL360</th>\n",
        "      <th>BIOL380</th>\n",
        "      <th>CHEM333</th>\n",
        "      <th>CHEM334</th>\n",
        "    </tr>\n",
        "  </thead>\n",
        "  <tbody>\n",
        "    <tr>\n",
        "      <th>0</th>\n",
        "      <td> 780602B</td>\n",
        "      <td> 1</td>\n",
        "      <td> 0</td>\n",
        "      <td> 64</td>\n",
        "      <td> 10</td>\n",
        "      <td>-2</td>\n",
        "      <td>-2</td>\n",
        "      <td>-2</td>\n",
        "      <td>-2.0</td>\n",
        "      <td>-0.3</td>\n",
        "      <td>-2</td>\n",
        "      <td>-2</td>\n",
        "      <td>-2</td>\n",
        "      <td>-2</td>\n",
        "      <td>-2</td>\n",
        "      <td>-2</td>\n",
        "      <td>-2.0</td>\n",
        "      <td>-2.0</td>\n",
        "      <td>-2.0</td>\n",
        "      <td>-2</td>\n",
        "    </tr>\n",
        "    <tr>\n",
        "      <th>1</th>\n",
        "      <td> 780602B</td>\n",
        "      <td> 1</td>\n",
        "      <td> 0</td>\n",
        "      <td> 41</td>\n",
        "      <td> 65</td>\n",
        "      <td>-2</td>\n",
        "      <td>-2</td>\n",
        "      <td>-2</td>\n",
        "      <td>-2.0</td>\n",
        "      <td>-0.3</td>\n",
        "      <td> 0</td>\n",
        "      <td> 2</td>\n",
        "      <td> 2</td>\n",
        "      <td>-2</td>\n",
        "      <td>-2</td>\n",
        "      <td>-2</td>\n",
        "      <td> 1.3</td>\n",
        "      <td>-2.0</td>\n",
        "      <td>-2.0</td>\n",
        "      <td>-2</td>\n",
        "    </tr>\n",
        "    <tr>\n",
        "      <th>2</th>\n",
        "      <td> 780602B</td>\n",
        "      <td> 1</td>\n",
        "      <td> 0</td>\n",
        "      <td> 70</td>\n",
        "      <td> 20</td>\n",
        "      <td> 1</td>\n",
        "      <td>-2</td>\n",
        "      <td> 1</td>\n",
        "      <td> 2.0</td>\n",
        "      <td> 1.0</td>\n",
        "      <td> 1</td>\n",
        "      <td> 0</td>\n",
        "      <td> 1</td>\n",
        "      <td> 2</td>\n",
        "      <td>-2</td>\n",
        "      <td> 1</td>\n",
        "      <td> 0.3</td>\n",
        "      <td> 0.7</td>\n",
        "      <td> 0.3</td>\n",
        "      <td> 0</td>\n",
        "    </tr>\n",
        "    <tr>\n",
        "      <th>3</th>\n",
        "      <td> 780602B</td>\n",
        "      <td> 2</td>\n",
        "      <td> 0</td>\n",
        "      <td>  9</td>\n",
        "      <td> 37</td>\n",
        "      <td> 1</td>\n",
        "      <td>-2</td>\n",
        "      <td>-2</td>\n",
        "      <td>-0.7</td>\n",
        "      <td> 0.0</td>\n",
        "      <td>-2</td>\n",
        "      <td>-2</td>\n",
        "      <td>-2</td>\n",
        "      <td> 1</td>\n",
        "      <td>-2</td>\n",
        "      <td>-2</td>\n",
        "      <td>-2.0</td>\n",
        "      <td>-2.0</td>\n",
        "      <td>-2.0</td>\n",
        "      <td>-2</td>\n",
        "    </tr>\n",
        "    <tr>\n",
        "      <th>4</th>\n",
        "      <td> 780602B</td>\n",
        "      <td> 2</td>\n",
        "      <td> 0</td>\n",
        "      <td>  6</td>\n",
        "      <td> 56</td>\n",
        "      <td>-2</td>\n",
        "      <td>-2</td>\n",
        "      <td>-2</td>\n",
        "      <td>-2.0</td>\n",
        "      <td>-0.3</td>\n",
        "      <td>-2</td>\n",
        "      <td>-2</td>\n",
        "      <td>-2</td>\n",
        "      <td>-2</td>\n",
        "      <td>-2</td>\n",
        "      <td>-2</td>\n",
        "      <td>-2.0</td>\n",
        "      <td>-2.0</td>\n",
        "      <td>-2.0</td>\n",
        "      <td>-2</td>\n",
        "    </tr>\n",
        "  </tbody>\n",
        "</table>\n",
        "</div>"
       ],
       "metadata": {},
       "output_type": "pyout",
       "prompt_number": 196,
       "text": [
        "  Major_Cd  N_Terms  Graduated  Transfer_Cr  Inst_Cr  MATH105  MATH102  \\\n",
        "0  780602B        1          0           64       10       -2       -2   \n",
        "1  780602B        1          0           41       65       -2       -2   \n",
        "2  780602B        1          0           70       20        1       -2   \n",
        "3  780602B        2          0            9       37        1       -2   \n",
        "4  780602B        2          0            6       56       -2       -2   \n",
        "\n",
        "   MATH104  MATH255A  BIOL106  BIOL107  CHEM101  CHEM102  PHYS100A  PHYS100B  \\\n",
        "0       -2      -2.0     -0.3       -2       -2       -2        -2        -2   \n",
        "1       -2      -2.0     -0.3        0        2        2        -2        -2   \n",
        "2        1       2.0      1.0        1        0        1         2        -2   \n",
        "3       -2      -0.7      0.0       -2       -2       -2         1        -2   \n",
        "4       -2      -2.0     -0.3       -2       -2       -2        -2        -2   \n",
        "\n",
        "   BIOL322  BIOL360  BIOL380  CHEM333  CHEM334  \n",
        "0       -2     -2.0     -2.0     -2.0       -2  \n",
        "1       -2      1.3     -2.0     -2.0       -2  \n",
        "2        1      0.3      0.7      0.3        0  \n",
        "3       -2     -2.0     -2.0     -2.0       -2  \n",
        "4       -2     -2.0     -2.0     -2.0       -2  "
       ]
      }
     ],
     "prompt_number": 196
    },
    {
     "cell_type": "code",
     "collapsed": false,
     "input": [
      "gpaDF.to_csv('biology.csv')"
     ],
     "language": "python",
     "metadata": {},
     "outputs": [],
     "prompt_number": 197
    },
    {
     "cell_type": "code",
     "collapsed": false,
     "input": [
      "from sklearn.decomposition import PCA\n",
      "\n",
      "#col = [i for i in range(5,32)] #all psych classes\n",
      "#col = [7,8,10]\n",
      "col=gpaDF.columns[5:]\n",
      "pca = PCA(n_components=2)\n",
      "\n",
      "#X_raw=gpaDF[gpaDF.columns[col]]\n",
      "X_raw=gpaDF[col]\n",
      "normalizer=sklearn.preprocessing.Normalizer()\n",
      "\n",
      "X_raw_norm = X_raw\n",
      "#X_raw_norm= normalizer.fit_transform(X_raw.transpose().values.astype('float64')).transpose()#(X_raw - X_raw.mean()) / (X_raw.max() - X_raw.min())\n",
      "#X_raw_norm= normalizer.fit_transform(X_raw.values.astype('float64'))\n",
      "\n",
      "reduced_X = pca.fit_transform(X_raw_norm)\n",
      "y=data['Graduated']\n",
      "\n",
      "red_x, red_y = [], []\n",
      "blue_x, blue_y = [], []\n",
      "\n",
      "for i in range(len(reduced_X)):\n",
      "    if y[i] == 0:\n",
      "        red_x.append(reduced_X[i][0])\n",
      "        red_y.append(reduced_X[i][1])\n",
      "    elif y[i] == 1:\n",
      "        blue_x.append(reduced_X[i][0])\n",
      "        blue_y.append(reduced_X[i][1])\n",
      "\n",
      "plt.scatter(red_x, red_y, c='r', marker='x')\n",
      "plt.scatter(blue_x, blue_y, c='b', marker='x')\n",
      "\n",
      "plt.show()"
     ],
     "language": "python",
     "metadata": {},
     "outputs": [
      {
       "metadata": {},
       "output_type": "display_data",
       "png": "[encoded data removed]",
       "text": [
        "<matplotlib.figure.Figure at 0x1105f0b50>"
       ]
      }
     ],
     "prompt_number": 198
    },
    {
     "cell_type": "code",
     "collapsed": false,
     "input": [
      "#\n",
      "#Correlation of pc1 with each course\n",
      "#\n",
      "\n",
      "#dfPC1=pd.DataFrame({'class':gpaDF.columns[col], 'eig_comp':pca.components_[0]})\n",
      "dfPC1=pd.DataFrame({'class':col, 'eig_comp':pca.components_[0]})\n",
      "print dfPC1.sort('eig_comp', ascending=False).head(10)\n",
      "pca.explained_variance_ratio_"
     ],
     "language": "python",
     "metadata": {},
     "outputs": [
      {
       "output_type": "stream",
       "stream": "stdout",
       "text": [
        "       class  eig_comp\n",
        "8   PHYS100A  0.315157\n",
        "9   PHYS100B  0.315150\n",
        "11   BIOL360  0.312414\n",
        "12   BIOL380  0.310816\n",
        "10   BIOL322  0.308755\n",
        "7    CHEM102  0.301292\n",
        "5    BIOL107  0.292845\n",
        "6    CHEM101  0.280020\n",
        "13   CHEM333  0.256867\n",
        "4    BIOL106  0.237755\n"
       ]
      },
      {
       "metadata": {},
       "output_type": "pyout",
       "prompt_number": 199,
       "text": [
        "array([ 0.53493195,  0.10377103])"
       ]
      }
     ],
     "prompt_number": 199
    },
    {
     "cell_type": "code",
     "collapsed": false,
     "input": [
      "col=gpaDF.columns"
     ],
     "language": "python",
     "metadata": {},
     "outputs": [],
     "prompt_number": 200
    },
    {
     "cell_type": "code",
     "collapsed": false,
     "input": [
      "len(col)"
     ],
     "language": "python",
     "metadata": {},
     "outputs": [
      {
       "metadata": {},
       "output_type": "pyout",
       "prompt_number": 201,
       "text": [
        "20"
       ]
      }
     ],
     "prompt_number": 201
    },
    {
     "cell_type": "heading",
     "level": 1,
     "metadata": {},
     "source": [
      "Clustering Statisitcs L1"
     ]
    },
    {
     "cell_type": "code",
     "collapsed": false,
     "input": [
      "#\n",
      "#Kmeans with L1 metric from Seyed's code\n",
      "#\n",
      "\n",
      "import sys\n",
      "sys.path.insert(1,'../csun/seyed')\n",
      "\n",
      "from sklearn import metrics\n",
      "import kmeansdistance as KD\n",
      "from sklearn.cluster import KMeans\n",
      "\n",
      "#col = [i for i in range(5,32)]\n",
      "\n",
      "misdistman = []\n",
      "#X = gpaDF[gpaDF.columns[col]]\n",
      "X = gpaDF[range(5,20)]\n",
      "for i in range(1,10):\n",
      "    kmeans = KMeans(n_clusters=i)\n",
      "    kmeans.fit(X)\n",
      "    kfit = KD.kmeans(X,kmeans.cluster_centers_,metric = \"cityblock\")\n",
      "    misdistman.append(sum(np.min(cdist(X, kfit[0],'cityblock'), axis=1)) / X.shape[0])\n",
      "    if i>1 :\n",
      "        kmeans_model = KMeans(n_clusters=i).fit(X)\n",
      "        kfit = KD.kmeans(X,kmeans.cluster_centers_,metric = \"cityblock\")\n",
      "        print \"K=\",i,\" silhouette score\", metrics.silhouette_score(X,kfit[1],metric='cityblock')\n",
      "\n",
      "plt.plot(range(1,10), misdistman, 'bx-')\n",
      "plt.xlabel('k')\n",
      "plt.ylabel('L1 Average Distortion')\n",
      "plt.title('Selecting k with the Elbow Method')\n",
      "plt.show()"
     ],
     "language": "python",
     "metadata": {},
     "outputs": [
      {
       "output_type": "stream",
       "stream": "stdout",
       "text": [
        "K= 2  silhouette score "
       ]
      },
      {
       "output_type": "stream",
       "stream": "stdout",
       "text": [
        "0.494503434132\n",
        "K="
       ]
      },
      {
       "output_type": "stream",
       "stream": "stdout",
       "text": [
        " 3  silhouette score "
       ]
      },
      {
       "output_type": "stream",
       "stream": "stdout",
       "text": [
        "0.378112406586\n",
        "K="
       ]
      },
      {
       "output_type": "stream",
       "stream": "stdout",
       "text": [
        " 4  silhouette score "
       ]
      },
      {
       "output_type": "stream",
       "stream": "stdout",
       "text": [
        "0.36203796838\n",
        "K="
       ]
      },
      {
       "output_type": "stream",
       "stream": "stdout",
       "text": [
        " 5  silhouette score "
       ]
      },
      {
       "output_type": "stream",
       "stream": "stdout",
       "text": [
        "0.350938217794\n",
        "K="
       ]
      },
      {
       "output_type": "stream",
       "stream": "stdout",
       "text": [
        " 6  silhouette score "
       ]
      },
      {
       "output_type": "stream",
       "stream": "stdout",
       "text": [
        "0.347284355965\n",
        "K="
       ]
      },
      {
       "output_type": "stream",
       "stream": "stdout",
       "text": [
        " 7  silhouette score "
       ]
      },
      {
       "output_type": "stream",
       "stream": "stdout",
       "text": [
        "0.32505378382\n",
        "K="
       ]
      },
      {
       "output_type": "stream",
       "stream": "stdout",
       "text": [
        " 8  silhouette score "
       ]
      },
      {
       "output_type": "stream",
       "stream": "stdout",
       "text": [
        "0.307634000339\n",
        "K="
       ]
      },
      {
       "output_type": "stream",
       "stream": "stdout",
       "text": [
        " 9  silhouette score "
       ]
      },
      {
       "output_type": "stream",
       "stream": "stdout",
       "text": [
        "0.306970013934\n"
       ]
      },
      {
       "metadata": {},
       "output_type": "display_data",
       "png": "[encoded data removed]",
       "text": [
        "<matplotlib.figure.Figure at 0x1139c60d0>"
       ]
      }
     ],
     "prompt_number": 207
    },
    {
     "cell_type": "heading",
     "level": 1,
     "metadata": {},
     "source": [
      "Clustering statistics sklearn kmeans"
     ]
    },
    {
     "cell_type": "code",
     "collapsed": false,
     "input": [
      "#\n",
      "#Probably deprecating this cell in favor of Seyed's L1 k-means, but want to investigate CH index first\n",
      "#\n",
      "\n",
      "#col = [i for i in range(5,32)]\n",
      "K = range(2,10)\n",
      "meandistortions = []\n",
      "silhouette=[]\n",
      "ch=[]\n",
      "pseudo=[]\n",
      "col=range(5,20)\n",
      "#X_train, X_test, y_train, y_test = train_test_split(gpaDF[gpaDF.columns[col]], data2['Graduated'])\n",
      "\n",
      "#regular Kmeans\n",
      "for k in K:\n",
      "    ####Chris: add sil. scores & CH-INDEX\n",
      "    kmeans = KMeans(n_clusters=k)\n",
      "    #kmeans.fit(gpaDF[gpaDF.columns[col]])\n",
      "    kmeans.fit(gpaDF[col])\n",
      "    silhouette.append([k, metrics.silhouette_score(gpaDF[col],kmeans.labels_,metric='euclidean')])\n",
      "    ch.append([k,CH_index(gpaDF[col].values,kmeans.labels_,kmeans.cluster_centers_)])\n",
      "    meandistortions.append(sum(np.min(cdist(gpaDF[col],\\\n",
      "                                            kmeans.cluster_centers_,\\\n",
      "                                            'euclidean'), axis=1)) / gpaDF[col].shape[0])\n",
      "\n",
      "plt.plot(K, meandistortions, 'bx-')\n",
      "plt.xlabel('k')\n",
      "plt.ylabel('Average distortion')\n",
      "#plt.title('Selecting k with the Elbow Method')\n",
      "plt.show()\n",
      "\n",
      "plt.title('CH index')\n",
      "plt.plot(np.asarray(ch).transpose()[1])\n",
      "plt.show()\n",
      "for k in K:\n",
      "    print \"K=\",silhouette[k-2][0],\" silhouette score\", silhouette[k-2][1]"
     ],
     "language": "python",
     "metadata": {},
     "outputs": [
      {
       "metadata": {},
       "output_type": "display_data",
       "png": "[encoded data removed]",
       "text": [
        "<matplotlib.figure.Figure at 0x1106017d0>"
       ]
      },
      {
       "metadata": {},
       "output_type": "display_data",
       "png": "[encoded data removed]",
       "text": [
        "<matplotlib.figure.Figure at 0x113393490>"
       ]
      },
      {
       "output_type": "stream",
       "stream": "stdout",
       "text": [
        " K= 2  silhouette score 0.387350733627\n",
        "K= 3  silhouette score 0.294720509785\n",
        "K= 4  silhouette score 0.275260603786\n",
        "K= 5  silhouette score 0.25733018048\n",
        "K= 6  silhouette score 0.2033037857\n",
        "K= 7  silhouette score 0.213420709965\n",
        "K= 8  silhouette score 0.197718554709\n",
        "K= 9  silhouette score 0.200121490492\n"
       ]
      }
     ],
     "prompt_number": 245
    },
    {
     "cell_type": "heading",
     "level": 1,
     "metadata": {},
     "source": [
      "Predicting labels euclidean kmeans"
     ]
    },
    {
     "cell_type": "code",
     "collapsed": false,
     "input": [
      "#\n",
      "#This cell isn't going to make sense if the ideal # of clusters for your major is not 2\n",
      "#\n",
      "\n",
      "from sklearn.cluster import KMeans\n",
      "k=2\n",
      "#col = [i for i in range(5,32)]\n",
      "col=range(5,20)\n",
      "X_train, X_test, y_train, y_test = train_test_split(gpaDF[col], data['Graduated'])\n",
      "classifier = KMeans(n_clusters=k, n_init=20)\n",
      "classifier.fit(X_train)#, y_train)\n",
      "y_pred = classifier.predict(X_test)\n",
      "if getGradLabel(y_train, classifier.labels_)==0: #flip the labels to make sure graduateds are in cluster 1\n",
      "   y_pred=np.where(y_pred >0, 0, 1) \n",
      "printContingencyTable(y_test,y_pred)"
     ],
     "language": "python",
     "metadata": {},
     "outputs": [
      {
       "metadata": {},
       "output_type": "display_data",
       "png": "[encoded data removed]",
       "text": [
        "<matplotlib.figure.Figure at 0x113598150>"
       ]
      },
      {
       "output_type": "stream",
       "stream": "stdout",
       "text": [
        "[[537 190]\n",
        " [  3 299]]\n"
       ]
      }
     ],
     "prompt_number": 253
    },
    {
     "cell_type": "heading",
     "level": 1,
     "metadata": {},
     "source": [
      "Predicting labels L1"
     ]
    },
    {
     "cell_type": "code",
     "collapsed": false,
     "input": [
      "#\n",
      "#This cell isn't going to make sense if the ideal # of clusters for your major is not 2\n",
      "#\n",
      "\n",
      "from sklearn.cluster import KMeans\n",
      "k=2\n",
      "#col = [i for i in range(5,32)]\n",
      "col=range(5,20)\n",
      "X_train, X_test, y_train, y_test = train_test_split(gpaDF[col], data['Graduated'])\n",
      "kmeans = KMeans(n_clusters=k, n_init=20)\n",
      "kmeans.fit(X_train)#, y_train)\n",
      "kfit = KD.kmeans(X_train,kmeans.cluster_centers_,metric = \"cityblock\")\n",
      "y_pred=predictL1(X_test, kfit)\n",
      "if getGradLabel(y_train, kfit[1])==0: #flip the labels to make sure graduateds are in cluster 1\n",
      "   y_pred=np.where(y_pred >0, 0, 1) \n",
      "printContingencyTable(y_test,y_pred)"
     ],
     "language": "python",
     "metadata": {},
     "outputs": [
      {
       "metadata": {},
       "output_type": "display_data",
       "png": "[encoded data removed]",
       "text": [
        "<matplotlib.figure.Figure at 0x113598150>"
       ]
      },
      {
       "output_type": "stream",
       "stream": "stdout",
       "text": [
        "[[553 184]\n",
        " [ 10 282]]\n"
       ]
      }
     ],
     "prompt_number": 251
    },
    {
     "cell_type": "heading",
     "level": 1,
     "metadata": {},
     "source": [
      "Logistic Regression Table"
     ]
    },
    {
     "cell_type": "code",
     "collapsed": false,
     "input": [
      "col =range(5,20) #[5,6,7,8,10]\n",
      "X_train, X_test, y_train, y_test = train_test_split(gpaDF[gpaDF.columns[col]], data['Graduated'])\n",
      "classifier = LogisticRegression()\n",
      "classifier.fit(X_train.reshape(len(X_train),len(col)), y_train)\n",
      "y_pred = classifier.predict(X_test.reshape(len(X_test),len(col)))\n",
      "print gpaDF.columns[col]\n",
      "print classifier.coef_"
     ],
     "language": "python",
     "metadata": {},
     "outputs": [
      {
       "output_type": "stream",
       "stream": "stdout",
       "text": [
        "Index([u'MATH105', u'MATH102', u'MATH104', u'MATH255A', u'BIOL106', u'BIOL107', u'CHEM101', u'CHEM102', u'PHYS100A', u'PHYS100B', u'BIOL322', u'BIOL360', u'BIOL380', u'CHEM333', u'CHEM334'], dtype='object')\n",
        "[[ 0.07331918 -0.03575629 -0.04332216 -0.04568213 -0.32736434 -0.01473247\n",
        "   0.07044592 -0.05523293  0.08315819  0.29437311  0.4956278   0.46997889\n",
        "   0.46936658 -0.07988548  0.3122797 ]]\n"
       ]
      }
     ],
     "prompt_number": 212
    },
    {
     "cell_type": "code",
     "collapsed": false,
     "input": [
      "printContingencyTable(y_test,y_pred)\n",
      "scores = cross_val_score(classifier, X_train, y_train, cv=5)\n",
      "print 'Accuracy:  ', np.mean(scores)\n",
      "precisions = cross_val_score(classifier, X_train, y_train, cv=5, scoring='precision')\n",
      "print 'Precision: ', np.mean(precisions)\n",
      "recalls = cross_val_score(classifier, X_train, y_train, cv=5, scoring='recall')\n",
      "print 'Recall:    ', np.mean(recalls)\n",
      "f1s = cross_val_score(classifier, X_train, y_train, cv=5, scoring='f1')\n",
      "print 'F1:        ', np.mean(f1s)"
     ],
     "language": "python",
     "metadata": {},
     "outputs": [
      {
       "metadata": {},
       "output_type": "display_data",
       "png": "[encoded data removed]",
       "text": [
        "<matplotlib.figure.Figure at 0x1139d0d50>"
       ]
      },
      {
       "output_type": "stream",
       "stream": "stdout",
       "text": [
        "[[656  78]\n",
        " [ 71 224]]\n",
        "Accuracy:   0.852791438393\n",
        "Precision: "
       ]
      },
      {
       "output_type": "stream",
       "stream": "stdout",
       "text": [
        " 0.737889984214\n",
        "Recall:     0.745753694581\n",
        "F1:        "
       ]
      },
      {
       "output_type": "stream",
       "stream": "stdout",
       "text": [
        " 0.741658948046\n"
       ]
      }
     ],
     "prompt_number": 213
    },
    {
     "cell_type": "heading",
     "level": 1,
     "metadata": {},
     "source": [
      "Predicting Labels Random Forest"
     ]
    },
    {
     "cell_type": "code",
     "collapsed": false,
     "input": [
      "#\n",
      "#Pull out Seyed's L1 k-means labels (w/ whatever the optimum # of clusters is) and use them to train a Random Forests classifier\n",
      "#\n",
      "\n",
      "#trying to predict the cluster labels using random forest\n",
      "import kmeansdistance as KD\n",
      "from sklearn.cluster import KMeans\n",
      "\n",
      "from sklearn.ensemble import RandomForestClassifier\n",
      "#col = [i for i in range(5,32)]\n",
      "col = range(5,20)#[5,6,7,8,10]\n",
      "X=gpaDF[gpaDF.columns[col]]\n",
      "kmeans = KMeans(n_clusters=2)\n",
      "kmeans.fit(X)\n",
      "kfit = KD.kmeans(X,kmeans.cluster_centers_,metric = \"cityblock\")\n",
      "\n",
      "X_train, X_test, y_train, y_test = train_test_split(X, kfit[1])\n",
      "\n",
      "classifier = RandomForestClassifier(n_estimators=10, random_state=0)\n",
      "classifier.fit(X_train,y_train)\n",
      "y_pred=classifier.predict(X_test)\n",
      "printContingencyTable(y_test,y_pred)\n",
      "scores = cross_val_score(classifier, X_train, y_train, cv=5)\n",
      "print 'Accuracy:  ', np.mean(scores)\n",
      "precisions = cross_val_score(classifier, X_train, y_train, cv=5, scoring='precision')\n",
      "print 'Precision: ', np.mean(precisions)\n",
      "recalls = cross_val_score(classifier, X_train, y_train, cv=5, scoring='recall')\n",
      "print 'Recall:    ', np.mean(recalls)\n",
      "f1s = cross_val_score(classifier, X_train, y_train, cv=5, scoring='f1')\n",
      "print 'F1:        ', np.mean(f1s)"
     ],
     "language": "python",
     "metadata": {},
     "outputs": [
      {
       "metadata": {},
       "output_type": "display_data",
       "png": "[encoded data removed]",
       "text": [
        "<matplotlib.figure.Figure at 0x1133d7810>"
       ]
      },
      {
       "output_type": "stream",
       "stream": "stdout",
       "text": [
        "[[472  10]\n",
        " [ 18 529]]\n",
        "Accuracy:  "
       ]
      },
      {
       "output_type": "stream",
       "stream": "stdout",
       "text": [
        " 0.974702643635\n",
        "Precision: "
       ]
      },
      {
       "output_type": "stream",
       "stream": "stdout",
       "text": [
        " 0.985421468337\n",
        "Recall:    "
       ]
      },
      {
       "output_type": "stream",
       "stream": "stdout",
       "text": [
        " 0.969392480552\n",
        "F1:        "
       ]
      },
      {
       "output_type": "stream",
       "stream": "stdout",
       "text": [
        " 0.977271308123\n"
       ]
      }
     ],
     "prompt_number": 214
    },
    {
     "cell_type": "heading",
     "level": 1,
     "metadata": {},
     "source": [
      "Selecting Features"
     ]
    },
    {
     "cell_type": "code",
     "collapsed": false,
     "input": [
      "#selecting features\n",
      "\n",
      "from sklearn.feature_selection import RFECV\n",
      "from sklearn.linear_model import LogisticRegression\n",
      "\n",
      "col = range(5,20)\n",
      "estimator=  LogisticRegression()\n",
      "selector = RFECV(estimator, step=1, cv=5)\n",
      "selector.fit(gpaDF[gpaDF.columns[col]], data['Graduated'])\n",
      "print gpaDF[gpaDF.columns[col]].columns\n",
      "print selector.ranking_\n",
      "print gpaDF[gpaDF[gpaDF.columns[5:]].columns[selector.support_]].columns #OMG"
     ],
     "language": "python",
     "metadata": {},
     "outputs": [
      {
       "output_type": "stream",
       "stream": "stdout",
       "text": [
        "Index([u'MATH105', u'MATH102', u'MATH104', u'MATH255A', u'BIOL106', u'BIOL107', u'CHEM101', u'CHEM102', u'PHYS100A', u'PHYS100B', u'BIOL322', u'BIOL360', u'BIOL380', u'CHEM333', u'CHEM334'], dtype='object')\n",
        "[ 6 10  4  7  1  9  3  8  5  1  1  1  1  2  1]\n",
        "Index([u'BIOL106', u'PHYS100B', u'BIOL322', u'BIOL360', u'BIOL380', u'CHEM334'], dtype='object')\n"
       ]
      }
     ],
     "prompt_number": 215
    },
    {
     "cell_type": "heading",
     "level": 1,
     "metadata": {},
     "source": [
      "Sklearn Kmeans"
     ]
    },
    {
     "cell_type": "code",
     "collapsed": false,
     "input": [
      "#\n",
      "#Show that labels are nearly as strong as the full feature set (i.e. analog of an enterotype for student performance)\n",
      "#\n",
      "X=gpaDF[gpaDF[gpaDF.columns[5:]].columns[selector.support_]]\n",
      "#X_train, X_test, y_train, y_test = train_test_split(X, data['Graduated'])\n",
      "X_train, X_test, y_train, y_test = train_test_split(X, gpaDF[gpaDF.columns[1:5]])\n",
      "\n",
      "k=2\n",
      "classifier = KMeans(n_clusters=k, n_init=20)\n",
      "classifier.fit(X_train)\n",
      "y_pred = classifier.predict(X_test)\n",
      "y_test=pd.DataFrame(data=y_test, columns=gpaDF.columns[1:5])\n",
      "df=metaDF(y_test, y_pred)\n",
      "\n",
      "false_positive_rate, true_positive_rate, thresholds = roc_curve(y_test['Graduated'],df['Proba_Grad'].values)\n",
      "\n",
      "roc_auc = auc(false_positive_rate, true_positive_rate)\n",
      "plt.plot(false_positive_rate, true_positive_rate, 'b', label='AUC = %0.2f' %roc_auc)\n",
      "\n",
      "\n",
      "X_train, X_test, y_train, y_test = train_test_split(gpaDF[gpaDF.columns[col]], data['Graduated'])\n",
      "classifier = LogisticRegression()\n",
      "classifier.fit(X_train.reshape(len(X_train),len(col)), y_train)\n",
      "y_pred = classifier.predict_proba(X_test)[:,1]\n",
      "false_positive_rate, true_positive_rate, thresholds = roc_curve(y_test,y_pred)\n",
      "roc_auc = auc(false_positive_rate, true_positive_rate)\n",
      "plt.plot(false_positive_rate, true_positive_rate, 'g', label='AUC = %0.2f' %roc_auc)\n",
      "\n",
      "plt.title('Receiver Operating Characteristic')\n",
      "plt.legend(loc='lower right')\n",
      "plt.plot([0, 1], [0, 1], 'r--')\n",
      "plt.xlim([0.0, 1.0])\n",
      "plt.ylim([0.0, 1.0])\n",
      "plt.ylabel('False Negative Rate')\n",
      "plt.xlabel('True Positive Rate')\n",
      "plt.show()"
     ],
     "language": "python",
     "metadata": {},
     "outputs": [
      {
       "metadata": {},
       "output_type": "display_data",
       "png": "[encoded data removed]",
       "text": [
        "<matplotlib.figure.Figure at 0x1139d06d0>"
       ]
      }
     ],
     "prompt_number": 217
    },
    {
     "cell_type": "heading",
     "level": 1,
     "metadata": {},
     "source": [
      "L1 kmeans"
     ]
    },
    {
     "cell_type": "code",
     "collapsed": false,
     "input": [
      "#\n",
      "#Show that labels are nearly as strong as the full feature set (i.e. analog of an enterotype for student performance)\n",
      "#\n",
      "\n",
      "X=gpaDF[gpaDF[gpaDF.columns[5:]].columns[selector.support_]]\n",
      "#X_train, X_test, y_train, y_test = train_test_split(X, data['Graduated'])\n",
      "X_train, X_test, y_train, y_test = train_test_split(X, gpaDF[gpaDF.columns[1:5]])\n",
      "\n",
      "k=2\n",
      "\n",
      "kmeans = KMeans(n_clusters=k,  n_init=20)\n",
      "kmeans.fit(X_train)\n",
      "kfit = KD.kmeans(X_train,kmeans.cluster_centers_,metric = \"cityblock\")\n",
      "y_pred=predictL1(X_test, kfit)\n",
      "\n",
      "y_test=pd.DataFrame(data=y_test, columns=gpaDF.columns[1:5])\n",
      "df=metaDF(y_test, y_pred)\n",
      "\n",
      "false_positive_rate, true_positive_rate, thresholds = roc_curve(y_test['Graduated'],df['Proba_Grad'].values)\n",
      "\n",
      "roc_auc = auc(false_positive_rate, true_positive_rate)\n",
      "plt.plot(false_positive_rate, true_positive_rate, 'b', label='AUC = %0.2f' %roc_auc)\n",
      "\n",
      "\n",
      "X_train, X_test, y_train, y_test = train_test_split(gpaDF[gpaDF.columns[col]], data['Graduated'])\n",
      "classifier = LogisticRegression()\n",
      "classifier.fit(X_train.reshape(len(X_train),len(col)), y_train)\n",
      "y_pred = classifier.predict_proba(X_test)[:,1]\n",
      "false_positive_rate, true_positive_rate, thresholds = roc_curve(y_test,y_pred)\n",
      "roc_auc = auc(false_positive_rate, true_positive_rate)\n",
      "plt.plot(false_positive_rate, true_positive_rate, 'g', label='AUC = %0.2f' %roc_auc)\n",
      "\n",
      "plt.title('Receiver Operating Characteristic')\n",
      "plt.legend(loc='lower right')\n",
      "plt.plot([0, 1], [0, 1], 'r--')\n",
      "plt.xlim([0.0, 1.0])\n",
      "plt.ylim([0.0, 1.0])\n",
      "plt.ylabel('False Negative Rate')\n",
      "plt.xlabel('True Positive Rate')\n",
      "plt.show()"
     ],
     "language": "python",
     "metadata": {},
     "outputs": [
      {
       "metadata": {},
       "output_type": "display_data",
       "png": "[encoded data removed]",
       "text": [
        "<matplotlib.figure.Figure at 0x113cfcbd0>"
       ]
      }
     ],
     "prompt_number": 219
    },
    {
     "cell_type": "heading",
     "level": 1,
     "metadata": {},
     "source": [
      "DataFrame with metadata"
     ]
    },
    {
     "cell_type": "code",
     "collapsed": false,
     "input": [
      "'''\n",
      "#for use with sklearn kmeans\n",
      "kmeans = KMeans(n_clusters=2,  n_init=20)\n",
      "kmeans.fit(X)\n",
      "df=metaDF(gpaDF, kmeans.labels_)\n",
      "df.groupby(['label']).mean()\n",
      "'''\n",
      "\n",
      "k=2\n",
      "X=gpaDF[gpaDF[gpaDF.columns[5:]].columns[selector.support_]]\n",
      "kmeans = KMeans(n_clusters=k,  n_init=20)\n",
      "kmeans.fit(X)\n",
      "kfit = KD.kmeans(X,kmeans.cluster_centers_,metric = \"cityblock\")\n",
      "df=metaDF(gpaDF, kfit[1])\n",
      "df.groupby(['label']).mean()"
     ],
     "language": "python",
     "metadata": {},
     "outputs": [
      {
       "html": [
        "<div style=\"max-height:1000px;max-width:1500px;overflow:auto;\">\n",
        "<table border=\"1\" class=\"dataframe\">\n",
        "  <thead>\n",
        "    <tr style=\"text-align: right;\">\n",
        "      <th></th>\n",
        "      <th>N_Terms</th>\n",
        "      <th>Graduated</th>\n",
        "      <th>Proba_Grad</th>\n",
        "      <th>Transfer_Cr</th>\n",
        "      <th>Inst_Cr</th>\n",
        "      <th>Total_Cr</th>\n",
        "    </tr>\n",
        "    <tr>\n",
        "      <th>label</th>\n",
        "      <th></th>\n",
        "      <th></th>\n",
        "      <th></th>\n",
        "      <th></th>\n",
        "      <th></th>\n",
        "      <th></th>\n",
        "    </tr>\n",
        "  </thead>\n",
        "  <tbody>\n",
        "    <tr>\n",
        "      <th>0</th>\n",
        "      <td> 4.752814</td>\n",
        "      <td> 0.013339</td>\n",
        "      <td> 0.013339</td>\n",
        "      <td> 23.807962</td>\n",
        "      <td> 42.108795</td>\n",
        "      <td>  65.916757</td>\n",
        "    </tr>\n",
        "    <tr>\n",
        "      <th>1</th>\n",
        "      <td> 7.898483</td>\n",
        "      <td> 0.662777</td>\n",
        "      <td> 0.662777</td>\n",
        "      <td> 43.370187</td>\n",
        "      <td> 95.256709</td>\n",
        "      <td> 138.626896</td>\n",
        "    </tr>\n",
        "  </tbody>\n",
        "</table>\n",
        "</div>"
       ],
       "metadata": {},
       "output_type": "pyout",
       "prompt_number": 221,
       "text": [
        "        N_Terms  Graduated  Proba_Grad  Transfer_Cr    Inst_Cr    Total_Cr\n",
        "label                                                                     \n",
        "0      4.752814   0.013339    0.013339    23.807962  42.108795   65.916757\n",
        "1      7.898483   0.662777    0.662777    43.370187  95.256709  138.626896"
       ]
      }
     ],
     "prompt_number": 221
    },
    {
     "cell_type": "heading",
     "level": 1,
     "metadata": {},
     "source": [
      "Box plots by labels"
     ]
    },
    {
     "cell_type": "code",
     "collapsed": false,
     "input": [
      "#\n",
      "#Do some basic inference on other metadata such as N_Terms or Inst_Cr\n",
      "#\n",
      "\n",
      "#plt.scatter(gpaDF['PSY321'],data['N_Terms'])\n",
      "#gpa = [2.0,1.7,1.3,1.0,0.7,0.3,0.0,-0.3,-0.7,-1.0,-1.3,-1.7,-2.0]\n",
      "#gpa = [[2.0,1.7,1.3,1.0,0.7,0.3,0.0],[-0.3,-0.7,-1.0,-1.3,-1.7,-2.0]]\n",
      "\n",
      "k=2 #number of clusters\n",
      "out = []\n",
      "for i in range(k):\n",
      "    out.append(df[df['label']==i]['Total_Cr'].values)\n",
      "    \n",
      "\n",
      "fig = plt.figure(1, figsize=(9, 6))\n",
      "plt.title('Total credit')\n",
      "ax = fig.add_subplot(111) # Create an axes instance\n",
      "bp = ax.boxplot(out) # Create the boxplot\n",
      "fig.savefig('fig1.png', bbox_inches='tight') # Save the figure\n",
      "\n",
      "out = []\n",
      "for i in range(k):\n",
      "    out.append(df[df['label']==i]['N_Terms'])\n",
      "\n",
      "fig = plt.figure(2, figsize=(9, 6))\n",
      "plt.title('N_Terms')\n",
      "ax = fig.add_subplot(111) # Create an axes instance\n",
      "bp = ax.boxplot(out) # Create the boxplot\n",
      "fig.savefig('fig2.png', bbox_inches='tight') # Save the figure"
     ],
     "language": "python",
     "metadata": {},
     "outputs": [
      {
       "metadata": {},
       "output_type": "display_data",
       "png": "[encoded data removed]",
       "text": [
        "<matplotlib.figure.Figure at 0x113632610>"
       ]
      },
      {
       "metadata": {},
       "output_type": "display_data",
       "png": "[encoded data removed]",
       "text": [
        "<matplotlib.figure.Figure at 0x1139a9bd0>"
       ]
      }
     ],
     "prompt_number": 222
    },
    {
     "cell_type": "heading",
     "level": 1,
     "metadata": {},
     "source": [
      "Box plots by grades"
     ]
    },
    {
     "cell_type": "code",
     "collapsed": false,
     "input": [
      "#\n",
      "#Do some basic inference on other metadata such as N_Terms or Inst_Cr\n",
      "#\n",
      "\n",
      "gpa = [2.0,1.7,1.3,1.0,0.7,0.3,0.0,-0.3,-0.7,-1.0,-1.3,-1.7,-2.0]\n",
      "gpa = [[2.0,1.7,1.3,1.0,0.7,0.3,0.0],[-0.3,-0.7,-1.0,-1.3,-1.7,-2.0]]\n",
      "\n",
      "out = []\n",
      "for i in gpa:\n",
      "    out.append((gpaDF[gpaDF['BIOL106'].isin(i)]['Transfer_Cr' ]+gpaDF[gpaDF['BIOL106'].isin(i)][ 'Inst_Cr']).values)\n",
      "    \n",
      "\n",
      "fig = plt.figure(1, figsize=(9, 6))\n",
      "ax = fig.add_subplot(111) # Create an axes instance\n",
      "bp = ax.boxplot(out) # Create the boxplot\n",
      "plt.title('BIOL106. Total credit')\n",
      "fig.savefig('fig1.png', bbox_inches='tight') # Save the figure\n",
      "\n",
      "out = []\n",
      "for i in gpa:\n",
      "    out.append(gpaDF[gpaDF['BIOL106'].isin(i)]['N_Terms'])\n",
      "\n",
      "fig = plt.figure(2, figsize=(9, 6))\n",
      "plt.title('BIOL106. N_Terms')\n",
      "ax = fig.add_subplot(111) # Create an axes instance\n",
      "bp = ax.boxplot(out) # Create the boxplot\n",
      "fig.savefig('fig2.png', bbox_inches='tight') # Save the figure"
     ],
     "language": "python",
     "metadata": {},
     "outputs": [
      {
       "metadata": {},
       "output_type": "display_data",
       "png": "[encoded data removed]",
       "text": [
        "<matplotlib.figure.Figure at 0x1139ccd90>"
       ]
      },
      {
       "metadata": {},
       "output_type": "display_data",
       "png": "[encoded data removed]",
       "text": [
        "<matplotlib.figure.Figure at 0x1136481d0>"
       ]
      }
     ],
     "prompt_number": 223
    },
    {
     "cell_type": "heading",
     "level": 1,
     "metadata": {},
     "source": [
      "ROC for 3 clusters using L1"
     ]
    },
    {
     "cell_type": "code",
     "collapsed": false,
     "input": [
      "#\n",
      "#Show that labels are nearly as strong as the full feature set (i.e. analog of an enterotype for student performance)\n",
      "#\n",
      "\n",
      "X=gpaDF[gpaDF[gpaDF.columns[5:]].columns[selector.support_]]\n",
      "X_train, X_test, y_train, y_test = train_test_split(X, gpaDF[gpaDF.columns[1:5]])\n",
      "\n",
      "k=3\n",
      "\n",
      "\n",
      "kmeans = KMeans(n_clusters=k,  n_init=20)\n",
      "kmeans.fit(X_train)\n",
      "kfit = KD.kmeans(X_train,kmeans.cluster_centers_,metric = \"cityblock\")\n",
      "y_pred=predictL1(X_test, kfit)\n",
      "y_test=pd.DataFrame(data=y_test, columns=gpaDF.columns[1:5])\n",
      "df=metaDF(y_test, y_pred)\n",
      "\n",
      "false_positive_rate, true_positive_rate, thresholds = roc_curve(y_test['Graduated'],df['Proba_Grad'].values)\n",
      "roc_auc = auc(false_positive_rate, true_positive_rate)\n",
      "plt.plot(false_positive_rate, true_positive_rate, 'b', label='AUC = %0.2f' %roc_auc)\n",
      "\n",
      "\n",
      "X_train, X_test, y_train, y_test = train_test_split(gpaDF[gpaDF.columns[col]], data['Graduated'])\n",
      "classifier = LogisticRegression()\n",
      "classifier.fit(X_train.reshape(len(X_train),len(col)), y_train)\n",
      "y_pred = classifier.predict_proba(X_test)[:,1]\n",
      "false_positive_rate, true_positive_rate, thresholds = roc_curve(y_test,y_pred)\n",
      "roc_auc = auc(false_positive_rate, true_positive_rate)\n",
      "plt.plot(false_positive_rate, true_positive_rate, 'g', label='AUC = %0.2f' %roc_auc)\n",
      "\n",
      "plt.title('Receiver Operating Characteristic')\n",
      "plt.legend(loc='lower right')\n",
      "plt.plot([0, 1], [0, 1], 'r--')\n",
      "plt.xlim([0.0, 1.0])\n",
      "plt.ylim([0.0, 1.0])\n",
      "plt.ylabel('False Negative Rate')\n",
      "plt.xlabel('True Positive Rate')\n",
      "plt.show()"
     ],
     "language": "python",
     "metadata": {},
     "outputs": [
      {
       "metadata": {},
       "output_type": "display_data",
       "png": "[encoded data removed]",
       "text": [
        "<matplotlib.figure.Figure at 0x1139c1950>"
       ]
      }
     ],
     "prompt_number": 224
    },
    {
     "cell_type": "code",
     "collapsed": false,
     "input": [],
     "language": "python",
     "metadata": {},
     "outputs": []
    }
   ],
   "metadata": {}
  }
 ]
}