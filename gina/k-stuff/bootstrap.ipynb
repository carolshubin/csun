{
 "metadata": {
  "name": "",
<<<<<<< HEAD
  "signature": "sha256:6fb168ed7ea1ccbbd032c8c111190da55a879450703c4d996f22c2cb60a140c6"
=======
  "signature": "sha256:77a7d5f9888396fe71cde89cfafd3c44583e870f75c13b744fe049fd487d470f"
>>>>>>> origin/master
 },
 "nbformat": 3,
 "nbformat_minor": 0,
 "worksheets": [
  {
   "cells": [
    {
     "cell_type": "code",
     "collapsed": false,
     "input": [
      "%matplotlib inline\n",
      "from __future__ import division\n",
      "import numpy as np\n",
      "import pandas as pd\n",
      "#from sklearn.linear_model import LogisticRegression\n",
      "import sklearn\n",
      "from sklearn import metrics\n",
      "from sklearn.cross_validation import train_test_split, cross_val_score\n",
<<<<<<< HEAD
      "import matplotlib.pyplot as plt\n",
      "from utilities import printClusters,plotPCA,getDistancesDF,clusterCenters\n",
      "\n",
      "from sklearn.cluster import KMeans\n",
      "from scipy.spatial.distance import cdist\n",
      "from sklearn import metrics"
=======
      "import matplotlib.pyplot as plt"
>>>>>>> origin/master
     ],
     "language": "python",
     "metadata": {},
     "outputs": [],
<<<<<<< HEAD
     "prompt_number": 3
=======
     "prompt_number": 150
>>>>>>> origin/master
    },
    {
     "cell_type": "code",
     "collapsed": false,
     "input": [
      "data = pd.read_csv('math-redacted.csv')\n",
      "data.head()"
     ],
     "language": "python",
     "metadata": {},
     "outputs": [
      {
       "html": [
        "<div style=\"max-height:1000px;max-width:1500px;overflow:auto;\">\n",
        "<table border=\"1\" class=\"dataframe\">\n",
        "  <thead>\n",
        "    <tr style=\"text-align: right;\">\n",
        "      <th></th>\n",
        "      <th>Major_Cd</th>\n",
        "      <th>N_Terms</th>\n",
        "      <th>Graduated</th>\n",
        "      <th>Transfer_Cr</th>\n",
        "      <th>Inst_Cr</th>\n",
        "      <th>Total_Cr</th>\n",
        "      <th>MATH102</th>\n",
        "      <th>MATH102L</th>\n",
        "      <th>MATH103</th>\n",
        "      <th>MATH103A1</th>\n",
        "      <th>...</th>\n",
        "      <th>MATH92</th>\n",
        "      <th>MATH93</th>\n",
        "      <th>MATH93OL</th>\n",
        "      <th>MATH94</th>\n",
        "      <th>MATH94A</th>\n",
        "      <th>MATH94B</th>\n",
        "      <th>MATH95</th>\n",
        "      <th>MATH96S</th>\n",
        "      <th>MATH998A1</th>\n",
        "      <th>MATH999A1</th>\n",
        "    </tr>\n",
        "  </thead>\n",
        "  <tbody>\n",
        "    <tr>\n",
        "      <th>0</th>\n",
        "      <td> 785845B</td>\n",
        "      <td>  4</td>\n",
        "      <td> N</td>\n",
        "      <td> 96.3</td>\n",
        "      <td> 31</td>\n",
        "      <td> 127.3</td>\n",
        "      <td> 0</td>\n",
        "      <td> 0</td>\n",
        "      <td> 1</td>\n",
        "      <td> 0</td>\n",
        "      <td>...</td>\n",
        "      <td> 0</td>\n",
        "      <td> 0</td>\n",
        "      <td> 0</td>\n",
        "      <td> 0</td>\n",
        "      <td> 0</td>\n",
        "      <td> 0</td>\n",
        "      <td> 0</td>\n",
        "      <td> 0</td>\n",
        "      <td> 0</td>\n",
        "      <td> 0</td>\n",
        "    </tr>\n",
        "    <tr>\n",
        "      <th>1</th>\n",
        "      <td> 785834B</td>\n",
        "      <td> 15</td>\n",
        "      <td> N</td>\n",
        "      <td> 70.0</td>\n",
        "      <td> 51</td>\n",
        "      <td> 121.0</td>\n",
        "      <td> 0</td>\n",
        "      <td> 0</td>\n",
        "      <td> 0</td>\n",
        "      <td> 0</td>\n",
        "      <td>...</td>\n",
        "      <td> 0</td>\n",
        "      <td> 0</td>\n",
        "      <td> 0</td>\n",
        "      <td> 0</td>\n",
        "      <td> 0</td>\n",
        "      <td> 0</td>\n",
        "      <td> 0</td>\n",
        "      <td> 0</td>\n",
        "      <td> 0</td>\n",
        "      <td> 0</td>\n",
        "    </tr>\n",
        "    <tr>\n",
        "      <th>2</th>\n",
        "      <td> 785834B</td>\n",
        "      <td>  1</td>\n",
        "      <td> N</td>\n",
        "      <td> 13.0</td>\n",
        "      <td> 24</td>\n",
        "      <td>  37.0</td>\n",
        "      <td> 0</td>\n",
        "      <td> 0</td>\n",
        "      <td> 0</td>\n",
        "      <td> 0</td>\n",
        "      <td>...</td>\n",
        "      <td> 0</td>\n",
        "      <td> 0</td>\n",
        "      <td> 0</td>\n",
        "      <td> 0</td>\n",
        "      <td> 0</td>\n",
        "      <td> 0</td>\n",
        "      <td> 0</td>\n",
        "      <td> 0</td>\n",
        "      <td> 0</td>\n",
        "      <td> 0</td>\n",
        "    </tr>\n",
        "    <tr>\n",
        "      <th>3</th>\n",
        "      <td> 785834B</td>\n",
        "      <td>  3</td>\n",
        "      <td> N</td>\n",
        "      <td>  0.0</td>\n",
        "      <td> 38</td>\n",
        "      <td>  38.0</td>\n",
        "      <td> 0</td>\n",
        "      <td> 0</td>\n",
        "      <td> 0</td>\n",
        "      <td> 0</td>\n",
        "      <td>...</td>\n",
        "      <td> 0</td>\n",
        "      <td> 0</td>\n",
        "      <td> 0</td>\n",
        "      <td> 0</td>\n",
        "      <td> 0</td>\n",
        "      <td> 0</td>\n",
        "      <td> 0</td>\n",
        "      <td> 0</td>\n",
        "      <td> 0</td>\n",
        "      <td> 0</td>\n",
        "    </tr>\n",
        "    <tr>\n",
        "      <th>4</th>\n",
        "      <td> 785845B</td>\n",
        "      <td>  4</td>\n",
        "      <td> N</td>\n",
        "      <td>  6.0</td>\n",
        "      <td> 46</td>\n",
        "      <td>  52.0</td>\n",
        "      <td> 0</td>\n",
        "      <td> 0</td>\n",
        "      <td> 0</td>\n",
        "      <td> 0</td>\n",
        "      <td>...</td>\n",
        "      <td> 0</td>\n",
        "      <td> 0</td>\n",
        "      <td> 0</td>\n",
        "      <td> 0</td>\n",
        "      <td> 0</td>\n",
        "      <td> 0</td>\n",
        "      <td> 1</td>\n",
        "      <td> 0</td>\n",
        "      <td> 0</td>\n",
        "      <td> 0</td>\n",
        "    </tr>\n",
        "  </tbody>\n",
        "</table>\n",
        "<p>5 rows \u00d7 121 columns</p>\n",
        "</div>"
       ],
       "metadata": {},
       "output_type": "pyout",
<<<<<<< HEAD
       "prompt_number": 4,
=======
       "prompt_number": 151,
>>>>>>> origin/master
       "text": [
        "  Major_Cd  N_Terms Graduated  Transfer_Cr  Inst_Cr  Total_Cr  MATH102  \\\n",
        "0  785845B        4         N         96.3       31     127.3        0   \n",
        "1  785834B       15         N         70.0       51     121.0        0   \n",
        "2  785834B        1         N         13.0       24      37.0        0   \n",
        "3  785834B        3         N          0.0       38      38.0        0   \n",
        "4  785845B        4         N          6.0       46      52.0        0   \n",
        "\n",
        "   MATH102L  MATH103  MATH103A1    ...      MATH92  MATH93  MATH93OL  MATH94  \\\n",
        "0         0        1          0    ...           0       0         0       0   \n",
        "1         0        0          0    ...           0       0         0       0   \n",
        "2         0        0          0    ...           0       0         0       0   \n",
        "3         0        0          0    ...           0       0         0       0   \n",
        "4         0        0          0    ...           0       0         0       0   \n",
        "\n",
        "   MATH94A  MATH94B  MATH95  MATH96S  MATH998A1  MATH999A1  \n",
        "0        0        0       0        0          0          0  \n",
        "1        0        0       0        0          0          0  \n",
        "2        0        0       0        0          0          0  \n",
        "3        0        0       0        0          0          0  \n",
        "4        0        0       1        0          0          0  \n",
        "\n",
        "[5 rows x 121 columns]"
       ]
      }
     ],
<<<<<<< HEAD
     "prompt_number": 4
=======
     "prompt_number": 151
>>>>>>> origin/master
    },
    {
     "cell_type": "code",
     "collapsed": false,
     "input": [
      "data['Graduated'].replace(to_replace=('N','Y'), value=(0,1), inplace=True)\n",
      "#data['Major_Cd'].replace(to_replace=('785845B','785834B'), value=(0,1), inplace=True)\n",
      "# 785845B math bs"
     ],
     "language": "python",
     "metadata": {},
     "outputs": [],
<<<<<<< HEAD
     "prompt_number": 5
=======
     "prompt_number": 152
>>>>>>> origin/master
    },
    {
     "cell_type": "code",
     "collapsed": false,
     "input": [
      "#y = data[data['Graduated']==1]['Major_Cd']\n",
      "y = data['Graduated']\n",
      "X = data[data.columns[6:]]\n",
      "\n",
      "##y = data['Major_Cd']\n",
      "\n",
      "#X = data[data['Graduated']==1][data.columns[6:]]\n"
     ],
     "language": "python",
     "metadata": {},
     "outputs": [],
<<<<<<< HEAD
     "prompt_number": 6
=======
     "prompt_number": 153
>>>>>>> origin/master
    },
    {
     "cell_type": "code",
     "collapsed": false,
     "input": [
      "#a bunch of functions:\n",
      "#print clustering result(and get back the cluster DataFrame)\n",
      "#display a pca\n",
      "#get distance between classes axises data frame\n",
      "#average cluster centers - which actaully seems to be unnecessary with sklearn KMeans module\n",
      "\n",
      "def printClusters( df, cluster_list,k=2):\n",
      "    import pandas as pd\n",
      "    categories=['non-graduates','graduates']\n",
      "    gradClustersDF=pd.DataFrame({'Graduated':df['Graduated'], 'ClusterLbl':cluster_list})\n",
      "    for i in range(2):\n",
      "        print 'total',categories[i], len(gradClustersDF[gradClustersDF['Graduated']==i])\n",
      "        for j in range(k):\n",
      "            print j,'cluster',\\\n",
      "                gradClustersDF[(gradClustersDF['Graduated']==i)&(gradClustersDF['ClusterLbl']==j)]['ClusterLbl'].count()\n",
      "    return gradClustersDF\n",
      "    \n",
      "\n",
      "#kmod.cluster(X_raw,pre_runs=5)\n",
      "\n",
      "def plotPCA(X_raw,cluster_list,k=2,norm=False):\n",
      "    import sklearn\n",
      "    from sklearn.decomposition import PCA\n",
      "    pca = PCA(n_components=2)\n",
      "    #X_raw=df[df.columns[6:]]\n",
      "    if norm==True:\n",
      "        normalizer=sklearn.preprocessing.Normalizer()\n",
      "        X_raw_norm=normalizer.fit_transform(X_raw.transpose().values.astype('float64')).transpose()\n",
      "    else:    \n",
      "        X_raw_norm= (X_raw - X_raw.mean()) # / (X_raw.max() - X_raw.min())\n",
      "        \n",
      "    reduced_X = pca.fit_transform(X_raw_norm)\n",
      "    \n",
      "    points=[[[],[]] for j in range(k)]\n",
      "   \n",
      "   \n",
      "    for i in range(len(reduced_X)):\n",
      "        for j in range(k):\n",
      "            if cluster_list[i]==j: #red\n",
      "                points[j][0].append(reduced_X[i][0])\n",
      "                points[j][1].append(reduced_X[i][1])\n",
      "\n",
      "    colors='rbgmyck'   \n",
      "    markers='xD.+ov*s'\n",
      "    for i in range(min(k, len(colors))):\n",
      "        plt.scatter(points[i][0], points[i][1], c=colors[i],\\\n",
      "                    marker=markers[i], label=str(i)+' Cluster')\n",
      "        \n",
      "    plt.legend()\n",
      "    plt.show()\n",
      "    \n",
      "    \n",
      "def getDistancesDF(columns, kmeans_model,k=2):\n",
      "    distancesDF=pd.DataFrame({'class':columns,\n",
      "                          'Cluster0':kmeans_model.cluster_centers_[0],\n",
      "                          'Cluster1':kmeans_model.cluster_centers_[1]})\n",
      "    distancesDF=distancesDF[['class','Cluster0','Cluster1']]\n",
      "    for i in range(2,k):\n",
      "        distancesDF['Cluster'+str(i)]=kmeans_model.cluster_centers_[i]\n",
      "    return distancesDF\n",
      "                          \n",
      "\n",
      "#no need to use it\n",
      "def clusterCenters(X, k=2,n_tests=10,init='random'):\n",
      "    from sklearn.cluster import KMeans\n",
      "    cluster_centers=[]\n",
      "    #X = data[data.columns[6:]]\n",
      "    for i in range(n_tests):\n",
      "        cluster_centers.append(KMeans(n_clusters=2,init=init).fit(X).cluster_centers_)\n",
      "    avg_center=sum(cluster_centers)/float(k)\n",
      "    \n",
      "        \n",
      "    return avg_center\n",
      "    "
     ],
     "language": "python",
     "metadata": {},
     "outputs": [],
<<<<<<< HEAD
     "prompt_number": 7
=======
     "prompt_number": 174
>>>>>>> origin/master
    },
    {
     "cell_type": "code",
     "collapsed": false,
     "input": [
<<<<<<< HEAD
      "len(data['MATH320'])"
=======
      "from sklearn import cross_validation\n",
      "\n",
      "#let's call our sample array data. It can be N-dimensional.\n",
      "\n",
      "#len(data) -- total number of data points in my dataset, \n",
      "#nBoot -- number of bootstrap samples, \n",
      "#train_size = bootstrap sample size (proportion of the whole sample, or just number)\n",
      "#Here we create an empty array we will store the means of bootstrapped \n",
      "\n",
      "means = np.empty((nBoot, ))\n",
      "\n",
      "#then we get the class instance, drawing half of the sample with replacement every time\n",
      "\n",
      "bs = cross_validation.Bootstrap(len(data), nBoot, train_size=0.5, random_state=0)\n",
      "\n",
      "#Filling the means array while iterating over the bootstrap samples (indexed by train_index):\n",
      "\n",
      "i = 0\n",
      "for train_index, test_index in bsJ:\n",
      "    means[i] = np.mean(data[train_index])\n",
      "    i+=1"
     ],
     "language": "python",
     "metadata": {},
     "outputs": []
    },
    {
     "cell_type": "code",
     "collapsed": false,
     "input": [],
     "language": "python",
     "metadata": {},
     "outputs": []
    },
    {
     "cell_type": "heading",
     "level": 1,
     "metadata": {},
     "source": [
      "Ternary encoding"
     ]
    },
    {
     "cell_type": "code",
     "collapsed": false,
     "input": [
      "from sklearn.cluster import KMeans\n",
      "from scipy.spatial.distance import cdist\n",
      "import matplotlib.pyplot as plt\n",
      "\n",
      "X = data[data.columns[6:]]\n",
      "K = range(1, 20)\n",
      "meandistortions = []\n",
      "for k in K:\n",
      "    kmeans = KMeans(n_clusters=k)\n",
      "    kmeans.fit(X)\n",
      "    meandistortions.append(sum(np.min(cdist(X, kmeans.cluster_centers_, 'euclidean'), axis=1)) / X.shape[0])\n",
      "plt.plot(K, meandistortions, 'bx-')\n",
      "plt.xlabel('k')\n",
      "plt.ylabel('Average distortion')\n",
      "plt.title('Selecting k with the Elbow Method')\n",
      "plt.show()"
>>>>>>> origin/master
     ],
     "language": "python",
     "metadata": {},
     "outputs": [
      {
       "metadata": {},
<<<<<<< HEAD
       "output_type": "pyout",
       "prompt_number": 24,
       "text": [
        "800"
       ]
      }
     ],
     "prompt_number": 24
=======
       "output_type": "display_data",
       "png": "iVBORw0KGgoAAAANSUhEUgAAAYQAAAEZCAYAAACXRVJOAAAABHNCSVQICAgIfAhkiAAAAAlwSFlz\nAAALEgAACxIB0t1+/AAAIABJREFUeJzt3Xm81HP///HHaUN1Ki2Ur+pQlKKkhbRNVyGXQraIcPG1\nXZctX1zE9e0gLhdy5bJvFwoJ+aHr+F7WplNJpUU6laVFuhJFk5RoOb8/Xp8xc+bMzJk5Zz7zmeV5\nv93mNtvnfD6vWc7nNe8dRERERERERERERERERERERERERERERADYAxzswn63AkUu7LcYmJTifb4F\njIrz/LPAHTXY/4XAzBr8fTLCP89nqVncmeRZUvdaikn9dyjn1fI6AEnYUcCTwNfA98AsoEcaj+8H\nLo54rBBY48Kxyl3Y5+8JnSAupPLJuzyJ4xZhJ2W3/n+KgZ1Ywg1efoixbTJxp8oe4FugdthjdYHv\nnOcScSE1+wyqku73JCcoIWSPp4EyoDPwX8BtwC9pPH46/8EK0nismnArznJgMpZwg5emLh2run4A\nTgy7f6LzmE7EWUwJITscCnQEHgJ+BHYA7wKfhm3TF3gBWA2MBZrH2Fcd4CzgA2Ax9qu/Xtjz3YFH\nsV97XwInAHcC/ZzjbwX+4WwbWXVxPzAF+/X4FJa4gjoDLwPrgbuIXuKIpi52cnzVuR3uIGBz2P0n\nnWMHTQKucW4Hj9cReAzoTeVf3g3ixB+u1LkOYJ/HMYROhP8L/Af4t3OMoH2c48/DSndnEjuhFMR5\nLppC4DVgA/A3oFnYc4din9da4AHgEOfxgcCSsO3edWILmgmcHOeYk4Dzw+6fD0yMiDvWaz4M+44l\n+xnEei0ALYB7sPdgKtAwTuwiWe9L7KQ4FGgc8VwXrCppMLAv9k/zQtjz4Sfuq4H3sRN0O2A6cInz\nXAvsH/RSoD5wANDBeW46cFHEcSMTwhZgOJaMphGqDy7A/sGvdZ67FyvdRO4vqBg74ewNlAD/JPYJ\n8iugm3P7M+x96hj2XNco8V9A5eqKePFHakvlKqMLndf0v9hnUBxxjPuxxFbkxPQpcFyM/RcTv/47\n8n3/CTshH+AcY3LYtmuAW7AkcRP2gwHsZP0zVvKoi30+X2Mn5H2A7c7riHX8ztjJt5Gz3QbnsfAq\no3ivuTqfQazXAva/MQlo6ez7JyxBieSk1sBfsV9HW4EJhKoR7gTGhG3bDNhIqI43/AQyGzg2bNtT\nsZMuwBXA6zGOP53Kv+gjT0xvhj13NvCRc7uXE3fQ3lgpJ1ZCGAu8AczAXmc8E4HR2IlgBXA3cBmV\nSw/hCeFCop+MYsUfqYjoCeGHsMdaAb9iJ9gC7OTVOmz7a4GHY+y/GEsum8Mu74c9H/m+l4Y9d2hY\nHN2wElm4dcCRzu1S7OR7DPA28BJWIhwIfBIjtuDx22ElskuBy4HHnceCCaGq13whyX0G8V5LHay0\nFt5xohQlhKTV8ToASdjXwM3O5WjsV/OP2C/SwUAn4Iaw7ethDdHzwx5rgBXTS8IeKyBU3eHDEkYs\n8eqHy7EqqKANhIr7R0c8twNYHmdfBdhJqg52UohnBla1sQ47CczAehPtILleP/HiT1QZoRPiN1j8\n+wN7AW2oWEVTi4q/cCNNoWKVTCzlVDx5f4794j8M6AMsjNj+Y6z6bzH2Xvmw924GlngGYMnIn8Bx\nJ2IJGOBGKpbiOpL8a473GcR7Lbudfa8Ke24hFavOJAFqQ8hOc7GiuM+5/wEwDiu6By8NqJgMALY5\nf3tC2HZNCFUNTMfaIqIJ/tPFE6taZx6hqhuwKomOMbYFOzG8g51s3gf2i7PtDOyk4MNOYrOwk8cA\nYp/UdseINdF6+91Jbv8ZdtLtROh9b0zol3qk8iT2XRCxnw5YD6XlWHI/KmL77oQS5QysNNAfe6+C\nCWKAc7sqM7GS2X5U/iFR1WtO9jOI91pWECq1hD+nBu4kKSFkhw7AddivpdrYP8a5hIrEk7BqkuOx\nkkFjrAEvmknA7c4+ajn7PN55bip2QrgYSyj/RagNYQFWbI/XEBrLfKya6GqsnaKY+N+94L7uBV7E\nkkKsX3tfYqWB87CT2FasQfx0Yp/UFmANkuENj8k04q5zjpFot9892C/+v2G/3GthJ6/+MbZPtvdS\nN+z7cABWYvy3c8xFWLXVzVid/I3ALkK/wj/EPt+eWNJehrWPHE3Faqh4hhG98bmq15zsZxDvtewE\n3sOqGlti34VYyVbiUELIDluxf9K5WP3w/diJMtjwuAxrSDsLO1l9ipUCgsJ/KT2JVTfd7uzrXaze\nGazdYRBWXfMVVmJo4zz3PNDe2SZavX60PuTB+3uwaq3+WPXGbud6S4zXG76vcVi7xntYaSYaP7AJ\n690TvA+VqxiCljn7LMNO7FXFHy2+O7CuwJuxz6aqvy/G3s9Hsff9FezkFWv/I6g4DuFHQj3HyiO2\nfQJLgAux9+DqsOeHYIl9EVafPyTsue3YibkMO7mCJYk12PsZS/jxl1Gx+i/R11ydzyDea/mjs5/F\nWLvIo3HiFw+0xr4MZdg/6Mgo2xQC47EPcQ4Vi3ySuxpj9dSq4xXJEy0JFduaYw0+hRHbXEqoT3tv\nrMpCctPx2C/8A7Ffbx97G46IRHKzymgDobrKTVhJIbLO9XeEerzMwaokJDf1xur752ON2+d4G46I\neKU9VkJoEPH4H7C+x/tgDVN7sP7jIiKSZukYh1CI9TYYjf0yDDcFq0KYgXVT+4L0zs8jIiIOtycR\nq4tVCb1F1SNOG2J9yCt1F2vXrl35ypUrUx+diEhuW0kSVfFutiEUYN3ylhI7GTTG+s3Xx/oXvxtt\no5UrV1JeXq5Lii5jx471PIZcuei91PuZyReS7LnpZpVRH2yAyBKs3zDYfDvBfu2PY6MYn8US0xxs\nThQREfGAmwlhFlWXQOYQGgkrIiIe0kjlPOTz+bwOIWfovUwtvZ/eypaVqcqd+jAREUlQQUEBJHGe\nVwlBREQAJQQREXEoIYiICKCEICIiDiUEEREBlBBERMShhCAiIkCOJ4SSEggEKj4WCNjjIiJSUU4n\nhD594JZbQkkhELD7ffp4G5eISCbK+ZHKmzdD//4wdSo88ADceSc0ibVUu4hIDkl2pHI6Fsjx1L77\nQnk5dOgAq1crGYiIxJLTVUZg1UR16sB118G991ZuUxAREZPTCSHYZnDTTfDJJ1ZdFN6mICIiITnd\nhlBSYg3IBQVw4IGwaRP8/DPMng0nneRClCIiGSTZNoScTgjhevaE8eOtgVlEJB9o+usYBg4Ev9/r\nKEREMlfeJASfD6ZP9zoKEZHM5WZCaA1MB8oAPzAyyjb7AM8Bi4AZwCluBdOvH8yfDzt2uHUEEZHs\n5mZC2AmMBjoDZwDjgMKIbS4AtgHdgPOB+3GpXaOwEA4/HD76yI29i4hkPzcTwgZgsXN7E1ZS6BGx\nzRYsSdQFmgLbAdcWT1a1kYhIbOlqQ2iPlRTmRTw+GaiNJYxZwLluBjFwoBKCiEgs6UgIhcAUrPpo\nW8RzVwK7gFbA74ASN2Pq0wcWLoTt2906gohI9nJ7LqO6wFRgEvBGlOf7A09jVUVzgfXAocCKyA2L\ni4t/u+3z+fD5fEkH07AhdOkCc+bAoEFJ/7mISEbz+/34a9C/3s2BaQVYD6JNwHUxtrkMOAK4GigC\n3gYOibJdjQemBd1yC9SqBXfckZLdiYhkrEya7bQPcB6wBOtWCjAGaOPcfhx4CegEfAxsBK5xMR7A\n2hHCChsiIuLIm6krgrZvh/32g2+/hQYNUrJLEZGMpKkrqlC/PnTrBh9+6HUkIiKZJe8SAmg8gohI\nNHmZEDQeQUSksrxrQwBbE6FFC9iwwbqiiojkIrUhJGCffaB7d5g1y+tIREQyR14mBFC1kYhIpLxO\nCFowR0QkJC/bEMDWRWjeHNavh0aNUrprEZGMoDaEBO29N/TqpXYEEZGgvE0IoHYEEZFweZ0QNEBN\nRCQkb9sQAH75xdoRvv4amjRJ+e5FRDylNoQk7LUXHH00zJzpdSQiIt7L64QAakcQEQlSQtB4BBER\nIM/bEAB+/dXaEdasgaZNXTmEiIgn1IaQpHr1oHdvKC31OhIREW/lfUIAVRuJiIASAqDxCCIi4G5C\naA1MB8oAPzAyyjbXA4ucy6fALiDtIwK6d7c2hE2b0n1kEZHM4WajckvnshhoDswDugJbY2w/FLgW\nGBzlOdcalYN+/3v47/+G005z9TAiImmTSY3KG7BkALAJKyn0iLP9SGCyi/HEpWojEcl36WpDaA90\nxkoJ0dQHTgCmpimeStSwLCL5rk4ajlEITAFGA9tibDMMmAUEYu2kuLj4t9s+nw+fz5eyAAG6dbM5\njTZutPWWRUSyjd/vx1+DX7ZuD0yrC5QAbwET4mz3/7Ck8VKM511vQwAYOhQuuADOPNP1Q4mIuC6T\n2hAKgKeBpcRPBo2B/sAbLsaSEFUbiUg+c7PKqA9wHrAE61YKMAZo49x+3Lk+FXgb+NnFWBLi88HT\nT3sdhYiIN/J+LqNwu3fbvEbLl0PLlq4fTkTEVZlUZZR1ateG/v1hxgyvIxERST8lhAgajyAi+UoJ\nIYIWzBGRfKWEEKFLF5vTaP16ryMREUkvJYQItWpZO4K6n4pIvlFCiELjEUQkHykhRKF2BBHJR4kk\nhG7AP4HlwGrnssrNoLzWuTMEArBundeRiIikTyIJYQLwPjAI6OlcerkZlNdq1YIBA1RtJCL5JZGE\n0ACbdG49tq5B8JLTNB5BRPJNIkOaxwJtgReAzWGPL3QloujSMnVFuLIyGDYMVuV05ZiI5LJkp65I\nZEM/EO1sPDDRg6RA2hNCeTnsvz/Mnw9t26b10CIiKZFsQkhktlNfdYPJZgUFVm3k99saCSIiuS6R\nNoRC4Arg/5zL5UBDN4PKFOp+KiL5JJGixG1AC+AZZ/sLsEblsS7GFSntVUYAK1bAkCGwZk3aDy0i\nUmNutCEsBnoAu5z7dYCPgSOTDa4GPEkI5eVwwAHw4Ydw0EFpP7yISI24sR7CQuB0Z6e1gOGkt4eR\nZ4LtCKo2EpF8kEhC+CswAlgLfAWc7TyWFzSvkYjki2SW0KzrXO90I5AqeFJlBPD55zBoEKxdayUG\nEZFskcoqo1HO9f8A1wFXOZfg/aq0BqYDZdhYhpExtusJzMfmSvInsN+0KSmBFi1gz57QALVAwB4X\nEck18cYh1HeuC4k+MK0qO4HRWKN0c2AeMA3YGrZNATZx3mjgPWe7jNGnD9xyi11Pnw7Nmtn9O+/0\nOjIRkdRLpCjRF5iVwGNVmQbcj5UagnoC1wLnVvG3nlUZBQIwfDg0agQHHmjJoEkTT0IREUmKG91O\nF2FTYFf1WDztgXeAI4BtYY/fCnTE5koKAA8Bb0f5e88SAsBHH0Hv3ta4PGCAZ2GIiCQllVNX9AaO\nxQalXRe20xbA90nEVAhMwaqFtkU8tzc2nmEwVkX1LnA48HPkToqLi3+77fP58Pl8SYRQfYEATJoE\nN90E554Ln34K++6blkOLiCTF7/fjr0G3yHiZYwA2gd1lwGNhj3+F/dpPZBn6ukAJ8Ba2rkKkk7C5\nkm5w7k/B2hQiSwmelBACgVCbQcOG0KMHNG0Kr72maiMRyXyprjKqg62FcEZ1YgGew6a5iNUrqRk2\nP5IPKy18BBwF/BSxnScJoaTEGpSDJ//Fi2HwYPj732HUqPh/KyLiNTfaEOZiVTpbq9owQl+gFFhC\nqJfSGKCNc/tx5/oKrDvrRuBRLAFF8rQNIdyYMTY24dVXvY5ERCQ+NxLC/div9leBb5zHyoHXkg2u\nBjImIezYAV27wt13W+8jEZFM5UZCeNa5jjwj/yHRg6RAxiQEgNJSOOccW1VNbQkikqncSAiZIKMS\nAsAVV8CuXfDkk15HIiISnRsJYX+sUXiYc/9NrBrpu2SDq4GMSwg//gidO8PEiTYBnohIpnFj+uub\nsEFjPucSAG5OPrTc0qgRPPIIXHIJbN/udTQiIjWXSOb4BOgadr8WNlK5a/TNXZFxJYSgs8+GNm3g\nnnu8jkREpCI3qoweANZhA8aCS2i2Aa6pRnzVlbEJ4bvv4Igj4K23oHt3r6MREQlxo8rob0ArbDK7\nmcABwN3VCS4X7bcf3HsvXHwx7PRipQgRkRRJJHP0AWYn8JibMraEALb28pAhttzmzXnfuiIimSJT\nZzutqYxOCABr1thcR7NnQ4cOXkcjIpKZs53mhaIi+MtfrNeR3w+1EqmMExHJIPFOW/WwqatrO9cN\nncsK4Hz3Q8s+V14Jv/4KTzzhdSQiIslLpCjRFpvyOmhvYIc74cSU8VVGQWVl1pawaJGtsCYi4hU3\nehn9FWiElRTmAp8DF1UnuHzQubOVFP74R2tsFhHJFokkhM7Aj8BwYAFwKHCxm0Flu5tvhlWr4OWX\nvY5ERCRxiSSE7djylqOA57HqokI3g8p29erBU0/BtdfC92p+F5EskUhCeBBYiC2Q8yFQBGxxMaac\ncMwxMGIEXBdrrTgRkQxTnemvC7D2hF0pjiWerGlUDvfTTzatxWOPwQkneB2NiOSbVI5DGAVMAv4H\nWxwnfKfl2BTYEkfDhnDRRTY2Ydkyuw8QCNgAtpNO8jY+EZFw8aqM6jvXhVQchxC8Lwm46iqoXx9u\nuMHuBwJwyy3Qp4+3cYmIRHJzxbTWwERgP2Aj8ATwYsQ2PuANYJVzfyowLsq+srLKKGjVKqs6eu45\nmD4d7rxTS2+KiPtSWWX0YNjt8Cqj4Jn56ir2vRMYDSwGmgPzgGlY43S4GcDJiQSbrQ4+GB58EM48\nE+66Cxo39joiEZHK4lUZLQA+xhqP+2HzF30P9AV2J7DvDVgyANgElAE9omyXLes6V1sgAAsWwLvv\nwvjxcMopsHmz11GJiFSUyMl4HnAioQntmgH/B/RK4jjtgXeAI4BtYY8PAF4DvgY+AB4GVkb5+6yt\nMgq2GQSriTZsgOOPt4Tw4ovQr5/XEYpIrkpllVHQbqAJoYTQmMRKCEGFwBSs+mhbxHMLsbaGndhK\nbA8AQ6PtpLi4+LfbPp8Pn8+XRAjemT27YptBy5ZQWgoTJsBZZ8Fll8Gtt0KdRD4JEZE4/H4/fr+/\n2n+fSOY4HngcWOrc7wxcBrybwN/WBUqAt4AJCcSyAVue85eI57K2hBDPN9/A+efDzz/DCy9A27Ze\nRyQiucSNye3ewap87sYmujuExJJBAfA0lkhiJYP9CQU7DFhC5WSQs1q1grffhpNPhp494ZVXvI5I\nRPKZmw26fYFS7CQf/Hk/BisBgJU6/gRcgTVcLwHuc64j5WQJIdz8+XDOOTBwoFUnNWjgdUQiku3c\nWEIzE+R8QgDYutWmzp43DyZPhiOP9DoiEclmblQZSZoUFtrgtVtvheOOs5JCHuRBEckQiSaEVsC5\nzu0WwEHuhCMA554LH31kpYShQ63BORCouE0gACUl3sQnIrkpkYRwKTAZGOvcr4etiyAuatcOZs2C\nrl3h+uutN1IwKWg+JBFxQyJ1SzOBQdjymd2cx5YAXdwKKoq8aEOI5YMP4LzzYP/9bRW2CRM0H5KI\nVM2NgWlbgD1h99sA65ILS2rid7+DJUtg+HA49FCbLE/JQERSLZEqo+eAF7DRymOBfwFPuRmUVFan\nDhx2mF1GjarcpiAiUlOJFiWKgNOxBPISNvdQOuV1lVH4fEg//gi9ekGPHvD88yopiEhsGoeQg0pK\nrAE5ePKfMweGDYM77oArrvA2NhHJXG4khK1UXkJzFTY/0cOkpz0hrxNCNBMnwm23wdy50Ly519GI\nSCZyIyGMwbqaPuvcH4Utpfkt0A6bfsJtSghR/PnPlhDeeQfq1fM6GhHJNG4khOXAYWH3a2GL3XQC\nPgUOTyK+6lJCiGL3but51KoVPPYYFGRLBaCIpIUbU1fMAa4BmjqXK7ExCeXYpHTikdq1bRTzhx/a\nEp0iIjWRSOY4ELgZOM65/w42Ffb3QHdgljuhVaASQhxr1kDv3jYP0vHHex2NiGQK9TLKU7Nmwemn\nw4wZ0LGj19GISCZwIyHUAwZiK6ftG/b4RUlFVjNKCAl45hm46y5raG7a1OtoRMRrbrQhjMNWMxsO\nfII1Jn9bneDEXX/4A5xyCpx5Juzc6XU0IpJtEskcC4Ae2FKYnbFSwttALxfjiqQSQoJ277YlOYuK\n4OGHvY5GRLzkRglhN9ajaBHWsNwYqF+d4MR9tWvbOgp+PzzyiNfRiEg2SWS20yew7qYTsDWPDwD+\n4mZQUjONGsG0aXDssTY76uDBXkckItmgqhJCLWzqih+AjwEfcCgwJYF9twamY4PY/MDIONv2xMY0\nnJbAfiUBBx8ML71kq6998YXX0YhINkikbmkhNt4g2Ur8ls5lMdAcmAd0xRJMuNrAu8B24BlgapR9\nqQ2hmp58EsaPtyU5NTOqSH5xow3hdeAebIqKpmGXqmzAkgHAJqyk0CPKdlcBrwIbE9inJOmSS2DI\nEFtkZ9Omis9pXWYRCZdI5lhD9NLBQUkcpz02wvkIYFvY4/+Frc/8O+CfwDTgtSh/rxJCDezaBSec\nABs3QmmplRTC11hQyUEkN7mxhGZRdYNxFGJtDqOpmAzAGqpvIjS9dszAi4uLf7vt8/nw+Xw1DCt/\n1KkDU6fawjqnngrPPgv33qtkIJJr/H4/fr+/2n+fSObYCzgV6I9NdX0I0AFbSrMqdYESbO2ECVGe\nXxUWQ3OsHeES4M2I7VRCSIEvv7SeRxs3wsKF0K2b1xGJiJvcKCHc5uzQ59xfj9X5V5UQCoCnsQFt\n0ZIBwMFht5/Bqowik4GkSPPmttLazp2WGG6/HUaPthKEiEgijcoDgT8Dvzr3t5FYxukDnIe1Dyxy\nLicClzkXSaNgm8H48bba2nvvwQMPQNeuMH2619GJSCZI5MQ+EesJ5Ae6AccAVwAXuBdWJaoyqqHI\ndZkBNm+2toQXX4SePeG++6BtW+9iFJHUcmO2056Eup0uBfbHltFcUI34qksJwUU//2yJ4YEH4Mor\nbWnO+pqcRCTrubkeQndsENm8JGNKBSWENFi7Fm68EebMgXvugbPO0rKcItnMjYQwDZgMvEHlbqPp\nooSQRqWlcPXV0LixlRqOPNLriESkOtwYqTwe6Acsw6aVOAPYuzrBSXbo3x8WLICRI21A2+WXWztD\nIFBxO410FsktiSQEP9aI3A54DDgL+M7FmCQD1K4Nl10GK1bAXntZiWHYsND0F8FeS336eBuniKRO\nokWJfYCTsWRwFDYG4Sq3gopCVUYeKyuDP/0JliyBhx6C2bM10lkk07lRZfQysAIbT/AQVlJIZzKQ\nDNC5s41XuPtum1L7m2+0TKdIrkkkIfwTG1F8Gba+QR9AizPmoS1b4JNPYOlSWLUKOnWyeZFUeBPJ\nDYkWJY4CzsGqjFZjjcsPuhVUFKoy8ljk7KiBAFx6KXz+OTRtCo89ZquziUjmSGW30w5YEhiBrVXw\nCnAD0KYG8VWXEoLHoo10DgSsi+qqVTBuHFxzjQ1qq1fPuzhFJCSVCWEP1nh8JbDWeWw1ya2DkCpK\nCBlu7VprdF65Ep54Avr29ToiEUllo/JpwM9AKdbddFAyO5b80qYNvPmmzaA6YoR1Wd282euoRCQZ\n8RLC61h10eHATGyBmxbAo8Dx7ocm2aagAM44A5Yts3EMnTvDlClqdBbJFsn+4m+KjVQ+G+uGmi6q\nMspCc+ZYw3Pr1vDII1BU5HVEIvnFjXEI4X4AniC9yUCyVO/eNgVGv37QowdcfHFopHOQpr8QyRzJ\nJgSRpNSrBzffDB99ZA3Ohx0GH3xgz2n6C5HMki2NxKoyygHl5dYDafRoOO44u//MM9CsmdeRieQm\nN9dD8JISQg5ZvBi6dYMjjrAqpJEjYdQoW85TRFLH7TYEkRoJBODJJ2H1amtbeP11m0315JOhSxdb\nue0///E6SpH85GZCaI3NfVSGTaE9Mso2pwCfAIuBEmy5TslR4dNfFBXZ9XPPwQ03WIJ48EH47DMr\nORx3HEycCD/95HXUIvnDzSqjls5lMdAcW3qzK7A1bJsGhFZhGwDcAfSPsi9VGeWAWNNfzJ4NJ50U\neuznn2HaNJg0CWbOtHUYRo2CQYPg3/9ObB8iktltCNOA+7FSQzQnY9NkRBv0poSQpzZuhJdesuSw\nbh2cdpo99vjjoUn2wifdE5GQTE0I7YF3gCOovC7zcODvQEOgO/BVlL9XQhBWrIDnn7eqpG3b4Lbb\nbFT0XXcpGYhEk4kJoRBrQ7gdeCPOdiOAm4BuUZ4rHzt27G93fD4fPp8vdRFKVtmzB154Ac4/H44+\n2rqydunidVQi3vP7/fj9/t/u33bbbZBBCaEu1lj8FjAhge2/BYqwSfXCqYQgvwlWE113HVx0kZUS\nRoywifWaNvU6OpHMkUndTguAp4GlxE4G7QgF+3tgAZWTgchvwtsM2rWDN96wLqu//GKjoB99FHbv\n9jpKkezkZgmhLzZ19hIg+PN+DKEFdh4HbgTOB3YCi7BG56VR9qUSggDxeyq1bm2L9GzeDP/4B/SP\n1l9NJI9kYhtCKighSELKy+HVV+H66+HYY+GeeyxRiOSjTKoyEkm7ggI480xYvtzWeO7WzaqXduzw\nOjKRzKeEIDmpfn3rljp/PixcCJ062TQZKmiKxKYqI8kL778PV19t03E/9ph1Vw3SSGfJVaoyEoli\n0CCbZXXECPD54I9/hC1btCaDSDiVECTvfPklnHIKfPMNtGwJY8fa/b339joykdRSCUGkCu3bW/fV\nzZvh9NNtvef994czzrCpMTZv9jpCEW8oIUjeCQRs3YXVq+GHH2xw25dfWhvCK69A27YweDA89BB8\n/bXX0Yqkj6qMJK9Ezo4abbbUbdvg3XetV9K//mVrN5x6ql06d4a33tIU3JIdNDBNJI5E12QI2rUL\nZs2y5PD661CnDgwZAuvX28pvzZppCm7JXEoIIi4pL4dPPrHEMHWqVTMNGmRLfp59tg2EO/BAGxm9\n335QK06FbLKJSaQ6lBBE0mTmTJsv6cYbrZrp669tEZ916+zk3qpVKEEceGDF24WFtmRocC0HlTLE\nDUoIImkThEP4AAAJm0lEQVQQPIHfcIM1UEeeyHfssGqlYIIITxbB+99/b11dhw+3AXP33adkIKml\nhCDiskQaphPx668wZ44NlGveHO6/H847z+ZjEkkFjUMQcdns2RVP/k2a2P3Zs5Pbz/bt8PLL1v3V\n54Px4+26rCzVEYskJlt+i6iEIDklWiljzBg46CCbsvvii+Evf4EGDbyOVLKZSggiWSBaKeOuu2xW\n1k8/tZ5LmqFV0k0lBJEMNX26TcLXrp2tAHfwwV5HJNlGJQSRHDFwoI176NsXevWCceNs7WgRt7id\nEFoD04EywA+MjLLNucAnzuVF4FCXYxLJGvXqwU03wYIF8PHH0KULvPee11FJrnK7yqilc1kMNAfm\nAV2BrWHb9AaWAVuAC4DBwKiI/ajKSASYNs0W+jnmGDjxRDj5ZI12ltgyrcpoA5YMADZhJYUeEdvM\nwZIBQAkwwOWYRLLWsGHWLfXgg+Haa+3+pk32nBb7kZpKZxtCe6AzVkqI5VJgWnrCEclO9etbD6UP\nP7RBbB07wuWXw9Ch0KMHLF0KK1faOId4SkosiYQLBOxxyU/p6mVUiLUh3A68EWObwcA/gGOBiK+p\nqoxEoikvh2eesXELF1wAP/1kK8GtX2+X+vVtTqUDDrBL+O2GDeHFF23cQ6tWmk8pFyVbZVTHvVB+\nUxeYCkwidjLoAjwGDKFyMgCguLj4t9s+nw+fz5fKGEWy0pYt1uC8erXNqTRhQuhkXl5uCwCFJ4hv\nvrFZWktL7f5//mOT7e27LzRtCn/+s7evR2rG7/fj9/ur/fdulxAKgOew9oPrYmzTBngfOA+YG2Mb\nlRBEIqRqTqXVq61NYtw4m1uptBS6d7cqqGHDbFpvyU6ZNrldX6AUWAIEz+hjsCQA8DjwFDAcWOs8\nthPoFbEfJQSRCKlYUyHarK316sEHH1iPpn/9y6bPGDrULv36Qd267rweSb1MSwipooQgkmKJlDDK\ny2HxYksM06bBF1/A8cdbcjjxRJg7Vwv9ZDIlBBFJSHVKGBs22JrS06ZZKeKww6yn0/jx0Lu3tWmo\nYTpzKCGISFrs2AEzZthyopMnW6P0fvvBE09At25eRyeghCAiHgg2TF94oZU8DjkEzj8fzjrLejCJ\nNzJtpLKI5LhAwJb/XL3axj2UlcHNN8P770NREZxxBrzxhq0QJ5lNJQQRqbaqGqYDAXjlFZg0CZYv\nhxEjrOTQs6eWCk0HVRmJSNok0zC9ejU8/zxMnAi1asGoUbaGdFmZeiq5RQlBRDJaebl1V500CaZM\ngQ4dYK+9bAqOtm01hUYqKSGISNb49VfrxvrUU/DOO3DssfbY7bfDgAEaBFdTSggikpUWL7buqhdc\nAAsXwldf2diGAQPA57OZXJUgkqNeRiKSdQIBePJJa2do0MDmU1q1yqb1/vZbW1u6WTM47jirSpo1\nq+JyoprKOzVUQhARTyU6Sd/mzTBzpg2GmzEDPvvM1poeMMAm45s2De6+u3oT/aViXqhMpCojEckq\n1T0Zb9liJYVggli6FBo3tuSwapVVM7VoAY0aQWFh7EujRjbq+tZbaz5zbKZRQhCRvLR1qw2AGzXK\npvLeay/48Ud7PNYl+PyuXVZVtWcPtGljYySuuQaGDIHWrb1+ZdWXiQvkiIi4bvduW88huFhQMr/u\nd+60xLBsmU3xfeut1vtpzBhbWa5fv9ClQ4fcHVSnRmURyXrhVTxFRXZ9yy2VG5pjqVvXBstNnmwJ\n5YcfbFzEd99ZYujb1xq6hwyB/feH00+31ekWLLDSBeRGw3a25DlVGYlITDVtFE5m9bm1a61xO3hZ\ntw6OOca6xS5bBo8+Ci1bZkY7hNoQRESSVJOEsmmTbTdzJkyfDkuWQKdO1i327LPhqKNs3YiDDoI6\nVVTSp7q3kxKCiIiHysrg8MPhr3+FjRttUr/ly21xofbtLTmEXzp0gL33tr9N1TrZQWpUFhHxSCAA\njzwSvWF7+3YbOxFMEK++alVMq1bBgQeGEkSnTnDxxTZ9xyOPpLfKye0SQmtgIrAfsBF4AngxYpuO\nwDNAN+AWYHyU/aiEICIZrbq/7nfuhJUrQ4li+XKbxmPpUkssRUXVjynTpq7YCYwGOgNnAOOAwoht\nvgeuAu5zORZx+P1+r0PIGXovUyub38/Zsyue/Js0sfuzZ8f/u7p1oWNHGD7curk++CD07x8qZSTa\nUyoV3E4IG4DFzu1NQBnQI2KbjcDHWPKQNMjmf7pMo/cytbL5/TzppMolgSZNkmsMrmn32ZpK5ziE\n9lhJYV4ajykikjWqW8pIlXQ1KhcCU7Dqo21pOqaISFaJVppItpRRE+nodloXKAHeAibE2W4s8BPR\nG5W/BNqlPjQRkZy2EqudSYjbJYQC4GlgKfGTQXDbWBJ+QSIiUj1ulxD6AqXAEiDYb3QM0Ma5/TjQ\nEpgPNAL2AFuBTlhpQUREREREJKQ/sBz4AhurIDWzBiutLUK9varjn8C3wKdhjxUCbwBrgdeBhh7E\nla2ivZ/FwDrsO7oIGJL+sLJSa2A61rXfD4x0Hs+p7+ciLCm0BVYAzb0NJ+utBpp6HUQW64eNqA8/\ngd0IPAjsBTwEXO9BXNkq2vs5FrjOm3CyWkvgSOd2c2AVlgyS+n5m8noIjZ3rUuAr4B3gaO/CyRnZ\nMqFhJpoJbI54rBfWceIX7BevvqOJi/Z+gr6j1RFtEHBPkvx+ZnJC6ImVCoKWAcd4FEuuKAc+wIqO\nJ3scS64I/56uwP4BpWauAj4C/kzlqW6kauGDgJP6fmZyQpDU6wN0BW4G7seKmVIz+jWbWo8CBwEn\nYGOPLvM2nKwTPgj4J5L8fmZyQpiPzYQa1Bn71SDV941zvRx4ExjmYSy5Yj5wmHP7MOe+VN93WEl2\nC/AwMNzbcLJKXWAqMAlrSIYkv5+ZnBC2ONf9gSLgOGCuZ9Fkv/qEit8tsF9g//YunJwxF7gI2Me5\n1o+WmmnlXNfBesq85WEs2STWIOCc+n4OwH7Nfglc7XEs2e4grNFpMfA+9uWQ5EwG1mMNdF8DfyDH\nuvWlWfD9/BV7Py/C1k9Zgs2AfD/qFZeovtjA3sVU7LKr76eIiIiIiIiIiIiIiIiIiIiIiIiIiIhI\nZiii4iydIlkvk0cqi4hIGikhiNTcwcBCoLvXgYiISPoVYVVGHbBkcISn0YiIiGeKsOUfl1NxVl6R\nrKUqI5HqC2Cr+fXzOhAREfFOEVZlVB9bCvIcT6MRERHPFGHTNIOt/z0PGOpZNCIiIiIiIiIiIiIi\nIiIiIiIiIiIiIiIiIiIiIiLp9v8BgVF1xZM+hDoAAAAASUVORK5CYII=\n",
       "text": [
        "<matplotlib.figure.Figure at 0x110f69850>"
       ]
      }
     ],
     "prompt_number": 155
>>>>>>> origin/master
    },
    {
     "cell_type": "code",
     "collapsed": false,
     "input": [
<<<<<<< HEAD
      "from sklearn import cross_validation\n",
      "\n",
      "#let's call our sample array data. It can be N-dimensional.\n",
      "\n",
      "#len(data) -- total number of data points in my dataset, \n",
      "#nBoot -- number of bootstrap samples, \n",
      "#train_size = bootstrap sample size (proportion of the whole sample, or just number)\n",
      "#Here we create an empty array we will store the means of bootstrapped \n",
      "\n",
      "\n",
      "nBoot=10000\n",
      "means = np.empty((nBoot, ))\n",
      "\n",
      "#then we get the class instance, drawing half of the sample with replacement every time\n",
      "#[data['Graduated']==0]\n",
      "gradClustersDF\n",
      "bs = cross_validation.Bootstrap(len(data[gradClustersDF['ClusterLbl']==1]['MATH262']), nBoot, train_size=0.90, random_state=0)\n",
      "\n",
      "#Filling the means array while iterating over the bootstrap samples (indexed by train_index):\n",
      "\n",
      "i = 0\n",
      "for train_index, test_index in bs:\n",
      "    means[i] = np.mean(data[gradClustersDF['ClusterLbl']==1]['MATH262'][train_index])\n",
      "    i+=1\n",
      "    \n",
      "plt.hist(means, bins=50)"
=======
      "from sklearn.cluster import KMeans\n",
      "from sklearn import metrics\n",
      "\n",
      "tests = np.arange(2,10)\n",
      "\n",
      "\n",
      "for t in tests:\n",
      "   kmeans_model = KMeans(n_clusters=t).fit(X)\n",
      "   print \"K=\",t,\" silhouette score\", metrics.silhouette_score(X, kmeans_model.labels_,metric='euclidean')\n"
>>>>>>> origin/master
     ],
     "language": "python",
     "metadata": {},
     "outputs": [
      {
       "output_type": "stream",
<<<<<<< HEAD
       "stream": "stderr",
       "text": [
        "/Users/lagoda/Library/Enthought/Canopy_64bit/User/lib/python2.7/site-packages/sklearn/cross_validation.py:684: DeprecationWarning: Bootstrap will no longer be supported as a cross-validation method as of version 0.15 and will be removed in 0.17\n",
        "  \"will be removed in 0.17\", DeprecationWarning)\n"
       ]
      },
      {
       "metadata": {},
       "output_type": "pyout",
       "prompt_number": 44,
       "text": [
        "(array([  3.00000000e+00,   3.00000000e+00,   2.00000000e+00,\n",
        "          6.00000000e+00,   1.00000000e+00,   4.00000000e+00,\n",
        "          7.00000000e+00,   1.00000000e+00,   8.00000000e+00,\n",
        "          4.00000000e+00,   9.00000000e+00,   7.00000000e+00,\n",
        "          1.70000000e+01,   1.40000000e+01,   1.90000000e+01,\n",
        "          1.80000000e+01,   2.40000000e+01,   1.70000000e+01,\n",
        "          1.00000000e+01,   3.30000000e+01,   5.60000000e+01,\n",
        "          7.30000000e+01,   1.01000000e+02,   1.24000000e+02,\n",
        "          8.40000000e+01,   5.30000000e+01,   1.80000000e+01,\n",
        "          8.00000000e+00,   2.40000000e+01,   8.30000000e+01,\n",
        "          2.71000000e+02,   4.37000000e+02,   5.21000000e+02,\n",
        "          2.63000000e+02,   6.70000000e+01,   3.00000000e+00,\n",
        "          0.00000000e+00,   0.00000000e+00,   2.40000000e+01,\n",
        "          2.70000000e+02,   1.45400000e+03,   1.52400000e+03,\n",
        "          1.13000000e+02,   0.00000000e+00,   0.00000000e+00,\n",
        "          0.00000000e+00,   0.00000000e+00,   0.00000000e+00,\n",
        "          0.00000000e+00,   4.22200000e+03]),\n",
        " array([ 0.90551181,  0.90740157,  0.90929134,  0.9111811 ,  0.91307087,\n",
        "         0.91496063,  0.91685039,  0.91874016,  0.92062992,  0.92251969,\n",
        "         0.92440945,  0.92629921,  0.92818898,  0.93007874,  0.9319685 ,\n",
        "         0.93385827,  0.93574803,  0.9376378 ,  0.93952756,  0.94141732,\n",
        "         0.94330709,  0.94519685,  0.94708661,  0.94897638,  0.95086614,\n",
        "         0.95275591,  0.95464567,  0.95653543,  0.9584252 ,  0.96031496,\n",
        "         0.96220472,  0.96409449,  0.96598425,  0.96787402,  0.96976378,\n",
        "         0.97165354,  0.97354331,  0.97543307,  0.97732283,  0.9792126 ,\n",
        "         0.98110236,  0.98299213,  0.98488189,  0.98677165,  0.98866142,\n",
        "         0.99055118,  0.99244094,  0.99433071,  0.99622047,  0.99811024,  1.        ]),\n",
        " <a list of 50 Patch objects>)"
       ]
      },
      {
       "metadata": {},
       "output_type": "display_data",
       "png": "iVBORw0KGgoAAAANSUhEUgAAAYMAAAEACAYAAABRQBpkAAAABHNCSVQICAgIfAhkiAAAAAlwSFlz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\nm5IkSZIkSZIkSZIkSZIkSZIkSZKkevl/CC8IOHK/tNgAAAAASUVORK5CYII=\n",
       "text": [
        "<matplotlib.figure.Figure at 0x116839590>"
       ]
      }
     ],
     "prompt_number": 44
=======
       "stream": "stdout",
       "text": [
        "K= 2  silhouette score "
       ]
      },
      {
       "output_type": "stream",
       "stream": "stdout",
       "text": [
        "0.212972363181\n",
        "K="
       ]
      },
      {
       "output_type": "stream",
       "stream": "stdout",
       "text": [
        " 3  silhouette score "
       ]
      },
      {
       "output_type": "stream",
       "stream": "stdout",
       "text": [
        "0.124523386927\n",
        "K="
       ]
      },
      {
       "output_type": "stream",
       "stream": "stdout",
       "text": [
        " 4  silhouette score "
       ]
      },
      {
       "output_type": "stream",
       "stream": "stdout",
       "text": [
        "0.12763865662\n",
        "K="
       ]
      },
      {
       "output_type": "stream",
       "stream": "stdout",
       "text": [
        " 5  silhouette score "
       ]
      },
      {
       "output_type": "stream",
       "stream": "stdout",
       "text": [
        "0.0715240003001\n",
        "K="
       ]
      },
      {
       "output_type": "stream",
       "stream": "stdout",
       "text": [
        " 6  silhouette score "
       ]
      },
      {
       "output_type": "stream",
       "stream": "stdout",
       "text": [
        "0.0758637923269\n",
        "K="
       ]
      },
      {
       "output_type": "stream",
       "stream": "stdout",
       "text": [
        " 7  silhouette score "
       ]
      },
      {
       "output_type": "stream",
       "stream": "stdout",
       "text": [
        "0.0797027392662\n",
        "K="
       ]
      },
      {
       "output_type": "stream",
       "stream": "stdout",
       "text": [
        " 8  silhouette score "
       ]
      },
      {
       "output_type": "stream",
       "stream": "stdout",
       "text": [
        "0.0810600760885\n",
        "K="
       ]
      },
      {
       "output_type": "stream",
       "stream": "stdout",
       "text": [
        " 9  silhouette score "
       ]
      },
      {
       "output_type": "stream",
       "stream": "stdout",
       "text": [
        "0.0870115558709\n"
       ]
      }
     ],
     "prompt_number": 156
>>>>>>> origin/master
    },
    {
     "cell_type": "code",
     "collapsed": false,
     "input": [
      "k=2\n",
      "#center=clusterCenters(data[data.columns[6:]], k=k,n_tests=10,init='random')\n",
      "kmeans_model = KMeans(n_clusters=k, n_init=20, init='random').fit(data[data.columns[6:]])\n",
      "gradClustersDF=printClusters( data, kmeans_model.labels_,k=kmeans_model.n_clusters)\n",
      "plotPCA(data[data.columns[6:]],kmeans_model.labels_,k=kmeans_model.n_clusters,norm=False)"
     ],
     "language": "python",
     "metadata": {},
     "outputs": [
      {
       "output_type": "stream",
       "stream": "stdout",
       "text": [
        "total non-graduates 767\n",
        "0 cluster 519\n",
        "1 cluster 248\n",
        "total graduates 33\n",
        "0 cluster 1\n",
        "1 cluster 32\n"
       ]
      },
      {
       "metadata": {},
       "output_type": "display_data",
       "png": "iVBORw0KGgoAAAANSUhEUgAAAXAAAAEACAYAAACqOy3+AAAABHNCSVQICAgIfAhkiAAAAAlwSFlz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\n",
       "text": [
<<<<<<< HEAD
        "<matplotlib.figure.Figure at 0x114921a90>"
       ]
      }
     ],
     "prompt_number": 40
=======
        "<matplotlib.figure.Figure at 0x1116a7c90>"
       ]
      }
     ],
     "prompt_number": 175
>>>>>>> origin/master
    },
    {
     "cell_type": "code",
     "collapsed": false,
     "input": [
      "#distancesDF=pd.DataFrame({'class':data.columns[6:],'Cluster0':kmeans_model.cluster_centers_[0],'Cluster1':kmeans_model.cluster_centers_[1]})\n",
      "\n",
      "distancesDF=getDistancesDF(data.columns[6:], kmeans_model,k=kmeans_model.n_clusters)\n",
      "distancesDF['Distance']=distancesDF['Cluster0']-distancesDF['Cluster1']\n",
      "distancesDF.head()"
     ],
     "language": "python",
     "metadata": {},
     "outputs": [
      {
       "html": [
        "<div style=\"max-height:1000px;max-width:1500px;overflow:auto;\">\n",
        "<table border=\"1\" class=\"dataframe\">\n",
        "  <thead>\n",
        "    <tr style=\"text-align: right;\">\n",
        "      <th></th>\n",
        "      <th>class</th>\n",
        "      <th>Cluster0</th>\n",
        "      <th>Cluster1</th>\n",
        "      <th>Distance</th>\n",
        "    </tr>\n",
        "  </thead>\n",
        "  <tbody>\n",
        "    <tr>\n",
        "      <th>0</th>\n",
        "      <td>   MATH102</td>\n",
        "      <td> 0.278846</td>\n",
        "      <td> 0.221429</td>\n",
        "      <td> 5.741758e-02</td>\n",
        "    </tr>\n",
        "    <tr>\n",
        "      <th>1</th>\n",
        "      <td>  MATH102L</td>\n",
        "      <td> 0.065385</td>\n",
        "      <td> 0.003571</td>\n",
        "      <td> 6.181319e-02</td>\n",
        "    </tr>\n",
        "    <tr>\n",
        "      <th>2</th>\n",
        "      <td>   MATH103</td>\n",
        "      <td> 0.050000</td>\n",
        "      <td> 0.050000</td>\n",
        "      <td>-8.326673e-17</td>\n",
        "    </tr>\n",
        "    <tr>\n",
        "      <th>3</th>\n",
        "      <td> MATH103A1</td>\n",
        "      <td> 0.013462</td>\n",
        "      <td> 0.010714</td>\n",
        "      <td> 2.747253e-03</td>\n",
        "    </tr>\n",
        "    <tr>\n",
        "      <th>4</th>\n",
        "      <td>  MATH103L</td>\n",
        "      <td> 0.021154</td>\n",
        "      <td> 0.003571</td>\n",
        "      <td> 1.758242e-02</td>\n",
        "    </tr>\n",
        "  </tbody>\n",
        "</table>\n",
        "</div>"
       ],
       "metadata": {},
       "output_type": "pyout",
<<<<<<< HEAD
       "prompt_number": 41,
=======
       "prompt_number": 158,
>>>>>>> origin/master
       "text": [
        "       class  Cluster0  Cluster1      Distance\n",
        "0    MATH102  0.278846  0.221429  5.741758e-02\n",
        "1   MATH102L  0.065385  0.003571  6.181319e-02\n",
        "2    MATH103  0.050000  0.050000 -8.326673e-17\n",
        "3  MATH103A1  0.013462  0.010714  2.747253e-03\n",
        "4   MATH103L  0.021154  0.003571  1.758242e-02"
       ]
      }
     ],
<<<<<<< HEAD
     "prompt_number": 41
=======
     "prompt_number": 158
>>>>>>> origin/master
    },
    {
     "cell_type": "code",
     "collapsed": false,
     "input": [
      "distancesDF.sort('Distance', ascending=False)[(distancesDF.sort('Distance', ascending=False)['Distance']>0.3)|(distancesDF.sort('Distance', ascending=False)['Distance']<-0.2)]"
     ],
     "language": "python",
     "metadata": {},
     "outputs": [
      {
       "html": [
        "<div style=\"max-height:1000px;max-width:1500px;overflow:auto;\">\n",
        "<table border=\"1\" class=\"dataframe\">\n",
        "  <thead>\n",
        "    <tr style=\"text-align: right;\">\n",
        "      <th></th>\n",
        "      <th>class</th>\n",
        "      <th>Cluster0</th>\n",
        "      <th>Cluster1</th>\n",
        "      <th>Distance</th>\n",
        "    </tr>\n",
        "  </thead>\n",
        "  <tbody>\n",
        "    <tr>\n",
        "      <th>25</th>\n",
        "      <td>  MATH255A</td>\n",
        "      <td>-0.140385</td>\n",
        "      <td>-0.471429</td>\n",
        "      <td> 0.331044</td>\n",
        "    </tr>\n",
        "    <tr>\n",
        "      <th>26</th>\n",
        "      <td>  MATH255B</td>\n",
        "      <td>-0.101923</td>\n",
        "      <td>-0.425000</td>\n",
        "      <td> 0.323077</td>\n",
        "    </tr>\n",
        "    <tr>\n",
        "      <th>68</th>\n",
        "      <td>  MATH481A</td>\n",
        "      <td>-0.007692</td>\n",
        "      <td> 0.192857</td>\n",
        "      <td>-0.200549</td>\n",
        "    </tr>\n",
        "    <tr>\n",
        "      <th>19</th>\n",
        "      <td> MATH150BL</td>\n",
        "      <td>-0.001923</td>\n",
        "      <td> 0.200000</td>\n",
        "      <td>-0.201923</td>\n",
        "    </tr>\n",
        "    <tr>\n",
        "      <th>57</th>\n",
        "      <td>  MATH440A</td>\n",
        "      <td>-0.003846</td>\n",
        "      <td> 0.210714</td>\n",
        "      <td>-0.214560</td>\n",
        "    </tr>\n",
        "    <tr>\n",
        "      <th>49</th>\n",
        "      <td>   MATH391</td>\n",
        "      <td> 0.019231</td>\n",
        "      <td> 0.250000</td>\n",
        "      <td>-0.230769</td>\n",
        "    </tr>\n",
        "    <tr>\n",
        "      <th>28</th>\n",
        "      <td>   MATH280</td>\n",
        "      <td> 0.042308</td>\n",
        "      <td> 0.275000</td>\n",
        "      <td>-0.232692</td>\n",
        "    </tr>\n",
        "    <tr>\n",
        "      <th>44</th>\n",
        "      <td>   MATH370</td>\n",
        "      <td>-0.007692</td>\n",
        "      <td> 0.225000</td>\n",
        "      <td>-0.232692</td>\n",
        "    </tr>\n",
        "    <tr>\n",
        "      <th>71</th>\n",
        "      <td>   MATH490</td>\n",
        "      <td> 0.001923</td>\n",
        "      <td> 0.235714</td>\n",
        "      <td>-0.233791</td>\n",
        "    </tr>\n",
        "    <tr>\n",
        "      <th>16</th>\n",
        "      <td> MATH150AL</td>\n",
        "      <td> 0.028846</td>\n",
        "      <td> 0.342857</td>\n",
        "      <td>-0.314011</td>\n",
        "    </tr>\n",
        "    <tr>\n",
        "      <th>63</th>\n",
        "      <td>   MATH462</td>\n",
        "      <td>-0.021154</td>\n",
        "      <td> 0.346429</td>\n",
        "      <td>-0.367582</td>\n",
        "    </tr>\n",
        "    <tr>\n",
        "      <th>47</th>\n",
        "      <td>   MATH382</td>\n",
        "      <td>-0.048077</td>\n",
        "      <td> 0.353571</td>\n",
        "      <td>-0.401648</td>\n",
        "    </tr>\n",
        "    <tr>\n",
        "      <th>48</th>\n",
        "      <td>  MATH382L</td>\n",
        "      <td>-0.048077</td>\n",
        "      <td> 0.353571</td>\n",
        "      <td>-0.401648</td>\n",
        "    </tr>\n",
        "    <tr>\n",
        "      <th>14</th>\n",
        "      <td>  MATH150A</td>\n",
        "      <td> 0.336538</td>\n",
        "      <td> 0.814286</td>\n",
        "      <td>-0.477747</td>\n",
        "    </tr>\n",
        "    <tr>\n",
        "      <th>39</th>\n",
        "      <td>   MATH350</td>\n",
        "      <td>-0.040385</td>\n",
        "      <td> 0.442857</td>\n",
        "      <td>-0.483242</td>\n",
        "    </tr>\n",
        "    <tr>\n",
        "      <th>41</th>\n",
        "      <td>   MATH360</td>\n",
        "      <td>-0.030769</td>\n",
        "      <td> 0.492857</td>\n",
        "      <td>-0.523626</td>\n",
        "    </tr>\n",
        "    <tr>\n",
        "      <th>40</th>\n",
        "      <td>   MATH351</td>\n",
        "      <td>-0.017308</td>\n",
        "      <td> 0.507143</td>\n",
        "      <td>-0.524451</td>\n",
        "    </tr>\n",
        "    <tr>\n",
        "      <th>17</th>\n",
        "      <td>  MATH150B</td>\n",
        "      <td> 0.225000</td>\n",
        "      <td> 0.946429</td>\n",
        "      <td>-0.721429</td>\n",
        "    </tr>\n",
        "    <tr>\n",
        "      <th>37</th>\n",
        "      <td>   MATH340</td>\n",
        "      <td>-0.030769</td>\n",
        "      <td> 0.728571</td>\n",
        "      <td>-0.759341</td>\n",
        "    </tr>\n",
        "    <tr>\n",
        "      <th>24</th>\n",
        "      <td>   MATH250</td>\n",
        "      <td> 0.148077</td>\n",
        "      <td> 0.975000</td>\n",
        "      <td>-0.826923</td>\n",
        "    </tr>\n",
        "    <tr>\n",
        "      <th>33</th>\n",
        "      <td>   MATH320</td>\n",
        "      <td>-0.075000</td>\n",
        "      <td> 0.814286</td>\n",
        "      <td>-0.889286</td>\n",
        "    </tr>\n",
        "    <tr>\n",
        "      <th>27</th>\n",
        "      <td>   MATH262</td>\n",
        "      <td> 0.017308</td>\n",
        "      <td> 0.960714</td>\n",
        "      <td>-0.943407</td>\n",
        "    </tr>\n",
        "  </tbody>\n",
        "</table>\n",
        "</div>"
       ],
       "metadata": {},
       "output_type": "pyout",
       "prompt_number": 159,
       "text": [
        "        class  Cluster0  Cluster1  Distance\n",
        "25   MATH255A -0.140385 -0.471429  0.331044\n",
        "26   MATH255B -0.101923 -0.425000  0.323077\n",
        "68   MATH481A -0.007692  0.192857 -0.200549\n",
        "19  MATH150BL -0.001923  0.200000 -0.201923\n",
        "57   MATH440A -0.003846  0.210714 -0.214560\n",
        "49    MATH391  0.019231  0.250000 -0.230769\n",
        "28    MATH280  0.042308  0.275000 -0.232692\n",
        "44    MATH370 -0.007692  0.225000 -0.232692\n",
        "71    MATH490  0.001923  0.235714 -0.233791\n",
        "16  MATH150AL  0.028846  0.342857 -0.314011\n",
        "63    MATH462 -0.021154  0.346429 -0.367582\n",
        "47    MATH382 -0.048077  0.353571 -0.401648\n",
        "48   MATH382L -0.048077  0.353571 -0.401648\n",
        "14   MATH150A  0.336538  0.814286 -0.477747\n",
        "39    MATH350 -0.040385  0.442857 -0.483242\n",
        "41    MATH360 -0.030769  0.492857 -0.523626\n",
        "40    MATH351 -0.017308  0.507143 -0.524451\n",
        "17   MATH150B  0.225000  0.946429 -0.721429\n",
        "37    MATH340 -0.030769  0.728571 -0.759341\n",
        "24    MATH250  0.148077  0.975000 -0.826923\n",
        "33    MATH320 -0.075000  0.814286 -0.889286\n",
        "27    MATH262  0.017308  0.960714 -0.943407"
       ]
      }
     ],
     "prompt_number": 159
    },
    {
<<<<<<< HEAD
=======
     "cell_type": "code",
     "collapsed": false,
     "input": [
      "kmeans_model = KMeans(n_clusters=3,init='random',n_init=20).fit(X)\n",
      "distancesDF=getDistancesDF(data.columns[6:], kmeans_model,k=kmeans_model.n_clusters)\n",
      "\n",
      "gradClustersDF=printClusters( data, kmeans_model.labels_,k=kmeans_model.n_clusters)\n",
      "plotPCA(data[data.columns[6:]],kmeans_model.labels_,k=kmeans_model.n_clusters,norm=False)"
     ],
     "language": "python",
     "metadata": {},
     "outputs": [
      {
       "output_type": "stream",
       "stream": "stdout",
       "text": [
        "total non-graduates 767\n",
        "0 cluster 188\n",
        "1 cluster 377\n",
        "2 cluster 202\n",
        "total graduates 33\n",
        "0 cluster 32\n",
        "1 cluster 1\n",
        "2 cluster 0\n"
       ]
      },
      {
       "metadata": {},
       "output_type": "display_data",
       "png": "iVBORw0KGgoAAAANSUhEUgAAAXAAAAEACAYAAACqOy3+AAAABHNCSVQICAgIfAhkiAAAAAlwSFlz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\nRK5CYII=\n",
       "text": [
        "<matplotlib.figure.Figure at 0x11167df90>"
       ]
      }
     ],
     "prompt_number": 176
    },
    {
     "cell_type": "code",
     "collapsed": false,
     "input": [
      "kmeans_model = KMeans(n_clusters=4).fit(X)\n",
      "distancesDF=getDistancesDF(data.columns[6:], kmeans_model,k=kmeans_model.n_clusters)\n",
      "gradClustersDF=printClusters( data, kmeans_model.labels_,k=kmeans_model.n_clusters)\n",
      "plotPCA(data[data.columns[6:]],kmeans_model.labels_,k=kmeans_model.n_clusters,norm=False)"
     ],
     "language": "python",
     "metadata": {},
     "outputs": [
      {
       "output_type": "stream",
       "stream": "stdout",
       "text": [
        "total non-graduates 767\n",
        "0 cluster 406\n",
        "1 cluster 70\n",
        "2 cluster 180\n",
        "3 cluster 111\n",
        "total graduates 33\n",
        "0 cluster 1\n",
        "1 cluster 0\n",
        "2 cluster 0\n",
        "3 cluster 32\n"
       ]
      },
      {
       "metadata": {},
       "output_type": "display_data",
       "png": "iVBORw0KGgoAAAANSUhEUgAAAXAAAAEACAYAAACqOy3+AAAABHNCSVQICAgIfAhkiAAAAAlwSFlz\nAAALEgAACxIB0t1+/AAAIABJREFUeJzsnXd4U2X7x79p0mZ00xZK2Uv2EhBlliEgylL2kI0gCi8K\ngsgovvK6B+OHoiwFRQQVHGxoWQKyh4gUCkXQFlrKKt35/v54cprRpE3adADP57pyNTl5zjlPkuZ7\n7tzPPQCJRCKRSCQSiUQikUgkEolEIpFIJBKJRCKRSCQSiUQikUgkknyhA3AQwHEABwBMKt7pSCQS\nicQVDKa/WgCnAVQvxrlIJBLJQ4OHG45xz/TXB4AGQJobjimRSCSSIsADwAkAmQBeKua5SCQSiSQf\nVAZwBkDjYp6HRCKRPBRo3HisSwA2AmgO4JiysVq1arxw4YIbTyORSCQPBReQx5piQX3gwQACTPeD\nAHQCsMFqBhcugGSJv82ePbvY5yDnKeco5ynnqdwAVMtLgAtqgZcF8CUANYA4AB8A+LeAx5RIJBKJ\nExRUwE8BeNQdE5FIJBKJa7gjjPCBIDw8vLin4BRynu7jfpgjIOfpbu6XeTqDqgjOQZM/RyKRSCRO\nolKpgDw02p1RKBKJ5D6iVKlSSEpKKu5pPPQEBgbixo0b+dpXWuASyUOKSqWC/G4WP44+B2cscOkD\nl0gkkvsUKeASiURynyIFXCKRSO5TpIBLJJKHAg8PD8TExBT3NNyKFHCJRFIiSU5OxuDBgxESEoL6\n9evjl19+yXX8rVu3MH78eNSuXRt+fn6oXbs2IiIicO/evVz3c4Vhw4Zh5syZbjteQZECLpFIXOPu\nXeDKFfPjS5eA1FS3n2bChAm4fPky9u3bhzFjxmDgwIG4ePGi3bEpKSlo2rQpzpw5gzlz5iAhIQHr\n16/H5cuXUZKK6WVlZRX3FFyGksIlZnZMcU9Bch/i8LsZG0sajdaPLVmzhqxShbx0iTx3jixfnvzl\nF7fO7d69ezQYDNy7d2/2tk6dOnHWrFl2x7/11lv08/Njenq6w2OqVCpeuHCBJNm2bVsuWbIk+7nl\ny5ezVatW2Y/ffvttNmzYkH5+fqxfvz5Pnz7NxYsX09PTk15eXvTx8WH37t1Jkjdu3ODHH3/MOnXq\nsEuXLtyyZUv2cWbPns3+/ftz7NixDA0N5dKlS3PMy9HnACDPGE9pgT8AxM6JxbHwY3kPlEjyggSe\nfx54/XVxf8kSoF07IM2i0VbfvsDEiUDlysAjjwCzZwNPP21+PjlZPH/njnh89iwQEeHSNC5fvoyU\nlBTUr18/e1v9+vVx9uxZu+N3796NTp06wdPT06njq1QqJc46B3/88QdWrFiBjRs34tatW1i7di2C\ngoIwZswYDBo0CFOnTsWdO3ewYYMovDpy5EhcvHgRO3fuxPTp0zF8+HCcP38++3jff/896tSpg4sX\nL2LgwIHOvgVOIQX8AeHWrlvFPQXJg4BKBXz/PbB5MxASAsyZI+5rtdbjunY133/ySevn9HogJUWM\nOXQI6NABqFrVpWkkJiYiICAAfn5+2duqVKmCxMREu+OvXLmCFi1auHQOR2RlZSE1NRXR0dEwGo2o\nWbMmQkNDs5+nRdLNnTt3cODAAbzzzjsoU6YMWrdujT59+uDHH3/MHlOhQgW8/PLL0Ol00Ol0bpmj\nghTw+5iLERcRpYqyeiyRFJigIGDAACAxEWjeHKhu01MgOhpo3x744gvgk0+EhR4ba37ewwP47DNx\nMXjsMeCNN4RV79IUgnDz5k3cvn07e1tMTAyCg4Ptjq9QoQJ+++03l87hiAYNGmDu3LmYNm0aypUr\nh1mzZjlcCN27dy+uX7+OsLAwBAYGIjAwEMuWLcPevXuzxzRv3twt87KHFPD7mCoRVeDf1j/7sXSl\nSNzCkiXAwoXAgQPA+fNmd4pCXJywzEeNEq6SyZOBa9esj3HunNhXqwVWrza7U5ykYsWK0Ov1OHny\nZPa2U6dOoVatWnbHt2nTBlu3bkVGRoZTxy9Xrhzi4uKyHx87Zv29GTRoEPbv348DBw5g69atWL58\nOQBArVZbWeBPPPEEQkJCEB8fj6SkJCQlJeH27dvZ7hWVSgW1Wu3ci84HUsDvcxpHNUal2ZUAAOEM\nR+Mo2ZJUUgBI4bPeuVNY3zt2ALduAenp5jGtWwMjRpgfv/gi0KyZ+fHdu8Kt8s47wL17QO3awODB\nLk1Dr9djwIABmDFjBqKjo7FgwQIcOHAAw4YNszv+lVdeQZkyZdClSxesW7cOaWlpiI6OxpgxY3Dq\n1Kkc4zt06ID169fj6tWr2LlzJzZs2JDtEz98+DAOHjyIjIwM6PV6aDQa+Pr6AgCaNGmCkydPIjMz\nEwAQEBCAVq1aYfr06YiNjUVWVhZOnz6Nw4cPm97O+7/WjMNVYYn7ONr2aHFPQXKfUajfTVO0B0ky\nK4uMcT1SKjk5mYMGDWJQUBDr1avHX/KIdLl16xbHjx/PmjVr0sfHh7Vq1eKbb77JlJQUkqSHh0d2\nFMrNmzc5ceJEhoaGsnPnznzvvffYunVrkuSOHTvYoEED+vj4sE6dOpw0aRKzsrJIkleuXGGPHj1Y\nunRp9urViySZmJjI+fPns2nTpgwMDOQTTzzBHTt2kCQjIiI4ZMiQXOft6HOAE1EoshqhRPKQIqsR\nlgxkNUKJRCJ5CJEC/oAgI1AkkocPKeAlkPyIceyc2LwHSSSSBwop4CUQV8TYMhY8ShUlLXGJ5CFC\nLmKWEC5GXMwh3JVmV0KViCpO7R+likI4wwthZpIHFbmIWTIoyCKmFPASSH7E+GLERafFHgAyMjKw\nbds2PPXUUw5rQkgebKSAlwxkFMoDhpKY4wquinePHgPQvXtvTJz4mvwSSyT3KVLASyCuiLGrKOK9\na1cqsrIuYOnSHVLEJZL7FCngJZTCWIzMzMzMFu97974HUBb37m3PFvHCOq9EUhKQLdUkRUZhhAXG\nxcVhx47NuHdvPAClPGgppKQMw9dff4309HQZjihxmiNHjlgVm3I3CxcuRNOmTaHT6TB8+PA8x8uW\naq5TAUAkgD8ARAFwb7XyhwwlJLCwwgIzlmRg27aNGO35C4AdAACVagUCAt7DlgE/4Tftb9nnlSGJ\nDzck8euvvzqs7rd79260adMFLVt2xO+//14ocyhXrhxmzpyJEZaFsxwgW6rlj1AAjUz3gwHEAPC1\nGZNrIReJfSIRWWjHjEQkvb1DqFK9ysDAcjx79myhnldSMnH03TQajXzppVepVuvZuXOvHG3Kdu3a\nRW/vEALbCfxMH58QHjx4MMdxtm/fzqZNW/Py5csFmueMGTM4bNiwXMfIlmr5Iw7AcdP9BAhLvGkB\njymB40iU/FjFtsk+APBL8nd4NcgL+/fvQM2aNfM8r+ThgCQmTJiCZcsikZUVgz17MtGtW79sS3zv\n3r3o2rU3kpNXA+gA4BncvbsMHTo8k11CFQB27NiB7t0H4OjRemjevB3+/vvvAs0pL2RLtYJTHUBd\nAIXze+ohw1EkSn581FUiqmTHlVv+ff/6/6zEO7fzSh4OFPG+d28bgFDcu7fWSsS3bo1EVlYYAIv6\n32iBzMxSiIraA8As3vfurYPRuAjXro0rkIg7k6cgW6oVDF8AawBMApDspmNKLHBHyrxiXedlZRe1\n75sktmzZAqPRWKTnlViTkZGBb775BikpzwMoZdqqxb174xAZuRXx8fGIiHgD/fs/AW/vpwDcBnAD\nBkNHjB7dDa+++h+cP38eTz3VHffufQegDQAgK+tVXLs2BC1bdsxXuKoz+zysLdU0bjiGJ4DvAawE\nsMHegAiLjtTh4eEIDw93w2kfLqpEVEGViCoFSplXrOu8rOzYObFFZomTxMiR4/HVV8vRr99ArFz5\nBTw8ZHBUceDp6YnffovEE090wM2bfiCHA9gBb++h2LhxI8qXLw8AWLr0/wCMx3ffdQGQipEjO2De\nvPegUqlQrlw5NGnyBI4fX4rU1NYA1AASoNV+j/79++Qr69eZfdq0aYN3330XGRkZTrlRnGmpNmjQ\nIMTGxqJfv34oU6YMxo8f77Cl2qVLl+Dl5WV37s62VIuKikJUVJRTY92FCsBXAD7KZUyuiw8S14iZ\n7XpnE1cpqoVMo9HI4cPH0WB4nMBVGgxtOHDgiOzuJ5LCxdF38+zZswwMLEeV6hV6e4dw165dOcZk\nZWVx3LhJnDJlBo1Go9VzycnJfPzxDtTpBhOIo8FQn5MnT88xLi8yMzOZkpLCadOmcciQIUxNTWVm\nZqbdsSkpKaxRowbbt2/PtWvXMjU1lefOnePo0aN58uRJktaLmMuWLWOzZs145coV7tixg5UqVcru\nyHPo0CEeOHCA6enpjI+PZ8uWLfnll1+SJBctWsRu3boxIyMj+9x9+vThq6++ykuXLjEzM5OnTp3i\noUOHSIpFzMGDB+f6Oh19DnBiEbOgtAJghFjIPGa6dZECfv8RMzuGkYi0uhXmxcJavG9RNGO8I0W8\nCMntu3n27FnWrdvUrng7gyLiGo1PvsSbFOKnUqmsbnPmzHE4XrZUKxxMc5HcLxRFZcM7d+6gbNlK\nSE7+BMDzFs+shV4/Cn//HYOgoKBCncPDTmEXs7p37x62bduG7t27y4JpuSCLWUncSlGEEvr6+mL3\n7u3w9Z0CQFmx/xU+PuMRGblVivcDgMFgQI8ePaR4FyLSApcUK0ePHkV4+FO4c2c4fHyWYfv2nwt1\n1V5iRpaTLRlIC1xy3/Loo48iKmoTHnlkkxRvicRFpAUukTykSAu8ZCAt8AcEWTxKIpG4ghTwEoQs\n5SqRSFxBCngJwDZNPq9UeWmpSyQSQPrASxTOxl+7K07b1UbIkgcL6QMvGUgf+ANCbvHXhdHsQbps\nJA8TsqWapFDJzRpWSsJaloPNr/XsqstGIilq0tPTMXLkSFSuXBkhISEYMmQI9u3bl+s+sqWaxC0U\nthi6I1PS8kJQkIuBRFIYZGZmomLFiti9ezeuXr2K8PBw9O/fH5mZmXbHy5ZqhUeuhVweREp6WzJl\nfkfbHs3xXFFUO5SUDAry3czKyuL333/PDRs25KtQVX6oXr06N2/ebPc52VJNUmDc0XShMLGd361d\nt3KMkX5xCQDcuHEDa9asweXLl+0+//6H72PIhCEYMHYAFi9eXOjzuXr1Kq5evYqqVavafV62VJMU\nGNvWZSXNLWE5PwV3X2hK2kVL4jok0axFM4ycPRINmzTErVs5L/Rnz51FavlUpJVNw9lzZ+0e4+VJ\nL6Nq7apYtWpVgeaTnp6OQYMGYfTo0ahRo4bdMbKlmuSBxFJQlfuVZlfKcaEp6K8HZby04O9/MjMz\nEXshFsktkpGakYr4+PgcY+bMnIPHDY+jVVArTHttWo7njx07hmVfL8PFJhcxeuzofM/FaDRi8ODB\n8PX1xUcfOe4b87C2VJMCXgiUpM7uloKq3Fd+GVjOs6C/HmLnxJZo95HEeTw9PfHxJx+j3K5yGDt6\nrF2rt2LFiti3cx+itkZZWacKYWFh8MjwgOGIAdVqVMvXPEhi5MiRSEhIwLp163JtTdamTRts3boV\nGRkZTh3bmZZq+/fvx4EDB7B161YsX74cABy2VIuPj0dSUhKSkpJw+/btbPeKKy3V8oMU8EKgJLhO\n7IUKKvcVcbU3T1cvPpbnsTxGSXgPJPnn5fEv48qFK/j4/Y/zVc87NDQURw4eweI3FmPPzj35msOL\nL76Is2fP4ueff4ZWq8117CuvvIIyZcqgS5cuWLduHdLS0hAdHY0xY8bg1KlTOcZ36NAB69evx9Wr\nV7Fz505s2LAh+3UePnwYBw8eREZGBvR6PTQaDXx9fQEATZo0wcmTJ7OjYQICAtCqVStMnz4dsbGx\nyMrKwunTp3H48GEAzjVkLuk4XBWWFD6WETG20THujDhRjl3SI3AkZkryd/PSpUtUqVTU6/X08fHJ\nvn3zzTcO95Et1QoH01wkzuLOFHfLtHvb4zqbkp/XfCwtepmef/8gU+lLBjKV/gFD8VW7w49s6+dW\njutKJmZeC5Oxc2Kzjy3FWyIpOqSAl2DyG9FhKcb2BNV2wbIkhjw6i1wsdRLLDECjUdwk9z1SwEsQ\ntpax8tfVqA53hfLlFVqY1/MJCQkYPHg4Ll265Jb52EOGLTrBvn1A27bA7dtCuMeOBebPL+5ZSdyA\n9IGXMC5GXETsnFiEMzzfZWPd5dt29nj2nk9ISEDz5u1x+XJZlCp1DgcPRqJy5cp5nstV3FVa94HG\naAReegk4dgyoVAm4ehXYuBEqPz/pAy8BSB/4A0TsnNhsv3VBQvqcsdqVRce8UObhaKztPBXx/vvv\nbsjM3IyEhFfRvHk7t1risqKiC3h4AAsWAAcOAGvWiJspLE4iyQsngoYkCu4I9XMllM/dY9PS0li9\negN6ek4jYCRAAqSHx3yWLl2JiYmJTp/PmdcuwxZz4a+/yHXryKwscvRosk4d8umnySeeIG/dKtFh\nhA8Tjj4HyGJW9w+OrOf8+HidsdwLy4JVq9UICwuDRhMDQFk4IzSaaAQHl3apFoQzr71Ysl4zM4H1\n682Pr10Ddu8u+nnkRXq6cJ289Rbw229injNnAo0aAabMQsn9jfSBlzAUn67iC7fEv60/Gkc1LpTz\nOcLePPLKtExNTUXnzr1w6JAfUlJWwcvrVVSvfgD79m1FQEBArvPJz/mKnOvXgZYtgeHDgZEjgQ4d\ngD59gFmzXD/WBx8AFSoA/foBqanAmDFARATgoOqeUxiNwJQpwOTJQGIiUL++2L5/P/D44+J5lQoq\nDw/pAy8BFMQHXhQU4Y+R+x9bt0EkIpmRkcHMzMxCcRe44qJx5fwpKSls06YLvbyqsU6dZkxKSnJ5\nbiXaPXL1KhkQIPxDM2eS+a2JfeIEGRpKfvkl2bUr2acPmUtNa7ukp5NpaebHd++Sc+eSNWuSH3/M\nbD/W119b7fawfTct64GXJBx9DpAulPsPW0vTu6U39nruxR6NqCfh7sU6VyxbV9wVOp0OW7b8iIiI\nUU5Z3vcdGo1YHAQAvR7IR70QAECDBsBPPwFDhwIbNwJffw04WdM6mwULxC+A9HQgPh5o1gzw8xO/\nFCZNAp59FujZExg3Dvj55/zNsxgYPHgwypYti8DAQLRr1y7PuuMPY0s1d7AMQDyAnBVjBEV8PXtw\nuHXrFhs0eIJa7VjqdM8zEpFMTk4u7mkVGSW2O1BCAlmvnrC8r14la9Qg3303f8dKSRGWd61aZHAw\n+e23rh8jLY3s2ZNs3pysXp2MiCCvXCG9vUmVivT1JZs1I1esIOPjs3cr6d/N06dPMyUlhUajkQcO\nHKC/vz9Pnz5td+y9e/dYvXp1hoeHc82aNUxLS+PZs2c5fPhwnjx5kqR7LPChQ4dyxowZ+d4/MzMz\nxzZHnwOcsMDdQWsAjaWAuxezeI8jkEVAuFCaN2/Hv6b/VdzTK3RKrHiTQjC//trsNrl6lbRoo+US\nkyeb3SaKO+WvfHy+ly+bXSUpKWSDBmRgoHmbwUC+8ILVLu74bhbF55SZmcmDBw8yKCiI58+ftzvm\nYW2p5i4qSwF3Ly++OIGenk+YxFt8B4fiAr28GpRs37CbuK9f4/r1wkonRQjfihWkHcuLJHnzprXP\nW9nPFeLiyNq1yTfeEJZ49+7kmTPiwuDpKf55SpUibdYhnPlu5iXQhf05jRs3jjqdjp6enty6davD\ncZ06dWLv3r1zPZalgIeHh1uJqaWAnz59mjVr1uTVq1dJkmfPnuW///5Lkhw2bBhnzpxpddxevXpx\nwoQJjIuL4+7duxkWFsbo6GiSQsA9PT05f/58pqSkZFdGtKQgAi594CWU11+fgpCQ61CrP8ze5qHa\njS3p8wAUbdOEojyPo9rl9xUHD4rIlIQEEca3eDGQkmJ/rL8/kJEBmOpHIygIuHgRuHLF+fP99BPQ\nvz8wZw7Qty+g04mwxitXxPEA4JFHgJUrXX4pjkI5nU0aK+jnt2jRIty4cQNffvkl+vbtizNnztgd\n97C2VNO49WgOiIiIyL4fHh6O8PDwojhticTZ9PXy5cvj4MFING/eDvHxgEqVjMjya/HOwUicKXOm\nSNPHLasNFiZVIqpkn+e+TpGfO1cUjwoJEcJ56BDg4+N4/B9/AF27AmvXilT3du2AN98Enn/eufON\nNrUsu3kTeOcd4OmnxeLo0aNAzZoiA/OJJwAH4meLbShnlCoqRyin8lnl9Tm5439Hr9djwIABWLt2\nbXaDYFuUlmqTJk0q0LkA65Zqly5dwujRozFt2jQYDIYcYy1bqilkZWWhXbt2mDJlCgDnW6pFRUUh\nKirKpbkWuYA/7LjyD20p4l5eXjh4MBKlS5dG8uzkQp6lwPKLrFhbRRWTXZLa0rkMKQpHASLpJ682\nX82aAd99J4QbABYudF68790DFGEJCBBRJo0bA2+/LSzxoUPFBeX2beDOHfN+8+Y5PKQrF1JHn1Nh\n/O8kJyejbNmydp9r06YN3n33XWRkZDjVmd6ZlmqDBg1CbGws+vXrhzJlymD8+PEOW6pdunQJXl5e\nOc7jSks1W+N2zpw5Tu3nDipD+sAdEjM7hpGItLq5svhz48YN3rp1qxBnmDv3tT+6OHj55ex0dU6d\nSjZsKO7nRkyMecExMtK582RkCN/3+vXi8cqVZKNGZr93r17mY44bJ6JcPvhALHDWru0WH3he5Pd/\n59q1a1y9ejXv3LnDGzducMWKFfT39+fdu3ftjk9JSWGNGjXYvn17rl27lqmpqTx37hxHjx5tNwpl\n2bJlbNasGa9cucIdO3awUqVK2R15Dh06xAMHDjA9PZ3x8fFs2bIlv/zyS5LkokWL2K1bN2ZkZGSf\nu0+fPnz11Vd56dIlZmZm8tSpUzx06BBJ4QMfPHhwrq/V0eeAIlrEXA3gHwBpAP4GMFwKuGPuRzEs\n6Jc4ISGBw4eP4d9//+2mGZVwtm83C7bRKATW1JLLLjExZKVK5MKF5M6dQmgjI8U+v/0mxuzYQV68\nSJ47J465ebPY3r27SCjq04cMCSH1erJdO9LLyyzegKiB0rix+XGPHkUSRpjf/53r16+zbdu2DAgI\nYIUKFThu3Dju2bMn130expZqRYGTH9mDgaN/WGV7XgLu7D98XFwcly5dSqMTGYDuCvXatm0bN2z4\niSQZHx/PY8eO5blPQkICa9RoRE/PcIaFVX94RNwVLl8WmZgKO3eS+/aR33xDeniIkMU2bUiNRsR6\n6/Ui3jslhRw8WMR6K5EmAwcKgW/QwCzWTZuKfTt0sBL1h+27WVJx9DlACnjR40igle3uCMuKi4tj\npUp1OMLjJY4f/0qeIu4Oq//nn3+mXh9CvT6UixZ9yvLla1Kr9beKebUlISGBr5SaSi+v1wgYqVa/\n93CK+DffkLNmCWHNzCRHjSJ373Zu38mTzaLr4SH+Ki6SPn2EeBsM5u3r14t4b0XUlVvbtiLhKC6O\n7N+fVKulgJcQHH0OkAJedNjzcx9te9Qp33dePvLU1FQeO3aMMbNjssVbo5nNSETSYHjUroi76nfP\n7TlFvIGDBE4SCKBK1Y/AHhoMIXZFPC0tjTVqNGIkIq3KyqrV77Fs2Wq8efOmM2/rg0F8PFm3rojT\nfv554eLILaNWEXpS+NCVN69MGfFXpSLVanG/alWyYkWyd2/hSmnenHzqKbJcOVEPpVQpUqsl/f3J\ntWuF66VxY3LPHingJQRHnwOkgBc9eVngru6fmprK8PCuVKu9GIlITvSfnEOYR2mm8tln+7k8J2fG\nbNmyxUK8FS05SSCUwPfZIm6ZZGHv4jEUMQSM9PKaxFq1mjxUJQFIkv/+axbivF77p58K18jly6RO\nJ/YpXz6nJR4QIMS8Wzex365dwhr/6ivywgXyySeFf/3XX4VffsAAcXEwnf9h+26WVBx9DpACXvTk\n5QPPC0shVcR7lOZdKzH8GDtFsAIiCSRRpapAQMsFCxa5fG5bsbUdu3z5V9TrKxK4aCHg/xCoQWAh\ngSx6eXVnr14Dchw7OTmZkYikTvc8gcxs8b5x44ZT70WRc+SIEDqFNWvIS5cKftzMTGF516tHVqli\ndqc4IjlZ+KtbtCB9fMjHHjMLd7t24r5S3yQkRFjjjz1Gli4tXCWOsj5teNi+myUVR58DpIDffygC\nqoi3Xt+bQHq2YHt5lTIJ9zZGIpIqVUWqVMMJnKdeXzFfIk7mbqXPm7eQen0lk4j/Q6AigdcJZFGn\nG8EmTdrwzp07Do/bvHk7ennVKjLx3rZtG7/77ju7hYNyZfduIYjbt4tFxbAw8s8/Cz6hTz81u00U\nd0petVOuXTNb3KVKmS3usDCxQNm6tViY1OnIChXMY//4w/o46elkaqr5sUUYnvxulgwcfQ6QAn7/\nsm/fPg7DCA7FIXN4sI1b4mP8n0m8lXopF6jXV+TChYv42wu/WfnF83Kj5PV8r159CJQmUIF16jSm\nwVCXWu2QXMWbFBeO5ORkzpoVUSTivXbtWhqCDTRUNHDKtClWzzkTscNdu8xi6A7xJkW8tqXb5Pbt\n3C3wu3dF1EmvXkKkbRck/f1FqKHiSrEsWPXNN+SCBaLGilIX/OmnhYifPCnixk1x5vK7WTJw9DlA\nCnjRYWvhKo8LEsJn9h8fySHen332GVUqLYFT2d/foYihRvMyg4MrMRKR/LzFUqcXUXOb78cfz6fB\nUJnAOwRepU4XzL59B7NVq865indxMHfuXHrW9yTagF17diUphHvA8wOoUqnYZ2Cf3IX8yy/Ngmjp\nTilKFi8mhw8X1rSlQNvelOgT5davnyghW6cO+fffYnGzZk3ymWeEewUgBw0SYr5nDwMDAxWRkLdi\nvAUGBtr9N4AU8KLD1oJVHucnhM9e9MowLGckIrnvsX3ZIrts2XJ6eAQROE3FQh/j9VJO0Z4Vk+s8\nLJ+zHTdhwn84SjOB1j7wg9TrQ3KtDldcJCYmsmPXjnz08Uf5p8mCvnbtGjVaDfEaqNFp2K5TO06Z\nNiWni2XtWrPbZNcu4U5REmmcwTbb0l725e+/k6tXmx+vWEEeP249xmgUYpybeDu6eXiI8EKSXL5c\nhBYqYYdvJqOwAAAgAElEQVSAmNMzz4hQQkmJBk4IuKxG6CKW1dXsVc87Fn7M6rHy17YqW25V2hpH\nNbaqP3F6wZ/w8zsFvwl+SP89HVUiqiAlJQVLlnyNoRyLoViISIhzDUh/DisQDABoh7oAgNg3zTUp\n7M1fec52vvPn/x8WLlyMQZm9AKRazFAHwANpaelOvZ7cSEtLs6otkRsZGRno+FRHaPVavPjyi6jd\nqDaat25uVdOiVKlS2PbrNhzZfwS1atXK3larbi0Ylhug9lIjMjUSi75ehPWWjYkBUfBpxw7EBQRg\n5NdfYlbP7sisWdO5F2I0AuHh5mbB334r+k9mZlqPMxiAV14RnXeWLgVmzDDXMhFviKhZUr26c+dV\njql0BDIaRVGssWNFkauMDOtaLP7+opPQV185f3zJQ01xX8jcirNhgnlZ4M5Y5pauDVurekb5OdTp\nBpoWNP+PKlWgyd3yKwHyY+S04p2Zi3LfvHAZY1osDSTwJ4ET1OtD+e23a1x+PbZ8Mu8TqjVqVqxW\nkdevX89z/IEDB+gd6k2MB1U6FdEWVDdWc+asmXnuq8TSt32yLT3re9IQbODOnTvtjn2659NUN1FT\nX1lvVfQ/T86eFfHXnTqJxgynTtkfd/q02SI+d876uQEDRD2T0FCRXp+Xxa3Egzt6bO/WoYNzPTw3\nbDD32szIIH/80fn3QlJgIC1w95FX/WPbqmzK44JU1bOsCGdLhyttsClVlBGNRB08z11Y6bEGw2AA\nsBuT0Bjt7BSbdGbu8+f/H6ZNex99U35EJIT1vpM/IBJxGKlejOXL56Ffv775fl0KH8z7AFlDspDo\nmYjt27fnOb5mzZoweBjg/b03KlesDO9ob2hjtWjYoGGe+2q1WjRq1Ag/fPsD5gyYg1Wfr0I7pfqf\nDV5eXvDI8IAqS2W3wlwuExRW79atwMCBQL16YntMDHDjhnncd9+Z7//+u/UxPvhA1BG/fh2ItV+L\n24qsLKB8eevHuVGqFPDPP8D06eLxkSPARx+Zn1+6FNixQ1jyy5YB/fqJioeDBom65nkdX/LAUdwX\nMrehxEwXZGEyr7hrR8e23GfTpk2m5Jr9JgucHK76xiZxZjUNhhCrFH5HVrLlOWNmx7BBg8ep0bxM\nJYNSnOMEPTx0fNem92Neryc3Jk+bTK2vlgHBAbx8+bL5mDExnDptKn/++ecc+yQlJfHAgQNMS0vj\npk2buHfvXqfP5yyJiYmcMnUKP5n3SXYRIytSUkSYn8K//4pwvdWrheW8bp2wxJctE8/PnSuyHxMT\nyRkzhJ9682ZhiZctS27aZH38LVvy5/925nbwIHn9unluV6+SjzxC/u9/5BdfiIQh5VdBWpro16lY\n7Xa6yUgKD8hFTPeSlyvC1WPZEzvbYztKid+4cSP1+hAOxW6q1R8xNLQqY2NjGYlIbt++nYGBZbhl\nyxarczjrzomPj2eVKvXo6TmTgJFDcYB6fShXr3bccDc/74nRaOSFCxd4+/Ztq+3ValWjRzMP6gP0\nDpvYFitffy3C8eLiRLZktWrCvdCnj9ltcvasaG+WkSHcFUpNE7VaLJYq/PWXyJZUOHlSxH3bhggq\nseAFvZUunaO1Gq9ete/Sycgwl6Tt0sXsTpEUCZAC7h7siai7jmlLXtEi5944x/btu3HEiBf5yy+/\nUKsNyBZv5bik/Zhne9a+I+tZEXGNZkye4m3v2AUhtGIo0QE0BBmy6yqXOCIiRDakjw/52mvCqlU4\ncCBnNuTGjWaRTEw0b797V1i9P/4ohL5RI3Hcpk1FApBldImr0ShTpoi/Op3wrdetK5KBbH/ZfPGF\nuLB4eAhLnBSlbPv2FcJ965YoW9uzp9NZnpKCAyng7sXeomB+hMuecDpTfOpw68Om1PR+NBha8vnn\nx/DAgQPZzVcL8rqUeVkSHx/PZs3a5ine7ubQoUPs0bsHFyxcUKTndYkLF8xiOW2ayI68fp384Qdh\n5Zqa2pIU4q2EJE6ebHanKBw+LPapW1ek2588KQpfBQeL6oLOiranpxBhlUokAE2eTI4ZIy4GaWnk\nf/8rsjb37TOfe/Nms9tEcaesXCmeW73a7DZJSxO/PJxZ/JS4BUgBdy+WIusOXLHAz71xzsbHfTZb\nxBU/bX6t4ILErBc20dHRbN6mOTt27ehUpEqRsGOHEMuZM8nZs8nAQLJJE7OL5MgR6/Hr1pH794v7\nRqPoimPqcp69rUsXsf/nn4ttzz6bP8v7tdfId98VST59+oisy2bNyFatRFTLwIFCqBXS0kjTrzeS\nYl4lLDnrYQUyCsV92DZ6tY2ntjc+L+xFqNjbdjHiIq7OvZr9eAUq4UvUxL17m7BmzQ7MmzcfgOMO\n4nnh39Y/Rzx4SekGP23mNPye+TuirkRh/oL5xT0dQVYW8OSTItb7zBkRh/3UU+bnKla0Hv/ccyIm\nHBDx2q++Cihdzklg5kzg6lVg82YRF75+PfD990D37iIaxBmU7vPvvQfExYkIlieeAF56CYiOBvbu\nFdv27AFSLWL6vbys5xsamnsDZslDR3FfyNyKs1azu63ZQ4cOmSzvzdnGllo9j2XKVOGxicdcdus4\ns4BaEnhj1hs0VDDQUNrAlcpP+5KA0Wi2eufNEy6QI0eEO6VhQ2uf+FdfZdcfYVaWsNqVphZ37wqr\nWIlqOXxY9NQkyfr1XV+kLFtW1P+eOFG0VevSRWxTnu/WTSxOSko8kC4U9+NIrC1ribjDT26Jsv/e\n0Xvp41OawIZs8b5kUe7U3txyC0u0N3bJkmVs1aoTk2wjFYqJzMxMfvfdd9y4caNzxaiKAqORnDBB\n+JZfe02k3ys9Ko1Gcv58awGPjBRi+uGHoltO48aimuC9e47P0aqVEFyliYOzt4YNzfcrViTff598\n7jnztjZthI9dUuKBFHD34czCozMhe46KSeWG5bEOHTpEb+/gHOLt6Jx5hSVaZnt+8cVS6vXl6ek5\nlHXrPsakpKQcMeIPElu3bmXbTm35ybxP8h5sWUHwzBlRq1u5yM2dK2p8K5w6JeLCFY4eFeKtiGj5\n8mZftyNWrRJFqVy1wn19hd9crRYXjWnThJBfuCDiy0NCcvroJSUSSAF3P/ZS5vO65SXsuYm9veP8\n9ddf/Oeff+yOJ8kLsy7k+SvANn1eEW/gL4rOOS+zbt3H7KbZPygYfA1EN1AfoOeZM2dyH9y/P/n6\n60LEDx4UVrellW3562DAALEImZ4uOs1XqiSqCyoi26GD4/Ncv07+3/8JV8tzzwmL2tmFzJYthXC3\nby8WIps0EYuZBw+aj79/f94dgSQlAjgh4KoiEvAiOE3RYLm4Z7toaFmAKkoVlf3YdgEUMC9W2tuu\npNDbO1ZeGI1GDB48CuvWbUTNmpWx4PQ7dvdVXoft+cUCaRUAhKfnMGzNGI5KsytZjbM3R1uysrKw\ncuVKeHh4YNCgQVCr1U7NvygpV7kc4oPj4RXthXN/nEN5y5R0WxISgA4dgJAQ4ORJkWb+zDP2x6al\nAb17A7/8AoSFift79oj0+Jo1gZ07gRUrgOefz7nvtWtA+/bAs8+KolNz5jj3Yho1EguqH38MvPAC\noFYDKSlicdSVwliSEoNKFCgrCo3OleK+kLkd2/R0Wx+45V9H+9puGz16vMO08LwsX+VcWVlZHDBg\nOA2GNgRuU6t9kVNC3sizgXAkIunrG0qV6hECdwiQQ3HIqV8Ujpj79lwaKhpoqGDge++/l+d4dxIX\nF8cefXqw76C+uTaRiImJ4dy5c7nPMi46N379VVi6DRrkHQ/90Udi7KOPikzL1q3NbpMvvySrV7fv\nA794UcR/m1eq87a8dTpx69jRHMMtue+BdKG4F3sLlPZuuWH7fGpqKudU+R+12rb09g7hnj17cq2P\n4ih6pFu33nzuuUEm8b5j+m4bqdW+yHr1mvOuRSstS7KyshiJSOr1j3MY3idQjcBR6vXluHTp8ny7\nUMaOH0tNYw01jTR8+T8vO72fOxj5wkiqH1XTs74np74+1T0HPXhQ+I9XrBACrrhT7KG4Tc6eFbW3\nn302Z23w3BYwW7Z0LeNy+3bh5/7oI/e8VkmJADIO3L1UiajisLpgOMOdcnNY7p+Wloann+6Dd+IO\nIS1tG5KTV6FLl2dzuDUUd4W9WHQlfvuVn8fD/0dfpKc3BOBtGqFCWloHXLwYjRuW1fBMGI1GjBw5\nHqvUm5GSshZD0RQqVXMAbfHhhzMxYsQwq/m6Ullxzqw5eKrKU+harStmTp/p9H7uILR0KLySvKC5\nqUFomVD3HPTrr4XbZOhQUa3vxAkgMdH+2KwsIDJSuEvWrQMaNAA8Pa3H6PX29z13TtwcuZzGjDHf\nb95cyPjVq8D588CkSa6/LokkD4r7QuZ2LGt0K49drcoXMzuGTz/dh3p9Tw7FeQI5a3jbW3i0tIKP\nHDlCX9/SjEQkASM9PadSowmkRvMqRSXBH+jrW5pHHEQdLFiwkJ6epTkUo63OO1w1hwMHDs//G1TM\npKen87PPPuOyZctcb2xsB6PRaL8qYX65e9e6gNWFC+bsx/R0UYNEcaNY9sMcMEAsTFapQn7/vago\n+OSTpLs6I2VmWv9SuHlTLKZKigVIF0rh4mpEie24CROm0GBoakrQERcAD4/PGIlI6/Kqdlw3x/5z\njN7epQj8YBJwmkT8FXp6BlKt7p1DvG3nsGrVKqpUvgT2EXjZdJzV9PEJ4UHLyIX7jOPHj/OTTz6x\neg/zS2JiIqvXrk61Rs3Fny92w+xI/vSTuf7I8eMiLX/+fPHc/PnmFmgDB9p3m4SECOEuV07Eodtr\n3ZYfVq0Sse1JSSIapkEDcaGQFAuQAl64uBLTbS/8UOlVaXkLCqrAfY/lXFSz9bHfvn2btWs3pZfX\nRA5FjOm7fYcGQ2v27j2EXbv2ymF5W85h8+bNNBhCTOItxH8oFlKl8uP24mrm6wbi4+Pp7e9NbSMt\nwyqGFTj55+uvv6Z3LW9iKFixRkU3zZLkkiVmQR4+XGRLPvOMCPv7v/8j9fq8/d/164t4dJtyvPnG\naBQZnFWqCJ96bn5+SaGDIgojbANgMQANgPkAFtgRcDec5v7EXgihMzgKQfRv64/GUY0BADdv3kSL\nFk/iwoWWSE//LwyGp9Gr1yP46qvP4eHhkb0/kDNcMLLiXvzvn/PIzFwO879BHNTqmli7dgV69erl\n8pxLAufOnUOjxxohpVMKvH72QkpyCkji6NGjqFatGkqVKuXS8S5evIhGTRshgxl4YeQL+Pj9j12b\nUFwcUKaMuWdlXJyoN3L+PFCjhjJpYPJk4KefRE2T/v2BCxdEbZTc8PISxwsMdG1OuXH9OlC6tLif\nlAQEBLjv2BKXKKowwmMQIl4JwFnA1FHXTDFfx0oGtiVbLa1he5a4vQQge9Z9UlISa9duyhEeL3HQ\noJE5fLWOokiuX7/OqlXr09NzuslfHkedrhbfeCOi4C+W5L///suqtapS76Pnj0XcS/Htd99m48cb\nc926dSTJXn170VDawMDSgYyPj3f5eImJiTxz5ozr1vwvv5DNmwtLNiuLHDlSuE5OnhRlXd97T1ji\nQUGiTneVKq5lXXp4iGYSKSnCd/7RRyLj8+pV63onzrqSFLfJtGnCElfcKc5i+f5Iy73AoAhcKP4m\nAVeYD+BpKeA5sRVuW0GOmR3Do21zNiJ2FFd+48YNHnxR+KmTkpIYiUgr8ba3qGrrxjGL+EQaDLX5\nxhsRbkuXX7hwIbUNtERvsOFjDd1yTGdZt24d//vf//L69eu8desW1QY1URrUldYVrXtozRpR5KpG\nDSHQGg0ZFUUeOiRqqQDC512mjChJ6+cnGkQoAu3tbR0TbnnTaMinnhLx3489JsZVqCBKw44aJRZC\nb9wwp8/bydzNwdq15PjxQnyNRnGcn35y7rV+8424QGVlmRdibVvFSVyiKAS8I4DVFo/HAvivFHD7\n5Fbo6sSkE05HsVy/fp3VqzdkJCKzO6s7Wjy1svTtHPP69eusW7cZl7VZketxXOXYsWM0+BmoL6Xn\nrDmzCnxhOHbsGKvUrMKGzRryypUrDsft3LmThmADNfU1DO8UzoULF1LziIboDPoE+zDF1KBg1apV\nrNmwJmfMnlGgeeXJt9+aRbdjRyGMSUnk8uUimUdJxFGpRN3u0qXN4/38xM2egFevLvzkBoN1HZSq\nVUVTicqVRS2UwEByzx7n5vrDD8L3ff68aPVWvnzO7j2OuHNHJCsNHSri3rt2FdE2Ckaj7ObjIs4I\neM625YVARERE9v3w8HCEh4cXxWlLFI584bFzYnEz6SY6r+6FFJ97+Pmu6FjuKFU9ISEB/3vkA3yR\n9AkAQNVehShEARAp97mludvbHhwcjNOnf8+uA64cJ+z1MFT7bzWo1Wps3boV9erVQ1hYmNOvt1Gj\nRoj+MxoJCQmoX78+dnnsyjP9PjdmvDkDF8tdhDpJjcWfL8abc960O+7mzZtQ6VXILJWJpKQk1KlT\nB57XPKFN1WJQv0HQ6XQwGo0YPmI4Mnpn4MP5H2JQ/0GoVatWvufmENK6A/3+/cArrwArV4ru8Ip/\nOTXVfP/aNSA4WHSCv33b7N/28BBjlHj+a9eAjAwgM1M8NhiAO3fE7c03xfj0dJH6r9Qit5xXcrK5\n7ndKiohT79ULiI83p94vXeq4XIAtPj7Ch6/M9+BBoFUrYOtW8XomThT+/dmznX//HjKioqIQFRVV\npOe0daEsgHSh5Iq9NPyQkEr08FhIYANHe77IvaPtp9QrlreX1zQCRlPYXyQNhmCnwxftPW/7q+Di\nxYssXboSO3fuxU8/XUwvrwCGhVXn30oNaxcoSNd6S/737v/oXcab+kA9N2zY4HBcVlYWp70xjV17\nduUff/xBkjx48CB//PFHZpj8wkajkZWqV6K+vp7e/t7u7fRjNIpOOHv2kO+8I1wnTZqQU6eaLeVy\n5UTkSFiYtVX97LPmTjyKm8TLS4x31i+uWOQBASJDs0sX4c6w9Ilv2mRuAZecLIpfLTaFSP71l/lY\n5887/7rT08nevcm2bYVLZ8QIcvp00SJuwACxrYSUKL5fQBGFESqLmJUhFzHzxFHdcHMo4Ab6+JS2\n28x31apV9PQMJnCdol5JjCn2uw/fqv6Ow3M5g3IBODrxqOmC8jG9vJ6ih0cAgdNUq9/Lt4hbHj+/\nGI1GRkZG8vDhwwU6jkJcXBy/+OIL/vnnn245nhWK33nuXCHSixcL8dJohDB27SoWONVq4eIAxLjg\nYOFHVuLALW/2tiklY2194717CwE/fFgscI4bZ24YQYqLzOuvCzdMw4bkkCHCvaG4TZYuFQ2VFXeK\nMyxfLl5XaqrZnWLZz9OyR6jEKYpKwNsC+BPAeQAT7Dxf3O9DsZKbiH744UcmK/q2xXcwnVptG44Z\n81KO8UajkZMmTaXB0JBAAkXZ14msXbup3QYMrohmzOwYXrx40eLXAAmkEniaQC8C6dkirjRRtnxt\nKSkpPHfunMOMRXf51o1GI2NjY5luWW+7JLJokfhAn39eJNoEB5t9ysoCZI0aogt8UpKI+OjUSWzz\n8LAv2LY3S/+4Zcbm/PlCPF991fH8kpPN4+PixLb9+4UQK3zxhVhwdQajUfTXVEhNFZ2FHntMLIzW\nr299EZHkSVEJeF4U9/tQrOQmXEohKYOhpUnE06nX92F4eNfsxTZbLEXcy2usXfF25LZISkrKNRSu\nY8dnqFYPtLDuSSCZQGkCnxM4Sy+vAG41pW4rr+3OnTusWK0idf469ujTw+6x7V3IEhMT+Xibx1mu\nSjnu3r07e/v169cZa9lo14LuvbvTy9uLj9R7xOF7VGBu3hTWqMLZs65lO0ZHi4iQ3r2FJf7TTyJz\nUqnDvW0bOXiwqG6okJQkti9bJhYg8xJvrVb8LVNGJPMAZK1aQrRzK5RFmt0mQ4aITE7FneJOTpwQ\nXYWSkoS4v/EG+d//uvccDziQAl48uNJW7cKsC3z++TE0GFpSr++dq3grGI1GTp48nY0atcy19Znl\nxSMqKopeXgb+5z+v2RVxo9HIv/76i6VKlaNKtdT0yyCDQA8CXQicIBDEzp272m0YMcp7FPEKqPHS\n0Gg0cur0qazbpC6/zyUVe8GCBdTV1RFPg81aNSNJHj58mAY/A3W+Oi76dJHV+KysLKpUKuI10BBs\n4PHjx3N9n/LNzz8Ll8aZM+Tp0yJL0lJsc8NoFO4Dxae8ZYtwVShWtuKL3rNHWNy2HD9udrU4uilu\nF2VcxYrmtPtx4/KeY1SU8FFnZprdKd9849zrcwXbuHAZG+4SkAJe/NizwG/fvs3bFunPWVlZHDXq\nJT75ZM9s8XZHPLZyjKioKBoMwQTW0mBolEPEo6Ki6O8fwvXr1/Ovv/6in1+oScCfIxBGoCeBcgSe\nIuCfnTCkvLbU1FQ2ebwJVR4qvjzpZR49epSGYAPRBzT4GhzOb8+ePdT76+ldzpsTX51Iknz77bep\nbqomeoEt27fMsc/g4YOp9lSz8WONmWb5k90N/PHHHxz1wiiu+nqVaESsCOaqVSTJy5cv89ixY3kn\n9Nh2vElOJn//3RzbvWePuK/X59x30ybHafTKoiYg/qpUZGio+fkPPhAWuBTKBwJIAS8+jEYjZ8x4\nkz89ax1HGx8fz8qV67By5brZWYFZWVkcMeJF1qzZmAkJCSTd5zM2i/cO0/c8wUrEzc/P4yjNizks\n66E4bRLyD00i/jYNhtYcNGgkL8y6YPV6lYvPlStX6O3vTX09PR+p90iu8zt58iS3bt2a7TuPjo5m\nUJkgeum8HGZw3rx5073VAU2Ur1qeaAXqA/U88f33ZmE8c4aHDh2iwc9AQ5CBEf+NyN8JduwwH1On\ns98d/t9/RSy4ZRs1lUqIevny1g0eGjUSi5U2FxrJgwGkgBcPRqOR48e/QoOhEfX6MH75peiSooi3\nRjObnp6zWLlyXf77778cNmwsvb1b0NNzEicFTnVL2J1CmTIVCbxj4dMmgXNUqdRctGiRjbgfol5f\nml5eOpMFHk5gCIEYApUIeBH4l0rRrOHDX8xxvh07dnDWrFn89ddf+dlnn+UrdT0rK6tIFymzsrL4\n0n9eoqe3pxBwfx2PBwcLQfzqKzIsjJ+8/jq1DbVEL7BJyyb5O5FieSvhfvYE/KOPhF+7aVNyzBgh\n2MHB5sgWZf+QELOl3r+/SH9XqUT2p+SBAFLAix6zeD9K4AaBP6jXh3HBgoXZ4i2+g0Z6es6kj08o\nDYamBG6ZokqmZmdZuoPISHOcuDhvIr29G/PFF/9DjUZHYJXNL/Ut9PDw5CjNWAI/EmhPQEfAh8Am\n05gUGgyd2KfPUKtznT9/nno/PT2aeTCschjbd2nPvoP68o5S67qEsn37dnqHeRPhoN5fz5VvvSUy\nKBW++Yb/bNvGarWr0SfAh7866w+35MgRs+W9ZYvZnWLr7rhxg9y9WyyaXr8u6qbs2iUiPFq1Eq6T\nF14QdVMswxJTUkREy7lzBXszJCUGSAEvel5/PYIGQ2OTeCuieIZqtS81mkcpCkcp27MI1CfwksU2\nIzWa3nbjuvNLZGSkScDXcbTnNE6YMIWbNm2iRuNHoDyBK1bi/vLLk7l37156e4cQeIuenn7U6/1N\ngp5Cg6Eze/Ton50Yo3DixAnqS+mJLqBGr6GqhYpetb34/vvvW40zGo0FLvPqTs6cOUODv4G6Ojo2\na9mMPfr0YHBYMJctX5Zz8JEjYmFTYcMGsWip1POOjxehgGfOCN/3li1i+507ovDU3LnkoEGiCUOL\nFmSPHiImPC+OHBFJPhcvimMFBop9r10TfytUMCfK7NpFTplSoPdEUvxACnjRs2TJcur1FQhEW4jy\nNhoMQaxWrQG12nEmEc+iVjuWWm0wPT3HWQj7z25tqGAvImbTpk0WtcCnmkT8JL29G3PYsDEsU6YS\np06dyb179zIkpDw3bdqU3f1Hq21qV7wV5i2Yx07PdGLP53pSX01PQ6iB31hEOOzfv58+AT70D/Ln\nsWPH3PIa7WE0GjlizAj6Bflx+szpnPv2XI4eO5r/OCjqtH//fn766afcsGEDvct5E0NA/2D/7GNl\ns3q1iEo5fVr0xwwLE2KpUpFz5gifdLVqQrxr1hT/AEuWiGbDHh4iM7JjR5Ed2aED2bOnsK4TE/MO\n/7Pk6FHz/bQ0EYXSrJm4oISEiCxMyX0NpIAXD4sWLbYQ8W309g7h7t27eevWLdav/zi12nHUasex\nQYMnuGfPHhoMIdRohhD4qVC64dgrVTsUuywuMFMJqPj4423p51eagC+9vCpw2rRZVouFR44c4ZQp\n0x2KtyVpaWn8/PPP+f3331sJYP8h/YkOIFqDz/Z5lrNmzeJpS4vWTZw/f546Px3xIggVqK+op7qJ\nmp27dc51v7///pu+gb70ruTNdp3bsWvPrlSpVBw9brR50KpVZp+Tksk5ebI5UiQtTcSCDxpkvegY\nFCRE/uZN87ZevYR4K4WnTCVwHfLdd6SpRACNRvKTT8TxjEaxqAnILjoPCJACXnwsWrSYOl1YtnhH\nRMxl//4jmJiYyPr1H2eDBk/w5MmTLF26Mj08htDDw5c6nZ9bxdvW+lbK1er1ZSjiuhUdiSNQlhqN\nL4EAAgsIhGSLuDvcHf/88w9XrlzJNWvWUOero85XR61eS1VzFf1K+Tl1UXCF5ORklilfhj6VfFi2\nQlkayhuoaaRh155d89z30qVL/PXXX3nq1ClxEZgCqjxUvKdYyCtWmAV43DhRf9syc3LGDOHSWLTI\nOilHoxGRJA0aiEVKy8UHlUqIfVRU7pNbuVJY/X/8IUrSNmsmXCe7donFznr1zNsk9zWQAl68zJnz\nJpctW8bp02fTYKhNg6ETu3Xry3v37vHcuXMm8Z5v+v6uoq9vmUKxRm1rkA8c+LxJqH8mPF4jtHoC\nFQloCezMjkgBQujh4cWNGzcW6Pz//PMPK1SoSS+vMnzttRm8cOECf//9d2q9tUQ30EvvxdTUVKeO\nZa93MdIAACAASURBVDQaOW/ePH7wwQd5umASEhK4ZcsW3rp1ix99/BEnvjKR11xI505NTWXVmlVp\nCDHwsZaPiQvZqlVCQP/8k1ywgIkA/wRo1OnEwqcS/jdjhogisRfL7ShBp2xZkYKeF0qMul4vhPrK\nFXF/7VphiU+YIApqSe5rIAW8+NiyZQsNhhB6egZQq61ksnLFAmDXrs+xTJnK9PB438YI+4p+fiFu\nqY5n2yzCsqFDeHhXk98bhB5EDxAaEN5aQrXIYk6bCah5rgCRDYp4azRvEYinwVCPr702g0ajkV99\n9RU7dO3An52sOW00Gjl27ETCS0NVdRX1fnpeunQp33PLjaNHj3LRokWMjY3lsWPHzGGNx49nu02i\n//yTvl4e1GvBaWWCyFKlzPVJBg8WLhMPD+vwP1ur2/Jx+/bkgQN5vQnmZhAA+dlnwqf+3HPmettG\nI2nKJ5Dcv0AKePGgiDewl8BWAsEE9lAJwdNqW7Jy5Xo0GDoRuGfankG9vh9bt+7sUobh2bNneerU\nqezHdlu22bhSlrf9kkAZAusJjYqoA8IHRHMQ6n6m+VynSvUIAT07dOiWr6zH+Ph4C/EW8efwrESV\nlydHjXIi5dsCRbwNhqaExpd4DlT5qLh582an9r916xZ//PHHXJtBkCSzsnjxmWdo8NFRV1fHunWq\ni5omP/xgjjQxpZ8vDwujoaqKGAxW05oEeeZMsYDZrp3YT0l7d9SYQbkplnvZstZFoWx54w2zi0Tx\nu5cpY90sIT3dOjyxpBf+ktgFUsCLFqPRyF9//dVCvJXv51YCIQR+I7CPBkMIN27cyJ49B5hE/E62\neLtSoOn48eP08ytDH58QHjhwwG7Eie1tdedvqdNVInDRNLeNBPwITw/q/Q308ipP4ARVqkeo0ZQl\n8Df1+p7s2LG7yyJ+7NgxarX+BHaLc6nHEbVBVAeDQ0Md7peRkcG9e/fyp59+4s6dOy1i65sSSCKw\ngdDWo8rzMVapUo/r16/nkSNHcp1LnYZ16FPdhwEhAbnWjyHJA7Nn0+CjIp4F/TxVoirfpUsi9nre\nPCGcDRrwWvPmrKzzoEYFLisbKkT488/FQeLiRDnXPn3EP4HlYqZieSvulKAg8TcwUIQf2vLtt6K8\nKymKRI0fT/72m7C8g4PFfpGR5vEvviguJEajCDt85BExf8l9BaSAFx2ZmZns3XsIDYZS1Onq0ToO\nPJ5AFQKv0mAI4SZTr8CMjAz27DmAnp7BbN26M2/cuMEvvvgix4KevWxMRbyB7zgUW+yKtSWRiORf\n0/8yJe98a2MAbiXgwX/++YdvvfUuAZjEO47weJdQqanSBrJdu6cZGRnJhg0fZ3R0tFNZokOGDKdK\n5Wv6BTKT0IIoDzZs6rhPZo8+Pejl70UYQH2InvMXzGfDhi3o5WUZbimSjjReWupL66kP0DtMsMnK\nyqKH2oMYBepL6XOsM0RGRvL5Ec9z27ZtJE3Fwlo/wfpa8JceFtUVL10yv2mXLpEtWtAYFsZMZdvU\nqWR4uPBj9+0rilh16CAWPRULu1Ytcd9yEXPiRPG3dOmcdVRIUZO7YkWxKPrCCyJ+fMgQETq4Y4eo\nIa70vXzvPRGpUq+eGFOpErlwYZ6fUw5sQxpdCXGUuAVIAS8azOLdnirVJ9Rqg6jXK5mY8dTpalGr\nDaBeH5Qt3goZGRlcunQpb9y4wRYtOtLTszS7d+9nJeK2YnzixIls8TaL2S/08QmxWrC0JBKRjI2N\nZWBgKIFAihhwEjhBL68Qrl79bfZrCQwsQ5XqXfG8xpd4AUQpD3p4aKjXB1Olepk+PkG5ZotGR0dz\n8uRpNBhqUa1+hiqVL9XqhlSVVRGdwAZNGzjc1z/Yn6gHoimIluDgYYOZlJTEOnWa0ctrgknEt9Db\nO4SPtXqM6AhqGmn45ptvOjzmx598zNLlS3P0uNFWUTV3796l3kdPdAB1PjrevHlTZDOWLy/EuGxZ\nEfFhNArLOyiI9PcXlnhCgsisBLK3ZWVmcvLUyWzVpjkP6HTCQi5VSljbgYFCoEeMEBZ5377i+dKl\nxQWhXTtRP9xe78joaLPg374tLPzMTPG3Th3ylVfIt98WSURXr5IHD4qxpUq5Xtzq5k0RPaP44z/8\nkOzWzbVjSAoMpIAXPpbiLWpnkyrVp9RqS1Gvf5QGQx1Onz6b586d4/79++0e4969e2zRoiN1uoEE\n7tJg6Gwl4rZC+fbb71Knq02Rfq98r5Op0z3KL1ouJZnTaj8+6ThDQ6tSrf6IIiU+hMASAv6cNOkV\nq7HR0dEMCqpAD4/PCc/OhDcIjYaAgcAWAgsJhGQnBdny9rtvU2PQCP86dlLJLlVpNVT7q+lh8Mg1\nHX3hooXUemtpKGVgzQY1efbsWZLMFnFPz1709g7h3r17efjwYVZ+pDIbN2/sMEknN7IFvL1JwG/c\nEPHUX3whBqxcSdauLRYLGzcWMduKO6VPH3P44KBBZJUq3PzJJyItvzNYubzF4mX16uSFC2RMjHBv\nTJggao7PmCGs5VOnmHn7No++/DKTbBexs7KE5R0aKi4CijtFIS7OfJ6rV4XbpFIlctYscWzFneIK\nv/wirPp+/URi0uXLLr+3koIBKeCFz6pVq6jRBBK4aeWWUKlGMCysBiMi/pfr/mlpaRbinZm90Gkw\ndOb/HnnfbmEro9HI4cPH0WBobhLxZKpUj/OZZ3oz00Hn7x9++IFabQiBWNM5NhHwpVrdhM8+OyjH\n+OjoaAYEhFKEG04wifdCAu9yKMZbzWv/WOsLU+WalYm+IGppKWLKRYkAaDyJIaB3OW9GWvpsXSAp\nKYnPPNObixcvdlsvy6ioKA4fPZw7duxQTmJ7Uib8/TcXvvceDyhW6enTItb7ww9F3ZIWLchx43jk\nyBHq/fX0qgk+rleLOiWAKF61Zo3Y5+xZsX9YGLlxY3ZRq159e9EQYmBQaJD1a5s8WRz/9m0RARMa\nKuqlKLz9tvgFEBBAzp5N/uc/ZrdJfDz5xBP584F36CDmvnat6/tKCgykgBc+qamp7NChG/V60XZM\niNUa+vmF8sSJE3nuf/36dfr5laZK9aXVBUCtfpdly1ZlTIxYmFy58mur/W7dusXAwPIEGlMUnGrO\n0NCqOXpWHjx4kLGxsYyZHcP33vuIBkNVk4hnUqvtzxYtOpoTVCxISEgwuWk+I5BGoJb4h9KoiEAD\n4fmoqb7KCgYGhlmFGi5ZuoTwUBGe3hSLpd8RmE9PLx/6BfuxZ9+eBUrcea7/c/QO9WZAcEC+rO7I\nyEguWbKEyfb8zQ549PFHqauno95PL34RGI3kzp3iyVOnhNvh0CHSaOT2JUv4UdWqTDAYhAsmMFDc\nnn7a3GoNENa9BT4BPsQ40KeCD3cqx75zh6xaVRSqUhoHd+9utqh/+MHsNlHcKbbNGfKTiPXhh8Ly\n/uwzYYnnFd4ocTuQAl40WIv4106Lt8Iff/zBgICyVKlWmcT7I4aGVuXvv//O8uVrcrhqEfX6stki\nnpGRwaCgSgT8CQwnMIZAJtXq91m2bDUmJiaSJDdt2kSdrhSDgytmu2EUEVer69PPr7xDKzY1NZXN\nmrWlVjuUwBQCDQmsE3HjL4GAikNxgcBJ6nTB2QuACteuXWONGo3o4dmUCNIRBvCNN95w+j25efMm\nX5r4EidPnZzjAhMQEkCMAn0q+TgdRqiwa9cu6gP11D+i57P9nnV6v5ByIUR30LusN6MssyUz/r+9\nM4+P6dz/+Gf2OWeykyAhVMQaQoLS2lpLaSlRSmnR6qKq2stPW9qr1VartBdXS2urqqKovdqgtff2\nWqK0iqLEkiDBzR6Smc/vjyeTSWSySWIyPO/Xa16ZzHnOOd+ZZD7nOd/nu2QJl4vdTTFmjJjxxsYK\nMQXEouLJk0IUDx1yCPhNjX4nT5lMnV7HNu3b5I9GOntWLGICjsbBdm7cELNsOwkJRYchloT//U90\nl7e7TTZuJIcOLdsxJaUGUsBvH3YR9/CoUirxtmMXcZ1uUD7x1usn53zf/6Ci1ODixUv4wgujqdWG\nEZhKwFE4y2CYxODgRvzf//6XW7BqKHYUcMN07vwwtdoQmkyD2Lr1A0xNTXVqU0pKCqtVuydn9p1I\nwEroHyF0GkL3IIHDVJTquQugN3PlyhWqPp5EB1DXWMf333+fvXs/wZkzPyv0c4iLi+PgoYPZLLIZ\nDU0MNNU3cdK7k/KNmfnvmTSpJt7X8T6ndw9FsXjxYqohKtEVDG9VeCTMzWzdupUt2rbgmHFj8pcW\nsNlENEhoqBDYsDDhG69TR2RH9uwpFhIbNhQz4+rVxcz7iy+EO+UmEXdatuCVV4QfHhAXin79hC9e\nckcDKeC3lxs3bpTJL3vkyBF26dKTsbGxbNQoknr92HxuFVG/RKXZHEERD00CswnUol4/msHBjRgf\nH58nkWhP7r7bsI1VqwbzxRdHU1UbU4Q2ZtNsHlqoiMfFxVGr1VOEGea14xsCBprN1QoVbzv/+c9/\n2KBZAz7Y/UHef39Xms2PUlXv4fTp/3Y6vnf/3tRF6qjz01FXX0dzPTMnfzD5lj/Tm8nMzOSgoYMY\n2TaS+/fvL3Tc33//zS+//JLx8fFCLC9edHRoT0gQ5V3j48XvX3whfNz2hJ0PPhDi7OcnQgZ9fcmI\nCOGjfucdx0kWLiQPHhQXgbwz7owMh9vjxg0xGzYYhF/bZBK/yx6TdzyQAu6+fPrpHCpKMIFTOaJp\npcHQmaK5wuWbBPUlGgw+QmxIDhnyPM3mLnl88uRQ/E69vjp1Oq8c8bbvm02jsSf79XvSqR2rV6+m\nogQQOJAzXjSI6N69N7/9doXTfU6cOMGHez/MkaNH8vr168zMzGSnTg9TUfrl2HSaqlrHqYgPHjaY\nxiZGmgPN7PloT7773rslrpNSEjIyMjjwqYFsfm9z7t271+mY5ORkelfxphqmskatGrQOHy7KwPr7\ni0QdX19Hlxy728SejOPnJ2bJX31FDhuWP9uysBKvy5aRHTqQqanC592+vaOzTkaG6Ob+7beOrMsZ\nM8TCaZcujsqEkjsOSAF3b2bNmp0j4idoNj/DFi3a5QhhVM7CokhmAdR8TRMyMzPZokVbajRBBPYT\nuEhVbcTRo8cyMLAedbqPcqJCnieM/jQYPRhtbzzgBIeIfyq6+xQTQdKhSwdq7tdQCVE4f/58Dhgw\njGZzj3wXFOA0TSb/Al3rk5KS+Mb4N3hf+/s4/IXhIi67lFy7do0nbnJN2Ml1oXQDm7VyxKLnjd6J\njY2lycNEPAXqjXqmJySIWW/Nmg4xXrfOvqMICfTyErNtPz8hrEYjGRREfvaZY5+ccMgC2JsyREaK\nmXpUlHjNztWr4vWmTcU5nnpKRKWMGCFCDAsjJUXcLdg5d855GzdJpQRSwN2bNWvW8J57GlGnUxgZ\n2YEpKSm8fv0669dvQaA7gY0U8dwf8TnDyNxStD///DM1Gg8Cgwl40Wy+h2++KW7dz58/z8DAetRq\nRxOqiRgiRKo4Vq9eTS+vKiUK/+v3RD8aGxmpVlO5Zs0arly5iopSnXlL2Gq1n9HfvzZPnz5dYP9/\n/N8/aAgz0BBm4KtjXy3VZ3bq1Cl6+XnR7G3m6H+M5ty5c3nUXrOb5M6dO6n6qlRDVfZ7oh/T0tLY\nvFVzarQavjf5vdxx77z3DkMah3D2nNnihS1b8s+m7TH9VquID3/mGUfdE0DM0BcvFj+XLhVJQYGB\nzkX8xx8L9rvMuzjbr5+Y5dts+UvZFtfYef58IfqXLzuSk2SjB7cBUsDdlzVr1lBRAqjXP83AwLq5\nQvfHH38Q0FA0HPagvebKNmyjj08Af/rppxzx/lfO93wZdTpP/vbbb7nHPn/+vFic1IPmEDPDWoSV\nyKaSdoJPTk7miBEj+NJLL+W6P5YuXUazWdQht4v3qVOnnO4/8Z2JNIeYaQ4xc+I7E0t0TjuLFi2i\n2kQVs2eLnkqYQou3JV8Z2R07dnDhwoVMT0/n5s2bqdRUiJGgp5+n84P+8ovwX3t7k02akF275g+t\ns0eB5K0SuHKlqIWSVzCXL3cej52S4likBET0St41iStXhHjb4827dRMhflOnFv1h2Gyi+JXZLB7z\n55fgE5RUFiAF3P2Ii4u7ye9so8EwniEhzZiQkECr1cphw0ZQVdtwKPYWqH8yDM8R+PAmH/kSGgye\n+TrEx8fHc/369fz2229vyU1RFJs3b6bqp1Ktq3LYs8Ny26gpngoNBs8ixZsUyU3Tpk3jtGnTSl1A\n69KlS6xVtxa1ei2hBfEEqFW1hUYGLV++nDCIsroNmzUssP3nn3/mzO7d+eubb3LtW28x88oVkXW5\ndKnIpLSzapVjIdNkErPx4poz2Fm7VrhN7H+wPn3I9esLjhs/3uE2OXdOtGwrrn78X385jluKWugS\n1wMp4O7F+vXrqdXqqdWac3zX9u+ejQbDy2zWrA1J5oq4xXIfgV+pKDW4Ddt44MAB6nTeBDrSntYP\nZBHoSz+/2rdUEvZWmDNnDs0NzERnsE2HNhw8dLBoo9YRNCoKd+/eXaHnt9ls7Nm3J2EGURXUemm5\n3pkgkpw2bRr1jfREG7Bjt475tu3fv5+Kj0JjYyM1Jg0NPgZ26tKJJDnrs1kMDg3m6xNeF4NHjRJ+\n6pQUIci+vqKjfEmIiRGLk999Jx7VquXveWnn+vX8bpPiFnftbpP588VM3O5OkbgFkALuPqxfvz5n\n1r2aGk0V6nR5K++do6qGcMqUj3PH20Vco9Fx8eIluYk6W7duzSPiyQT60senVqlm2TfXUbFarUxJ\nSSnx/qmpqezdvzebt27OgwcPcsWKFdSatIReS43mWQYE1HHq+y5P1qxZQ41ZQ1QXNU6OFbKAmJiY\nyPad27N+0/o8cOAA161bxwZhDThq1Chu3LiRlloW4oGchhetQI1BtFbTGXTEMNDsZRZ3EydPCvG2\nc+hQycP8/vzTsShKiufOysqWlu+/d7hNbDby/fdF+KPELUAFC3h/AEcAWAFESAG/dRzivTc3QsMh\n4mepqiH88MNpBfazWq25Kex5Rdch4t6lFm8yf/GslJQU1g+rT61e65htloIbN26wR4/HaDY/QHvC\nkVb7aa6IJyQkcPz4NwtNJioN169f5+ODH2e9JvW4ZcsWXrhwgYsWLSpVmzqdoiPuB2EGly9fztFj\nRrPFvS2oMWqIR0G9Sc/MzEzWqluLamOVPlV9mJSUVGbbJZKbqWgBbwigPoBtUsBvHZvNRj+/6nkW\nHe2PXwio1Ok8nIp3cWzdupUdO3YplXjHjI4pkLW5ZcsWetT2IEaBnr7OF/lsNhtn/HsGR748khcu\nXMi3be7cudTr/Qicy/f+tNrBbN++K+vWbUqjsWmRGaE3n2vI8CE0W8wc9eqofNtWr15NSx0L0Rus\nXb92id93XrRmLdFOCPi39lhskgsWLuCDPR7kxo0bSYpSAUuWLKmwlm6lwknxLYn7U9ECbkcKeBnZ\ntWsXLRZ/OjIeL1BVQzl+/MQiy66WN206tKG2rZbbsC03Pvvq1ausEVyDJk8Th78w3Ol+q1evphqo\nUhepY8euHfNtGzl6JLWqVlQixEmKSo1f0tu7OmvVakiDYQKLywjNy9mzZ2m0GIlXQJ1Bl+8CdejQ\nISpeCi31LOzxaI9b+gxWr17Neo3q8fkRz9/S/k65cIHH2rbl26+9xj179ojGyGPGFL9fScjMFBEp\nq1eL32fOFJEqMkvT7ZEC7kY4RHwxVTWU7777YbmfIykpiXv27Cm0bVunbp2oa6HjNmzLnWmSInvx\nzJkzTut0ZGVlcfjw4TQEGKhtpWX7Lu3zba9ZtyYxDNQG62gwtKFGM48+PjXyiLfdz+8Q8cJK4pLC\nTRIcEkxLkIUNmjYoENoYExPDb775ptQ1Um4+x0M9H6KPvw8XLFxwy8exY7NaWcXTTG0rUFEMvBgQ\nUHz0SGk4cEA0hejUSdQprwx3BZIyUx4CvgXA704evUoj4G+//Xbu41brQN8N7Nq1i2azR4WId3p6\nOoPqBNESaGGL1i2civHFixc57vVx/K7Xd7nb9+zZQ09fT/oH+vPITWnbMTExjIqKoinIRF2Ajk2a\nNylQznbO53Oo0+sY0jCEbdt2po9Pde7du5dBQaE5GaGOSBuj8WU2adLa0QG+EJKTk7lz5858s/XM\nzMzcUgI2m63YY5AilPLkyZMFXo+OjqZHsAcxBPQN8C32OMWRnZ1Nk2oieoFmA/j38qLrxzjlvfcc\non/oEPn8845F0717RXYmQE6fXmZ7Ja5h27Zt+bSyPAS8JMgZeDlSlpljURw/fpxmbzPxKqjRakpc\nXyTq8SiiG4j7wDH/57jtj4uLo+qlUhemIxTR0mzo8KFOj2GfUd+4cYNXr14l6cgItaf1G40vs3Hj\nVsU2HHbGpUuXWK1mNRoUA8e+NpYRbSKo0WiKXHSdN2+eiCwxgGPG5ndnnD17lp6+nrTUKt4Vc+HC\nBba8ryUbhjcscIHLy4+vvcbOnkbObRYmys8mJpbuTS5ZImqL790r6oP7+ooCWxs2kB4eIm1/zRox\nE7e7UyRuze0U8Egp4JUbq9XKxwY+RqNi5D/G/aPE+y1atIiKt0LFU2F0dDSXLFnCexrewyeefIKK\nr0I8BuqMOj457Ml8lRjT09OLbZhgF3GD4T76VwuiVqdlaOPQUov46tWr6RHqQTwH+lbzpSXIQowE\n9QY9FyxY4DSDNKx5mOi7+TjoX8u/wPazZ89y8+bNxcbOj58wnroIHdEBjHo8yvmgCxdEPe8//hC+\n6ddeE42IS8vcuWKW3bIl+cYb9tVgUafF7jY5cEDMxqUP3O2paAGPAnAOQAaAiwB+kAJe+fjmm2Vc\ntOjr4gcWwfHjx3Pjts0WMzEYVP1VvjjqRUbeF8m1a9fmG79nzx6qnirNFrOjTVkhnD9/nkOHPiNi\ntp8GtbW0XLHCeZXDwkhMTGRQ7SDqTXq+PuF11giuQZ2qozZYS6Wmwjl5ekheuHCB7Tu3Z516dUQG\nphaEBmzQtEHu3UFpWLFiBdUqKi01LJw8pYiyt3nvrGy2UnV5z8jI4McffMA5oaHM1utFos+nnzpC\nesqptZykclHRAl5SXP053JVcu3aNkyd/SEUJoqLU4uzZX5TLccNahFFtqNLDx6PQdmYjXhpBdATR\nFRz41EDabDaOf2s87+1wr1NB37dvH/WeesJDJMzExsaW2q6srKzcmXtqaiof6f0IdZE6GhsZ+d77\njiJVL7/6MnWROmrv1XLAoAEMqBlAtAJNQSYuL8Q3/fG/Pqannyd79+/tdIF19+7djI6Odt6MoRx4\nZewrNNXRUqmh479nzCDHjhUz759+IidMEBmWUsTvOCAF/O4kMTGRAQG1CfgROEbgRLmJ+NWrV/n1\n11/zeN46IDexbds2mj3MNFlM3LRpk5iRB6hEL7BK9SoFxlutVg4ZPoRVa1Tl9BnlswgXFxfHqMej\nOHT40HxZpLNnz6ZaXaUaqHLqx1NZu35toh4IFVyyZInTYxlMBuJ50FTFlFvx8XYy5Jkh1DfX0tjI\nKLoTrVghaoKTYjY/c2b+tmqSOwJIAb/7SExMZLVqdQgE5Ii3/U77JFU1uFTulGvXrjG8VTg9fDy4\nYmXp3BrXrl3L7c35119/UfFSaGpmYpMWTUiKGXNSUhKzs7MZHx9Pm83Gz+Z8Ru+q3uwZ1bNEUSTF\ncfXqVUa2jWSV6lW4adMmkuJisWTJEq5atYo2m41NWzYlOoGmQBPHjh3L5ORkksJt8ehjj7J2/do0\neBiIqmLBc2febvC3iUu//86BnmYO79yBKZcukQ88QL78csl2zs4W9cTtXLsma4K7CZACfudgs9k4\nYcI77NatT6GRKomJiQwNbU6drjeBQAJH8gj4cSpKEJcscXQsz8rK4vnz5wu99V+0aBHVhioxAAwN\nCy2wPSUlhW+Mf4Nv/fOtImO3SeEXnz59Oi9evMi4uDgGBAVQZ9CxRu0a1Jv17NO/Dy3eFuIZ0BJo\n4Y4dO0rx6Thn3rx5VBorRF+wSYS4cAwaOoh6k56Nmzdmeno6q9eqTo23hjCAlhALm0Y0JUmuXLmS\nlroWIgoiOzMcNPuYuX//fqamppbOXRIfL6oH2jl82Hkhqi1bxGzazocfknv2iOdHj4qStgA5ZIgQ\n5pLw3XeiT+elS6IsbYsW5DfflNx2icuAFPA7A5vNxtdf/ydVNYxmcz+2b/+Q02ScBQsW0GisTuB/\nBL7OI+LHqdX6c948R1JKZmYmG4U3okExFBo9MendSYRelGN9dsSzBbY/NuAxIkRU/OvWvVuh9s/6\nbBYbhjfMdY8sXrxY1OzuA2oUDfEGCIAdu3akpZaF3lW8c2O6C2Pz5s2c8OYEp3HcdmJiYqh6iwXG\nUa+Oos1mo0arIf4P1HvqGdIkhFqdluglXCgYLrI7bTYbDx8+TNVLpeUeC9u0a0ODh4EavSa3+UOX\nh7uUXMQXLBDZkufOce2UKRzkYeKeuXMLjouNFSGC06eTkyaJGuH2zyEtTYQRAqKXZkmx2USLt8BA\nEWo4bpyMUHETIAXc/ckr3qKXZRYVZaBTEbfZbHzuuVFU1dY5Ir6YgD81miqcMSN//8lDhw5RqaIQ\nrwvxdBZq5x/kTwwFldoK1+WtlpdDq/taEeEgaoN+AX5O7b927RoNZgMxGDQoBl6+fJnnzp2jX4Af\nDYqB1YOrU2/Ss++AvszMzMwtQlUUf/31FxVvhdpWWgbXCy5y7MmTJ7ljx47c9zfwqYHUGXTU+GqI\n3qCHrweDQ4PZNLIpA2oG8N+fOj6n33//natWreInn3xCU4SJ6JMTtTIeNKiGAklLRTJtGi8ANOtB\ndAFVT5VZzlwZsbGO6JK84v3AA2Lm/ccfQoy/+qrk505MdBxT+srdBkgBd38WLVpEkymQ+RsRZ9Fk\neoiDBj1TYHxeETcaRzEwMIRz584rMO769esMbxVOnVHHgU8NdHrugU8NpKWGhZ5+nk4jQ44caj6Z\nRgAAEuBJREFUOUKLn4UwgHM+n1Ngu9VqZWxsLP0C/KiEK/Sp6pPr/klPT2d8fDytVisvXbqUbzab\nmZnJRYsWFRqCeOjQIRGD/hDoV835haMwbDYbd+/eTcVLodJYYet2rYvd59ixY/T09aRBMdCrqhdh\nBKsGVXXqNsrKymJ0dHTBnpy//MJ4u4B3Ai3eFudup0mTSItFNIewZ1UmJYlO9/bxR4+WfBZud5uM\nG0e+9ZbDnSKp9EAKuPsTGxvLatXuoU43M4+A76Kq+nPLli1O97HZbHzhhVcYFnZvkbHNVquViYmJ\nhboCsrOzuWfPnmLdGc5m71arlfd3up86k44Nwxpy5syZ/PvvvwuMO336dIEMxiHDh1ANUalWUQtt\ntvzpZ5/y4T4Pi+JQt8C+ffsY0SqCBk8DH+n9SLHjU1NTeezYMepNemKEuJu4ePFigXGDhw2mpaaF\nqrfqKGP7yy+iBdsPP/CH4cP5nK8n927YQFKsW+QK+TffONwmdndKIY0onJKQIPzodvbvFz00x48X\nbhObjXz7bTJnQZdpaWTexWJZFrdSASngdwZnzpzJI+JCvDdv3lzsfhUVl1wS4uLiqDfrCS8QVcDQ\nxqEFZpw//fQTFU+Fio+SbwbftmNbojOo1Ff4+eefV4h9sbGxwh3yJAgdSlQzPCsri7Xq1qJHiAcD\ngwOdZmne0+Aeoj9oCbVw2bJl4sWffyZ/+MEx6PPPyVOn+Mzzz1Bn1LFhs4YiazUjI//sOC4uv8AW\nR0yMSKVfv57ct08837iRXLbMkTh0/bpIy7f7xvv3F1Epp06RtWuLOiuSSgGkgN852EXcbPYtkXi7\nGqvVysg2kaKt2UjhZ28a2TRfeOCbb71JTWsN0QPs3rt77uu//fYbI9pGsO+AvsWm45PkF3O/YIs2\nLThvfkFXUV4yMjL43Xff8ciRI0xOTha1UEJF8lBhPTovX77MF0a+wInvTMyt5bJx40YmFlLLZO3a\ntfQP8meHLh2YmprKhIQErl271ul4g8lAjAEtNSz8j73LfVnZu9fh7167Vgj1oEGiEXNSkui3+eij\nQrQzMsgePURqfmAgOXt2+dggKRcgBfzO4vz58zzgRi2xsrOz2ad/HyGUnUCztzlfAtCJEycYWDuQ\nXr5etxxffeXKFRoVI/E4aDAbiqyj0jOqJy11hXsjJiZGfEEaigiUwtL3+w7oS30LPZV7Sn83cP36\ndQYGB9KjngcDawcWiG1/8uknaVAMrNeoXrl0JCIpZt52Abe7X7KyyH79xGvduolZuJ0//3SMl/Hh\nlQqUQMC1Fa/fkvIiKCgIERFFFX6sXOh0OqxZsQZRfaOg26NDs6bNULdu3dzt9erVw4UzF5B0NQnt\n27dHUlISli5dihMnTgAAMjIyYLVaizyHoigwK2YYTxqhWlSYzeZCx/52+DektUiDxk+D2NhYhDQO\nAc4CRhjRpk0bp/sYDAZosjWATbyf0pCUlISEywlIfTAVly9expo1a/D44McRHR0NAFi8YDFiT8Xi\n6OGjsFgspTq2U377DXjkEeCLL4D//hd49llg0ybg5Eng+nUx5vp1wGoVkt29O/DAA8D06UCHDkBQ\nEJCWVnY7JHcUrr6QSVyMzWbjlStXivXJh7cMp6WBhR4+HvzkX59Qb9TTP9CfZ8+eJSkiV77//ntu\n2rSJmzdv5vLly/nG+De4c+dOzpgxI7c/aGFs2LCBwaHBfPChBxnRJoI9o3qybsO6VKurrBNax2mJ\n3atXr3LsuLGcOm1qAR/+wYMH2fL+lhzw5IDc6BqbzcYnn36SqpfKLg914dPPPs2qgVU5ZtwYmiwm\nohtoUk25GZ/lyuXL5I8/kh06iKiTvXtF5InFQvbsKfzgdndKVhb5wguiFO3ChcKF0rIlWURJXMnt\nBdKFInEnFA9FVDoMUFm3YV3iCdAcbubsHN9s245taa5lJgygyddEvZeemuYaRrSNKPE5Fi1aRN8a\nvkQYaKxvFIk9Y0CjhzG34mJJad2utVhsDVU4b57wvx8/fpxmHzPxkqhyqHqpvHLlClNSUsT76wAq\nHkr5uUycYQ8dVFWxMDlvnsNtkpUl6obbmTVLuE9upbytpEKBFHCJO/H111+zdmhtPj/yeU6ZOoUm\nDxM9fT1z/eaKh0I8DcIbRH3ReBhasQiZd2E3OTmZBw8eZFZWFq9evZq7EHrhwgWaPERnHOhEarzW\nrCV0oIefR6mjdp4Y8gSVegpVPzU3pDM1NZUBQQGEn8hQNVqMuTH0u3bt4siXR3L37t3l8XEVzbvv\nCmHu37/wzMvjx0V25sCBIszRmV2rVpG7donnNhs5daqIjpFUOJACLnFnzp07x6Q8scmzP59N3wBf\n+lb3ZXC9YBq9jcSjICLBzp07kxR9P6vXqk7VX2XTyKY0KkZ6+njy8OHDTExMpOqpUnOvhoqnwlmz\nZlGtqhKPicSa0pKRkcGFCxdy69at+V6/cuUKJ06cyIj7Ijhz1sxC9q5APv1UzLwPHHAk8dws4jYb\nef/9Is2fJKOjyfr1C9ZoiY4W4r5rlyhjGxEhZviSCgdSwCV3Mp27dRZNGfTIdWHs3buXlmoW4pWc\n2XkUqGut4+TJotnCr7/+yokTJ/LIkSOiQNg/JzC8dbjTUgFuib3jj90ddOWKqFzorLPQzUXRCmsy\nER3tiFSR4n3bQAkEXHObBPw2nEZyN7F161b0HtAb2eZsdGvdDRvWbAAAZGVloXOPztizfQ/atmuL\nX375BUaDEft+3YemTZu62Go3hATGjQM++QTQ6YDt24F27Vxt1V2BRqMBitFoGUYoqRTExcXhxx9/\nREZGRonGR0dHI92SjhuNbuBc3Lnc1w0GA3Zu3YnsrGycOn0KvJ/QqlqkyfC4W2PKFGDbNuDKFRGS\n2LcvcOyYq62S5KB3tQESSUJCAhqHN0a2JRvN6jTDL9t/KXafmD9ixJMDQJsBIoZ75OiRWPzVYgwY\nOAAJiQlISk6CNlkLZAGenp4V+RbuXAYNAl54AfDzA7p1A7ZuBUJDXW2VJAc5A5e4nL///hvZ+myk\ndU7Dwf0HS7RPn559oKQqUGwKBg4ciISEBMyfNx9pQ9Ow6MtF+OHoD8isk4lG2Y2w5ts1aNKkSQW/\nizuU2rWFeNtp1ky4UiSVAingEpfTsmVL9HigB3w3+mLa1GnFjs/MzMSWn7fA18cXn8/6HJ06dYKv\nry9qBteEx1oP+FX1g+GaAco1Bb169cJDDz1UZhvj4+Oxbt06JCcnl/lYEkl5IRcxJW7HihUr8Mz4\nZ5DWLA11j9XFqaOnkJCQgCkfTYFOq8OECRPw008/IS0tDYMGDYJeXzZPYXJyMuqE1sENzxuoqdbE\n0UNH7QtMEkmFUZJFTOkDl7gdDRo0gC3RBsthC8JbhgMABj89GNvOb4PxkhHt2rXDY489Vm7ni4uL\nQ+aNTGQ8mIETC0/AarWW+aJQGqZ9Mg1TPp6CPo/2wfzP58uLhyQX6UKRuB3h4eH4ddev+GrqV1i2\neBkAID0jHTbFBhhR4kiWktKgQQM8Negp+G/yx0dTP7qt4p2dnY03Xn8DVx+9imUrl+GYjACR5EG6\nUCR3BGfOnMGEiRNQv159/PPNf5a6cmBlhSTCWoThbOpZGFIMOHPiDLy8vFxtluQ2UBIXihRwyV3N\n+x++j6Url+L1V17H0KFDXW2OU1JSUrBjxw60bNkS1atXd7U5ktuEFHCJpAhOnz6NxuGNkdkrE/pV\neqSnpsNgMLjaLIkEgMzElEiKxMfHBwa9AcoRBf7V/Cvct71v3z7MmTMHV65cqdDzSO4eyiLg0wAc\nBRADYAYApVwskkjKAZvNhomTJiJqQBT++usvp2N8fX2x7z/7MP3F6dj/6/4Kje44efIkOnXphDGz\nx6DLw11Kvf+mTZsQ0jgEg4YOQnZ2dgVYKHFHyvIf2xXATznPvwDwK4AFTsZJF4rktrNmzRo8OfpJ\npNdJR0R2BA7854BL7dm9eze69+uOtLZpqPJrFSTGJ5Zq/8A6gYiPjIdlvwUr5qzAww8/XEGWSioL\nFe1C2QLAlvOIBtCxDMeSSMoVT09P4DqgT9HDy8sL02dOh0kxoU2HNuUeZlgS7r//fjw/5HmEx4dj\n6VdLix1/9OhR9OjdA2NfGwur1YrGjRrDctgCJjFfX1HJ3U153TNGA5gPYKWTbXIGLnEJy5cvx9Fj\nRzHqpVEIbRyKpKgkeGz2wHdzv0O3bt1cbV6RRLaNRIwxBmqsii+nfomePXti3bp1CAsLk2Vx7xLK\nIxNzCwBncUsTAGzIeT4RQAqci7dE4jIGDhyY+7xr167YtG4T9NSjWbNmLrSqZFStWhWGMwYgDfDz\n84OqqnjiiSdcbZakklHWGfgwAM8B6Awgs5AxfPvtt3N/6dSpEzp16lTG00okpcNqtSImJgZ169ZF\nlSpVKvx8e/bsQWJiInr16gWttvSeymvXrmHu3LkIDQ1F3759K8BCSWVj+/bt2L59e+7vkyZNAiow\nDrw7gE8AdABQVFyUdKFI7iq+//57PD7kcWhUDV4c/CKmTSm+wqJEcjMVvYg5C4AHgK0ADgKYXYZj\nSSQVyqFDh3DmzJnbcq4///wTWYFZSKufhoO/l6y+uURyK8hMTMkdz7RPpuGdD94Bs4nN329Guwru\n6Xj16lX0HdgXly9fxrKvliE8PLxCzye5M5HlZCUSABujNyL9vnTo4/TYtWtXhQu4n58ftm/eXqHn\nkEgAOQOX3AX8/PPPiOofBd8qvti5dSeCg4NdbZJEUiyymJVEIpG4KbKYlUQikdzBSAGX3HXs3LkT\nz414Djt27HC1KRJJmZAuFMldRWpqKgJqBCCjVQbM+8y4HHdZ1E2ppMTGxqLrI12RkpKCdSvXoXXr\n1q42SXKbkC4UieQmSIIkoANA8XtlZsGCBTilnMLFBhcx6cNJrjZHUsmQAi65q/D09MTGdRsxKGgQ\nNqzdUOn7S7Zt2xamEyaoB1V07tDZ1eZIKhnShSKRVHKOHDmCtLQ06T65y5BhhBKJROKmSB+4RCKR\n3MFIAZdIJBI3RQq4RCKRuClSwCUSicRNkQIukUgkbooUcIlEInFTpIBLJBKJmyIFXCKRSNwUKeAS\niUTipkgBl0gkEjdFCrhEIpG4KVLAJRKJxE2RAi6RSCRuihRwiUQicVOkgEskEombIgVcIpFI3BQp\n4BKJROKmSAGXSCQSN6UsAv4egEMAfgPwNYAq5WKRRCKRSEpEWQR8KoBwAM0BnADwSrlY5CK2b9/u\nahNKhLSz/HAHGwFpZ3njLnaWhLIIeErOTz0AC4DMspvjOtzljyrtLD/cwUZA2lneuIudJaGsPvDJ\nAC4CaAfg47KbI5FIJJKSUpyAbwHwu5NHr5ztbwIIBrAXwEcVZKNEIpFInKApp+M0BTAPQBsn204C\nCCmn80gkEsndwikA9Srq4KE5P/UAPgDwWkWdSCKRSCTlyyoId8peiIgUX9eaI5FIJBKJRCKRSPIx\nFoANgJ+rDSkEd0lMmgbgKIAYADMAKK41p1D6AzgCwAogwsW2OKMDxOd4AsDLLralMBYCuARxp1uZ\nqQVgG8TfezuAQS61pnDMAP4L8R3/FcA/XGtOkegAHASwwdWGAOIP/COA06i8Au6Z5/lEAO+6ypBi\n6AoRPaSFWDge7lpzCqUhgPoQX+zKKOAHIUS8NoBjAKq61hyntAfQApVfwKtDJPQB4nP8G/m/T5UJ\nNeenCcAfqMBFwjIyBsA3ANYXNeh21UL5Fyr/Iqe7JCZtgbiTsQGIBtDRteYUyjEAf7naiELwzvm5\nE0AsgM0A7nWdOYWyC8A1VxtRAi5CzGoBIBFiJt7SdeYUSXrOTw+I7/p1F9pSGDUBPAxgPoqJFLwd\nAt4bwHkAh2/DucqKuyUmPYdKcovlZrSCuMDY+RPOQ2AlpacegCYQwQ2VES2Eq/QSgE8BnHOtOU6Z\nDmAcxCStSPTldMItELdRN/MmgPEAuuV5rbxiz2+FwuycACGEb0KI+GSIxCRX+ciKsxMQbp4UACtv\nl1FOKImdkrsHTwDfQnxv0lxsS2HYIGo41QGwCcAeCHdaZaEngMsQNnVyrSlAGMSV7nTOIwvAGQAB\nLrSpJDSFWOSorAyD+Mczu9iOklAZfeDeyP+lnQXgERfZUhx1UPl94ABggHBFvepqQ0rBxwBGuNqI\nm/gA4q7gNIB4iAvhYpdalIfKvIjpLolJ3SF8jJU1SuZmtgGIdLURTrAvYtZB5V3EBNxDwDUQIvMv\nVxtSDFUB+OQ8rwLh1q3hOnOKpSMq2Z3s36i8Au4uiUknIBbeDuY8ZrvWnEKJgphJZECsK/zgWnMK\n0BEijPAkgNEutqUwlgGIg1hoOwfgadeaUyjtIFwTv8Hxf9ndpRY5pylE+O0hiACAIa41p1g6opgo\nFIlEIpFIJBKJRCKRSCQSiUQikUgkEolEIpFIJBKJRCKRSCQSiUQikUgkEolEchv4f/F1HOSRBm3S\nAAAAAElFTkSuQmCC\n",
       "text": [
        "<matplotlib.figure.Figure at 0x11164c310>"
       ]
      }
     ],
     "prompt_number": 177
    },
    {
     "cell_type": "code",
     "collapsed": false,
     "input": [
      "distancesDF.head()"
     ],
     "language": "python",
     "metadata": {},
     "outputs": [
      {
       "html": [
        "<div style=\"max-height:1000px;max-width:1500px;overflow:auto;\">\n",
        "<table border=\"1\" class=\"dataframe\">\n",
        "  <thead>\n",
        "    <tr style=\"text-align: right;\">\n",
        "      <th></th>\n",
        "      <th>class</th>\n",
        "      <th>Cluster0</th>\n",
        "      <th>Cluster1</th>\n",
        "      <th>Cluster2</th>\n",
        "      <th>Cluster3</th>\n",
        "    </tr>\n",
        "  </thead>\n",
        "  <tbody>\n",
        "    <tr>\n",
        "      <th>0</th>\n",
        "      <td>   MATH102</td>\n",
        "      <td> 1.946309e-01</td>\n",
        "      <td> 0.281167</td>\n",
        "      <td> 2.957746e-01</td>\n",
        "      <td> 2.512315e-01</td>\n",
        "    </tr>\n",
        "    <tr>\n",
        "      <th>1</th>\n",
        "      <td>  MATH102L</td>\n",
        "      <td>-1.179612e-16</td>\n",
        "      <td> 0.084881</td>\n",
        "      <td>-4.857226e-17</td>\n",
        "      <td> 1.477833e-02</td>\n",
        "    </tr>\n",
        "    <tr>\n",
        "      <th>2</th>\n",
        "      <td>   MATH103</td>\n",
        "      <td> 4.026846e-02</td>\n",
        "      <td> 0.053050</td>\n",
        "      <td> 7.042254e-02</td>\n",
        "      <td> 4.433498e-02</td>\n",
        "    </tr>\n",
        "    <tr>\n",
        "      <th>3</th>\n",
        "      <td> MATH103A1</td>\n",
        "      <td> 6.711409e-03</td>\n",
        "      <td> 0.007958</td>\n",
        "      <td> 1.734723e-17</td>\n",
        "      <td> 2.955665e-02</td>\n",
        "    </tr>\n",
        "    <tr>\n",
        "      <th>4</th>\n",
        "      <td>  MATH103L</td>\n",
        "      <td> 6.711409e-03</td>\n",
        "      <td> 0.029178</td>\n",
        "      <td>-5.204170e-18</td>\n",
        "      <td>-1.561251e-17</td>\n",
        "    </tr>\n",
        "  </tbody>\n",
        "</table>\n",
        "</div>"
       ],
       "metadata": {},
       "output_type": "pyout",
       "prompt_number": 162,
       "text": [
        "       class      Cluster0  Cluster1      Cluster2      Cluster3\n",
        "0    MATH102  1.946309e-01  0.281167  2.957746e-01  2.512315e-01\n",
        "1   MATH102L -1.179612e-16  0.084881 -4.857226e-17  1.477833e-02\n",
        "2    MATH103  4.026846e-02  0.053050  7.042254e-02  4.433498e-02\n",
        "3  MATH103A1  6.711409e-03  0.007958  1.734723e-17  2.955665e-02\n",
        "4   MATH103L  6.711409e-03  0.029178 -5.204170e-18 -1.561251e-17"
       ]
      }
     ],
     "prompt_number": 162
    },
    {
>>>>>>> origin/master
     "cell_type": "heading",
     "level": 1,
     "metadata": {},
     "source": [
      "One Hot Part"
     ]
    },
    {
     "cell_type": "code",
     "collapsed": false,
     "input": [
      "\n",
      "encoder=sklearn.preprocessing.OneHotEncoder(n_values=3)\n",
      "X=data[data.columns[6:]]\n",
      "X_pos=X+1\n",
      "encoder.fit(X_pos)"
     ],
     "language": "python",
     "metadata": {},
     "outputs": [
      {
       "metadata": {},
       "output_type": "pyout",
       "prompt_number": 178,
       "text": [
        "OneHotEncoder(categorical_features='all', dtype=<type 'float'>, n_values=3,\n",
        "       sparse=True)"
       ]
      }
     ],
     "prompt_number": 178
    },
    {
     "cell_type": "code",
     "collapsed": false,
     "input": [
      "X_enc = encoder.transform(X_pos).toarray()\n",
      "K = range(1, 20)\n",
      "meandistortions = []\n",
      "for k in K:\n",
      "    kmeans = KMeans(n_clusters=k)\n",
      "    kmeans.fit(X_enc)\n",
      "    meandistortions.append(sum(np.min(cdist(X_enc, kmeans.cluster_centers_, \\\n",
      "                                            'euclidean'), axis=1)) / X_enc.shape[0])\n",
      "plt.plot(K, meandistortions, 'bx-')\n",
      "plt.xlabel('k')\n",
      "plt.ylabel('Average distortion')\n",
      "plt.title('Selecting k with the Elbow Method')\n",
      "plt.show()"
     ],
     "language": "python",
     "metadata": {},
     "outputs": [
      {
       "metadata": {},
       "output_type": "display_data",
       "png": "iVBORw0KGgoAAAANSUhEUgAAAYQAAAEZCAYAAACXRVJOAAAABHNCSVQICAgIfAhkiAAAAAlwSFlz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\nREREREREREQk1f4fp1LzGH96IRIAAAAASUVORK5CYII=\n",
       "text": [
        "<matplotlib.figure.Figure at 0x1105a7290>"
       ]
      }
     ],
     "prompt_number": 164
    },
    {
     "cell_type": "code",
     "collapsed": false,
     "input": [
      "tests = np.arange(2,6)\n",
      "\n",
      "\n",
      "for t in tests:\n",
      "   kmeans_model = KMeans(n_clusters=t).fit(X_enc)\n",
      "   print \"K=\",t,\" silhouette score\", metrics.silhouette_score(X_enc, kmeans_model.labels_,metric='euclidean')\n",
      "\n"
     ],
     "language": "python",
     "metadata": {},
     "outputs": [
      {
       "output_type": "stream",
       "stream": "stdout",
       "text": [
        "K= 2  silhouette score "
       ]
      },
      {
       "output_type": "stream",
       "stream": "stdout",
       "text": [
        "0.216243613585\n",
        "K="
       ]
      },
      {
       "output_type": "stream",
       "stream": "stdout",
       "text": [
        " 3  silhouette score "
       ]
      },
      {
       "output_type": "stream",
       "stream": "stdout",
       "text": [
        "0.145575616242\n",
        "K="
       ]
      },
      {
       "output_type": "stream",
       "stream": "stdout",
       "text": [
        " 4  silhouette score "
       ]
      },
      {
       "output_type": "stream",
       "stream": "stdout",
       "text": [
        "0.147453796228\n",
        "K="
       ]
      },
      {
       "output_type": "stream",
       "stream": "stdout",
       "text": [
        " 5  silhouette score "
       ]
      },
      {
       "output_type": "stream",
       "stream": "stdout",
       "text": [
        "0.156800018814\n"
       ]
      }
     ],
     "prompt_number": 165
    },
    {
     "cell_type": "code",
     "collapsed": false,
     "input": [
      "kmeans_model = KMeans(n_clusters=2).fit(encoder.transform(X_pos).toarray())\n",
      "         \n",
      "columns_onehot=np.asarray([[c+' fail',c+' DNE',c+' pass'] for c in data.columns[6:]]).flatten()\n",
      "distancesDF=getDistancesDF(columns_onehot, kmeans_model,k=kmeans_model.n_clusters)\n",
      "gradClustersDF=printClusters( data, kmeans_model.labels_,k=kmeans_model.n_clusters)\n",
      "plotPCA(data[data.columns[6:]],kmeans_model.labels_,k=kmeans_model.n_clusters,norm=False)\n"
     ],
     "language": "python",
     "metadata": {},
     "outputs": [
      {
       "output_type": "stream",
       "stream": "stdout",
       "text": [
        "total non-graduates 767\n",
        "0 cluster 444\n",
        "1 cluster 323\n",
        "total graduates 33\n",
        "0 cluster 1\n",
        "1 cluster 32\n"
       ]
      },
      {
       "metadata": {},
       "output_type": "display_data",
       "png": "iVBORw0KGgoAAAANSUhEUgAAAXAAAAEACAYAAACqOy3+AAAABHNCSVQICAgIfAhkiAAAAAlwSFlz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\nAABJRU5ErkJggg==\n",
       "text": [
        "<matplotlib.figure.Figure at 0x11262bb10>"
       ]
      }
     ],
     "prompt_number": 183
    },
    {
     "cell_type": "code",
     "collapsed": false,
     "input": [
      "distancesDF['Distance']=distancesDF['Cluster0']-distancesDF['Cluster1']\n",
      "distancesDF.sort('Distance', ascending=False).head(20)"
     ],
     "language": "python",
     "metadata": {},
     "outputs": [
      {
       "html": [
        "<div style=\"max-height:1000px;max-width:1500px;overflow:auto;\">\n",
        "<table border=\"1\" class=\"dataframe\">\n",
        "  <thead>\n",
        "    <tr style=\"text-align: right;\">\n",
        "      <th></th>\n",
        "      <th>class</th>\n",
        "      <th>Cluster0</th>\n",
        "      <th>Cluster1</th>\n",
        "      <th>Distance</th>\n",
        "    </tr>\n",
        "  </thead>\n",
        "  <tbody>\n",
        "    <tr>\n",
        "      <th>100</th>\n",
        "      <td>  MATH320 DNE</td>\n",
        "      <td> 0.923596</td>\n",
        "      <td> 0.061972</td>\n",
        "      <td> 0.861624</td>\n",
        "    </tr>\n",
        "    <tr>\n",
        "      <th>112</th>\n",
        "      <td>  MATH340 DNE</td>\n",
        "      <td> 0.961798</td>\n",
        "      <td> 0.129577</td>\n",
        "      <td> 0.832220</td>\n",
        "    </tr>\n",
        "    <tr>\n",
        "      <th>82 </th>\n",
        "      <td>  MATH262 DNE</td>\n",
        "      <td> 0.804494</td>\n",
        "      <td> 0.005634</td>\n",
        "      <td> 0.798861</td>\n",
        "    </tr>\n",
        "    <tr>\n",
        "      <th>73 </th>\n",
        "      <td>  MATH250 DNE</td>\n",
        "      <td> 0.793258</td>\n",
        "      <td> 0.002817</td>\n",
        "      <td> 0.790442</td>\n",
        "    </tr>\n",
        "    <tr>\n",
        "      <th>118</th>\n",
        "      <td>  MATH350 DNE</td>\n",
        "      <td> 0.993258</td>\n",
        "      <td> 0.295775</td>\n",
        "      <td> 0.697484</td>\n",
        "    </tr>\n",
        "    <tr>\n",
        "      <th>121</th>\n",
        "      <td>  MATH351 DNE</td>\n",
        "      <td> 0.995506</td>\n",
        "      <td> 0.433803</td>\n",
        "      <td> 0.561703</td>\n",
        "    </tr>\n",
        "    <tr>\n",
        "      <th>52 </th>\n",
        "      <td> MATH150B DNE</td>\n",
        "      <td> 0.611236</td>\n",
        "      <td> 0.050704</td>\n",
        "      <td> 0.560532</td>\n",
        "    </tr>\n",
        "    <tr>\n",
        "      <th>124</th>\n",
        "      <td>  MATH360 DNE</td>\n",
        "      <td> 0.993258</td>\n",
        "      <td> 0.433803</td>\n",
        "      <td> 0.559456</td>\n",
        "    </tr>\n",
        "    <tr>\n",
        "      <th>190</th>\n",
        "      <td>  MATH462 DNE</td>\n",
        "      <td> 0.995506</td>\n",
        "      <td> 0.436620</td>\n",
        "      <td> 0.558886</td>\n",
        "    </tr>\n",
        "    <tr>\n",
        "      <th>145</th>\n",
        "      <td> MATH382L DNE</td>\n",
        "      <td> 0.986517</td>\n",
        "      <td> 0.571831</td>\n",
        "      <td> 0.414686</td>\n",
        "    </tr>\n",
        "    <tr>\n",
        "      <th>142</th>\n",
        "      <td>  MATH382 DNE</td>\n",
        "      <td> 0.986517</td>\n",
        "      <td> 0.571831</td>\n",
        "      <td> 0.414686</td>\n",
        "    </tr>\n",
        "    <tr>\n",
        "      <th>133</th>\n",
        "      <td>  MATH370 DNE</td>\n",
        "      <td> 0.995506</td>\n",
        "      <td> 0.608451</td>\n",
        "      <td> 0.387055</td>\n",
        "    </tr>\n",
        "    <tr>\n",
        "      <th>79 </th>\n",
        "      <td> MATH255B DNE</td>\n",
        "      <td> 0.907865</td>\n",
        "      <td> 0.546479</td>\n",
        "      <td> 0.361386</td>\n",
        "    </tr>\n",
        "    <tr>\n",
        "      <th>43 </th>\n",
        "      <td> MATH150A DNE</td>\n",
        "      <td> 0.505618</td>\n",
        "      <td> 0.169014</td>\n",
        "      <td> 0.336604</td>\n",
        "    </tr>\n",
        "    <tr>\n",
        "      <th>76 </th>\n",
        "      <td> MATH255A DNE</td>\n",
        "      <td> 0.847191</td>\n",
        "      <td> 0.512676</td>\n",
        "      <td> 0.334515</td>\n",
        "    </tr>\n",
        "    <tr>\n",
        "      <th>205</th>\n",
        "      <td> MATH481A DNE</td>\n",
        "      <td> 0.995506</td>\n",
        "      <td> 0.707042</td>\n",
        "      <td> 0.288463</td>\n",
        "    </tr>\n",
        "    <tr>\n",
        "      <th>148</th>\n",
        "      <td>  MATH391 DNE</td>\n",
        "      <td> 0.979775</td>\n",
        "      <td> 0.715493</td>\n",
        "      <td> 0.264282</td>\n",
        "    </tr>\n",
        "    <tr>\n",
        "      <th>85 </th>\n",
        "      <td>  MATH280 DNE</td>\n",
        "      <td> 0.950562</td>\n",
        "      <td> 0.687324</td>\n",
        "      <td> 0.263238</td>\n",
        "    </tr>\n",
        "    <tr>\n",
        "      <th>172</th>\n",
        "      <td> MATH440A DNE</td>\n",
        "      <td> 1.000000</td>\n",
        "      <td> 0.743662</td>\n",
        "      <td> 0.256338</td>\n",
        "    </tr>\n",
        "    <tr>\n",
        "      <th>115</th>\n",
        "      <td>  MATH341 DNE</td>\n",
        "      <td> 0.975281</td>\n",
        "      <td> 0.721127</td>\n",
        "      <td> 0.254154</td>\n",
        "    </tr>\n",
        "  </tbody>\n",
        "</table>\n",
        "</div>"
       ],
       "metadata": {},
       "output_type": "pyout",
       "prompt_number": 184,
       "text": [
        "            class  Cluster0  Cluster1  Distance\n",
        "100   MATH320 DNE  0.923596  0.061972  0.861624\n",
        "112   MATH340 DNE  0.961798  0.129577  0.832220\n",
        "82    MATH262 DNE  0.804494  0.005634  0.798861\n",
        "73    MATH250 DNE  0.793258  0.002817  0.790442\n",
        "118   MATH350 DNE  0.993258  0.295775  0.697484\n",
        "121   MATH351 DNE  0.995506  0.433803  0.561703\n",
        "52   MATH150B DNE  0.611236  0.050704  0.560532\n",
        "124   MATH360 DNE  0.993258  0.433803  0.559456\n",
        "190   MATH462 DNE  0.995506  0.436620  0.558886\n",
        "145  MATH382L DNE  0.986517  0.571831  0.414686\n",
        "142   MATH382 DNE  0.986517  0.571831  0.414686\n",
        "133   MATH370 DNE  0.995506  0.608451  0.387055\n",
        "79   MATH255B DNE  0.907865  0.546479  0.361386\n",
        "43   MATH150A DNE  0.505618  0.169014  0.336604\n",
        "76   MATH255A DNE  0.847191  0.512676  0.334515\n",
        "205  MATH481A DNE  0.995506  0.707042  0.288463\n",
        "148   MATH391 DNE  0.979775  0.715493  0.264282\n",
        "85    MATH280 DNE  0.950562  0.687324  0.263238\n",
        "172  MATH440A DNE  1.000000  0.743662  0.256338\n",
        "115   MATH341 DNE  0.975281  0.721127  0.254154"
       ]
      }
     ],
     "prompt_number": 184
    },
    {
     "cell_type": "code",
     "collapsed": false,
     "input": [
      "distancesDF.sort('Distance', ascending=False)[(distancesDF.sort('Distance', ascending=False)['Distance']>0.3)|(distancesDF.sort('Distance', ascending=False)['Distance']<-0.2)]"
     ],
     "language": "python",
     "metadata": {},
     "outputs": [
      {
       "html": [
        "<div style=\"max-height:1000px;max-width:1500px;overflow:auto;\">\n",
        "<table border=\"1\" class=\"dataframe\">\n",
        "  <thead>\n",
        "    <tr style=\"text-align: right;\">\n",
        "      <th></th>\n",
        "      <th>class</th>\n",
        "      <th>Cluster0</th>\n",
        "      <th>Cluster1</th>\n",
        "      <th>Distance</th>\n",
        "    </tr>\n",
        "  </thead>\n",
        "  <tbody>\n",
        "    <tr>\n",
        "      <th>100</th>\n",
        "      <td>    MATH320 DNE</td>\n",
        "      <td> 9.235955e-01</td>\n",
        "      <td> 0.061972</td>\n",
        "      <td> 0.861624</td>\n",
        "    </tr>\n",
        "    <tr>\n",
        "      <th>112</th>\n",
        "      <td>    MATH340 DNE</td>\n",
        "      <td> 9.617978e-01</td>\n",
        "      <td> 0.129577</td>\n",
        "      <td> 0.832220</td>\n",
        "    </tr>\n",
        "    <tr>\n",
        "      <th>82 </th>\n",
        "      <td>    MATH262 DNE</td>\n",
        "      <td> 8.044944e-01</td>\n",
        "      <td> 0.005634</td>\n",
        "      <td> 0.798861</td>\n",
        "    </tr>\n",
        "    <tr>\n",
        "      <th>73 </th>\n",
        "      <td>    MATH250 DNE</td>\n",
        "      <td> 7.932584e-01</td>\n",
        "      <td> 0.002817</td>\n",
        "      <td> 0.790442</td>\n",
        "    </tr>\n",
        "    <tr>\n",
        "      <th>118</th>\n",
        "      <td>    MATH350 DNE</td>\n",
        "      <td> 9.932584e-01</td>\n",
        "      <td> 0.295775</td>\n",
        "      <td> 0.697484</td>\n",
        "    </tr>\n",
        "    <tr>\n",
        "      <th>121</th>\n",
        "      <td>    MATH351 DNE</td>\n",
        "      <td> 9.955056e-01</td>\n",
        "      <td> 0.433803</td>\n",
        "      <td> 0.561703</td>\n",
        "    </tr>\n",
        "    <tr>\n",
        "      <th>52 </th>\n",
        "      <td>   MATH150B DNE</td>\n",
        "      <td> 6.112360e-01</td>\n",
        "      <td> 0.050704</td>\n",
        "      <td> 0.560532</td>\n",
        "    </tr>\n",
        "    <tr>\n",
        "      <th>124</th>\n",
        "      <td>    MATH360 DNE</td>\n",
        "      <td> 9.932584e-01</td>\n",
        "      <td> 0.433803</td>\n",
        "      <td> 0.559456</td>\n",
        "    </tr>\n",
        "    <tr>\n",
        "      <th>190</th>\n",
        "      <td>    MATH462 DNE</td>\n",
        "      <td> 9.955056e-01</td>\n",
        "      <td> 0.436620</td>\n",
        "      <td> 0.558886</td>\n",
        "    </tr>\n",
        "    <tr>\n",
        "      <th>145</th>\n",
        "      <td>   MATH382L DNE</td>\n",
        "      <td> 9.865169e-01</td>\n",
        "      <td> 0.571831</td>\n",
        "      <td> 0.414686</td>\n",
        "    </tr>\n",
        "    <tr>\n",
        "      <th>142</th>\n",
        "      <td>    MATH382 DNE</td>\n",
        "      <td> 9.865169e-01</td>\n",
        "      <td> 0.571831</td>\n",
        "      <td> 0.414686</td>\n",
        "    </tr>\n",
        "    <tr>\n",
        "      <th>133</th>\n",
        "      <td>    MATH370 DNE</td>\n",
        "      <td> 9.955056e-01</td>\n",
        "      <td> 0.608451</td>\n",
        "      <td> 0.387055</td>\n",
        "    </tr>\n",
        "    <tr>\n",
        "      <th>79 </th>\n",
        "      <td>   MATH255B DNE</td>\n",
        "      <td> 9.078652e-01</td>\n",
        "      <td> 0.546479</td>\n",
        "      <td> 0.361386</td>\n",
        "    </tr>\n",
        "    <tr>\n",
        "      <th>43 </th>\n",
        "      <td>   MATH150A DNE</td>\n",
        "      <td> 5.056180e-01</td>\n",
        "      <td> 0.169014</td>\n",
        "      <td> 0.336604</td>\n",
        "    </tr>\n",
        "    <tr>\n",
        "      <th>76 </th>\n",
        "      <td>   MATH255A DNE</td>\n",
        "      <td> 8.471910e-01</td>\n",
        "      <td> 0.512676</td>\n",
        "      <td> 0.334515</td>\n",
        "    </tr>\n",
        "    <tr>\n",
        "      <th>173</th>\n",
        "      <td>  MATH440A pass</td>\n",
        "      <td>-5.828671e-16</td>\n",
        "      <td> 0.208451</td>\n",
        "      <td>-0.208451</td>\n",
        "    </tr>\n",
        "    <tr>\n",
        "      <th>206</th>\n",
        "      <td>  MATH481A pass</td>\n",
        "      <td> 4.494382e-03</td>\n",
        "      <td> 0.214085</td>\n",
        "      <td>-0.209590</td>\n",
        "    </tr>\n",
        "    <tr>\n",
        "      <th>215</th>\n",
        "      <td>   MATH490 pass</td>\n",
        "      <td>-4.440892e-16</td>\n",
        "      <td> 0.222535</td>\n",
        "      <td>-0.222535</td>\n",
        "    </tr>\n",
        "    <tr>\n",
        "      <th>50 </th>\n",
        "      <td> MATH150AL pass</td>\n",
        "      <td> 9.213483e-02</td>\n",
        "      <td> 0.321127</td>\n",
        "      <td>-0.228992</td>\n",
        "    </tr>\n",
        "    <tr>\n",
        "      <th>149</th>\n",
        "      <td>   MATH391 pass</td>\n",
        "      <td> 1.573034e-02</td>\n",
        "      <td> 0.247887</td>\n",
        "      <td>-0.232157</td>\n",
        "    </tr>\n",
        "    <tr>\n",
        "      <th>86 </th>\n",
        "      <td>   MATH280 pass</td>\n",
        "      <td> 3.370787e-02</td>\n",
        "      <td> 0.284507</td>\n",
        "      <td>-0.250799</td>\n",
        "    </tr>\n",
        "    <tr>\n",
        "      <th>134</th>\n",
        "      <td>   MATH370 pass</td>\n",
        "      <td> 2.247191e-03</td>\n",
        "      <td> 0.278873</td>\n",
        "      <td>-0.276626</td>\n",
        "    </tr>\n",
        "    <tr>\n",
        "      <th>143</th>\n",
        "      <td>   MATH382 pass</td>\n",
        "      <td>-1.360023e-15</td>\n",
        "      <td> 0.326761</td>\n",
        "      <td>-0.326761</td>\n",
        "    </tr>\n",
        "    <tr>\n",
        "      <th>146</th>\n",
        "      <td>  MATH382L pass</td>\n",
        "      <td>-1.360023e-15</td>\n",
        "      <td> 0.326761</td>\n",
        "      <td>-0.326761</td>\n",
        "    </tr>\n",
        "    <tr>\n",
        "      <th>1  </th>\n",
        "      <td>    MATH102 DNE</td>\n",
        "      <td> 3.865169e-01</td>\n",
        "      <td> 0.718310</td>\n",
        "      <td>-0.331793</td>\n",
        "    </tr>\n",
        "    <tr>\n",
        "      <th>78 </th>\n",
        "      <td>  MATH255B fail</td>\n",
        "      <td> 7.640449e-02</td>\n",
        "      <td> 0.430986</td>\n",
        "      <td>-0.354581</td>\n",
        "    </tr>\n",
        "    <tr>\n",
        "      <th>75 </th>\n",
        "      <td>  MATH255A fail</td>\n",
        "      <td> 1.213483e-01</td>\n",
        "      <td> 0.476056</td>\n",
        "      <td>-0.354708</td>\n",
        "    </tr>\n",
        "    <tr>\n",
        "      <th>191</th>\n",
        "      <td>   MATH462 pass</td>\n",
        "      <td> 2.247191e-03</td>\n",
        "      <td> 0.402817</td>\n",
        "      <td>-0.400570</td>\n",
        "    </tr>\n",
        "    <tr>\n",
        "      <th>44 </th>\n",
        "      <td>  MATH150A pass</td>\n",
        "      <td> 3.820225e-01</td>\n",
        "      <td> 0.814085</td>\n",
        "      <td>-0.432062</td>\n",
        "    </tr>\n",
        "    <tr>\n",
        "      <th>125</th>\n",
        "      <td>   MATH360 pass</td>\n",
        "      <td> 4.996004e-16</td>\n",
        "      <td> 0.459155</td>\n",
        "      <td>-0.459155</td>\n",
        "    </tr>\n",
        "    <tr>\n",
        "      <th>122</th>\n",
        "      <td>   MATH351 pass</td>\n",
        "      <td> 2.247191e-03</td>\n",
        "      <td> 0.470423</td>\n",
        "      <td>-0.468175</td>\n",
        "    </tr>\n",
        "    <tr>\n",
        "      <th>119</th>\n",
        "      <td>   MATH350 pass</td>\n",
        "      <td> 2.275957e-15</td>\n",
        "      <td> 0.501408</td>\n",
        "      <td>-0.501408</td>\n",
        "    </tr>\n",
        "    <tr>\n",
        "      <th>53 </th>\n",
        "      <td>  MATH150B pass</td>\n",
        "      <td> 2.561798e-01</td>\n",
        "      <td> 0.935211</td>\n",
        "      <td>-0.679031</td>\n",
        "    </tr>\n",
        "    <tr>\n",
        "      <th>113</th>\n",
        "      <td>   MATH340 pass</td>\n",
        "      <td> 4.494382e-03</td>\n",
        "      <td> 0.718310</td>\n",
        "      <td>-0.713815</td>\n",
        "    </tr>\n",
        "    <tr>\n",
        "      <th>101</th>\n",
        "      <td>   MATH320 pass</td>\n",
        "      <td> 1.797753e-02</td>\n",
        "      <td> 0.760563</td>\n",
        "      <td>-0.742586</td>\n",
        "    </tr>\n",
        "    <tr>\n",
        "      <th>74 </th>\n",
        "      <td>   MATH250 pass</td>\n",
        "      <td> 1.280899e-01</td>\n",
        "      <td> 0.960563</td>\n",
        "      <td>-0.832473</td>\n",
        "    </tr>\n",
        "    <tr>\n",
        "      <th>83 </th>\n",
        "      <td>   MATH262 pass</td>\n",
        "      <td> 5.393258e-02</td>\n",
        "      <td> 0.943662</td>\n",
        "      <td>-0.889729</td>\n",
        "    </tr>\n",
        "  </tbody>\n",
        "</table>\n",
        "</div>"
       ],
       "metadata": {},
       "output_type": "pyout",
       "prompt_number": 185,
       "text": [
        "              class      Cluster0  Cluster1  Distance\n",
        "100     MATH320 DNE  9.235955e-01  0.061972  0.861624\n",
        "112     MATH340 DNE  9.617978e-01  0.129577  0.832220\n",
        "82      MATH262 DNE  8.044944e-01  0.005634  0.798861\n",
        "73      MATH250 DNE  7.932584e-01  0.002817  0.790442\n",
        "118     MATH350 DNE  9.932584e-01  0.295775  0.697484\n",
        "121     MATH351 DNE  9.955056e-01  0.433803  0.561703\n",
        "52     MATH150B DNE  6.112360e-01  0.050704  0.560532\n",
        "124     MATH360 DNE  9.932584e-01  0.433803  0.559456\n",
        "190     MATH462 DNE  9.955056e-01  0.436620  0.558886\n",
        "145    MATH382L DNE  9.865169e-01  0.571831  0.414686\n",
        "142     MATH382 DNE  9.865169e-01  0.571831  0.414686\n",
        "133     MATH370 DNE  9.955056e-01  0.608451  0.387055\n",
        "79     MATH255B DNE  9.078652e-01  0.546479  0.361386\n",
        "43     MATH150A DNE  5.056180e-01  0.169014  0.336604\n",
        "76     MATH255A DNE  8.471910e-01  0.512676  0.334515\n",
        "173   MATH440A pass -5.828671e-16  0.208451 -0.208451\n",
        "206   MATH481A pass  4.494382e-03  0.214085 -0.209590\n",
        "215    MATH490 pass -4.440892e-16  0.222535 -0.222535\n",
        "50   MATH150AL pass  9.213483e-02  0.321127 -0.228992\n",
        "149    MATH391 pass  1.573034e-02  0.247887 -0.232157\n",
        "86     MATH280 pass  3.370787e-02  0.284507 -0.250799\n",
        "134    MATH370 pass  2.247191e-03  0.278873 -0.276626\n",
        "143    MATH382 pass -1.360023e-15  0.326761 -0.326761\n",
        "146   MATH382L pass -1.360023e-15  0.326761 -0.326761\n",
        "1       MATH102 DNE  3.865169e-01  0.718310 -0.331793\n",
        "78    MATH255B fail  7.640449e-02  0.430986 -0.354581\n",
        "75    MATH255A fail  1.213483e-01  0.476056 -0.354708\n",
        "191    MATH462 pass  2.247191e-03  0.402817 -0.400570\n",
        "44    MATH150A pass  3.820225e-01  0.814085 -0.432062\n",
        "125    MATH360 pass  4.996004e-16  0.459155 -0.459155\n",
        "122    MATH351 pass  2.247191e-03  0.470423 -0.468175\n",
        "119    MATH350 pass  2.275957e-15  0.501408 -0.501408\n",
        "53    MATH150B pass  2.561798e-01  0.935211 -0.679031\n",
        "113    MATH340 pass  4.494382e-03  0.718310 -0.713815\n",
        "101    MATH320 pass  1.797753e-02  0.760563 -0.742586\n",
        "74     MATH250 pass  1.280899e-01  0.960563 -0.832473\n",
        "83     MATH262 pass  5.393258e-02  0.943662 -0.889729"
       ]
      }
     ],
     "prompt_number": 185
    },
    {
     "cell_type": "code",
     "collapsed": false,
     "input": [
      "kmeans_model = KMeans(n_clusters=3).fit(encoder.transform(X_pos).toarray())\n",
      "\n",
      "gradClustersDF=printClusters( data, kmeans_model.labels_,k=kmeans_model.n_clusters)\n",
      "plotPCA(data[data.columns[6:]],kmeans_model.labels_,k=kmeans_model.n_clusters,norm=False)"
     ],
     "language": "python",
     "metadata": {},
     "outputs": [
      {
       "output_type": "stream",
       "stream": "stdout",
       "text": [
        "total non-graduates 767\n",
        "0 cluster 202\n",
        "1 cluster 344\n",
        "2 cluster 221\n",
        "total graduates 33\n",
        "0 cluster 31\n",
        "1 cluster 1\n",
        "2 cluster 1\n"
       ]
      },
      {
       "metadata": {},
       "output_type": "display_data",
       "png": "iVBORw0KGgoAAAANSUhEUgAAAXAAAAEACAYAAACqOy3+AAAABHNCSVQICAgIfAhkiAAAAAlwSFlz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\nEolEIpFIJBKJRCKRSCQSiUQiuQf8H0cZVRQIixbrAAAAAElFTkSuQmCC\n",
       "text": [
        "<matplotlib.figure.Figure at 0x111692050>"
       ]
      }
     ],
     "prompt_number": 180
    },
    {
     "cell_type": "code",
     "collapsed": false,
     "input": [
      "kmeans_model = KMeans(n_clusters=4).fit(encoder.transform(X_pos).toarray())\n",
      "gradClustersDF=printClusters( data, kmeans_model.labels_,k=kmeans_model.n_clusters)\n",
      "plotPCA(data[data.columns[6:]],kmeans_model.labels_,k=kmeans_model.n_clusters,norm=False)"
     ],
     "language": "python",
     "metadata": {},
     "outputs": [
      {
       "output_type": "stream",
       "stream": "stdout",
       "text": [
        "total non-graduates 767\n",
        "0 cluster 134\n",
        "1 cluster 343\n",
        "2 cluster 199\n",
        "3 cluster 91\n",
        "total graduates 33\n",
        "0 cluster 32\n",
        "1 cluster 1\n",
        "2 cluster 0\n",
        "3 cluster 0\n"
       ]
      },
      {
       "metadata": {},
       "output_type": "display_data",
       "png": "iVBORw0KGgoAAAANSUhEUgAAAXAAAAEACAYAAACqOy3+AAAABHNCSVQICAgIfAhkiAAAAAlwSFlz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\niUQikUgkEolEIpFIJBKJRPIE+H+RGFmURUPVkAAAAABJRU5ErkJggg==\n",
       "text": [
        "<matplotlib.figure.Figure at 0x111657ed0>"
       ]
      }
     ],
     "prompt_number": 181
    },
    {
     "cell_type": "code",
     "collapsed": false,
     "input": [
      "from sklearn import cross_validation\n",
      "\n",
      "#let's call our sample array data. It can be N-dimensional.\n",
      "\n",
      "#len(data) -- total number of data points in my dataset, \n",
      "#nBoot -- number of bootstrap samples, \n",
      "#train_size = bootstrap sample size (proportion of the whole sample, or just number)\n",
      "#Here we create an empty array we will store the means of bootstrapped \n",
      "\n",
      "means = np.empty((nBoot, ))\n",
      "\n",
      "#then we get the class instance, drawing half of the sample with replacement every time\n",
      "\n",
      "bs = cross_validation.Bootstrap(len(data), nBoot, train_size=0.5, random_state=0)\n",
      "\n",
      "#Filling the means array while iterating over the bootstrap samples (indexed by train_index):\n",
      "\n",
      "i = 0\n",
      "for train_index, test_index in bsJ:\n",
      "    means[i] = np.mean(data[train_index])\n",
      "    i+=1\n"
     ],
     "language": "python",
     "metadata": {},
     "outputs": []
    }
   ],
   "metadata": {}
  }
 ]
}