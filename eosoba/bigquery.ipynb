{
 "metadata": {
  "name": "",
  "signature": "sha256:ceb4b82700e18a2ee0171dea3acd846953373c5054c0b728db7a4f4d39a197e6"
 },
 "nbformat": 3,
 "nbformat_minor": 0,
 "worksheets": [
  {
   "cells": [
    {
     "cell_type": "heading",
     "level": 1,
     "metadata": {},
     "source": [
      "Need the google api client python installed. Need to get a cliet secrets file from credentials for native applications from the project console menue"
     ]
    },
    {
     "cell_type": "code",
     "collapsed": false,
     "input": [
      "import httplib2\n",
      "import pprint\n",
      "import sys\n",
      "import time\n",
      "\n",
      "from apiclient.discovery import build\n",
      "from apiclient.errors import HttpError\n",
      "\n",
      "from oauth2client.client import AccessTokenRefreshError\n",
      "from oauth2client.client import OAuth2WebServerFlow\n",
      "from oauth2client.client import flow_from_clientsecrets\n",
      "from oauth2client.file import Storage\n",
      "from oauth2client import tools\n",
      "\n",
      "\n",
      "# Enter your Google Developer Project number\n",
      "#authenticate access to bigquery\n",
      "PROJECT_NUMBER = '204259724325'\n",
      "\n",
      "FLOW = flow_from_clientsecrets('client_secrets.json',scope='https://www.googleapis.com/auth/bigquery')"
     ],
     "language": "python",
     "metadata": {},
     "outputs": [],
     "prompt_number": 2
    },
    {
     "cell_type": "code",
     "collapsed": false,
     "input": [
      "storage = Storage('bigquery_credentials.dat')\n",
      "credentials = storage.get()\n",
      "\n",
      "if credentials is None or credentials.invalid:\n",
      "  # Run oauth2 flow with default arguments.\n",
      "  credentials = tools.run_flow(FLOW, storage, tools.argparser.parse_args([]))\n",
      "\n",
      "http = httplib2.Http()\n",
      "http = credentials.authorize(http)\n",
      "\n",
      "bigquery_service = build('bigquery', 'v2', http=http)"
     ],
     "language": "python",
     "metadata": {},
     "outputs": [
      {
       "output_type": "stream",
       "stream": "stdout",
       "text": [
        "Your browser has been opened to visit:\n",
        "\n",
        "    https://accounts.google.com/o/oauth2/auth?scope=https%3A%2F%2Fwww.googleapis.com%2Fauth%2Fbigquery&redirect_uri=http%3A%2F%2Flocalhost%3A8080%2F&response_type=code&client_id=204259724325-h1fd63m6r00ljbeocce17mse2nmaiqqo.apps.googleusercontent.com&access_type=offline\n",
        "\n",
        "If your browser is on a different machine then exit and re-run this\n",
        "application with the command-line parameter \n",
        "\n",
        "  --noauth_local_webserver\n",
        "\n",
        "Authentication successful."
       ]
      },
      {
       "output_type": "stream",
       "stream": "stdout",
       "text": [
        "\n"
       ]
      }
     ],
     "prompt_number": 3
    },
    {
     "cell_type": "code",
     "collapsed": false,
     "input": [
      "def ListProjects(service):\n",
      "    try:\n",
      "        # Start training on a data set\n",
      "        projects = service.projects()\n",
      "        list_reply = projects.list().execute()\n",
      "\n",
      "        print 'Project list:'\n",
      "        pprint.pprint(list_reply)\n",
      "\n",
      "    except HTTPError as err:\n",
      "        print 'Error in ListProjects:', pprint.pprint(err.content)\n",
      "ListProjects(service)"
     ],
     "language": "python",
     "metadata": {},
     "outputs": [
      {
       "output_type": "stream",
       "stream": "stdout",
       "text": [
        "Project list:\n",
        "{u'etag': u'\"hqTadRRXPmP5n1PBBonMdbBkfh4/MkjYmFkTOxlEvXroGPfr5cPWFng\"',\n",
        " u'kind': u'bigquery#projectList',\n",
        " u'projects': [{u'friendlyName': u'Ante',\n",
        "                u'id': u'ante-pact-651',\n",
        "                u'kind': u'bigquery#project',\n",
        "                u'numericId': u'204259724325',\n",
        "                u'projectReference': {u'projectId': u'ante-pact-651'}},\n",
        "               {u'friendlyName': u'reamat',\n",
        "                u'id': u'plated-mantis-713',\n",
        "                u'kind': u'bigquery#project',\n",
        "                u'numericId': u'845907795',\n",
        "                u'projectReference': {u'projectId': u'plated-mantis-713'}}],\n",
        " u'totalItems': 2}\n"
       ]
      }
     ],
     "prompt_number": 276
    },
    {
     "cell_type": "code",
     "collapsed": false,
     "input": [
      "bah=('SELECT Student_Id, count(Student_Id) as N_Terms, last( Term_Id) as Last_Term_Id,' \n",
      "               ' last(Major_Cd_1) as Major_Cd, last(Graduated_Ind) as Graduated, last( Lifetime_Transfer_Credits)'\n",
      "               ' as Transfer_Cr, last( Lifetime_Inst_Credits) as Inst_Cr,last( Lifetime_Overall_Credits) as Total_Cr'\n",
      "               ' FROM [csun.OSF_ST_Student_Term_8060_20140127]'\n",
      "               ' where REGEXP_MATCH(Term_Id,\"^2[01]\") and REGEXP_MATCH(Major_Cd_1,\"780602B\")'\n",
      "               ' group by Student_Id order by Last_Term_Id;')"
     ],
     "language": "python",
     "metadata": {},
     "outputs": []
    },
    {
     "cell_type": "heading",
     "level": 1,
     "metadata": {},
     "source": [
      "access big query to do the first query"
     ]
    },
    {
     "cell_type": "code",
     "collapsed": false,
     "input": [
      "bah=queryString\n",
      "print bah"
     ],
     "language": "python",
     "metadata": {},
     "outputs": [
      {
       "output_type": "stream",
       "stream": "stdout",
       "text": [
        "SELECT Student_Id, count(Student_Id) as N_Terms, last( Term_Id) as Last_Term_Id, last(Major_Cd_1) as Major_Cd, last(Graduated_Ind) as Graduated, last( Lifetime_Transfer_Credits) as Transfer_Cr, last( Lifetime_Inst_Credits) as Inst_Cr,last( Lifetime_Overall_Credits) as Total_Cr FROM [csun.OSF_ST_Student_Term_8060_20140127] where REGEXP_MATCH(Term_Id,\"^2[01]\") and REGEXP_MATCH(Major_Cd_1,\"230741B\") group by Student_Id order by Last_Term_Id;\n"
       ]
      }
     ],
     "prompt_number": 204
    },
    {
     "cell_type": "code",
     "collapsed": false,
     "input": [
      "import json\n",
      "major_code={'Management':\"230741B\",'Marketing':\"230750B\",'Criminology':\"898733B\",'Sociology':\"898744B\",'Biology':\"780602B\",'Finance':\"230727B\" }\n",
      "projectId='204259724325'\n",
      "datasetId='csun'\n",
      "service = bigquery_service\n",
      "for key in major_code.keys():\n",
      "    \n",
      "    targetTableId = key +'_students'\n",
      "    yuck=bah.replace(\"230741B\",major_code[key])\n",
      "    \n",
      "    jobCollection = service.jobs()\n",
      "    queryString=yuck\n",
      "    \n",
      "    jobData = {\n",
      "      'configuration': {\n",
      "        'query': {\n",
      "          'query': queryString,\n",
      "            \"destinationTable\": {\n",
      "                  \"projectId\": projectId,\n",
      "                  \"datasetId\": datasetId,\n",
      "                  \"tableId\": targetTableId,\n",
      "            },\n",
      "           \"createDisposition\": \"CREATE_IF_NEEDED\",\n",
      "        }\n",
      "      }\n",
      "    }\n",
      "    \n",
      "    insertResponse = jobCollection.insert(projectId=projectId,\n",
      "                                         body=jobData).execute()\n",
      "     # Ping for status until it is done, with a short pause between calls.\n",
      "  \n",
      "    while True:\n",
      "            status = jobCollection.get(projectId=projectId,\n",
      "                                 jobId=insertResponse['jobReference']['jobId']).execute()\n",
      "            if 'DONE' == status['status']['state']:\n",
      "                break\n",
      "            print 'Waiting for table to complete...'\n",
      "            time.sleep(10)\n",
      "            if 'errors' in status['status']:\n",
      "                print 'Error loading table: ', pprint.pprint(status)\n",
      "                break\n",
      "      \n",
      "\n",
      "\n",
      "    \n",
      "\n",
      "    "
     ],
     "language": "python",
     "metadata": {},
     "outputs": [
      {
       "output_type": "stream",
       "stream": "stdout",
       "text": [
        "Waiting for table to complete...\n",
        "Waiting for table to complete..."
       ]
      },
      {
       "output_type": "stream",
       "stream": "stdout",
       "text": [
        "\n",
        "Waiting for table to complete..."
       ]
      },
      {
       "output_type": "stream",
       "stream": "stdout",
       "text": [
        "\n",
        "Waiting for table to complete..."
       ]
      },
      {
       "output_type": "stream",
       "stream": "stdout",
       "text": [
        "\n",
        "Waiting for table to complete..."
       ]
      },
      {
       "output_type": "stream",
       "stream": "stdout",
       "text": [
        "\n"
       ]
      }
     ],
     "prompt_number": 205
    },
    {
     "cell_type": "code",
     "collapsed": false,
     "input": [
      "jobCollection = service.jobs()\n",
      "tableTableId='jockwtf'\n",
      "queryString = 'SELECT Student_Id, count(Student_Id) as N_Terms, last( Term_Id) as Last_Term_Id, last(Major_Cd_1) as Major_Cd, last(Graduated_Ind) as Graduated, last( Lifetime_Transfer_Credits) as Transfer_Cr, last( Lifetime_Inst_Credits) as Inst_Cr,last( Lifetime_Overall_Credits) as Total_Cr FROM [csun.OSF_ST_Student_Term_8060_20140127] where REGEXP_MATCH(Term_Id,\"^2[01]\") and REGEXP_MATCH(Major_Cd_1,\"230741B\") group by Student_Id order by Last_Term_Id;'\n",
      "jobData = {\n",
      "      'configuration': {\n",
      "        'query': {\n",
      "          'query': queryString,\n",
      "            \"destinationTable\": {\n",
      "                  \"projectId\": projectId,\n",
      "                  \"datasetId\": datasetId,\n",
      "                  \"tableId\": tableTableId,\n",
      "            },\n",
      "        }\n",
      "      }\n",
      "    }\n",
      "insertResponse = jobCollection.insert(projectId=projectId,\n",
      "                                         body=jobData).execute()\n",
      "time.sleep(10)"
     ],
     "language": "python",
     "metadata": {},
     "outputs": [],
     "prompt_number": 199
    },
    {
     "cell_type": "heading",
     "level": 1,
     "metadata": {},
     "source": [
      "retrieve job status"
     ]
    },
    {
     "cell_type": "code",
     "collapsed": false,
     "input": [
      "insertResponse['jobReference']['jobId'];\n",
      "bigquery_service.jobs().list(projectId=projectId).execute();"
     ],
     "language": "python",
     "metadata": {},
     "outputs": [],
     "prompt_number": 284
    },
    {
     "cell_type": "heading",
     "level": 1,
     "metadata": {},
     "source": [
      "Turn course list into terms for query search"
     ]
    },
    {
     "cell_type": "code",
     "collapsed": false,
     "input": [
      "import string\n",
      "maj_list={'marketing':['ACCT220','ACCT230','BLAW280','COMP100', 'ECON160','ECON161','ENGL205' ,'MATH103','SOM120','MATH103','MATH150A','MATH150B',\n",
      "             'MATH140', 'BUS302','BUS302L','FIN303','MGT360','MKT304','SOM306','BUS497','MKT346','MKT348','MKT449',\n",
      "             'BUS480','BUS491','MKT498'],'criminology':['MATH140', 'SOC150', 'SOC202','SOC250', 'SOC364L', 'SOC368S', 'SOC408', 'SOC497L'],'sociology':['MATH140', 'SOC150', 'SOC202', 'SOC364L', 'SOC368S', 'SOC468S', 'SOC497L'],'finance':['ACCT220','ACCT230','ECON160','ECON161','COMP100','SOM120','ENGL205','BLAW280','MATH103','BUS302','BUS302L','FIN303','MGT360','MKT304','SOM306','BUS497','BLAW308','FIN352','FIN355']}\n",
      "maj_course = {i:list(set(map(lambda x: x[0:4].strip(string.digits),maj_list[i]))) for i in maj_list.keys()}\n",
      "maj_course = {i:reduce(lambda x,y:x+y,map(lambda x :\"(\"+x+\")|\",maj_course[i]))[:-1] for i in maj_course.keys()}"
     ],
     "language": "python",
     "metadata": {},
     "outputs": [],
     "prompt_number": 242
    },
    {
     "cell_type": "code",
     "collapsed": false,
     "input": [
      "maj_course.keys()"
     ],
     "language": "python",
     "metadata": {},
     "outputs": [
      {
       "metadata": {},
       "output_type": "pyout",
       "prompt_number": 260,
       "text": [
        "['marketing', 'sociology', 'finance', 'criminology']"
       ]
      }
     ],
     "prompt_number": 260
    },
    {
     "cell_type": "code",
     "collapsed": false,
     "input": [
      "maj_course"
     ],
     "language": "python",
     "metadata": {},
     "outputs": [
      {
       "metadata": {},
       "output_type": "pyout",
       "prompt_number": 277,
       "text": [
        "{'criminology': '(SOC)|(MATH)',\n",
        " 'finance': '(ENGL)|(COMP)|(ECON)|(SOM)|(BLAW)|(MGT)|(MKT)|(BUS)|(ACCT)|(FIN)|(MATH)',\n",
        " 'marketing': '(ENGL)|(COMP)|(ECON)|(SOM)|(BLAW)|(MGT)|(MKT)|(BUS)|(ACCT)|(FIN)|(MATH)',\n",
        " 'sociology': '(SOC)|(MATH)'}"
       ]
      }
     ],
     "prompt_number": 277
    },
    {
     "cell_type": "heading",
     "level": 1,
     "metadata": {},
     "source": [
      "The second bigquery"
     ]
    },
    {
     "cell_type": "code",
     "collapsed": false,
     "input": [
      "major_code={'Management':\"230741B\",'Marketing':\"230750B\",'Criminology':\"898733B\",'Sociology':\"898744B\",'Biology':\"780602B\",'Finance':\"230727B\" }\n",
      "projectId='204259724325'\n",
      "datasetId='csun'\n",
      "service = bigquery_service\n",
      "for key in maj_list.keys():\n",
      "    time.sleep(10)\n",
      "    sourceTableId = key.capitalize() +'_students'\n",
      "    targetTableId = key.capitalize() +'_student_courses'\n",
      "    \n",
      "    jobCollection = service.jobs()\n",
      "    queryString=('SELECT csun.%s.Student_Id as Student_Id, Course_Cd, Final_Grade, Earned_Credits/Registered_Credits as Pass'\n",
      "' from [csun.OSF_SC_Student_Course_8060_20140128]'\n",
      "' join csun.%s on csun.%s.Student_Id = csun.OSF_SC_Student_Course_8060_20140128.Student_Id'\n",
      "' where REGEXP_MATCH(Course_Cd,\"%s\")') % (sourceTableId,sourceTableId,sourceTableId,maj_course[key])\n",
      "    \n",
      "    jobData = {\n",
      "      'configuration': {\n",
      "        'query': {\n",
      "          'query': queryString,\n",
      "            \"destinationTable\": {\n",
      "                  \"projectId\": projectId,\n",
      "                  \"datasetId\": datasetId,\n",
      "                  \"tableId\": targetTableId,\n",
      "            },\n",
      "           \"createDisposition\": \"CREATE_IF_NEEDED\",\n",
      "        }\n",
      "      }\n",
      "    }\n",
      "    \n",
      "    insertResponse = jobCollection.insert(projectId=projectId,\n",
      "                                         body=jobData).execute()\n",
      "     # Ping for status until it is done, with a short pause between calls.\n",
      "  \n",
      "    while True:\n",
      "            status = jobCollection.get(projectId=projectId,\n",
      "                                 jobId=insertResponse['jobReference']['jobId']).execute()\n",
      "            if 'DONE' == status['status']['state']:\n",
      "                break\n",
      "            print 'Waiting for table to complete...'\n",
      "            time.sleep(10)\n",
      "            if 'errors' in status['status']:\n",
      "                print 'Error loading table: ', pprint.pprint(status)\n",
      "                break\n",
      "      \n",
      "\n"
     ],
     "language": "python",
     "metadata": {},
     "outputs": [
      {
       "output_type": "stream",
       "stream": "stdout",
       "text": [
        "Waiting for table to complete...\n"
       ]
      }
     ],
     "prompt_number": 283
    },
    {
     "cell_type": "code",
     "collapsed": false,
     "input": [
      "def export_table(service, project_id, dataset_id, table_id, gcs_path):\n",
      "    \"\"\"starts a job which exports data from the specified table,\n",
      "    to the specified Google Cloud Storage file, returns a job resource\"\"\"\n",
      "    job_data = {\n",
      "        'configuration': {\n",
      "            'extract': {\n",
      "                'sourceTable': {\n",
      "                    'projectId': project_id,\n",
      "                    'datasetId': dataset_id,\n",
      "                    'tableId': table_id,\n",
      "                },\n",
      "                'destinationUris': [gcs_path],\n",
      "            }\n",
      "        }\n",
      "    }\n",
      "    return service.jobs().insert(\n",
      "        projectId=project_id,\n",
      "        body=job_data).execute()\n"
     ],
     "language": "python",
     "metadata": {},
     "outputs": [],
     "prompt_number": 270
    },
    {
     "cell_type": "heading",
     "level": 1,
     "metadata": {},
     "source": [
      "Export csv tables to gs storage"
     ]
    },
    {
     "cell_type": "code",
     "collapsed": false,
     "input": [
      "for key in major_list.keys():\n",
      "    time.sleep(10)\n",
      "    tableId = key.capitalize() +'_student_courses'\n",
      "    gcs_path='gs://csun/%s_features.csv'% key\n",
      "    resource=export_table(service, '204259724325', 'csun', tableId, gcs_path)\n",
      "    tableId = key.capitalize() +'_students'\n",
      "    gcs_path='gs://csun/%s_majors.csv'% key\n",
      "    resource=export_table(service, '204259724325', 'csun', tableId, gcs_path)"
     ],
     "language": "python",
     "metadata": {},
     "outputs": [],
     "prompt_number": 281
    },
    {
     "cell_type": "code",
     "collapsed": false,
     "input": [],
     "language": "python",
     "metadata": {},
     "outputs": []
    }
   ],
   "metadata": {}
  }
 ]
}